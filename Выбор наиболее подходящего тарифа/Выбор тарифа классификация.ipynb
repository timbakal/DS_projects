{
 "cells": [
  {
   "cell_type": "markdown",
   "metadata": {},
   "source": [
    "# Рекомендация тарифов"
   ]
  },
  {
   "cell_type": "markdown",
   "metadata": {},
   "source": [
    "В вашем распоряжении данные о поведении клиентов, которые уже перешли на эти тарифы. Нужно построить модель для задачи классификации, которая выберет подходящий тариф. Предобработка данных не понадобится. Ее я делал раннее в другом проекте"
   ]
  },
  {
   "cell_type": "markdown",
   "metadata": {},
   "source": [
    "## Откройте и изучите файл"
   ]
  },
  {
   "cell_type": "code",
   "execution_count": 19,
   "metadata": {},
   "outputs": [],
   "source": [
    "import pandas as pd\n",
    "from sklearn.model_selection import train_test_split\n",
    "from sklearn.metrics import accuracy_score\n",
    "from sklearn.linear_model import LogisticRegression\n",
    "from sklearn.tree import DecisionTreeClassifier\n",
    "from sklearn.ensemble import RandomForestClassifier"
   ]
  },
  {
   "cell_type": "code",
   "execution_count": 20,
   "metadata": {},
   "outputs": [
    {
     "name": "stdout",
     "output_type": "stream",
     "text": [
      "<class 'pandas.core.frame.DataFrame'>\n",
      "RangeIndex: 3214 entries, 0 to 3213\n",
      "Data columns (total 5 columns):\n",
      " #   Column    Non-Null Count  Dtype  \n",
      "---  ------    --------------  -----  \n",
      " 0   calls     3214 non-null   float64\n",
      " 1   minutes   3214 non-null   float64\n",
      " 2   messages  3214 non-null   float64\n",
      " 3   mb_used   3214 non-null   float64\n",
      " 4   is_ultra  3214 non-null   int64  \n",
      "dtypes: float64(4), int64(1)\n",
      "memory usage: 125.7 KB\n"
     ]
    }
   ],
   "source": [
    "data = pd.read_csv('/datasets/users_behavior.csv')\n",
    "data.info()"
   ]
  },
  {
   "cell_type": "markdown",
   "metadata": {},
   "source": [
    "\n",
    "<div class=\"alert-warning\"> \n",
    "<b>Комментарий ревьюера 💡</b> \n",
    "\n",
    ".info() правильнее\n"
   ]
  },
  {
   "cell_type": "code",
   "execution_count": 21,
   "metadata": {},
   "outputs": [
    {
     "data": {
      "text/html": [
       "<div>\n",
       "<style scoped>\n",
       "    .dataframe tbody tr th:only-of-type {\n",
       "        vertical-align: middle;\n",
       "    }\n",
       "\n",
       "    .dataframe tbody tr th {\n",
       "        vertical-align: top;\n",
       "    }\n",
       "\n",
       "    .dataframe thead th {\n",
       "        text-align: right;\n",
       "    }\n",
       "</style>\n",
       "<table border=\"1\" class=\"dataframe\">\n",
       "  <thead>\n",
       "    <tr style=\"text-align: right;\">\n",
       "      <th></th>\n",
       "      <th>calls</th>\n",
       "      <th>minutes</th>\n",
       "      <th>messages</th>\n",
       "      <th>mb_used</th>\n",
       "      <th>is_ultra</th>\n",
       "    </tr>\n",
       "  </thead>\n",
       "  <tbody>\n",
       "    <tr>\n",
       "      <th>count</th>\n",
       "      <td>3214.000000</td>\n",
       "      <td>3214.000000</td>\n",
       "      <td>3214.000000</td>\n",
       "      <td>3214.000000</td>\n",
       "      <td>3214.000000</td>\n",
       "    </tr>\n",
       "    <tr>\n",
       "      <th>mean</th>\n",
       "      <td>63.038892</td>\n",
       "      <td>438.208787</td>\n",
       "      <td>38.281269</td>\n",
       "      <td>17207.673836</td>\n",
       "      <td>0.306472</td>\n",
       "    </tr>\n",
       "    <tr>\n",
       "      <th>std</th>\n",
       "      <td>33.236368</td>\n",
       "      <td>234.569872</td>\n",
       "      <td>36.148326</td>\n",
       "      <td>7570.968246</td>\n",
       "      <td>0.461100</td>\n",
       "    </tr>\n",
       "    <tr>\n",
       "      <th>min</th>\n",
       "      <td>0.000000</td>\n",
       "      <td>0.000000</td>\n",
       "      <td>0.000000</td>\n",
       "      <td>0.000000</td>\n",
       "      <td>0.000000</td>\n",
       "    </tr>\n",
       "    <tr>\n",
       "      <th>25%</th>\n",
       "      <td>40.000000</td>\n",
       "      <td>274.575000</td>\n",
       "      <td>9.000000</td>\n",
       "      <td>12491.902500</td>\n",
       "      <td>0.000000</td>\n",
       "    </tr>\n",
       "    <tr>\n",
       "      <th>50%</th>\n",
       "      <td>62.000000</td>\n",
       "      <td>430.600000</td>\n",
       "      <td>30.000000</td>\n",
       "      <td>16943.235000</td>\n",
       "      <td>0.000000</td>\n",
       "    </tr>\n",
       "    <tr>\n",
       "      <th>75%</th>\n",
       "      <td>82.000000</td>\n",
       "      <td>571.927500</td>\n",
       "      <td>57.000000</td>\n",
       "      <td>21424.700000</td>\n",
       "      <td>1.000000</td>\n",
       "    </tr>\n",
       "    <tr>\n",
       "      <th>max</th>\n",
       "      <td>244.000000</td>\n",
       "      <td>1632.060000</td>\n",
       "      <td>224.000000</td>\n",
       "      <td>49745.730000</td>\n",
       "      <td>1.000000</td>\n",
       "    </tr>\n",
       "  </tbody>\n",
       "</table>\n",
       "</div>"
      ],
      "text/plain": [
       "             calls      minutes     messages       mb_used     is_ultra\n",
       "count  3214.000000  3214.000000  3214.000000   3214.000000  3214.000000\n",
       "mean     63.038892   438.208787    38.281269  17207.673836     0.306472\n",
       "std      33.236368   234.569872    36.148326   7570.968246     0.461100\n",
       "min       0.000000     0.000000     0.000000      0.000000     0.000000\n",
       "25%      40.000000   274.575000     9.000000  12491.902500     0.000000\n",
       "50%      62.000000   430.600000    30.000000  16943.235000     0.000000\n",
       "75%      82.000000   571.927500    57.000000  21424.700000     1.000000\n",
       "max     244.000000  1632.060000   224.000000  49745.730000     1.000000"
      ]
     },
     "execution_count": 21,
     "metadata": {},
     "output_type": "execute_result"
    }
   ],
   "source": [
    "data.describe()"
   ]
  },
  {
   "cell_type": "code",
   "execution_count": 22,
   "metadata": {},
   "outputs": [
    {
     "data": {
      "text/plain": [
       "(3214, 5)"
      ]
     },
     "execution_count": 22,
     "metadata": {},
     "output_type": "execute_result"
    }
   ],
   "source": [
    "data.shape"
   ]
  },
  {
   "cell_type": "code",
   "execution_count": 23,
   "metadata": {},
   "outputs": [
    {
     "data": {
      "text/html": [
       "<div>\n",
       "<style scoped>\n",
       "    .dataframe tbody tr th:only-of-type {\n",
       "        vertical-align: middle;\n",
       "    }\n",
       "\n",
       "    .dataframe tbody tr th {\n",
       "        vertical-align: top;\n",
       "    }\n",
       "\n",
       "    .dataframe thead th {\n",
       "        text-align: right;\n",
       "    }\n",
       "</style>\n",
       "<table border=\"1\" class=\"dataframe\">\n",
       "  <thead>\n",
       "    <tr style=\"text-align: right;\">\n",
       "      <th></th>\n",
       "      <th>calls</th>\n",
       "      <th>minutes</th>\n",
       "      <th>messages</th>\n",
       "      <th>mb_used</th>\n",
       "      <th>is_ultra</th>\n",
       "    </tr>\n",
       "  </thead>\n",
       "  <tbody>\n",
       "    <tr>\n",
       "      <th>0</th>\n",
       "      <td>40.0</td>\n",
       "      <td>311.90</td>\n",
       "      <td>83.0</td>\n",
       "      <td>19915.42</td>\n",
       "      <td>0</td>\n",
       "    </tr>\n",
       "    <tr>\n",
       "      <th>1</th>\n",
       "      <td>85.0</td>\n",
       "      <td>516.75</td>\n",
       "      <td>56.0</td>\n",
       "      <td>22696.96</td>\n",
       "      <td>0</td>\n",
       "    </tr>\n",
       "    <tr>\n",
       "      <th>2</th>\n",
       "      <td>77.0</td>\n",
       "      <td>467.66</td>\n",
       "      <td>86.0</td>\n",
       "      <td>21060.45</td>\n",
       "      <td>0</td>\n",
       "    </tr>\n",
       "    <tr>\n",
       "      <th>3</th>\n",
       "      <td>106.0</td>\n",
       "      <td>745.53</td>\n",
       "      <td>81.0</td>\n",
       "      <td>8437.39</td>\n",
       "      <td>1</td>\n",
       "    </tr>\n",
       "    <tr>\n",
       "      <th>4</th>\n",
       "      <td>66.0</td>\n",
       "      <td>418.74</td>\n",
       "      <td>1.0</td>\n",
       "      <td>14502.75</td>\n",
       "      <td>0</td>\n",
       "    </tr>\n",
       "    <tr>\n",
       "      <th>5</th>\n",
       "      <td>58.0</td>\n",
       "      <td>344.56</td>\n",
       "      <td>21.0</td>\n",
       "      <td>15823.37</td>\n",
       "      <td>0</td>\n",
       "    </tr>\n",
       "    <tr>\n",
       "      <th>6</th>\n",
       "      <td>57.0</td>\n",
       "      <td>431.64</td>\n",
       "      <td>20.0</td>\n",
       "      <td>3738.90</td>\n",
       "      <td>1</td>\n",
       "    </tr>\n",
       "    <tr>\n",
       "      <th>7</th>\n",
       "      <td>15.0</td>\n",
       "      <td>132.40</td>\n",
       "      <td>6.0</td>\n",
       "      <td>21911.60</td>\n",
       "      <td>0</td>\n",
       "    </tr>\n",
       "    <tr>\n",
       "      <th>8</th>\n",
       "      <td>7.0</td>\n",
       "      <td>43.39</td>\n",
       "      <td>3.0</td>\n",
       "      <td>2538.67</td>\n",
       "      <td>1</td>\n",
       "    </tr>\n",
       "    <tr>\n",
       "      <th>9</th>\n",
       "      <td>90.0</td>\n",
       "      <td>665.41</td>\n",
       "      <td>38.0</td>\n",
       "      <td>17358.61</td>\n",
       "      <td>0</td>\n",
       "    </tr>\n",
       "  </tbody>\n",
       "</table>\n",
       "</div>"
      ],
      "text/plain": [
       "   calls  minutes  messages   mb_used  is_ultra\n",
       "0   40.0   311.90      83.0  19915.42         0\n",
       "1   85.0   516.75      56.0  22696.96         0\n",
       "2   77.0   467.66      86.0  21060.45         0\n",
       "3  106.0   745.53      81.0   8437.39         1\n",
       "4   66.0   418.74       1.0  14502.75         0\n",
       "5   58.0   344.56      21.0  15823.37         0\n",
       "6   57.0   431.64      20.0   3738.90         1\n",
       "7   15.0   132.40       6.0  21911.60         0\n",
       "8    7.0    43.39       3.0   2538.67         1\n",
       "9   90.0   665.41      38.0  17358.61         0"
      ]
     },
     "execution_count": 23,
     "metadata": {},
     "output_type": "execute_result"
    }
   ],
   "source": [
    "data.head(10)"
   ]
  },
  {
   "cell_type": "markdown",
   "metadata": {},
   "source": [
    "С данными все хорошо, нет нигде никаких особых отклонений и выбросов, is_ultra - наша таргет переменная"
   ]
  },
  {
   "cell_type": "markdown",
   "metadata": {},
   "source": [
    "\n",
    "<div class=\"alert-warning\"> \n",
    "<b>Комментарий ревьюера 💡</b> \n",
    "\n",
    "Стоит еще выводить .head()"
   ]
  },
  {
   "cell_type": "markdown",
   "metadata": {},
   "source": [
    "## Разбейте данные на выборки"
   ]
  },
  {
   "cell_type": "code",
   "execution_count": 24,
   "metadata": {},
   "outputs": [
    {
     "name": "stdout",
     "output_type": "stream",
     "text": [
      "(1928, 4) (643, 4) (643, 4) (1928,) (643,) (643,)\n"
     ]
    }
   ],
   "source": [
    "train, data1 = train_test_split(data, test_size=0.4, random_state=12345)\n",
    "target_train = train['is_ultra']\n",
    "features_train = train.drop(['is_ultra'] , axis=1)\n",
    "target = data1['is_ultra']\n",
    "features = data1.drop(['is_ultra'] , axis=1)\n",
    "features_test, features_valid, target_test, target_valid = train_test_split(\n",
    "    features, target, test_size=0.5, random_state=12345)\n",
    "print(features_train.shape, features_valid.shape, features_test.shape, target_train.shape, target_valid.shape, target_test.shape)"
   ]
  },
  {
   "cell_type": "markdown",
   "metadata": {},
   "source": [
    "<div class=\"alert-warning\"> \n",
    "<b>Комментарий ревьюера 💡 </b>\n",
    "\n",
    "Стоит еще выводить размеры выборок для проверки, все ли прошло успешно. Например, с помощью shape"
   ]
  },
  {
   "cell_type": "markdown",
   "metadata": {},
   "source": [
    "## Исследуйте модели"
   ]
  },
  {
   "cell_type": "code",
   "execution_count": 25,
   "metadata": {},
   "outputs": [
    {
     "name": "stdout",
     "output_type": "stream",
     "text": [
      "0.6842923794712286\n"
     ]
    }
   ],
   "source": [
    "model = LogisticRegression(random_state=12345)\n",
    "model.fit(features_train, target_train)\n",
    "predict_valid = model.predict(features_valid)\n",
    "print(accuracy_score(target_valid, predict_valid))"
   ]
  },
  {
   "cell_type": "markdown",
   "metadata": {},
   "source": [
    "У логистической регрессии как я и ожидал очень низкая степень точности"
   ]
  },
  {
   "cell_type": "markdown",
   "metadata": {},
   "source": [
    "<div class=\"alert-warning\"> \n",
    "<b>Комментарий ревьюера 💡 Вторая итерация </b> \n",
    "    \n",
    "accuracy - это не точность, а доля правильных ответов. Точность - другая метрика классификации, precision"
   ]
  },
  {
   "cell_type": "code",
   "execution_count": 26,
   "metadata": {},
   "outputs": [
    {
     "name": "stdout",
     "output_type": "stream",
     "text": [
      "accuracy =  0.8149300155520995 depth =  6 criterion =  gini\n"
     ]
    }
   ],
   "source": [
    "\n",
    "for depth in range(1, 16, 1):\n",
    "    for types in ['gini', 'entropy']:\n",
    "            model = DecisionTreeClassifier(max_depth=depth, random_state=12345, criterion = types)\n",
    "            model.fit(features_train, target_train)\n",
    "            predict_valid = model.predict(features_valid)\n",
    "            result = accuracy_score(target_valid, predict_valid)\n",
    "            if result > best_result:\n",
    "                best_criteria = types\n",
    "                best_model = model\n",
    "                best_result = result\n",
    "                best_depth = depth\n",
    "                best_est = est\n",
    "                best_weight = weight_type\n",
    "print('accuracy = ',best_result, 'depth = ',best_depth, 'criterion = ', best_criteria)"
   ]
  },
  {
   "cell_type": "markdown",
   "metadata": {},
   "source": [
    "<div class=\"alert-danger\"> \n",
    "<b>Комментарий ревьюера ❌</b> \n",
    "\n",
    "Нет никакого подбора гиперпараметров, пункт \"Исследуйте качество разных моделей, меняя гиперпараметры\" не выполнен"
   ]
  },
  {
   "cell_type": "markdown",
   "metadata": {},
   "source": [
    "С первой модели получилось достаточно высока степень accuracy, но мы можем сделать больше, построим лес!\n",
    "\n",
    "\n",
    "Если я правильно понял, то гиперпараметры это например глубина дерева и количество деревьев, я их все перебрал в цикле, разве это не считается за пересмотр нескольких гиперпараметров?"
   ]
  },
  {
   "cell_type": "markdown",
   "metadata": {},
   "source": [
    "<div class=\"alert-danger\"> \n",
    "<b>Комментарий ревьюера ❌ Вторая итерация </b> \n",
    "\n",
    "Для DecisionTreeClassifier ты ничего не перебираешь. Два гиперпараметра для Random Forest недостаточно. Минимальный критерий принятия проекта - это рассмотрение хотя бы трех гиперпараметров для одной модели"
   ]
  },
  {
   "cell_type": "code",
   "execution_count": 29,
   "metadata": {},
   "outputs": [
    {
     "name": "stdout",
     "output_type": "stream",
     "text": [
      "accuracy =  0.8242612752721618 depth =  9 n of trees =  13 criterion =  entropy weight type =  None\n"
     ]
    }
   ],
   "source": [
    "best_result = 0.1\n",
    "for est in range(1, 50, 1):\n",
    "    for depth in range(2, 20, 1):\n",
    "        for types in ['gini', 'entropy']:\n",
    "            for weight_type in ['balanced', 'balanced_subsample', None]:\n",
    "                model = RandomForestClassifier(n_estimators = est, max_depth=depth, random_state=12345, criterion = types, class_weight = weight_type)\n",
    "                model.fit(features_train, target_train)\n",
    "                predict_valid = model.predict(features_valid)\n",
    "                result = accuracy_score(target_valid, predict_valid)\n",
    "                if result > best_result:\n",
    "                    best_criteria = types\n",
    "                    best_model = model\n",
    "                    best_result = result\n",
    "                    best_depth = depth\n",
    "                    best_est = est\n",
    "                    best_weight = weight_type\n",
    "print('accuracy = ',best_result, 'depth = ',best_depth, 'n of trees = ', best_est, 'criterion = ', best_criteria, 'weight type = ', best_weight)"
   ]
  },
  {
   "cell_type": "markdown",
   "metadata": {},
   "source": [
    "<div class=\"alert-danger\"> \n",
    "<b>Комментарий ревьюера ❌</b> \n",
    "\n",
    "Аналогично с прошлым комментарием, у леса можно много чего глянуть"
   ]
  },
  {
   "cell_type": "markdown",
   "metadata": {},
   "source": [
    "Стало чуть лучше - 0.825, проверим на тестовой выборке"
   ]
  },
  {
   "cell_type": "markdown",
   "metadata": {},
   "source": [
    "<div class=\"alert-warning\"> \n",
    "<b>Комментарий ревьюера 💡 </b>\n",
    "\n",
    "Рассмотрены только две модели. Можно побольше использовать: например, логистическую регрессию"
   ]
  },
  {
   "cell_type": "markdown",
   "metadata": {},
   "source": [
    "<div class=\"alert-warning\"> \n",
    "<b>Комментарий ревьюера 💡 Ко всему пукнту </b> \n",
    "    \n",
    "Для более красивого оформления кода можно использовать f-strings. Подробнее про них почитать можешь здесь или на любом другом сайте: https://python-scripts.com/f-strings"
   ]
  },
  {
   "cell_type": "markdown",
   "metadata": {},
   "source": [
    "<div class=\"alert-success\"> \n",
    "<b>Комментарий ревьюера 👍 Третья итерация </b>\n",
    "\n",
    "Теперь здорово"
   ]
  },
  {
   "cell_type": "markdown",
   "metadata": {},
   "source": [
    "## Проверьте модель на тестовой выборке"
   ]
  },
  {
   "cell_type": "code",
   "execution_count": 30,
   "metadata": {},
   "outputs": [
    {
     "name": "stdout",
     "output_type": "stream",
     "text": [
      "0.8040435458786936\n"
     ]
    }
   ],
   "source": [
    "predict_test = best_model.predict(features_test)\n",
    "print(accuracy_score(target_test, predict_test))"
   ]
  },
  {
   "cell_type": "markdown",
   "metadata": {},
   "source": [
    "Модель на тестовой выборке имеет чуть менее высокую точность, но она все равно достаточно высокая - 0,80\n",
    "Можно было сделать еще модель логистической регрессии, но она зачастую выдает меньше, чем случайный лес, поэтому я предпочту его"
   ]
  },
  {
   "cell_type": "markdown",
   "metadata": {},
   "source": [
    "<div class=\"alert-success\"> \n",
    "<b>Комментарий ревьюера 👍 </b>\n",
    "\n",
    "Модель проверена на тесте"
   ]
  },
  {
   "cell_type": "markdown",
   "metadata": {},
   "source": [
    "## (бонус) Проверьте модели на адекватность"
   ]
  },
  {
   "cell_type": "markdown",
   "metadata": {},
   "source": [
    "<div class=\"alert-warning\"> \n",
    "<b>Комментарий ревьюера 💡 </b>\n",
    "\n",
    "Можно посмотреть на баланс классов: например, если у нас 90 процентов таргета это \"1\", а остальные 10 - \"0\", то мы можем тупо выдавать каждый раз цифру 1 и получать метрику 90 %. Любая модель, которая будет выдавать качество ниже этого - плохая/неадекватная"
   ]
  },
  {
   "cell_type": "markdown",
   "metadata": {},
   "source": [
    "<div class=\"alert-danger\"> \n",
    "<b>Комментарий ревьюера ❌</b>\n",
    "\n",
    "Хороший проект, тобою проделана большая работа, ты молодец!\n",
    "\n",
    "Сперва похвалю за наличие везде промежуточных выводов, комментариев. Хороший код, показываешь навыки владения sklearn. Все требуемые пункты в задании в целом выполнены. Оставил пару желтых комментариев, думаю, это сможет улучшить твой проект. Также можно добавить визуализацию в проект: посмотреть на графиках, как влияет перебор параметров на результат нашей метрики\n",
    "\n",
    "В этом проекте большое внимание уделяется подбору гиперпараметров, но это можно автоматизировать! Советую почитать на досуге про GridsearchCV и Optuna, будет полезно\n",
    "    \n",
    "Также отправляю ссылки на документации некоторых моделей для классификации: https://scikit-learn.org/stable/modules/generated/sklearn.tree.DecisionTreeClassifier.html, https://scikit-learn.org/stable/modules/generated/sklearn.ensemble.RandomForestClassifier.html, https://scikit-learn.org/stable/modules/generated/sklearn.linear_model.LogisticRegression.html\n",
    "    \n",
    "Что обязательно стоит доработать: посмотреть побольше гиперпараметров у решающего дерева и случайного леса\n",
    "    \n",
    "Из курсов и дополнительной информации советую Yandex ML Handbook (https://academy.yandex.ru/handbook/ml) и курсы Евгения Соколова на ФКН (Машинное обучение - 1 с математикой https://github.com/esokolov/ml-course-hse и Основы машинного обучения без глубокой математики https://github.com/hse-ds/iad-intro-ds) - там можешь получить дополнительную информацию, более глубокую, возможно. http://wiki.cs.hse.ru/Заглавная_страница - тут можешь глянуть записи семинаров и лекций и другие материалы соответствующих курсов. \n",
    "    \n",
    "Буду ждать доработок, удачи!"
   ]
  },
  {
   "cell_type": "markdown",
   "metadata": {},
   "source": [
    "<div class=\"alert-danger\"> \n",
    "<b>Комментарий ревьюера ❌ Вторая итерация </b>\n",
    "\n",
    "Такие же ошибки"
   ]
  },
  {
   "cell_type": "markdown",
   "metadata": {},
   "source": [
    "<div class=\"alert-success\"> \n",
    "<b>Комментарий ревьюера 👍 Третья итерация </b>\n",
    "\n",
    "Все критические ошибки исправлены, проект стал еще лучше, принимаю. Успехов в дальнейшей учебе!"
   ]
  },
  {
   "cell_type": "markdown",
   "metadata": {},
   "source": [
    "## Чек-лист готовности проекта"
   ]
  },
  {
   "cell_type": "markdown",
   "metadata": {},
   "source": [
    "Поставьте 'x' в выполненных пунктах. Далее нажмите Shift+Enter."
   ]
  },
  {
   "cell_type": "markdown",
   "metadata": {},
   "source": [
    "- [x] Jupyter Notebook открыт\n",
    "- [x] Весь код исполняется без ошибок\n",
    "- [x] Ячейки с кодом расположены в порядке исполнения\n",
    "- [x] Выполнено задание 1: данные загружены и изучены\n",
    "- [x] Выполнено задание 2: данные разбиты на три выборки\n",
    "- [x] Выполнено задание 3: проведено исследование моделей\n",
    "    - [x] Рассмотрено больше одной модели\n",
    "    - [x] Рассмотрено хотя бы 3 значения гипепараметров для какой-нибудь модели\n",
    "    - [x] Написаны выводы по результатам исследования\n",
    "- [x] Выполнено задание 3: Проведено тестирование\n",
    "- [x] Удалось достичь accuracy не меньше 0.75\n"
   ]
  }
 ],
 "metadata": {
  "ExecuteTimeLog": [
   {
    "duration": 64,
    "start_time": "2023-04-26T17:50:32.847Z"
   },
   {
    "duration": 1228,
    "start_time": "2023-04-26T17:50:43.531Z"
   },
   {
    "duration": 102,
    "start_time": "2023-04-26T17:50:44.761Z"
   },
   {
    "duration": 28,
    "start_time": "2023-04-26T17:51:14.824Z"
   },
   {
    "duration": 76,
    "start_time": "2023-04-26T17:51:56.408Z"
   },
   {
    "duration": 5,
    "start_time": "2023-04-26T17:52:01.574Z"
   },
   {
    "duration": 1247,
    "start_time": "2023-04-26T19:41:23.626Z"
   },
   {
    "duration": 85,
    "start_time": "2023-04-26T19:41:24.876Z"
   },
   {
    "duration": 38,
    "start_time": "2023-04-26T19:41:24.964Z"
   },
   {
    "duration": 5,
    "start_time": "2023-04-26T19:41:25.004Z"
   },
   {
    "duration": 172,
    "start_time": "2023-04-26T19:41:27.570Z"
   },
   {
    "duration": 19,
    "start_time": "2023-04-26T19:41:45.381Z"
   },
   {
    "duration": 12,
    "start_time": "2023-04-26T19:41:49.627Z"
   },
   {
    "duration": 15,
    "start_time": "2023-04-26T19:43:41.443Z"
   },
   {
    "duration": 4,
    "start_time": "2023-04-26T19:45:55.405Z"
   },
   {
    "duration": 20,
    "start_time": "2023-04-26T19:46:51.002Z"
   },
   {
    "duration": 14,
    "start_time": "2023-04-26T19:47:44.109Z"
   },
   {
    "duration": 51,
    "start_time": "2023-04-26T19:51:34.871Z"
   },
   {
    "duration": 23684,
    "start_time": "2023-04-26T19:51:58.083Z"
   },
   {
    "duration": 105429,
    "start_time": "2023-04-26T19:53:27.603Z"
   },
   {
    "duration": 52,
    "start_time": "2023-04-26T19:59:22.102Z"
   },
   {
    "duration": 104916,
    "start_time": "2023-04-26T19:59:34.561Z"
   },
   {
    "duration": 9,
    "start_time": "2023-04-26T20:09:37.257Z"
   },
   {
    "duration": 8,
    "start_time": "2023-04-26T20:09:46.745Z"
   },
   {
    "duration": 52,
    "start_time": "2023-04-26T20:12:22.254Z"
   },
   {
    "duration": 2411,
    "start_time": "2023-04-26T20:43:55.097Z"
   },
   {
    "duration": 92,
    "start_time": "2023-04-26T20:43:57.510Z"
   },
   {
    "duration": 39,
    "start_time": "2023-04-26T20:43:59.342Z"
   },
   {
    "duration": 43,
    "start_time": "2023-04-26T20:44:01.941Z"
   },
   {
    "duration": 45,
    "start_time": "2023-04-27T06:05:04.302Z"
   },
   {
    "duration": 5,
    "start_time": "2023-04-27T06:05:21.098Z"
   },
   {
    "duration": 1038,
    "start_time": "2023-04-27T06:05:26.699Z"
   },
   {
    "duration": 80,
    "start_time": "2023-04-27T06:05:27.739Z"
   },
   {
    "duration": 25,
    "start_time": "2023-04-27T06:05:38.062Z"
   },
   {
    "duration": 10,
    "start_time": "2023-04-27T06:06:05.933Z"
   },
   {
    "duration": 9,
    "start_time": "2023-04-27T06:06:16.083Z"
   },
   {
    "duration": 9,
    "start_time": "2023-04-27T06:06:38.001Z"
   },
   {
    "duration": 12,
    "start_time": "2023-04-27T06:06:44.940Z"
   },
   {
    "duration": 96792,
    "start_time": "2023-04-27T06:06:57.584Z"
   },
   {
    "duration": 21,
    "start_time": "2023-04-27T06:08:34.378Z"
   },
   {
    "duration": 3,
    "start_time": "2023-04-27T06:11:23.951Z"
   },
   {
    "duration": 63,
    "start_time": "2023-04-27T06:12:03.751Z"
   },
   {
    "duration": 32,
    "start_time": "2023-04-27T06:12:10.142Z"
   },
   {
    "duration": 43,
    "start_time": "2023-04-27T06:12:48.328Z"
   },
   {
    "duration": 49,
    "start_time": "2023-04-27T17:51:51.986Z"
   },
   {
    "duration": 1416,
    "start_time": "2023-04-27T17:51:55.343Z"
   },
   {
    "duration": 73,
    "start_time": "2023-04-27T17:51:56.762Z"
   },
   {
    "duration": 26,
    "start_time": "2023-04-27T17:51:56.837Z"
   },
   {
    "duration": 3,
    "start_time": "2023-04-27T17:51:56.865Z"
   },
   {
    "duration": 9,
    "start_time": "2023-04-27T17:51:56.870Z"
   },
   {
    "duration": 11,
    "start_time": "2023-04-27T17:51:56.881Z"
   },
   {
    "duration": 24,
    "start_time": "2023-04-27T17:51:56.893Z"
   },
   {
    "duration": 13,
    "start_time": "2023-04-27T17:51:56.919Z"
   },
   {
    "duration": 1435,
    "start_time": "2023-04-28T08:11:10.774Z"
   },
   {
    "duration": 185,
    "start_time": "2023-04-28T08:11:12.212Z"
   },
   {
    "duration": 54,
    "start_time": "2023-04-28T08:11:12.399Z"
   },
   {
    "duration": 5,
    "start_time": "2023-04-28T08:11:12.906Z"
   },
   {
    "duration": 19,
    "start_time": "2023-04-28T08:11:13.132Z"
   },
   {
    "duration": 10,
    "start_time": "2023-04-28T08:11:14.093Z"
   },
   {
    "duration": 40,
    "start_time": "2023-04-28T08:11:18.203Z"
   },
   {
    "duration": 25,
    "start_time": "2023-04-28T08:11:22.506Z"
   },
   {
    "duration": 125,
    "start_time": "2023-04-28T08:11:25.357Z"
   },
   {
    "duration": 77,
    "start_time": "2023-04-28T08:12:23.111Z"
   },
   {
    "duration": 0,
    "start_time": "2023-04-28T08:21:35.364Z"
   },
   {
    "duration": 0,
    "start_time": "2023-04-28T08:22:00.281Z"
   },
   {
    "duration": 8523,
    "start_time": "2023-04-28T08:22:01.849Z"
   },
   {
    "duration": 32753,
    "start_time": "2023-04-28T08:22:13.893Z"
   },
   {
    "duration": 10884,
    "start_time": "2023-04-28T08:24:40.045Z"
   },
   {
    "duration": 27,
    "start_time": "2023-04-28T08:25:23.844Z"
   },
   {
    "duration": 319,
    "start_time": "2023-04-28T08:26:01.397Z"
   },
   {
    "duration": 283,
    "start_time": "2023-04-28T08:26:14.880Z"
   },
   {
    "duration": 10,
    "start_time": "2023-04-28T08:26:37.045Z"
   },
   {
    "duration": 36,
    "start_time": "2023-04-28T08:26:37.260Z"
   },
   {
    "duration": 34,
    "start_time": "2023-04-28T08:26:38.414Z"
   },
   {
    "duration": 7,
    "start_time": "2023-04-28T08:26:40.257Z"
   },
   {
    "duration": 12,
    "start_time": "2023-04-28T08:26:40.596Z"
   },
   {
    "duration": 12,
    "start_time": "2023-04-28T08:26:46.207Z"
   },
   {
    "duration": 42,
    "start_time": "2023-04-28T08:26:47.400Z"
   },
   {
    "duration": 282,
    "start_time": "2023-04-28T08:26:50.544Z"
   },
   {
    "duration": 32709,
    "start_time": "2023-04-28T08:26:54.947Z"
   },
   {
    "duration": 8,
    "start_time": "2023-04-28T08:27:27.662Z"
   },
   {
    "duration": 574591,
    "start_time": "2023-04-28T08:28:49.509Z"
   },
   {
    "duration": 8,
    "start_time": "2023-04-28T09:31:18.365Z"
   }
  ],
  "kernelspec": {
   "display_name": "Python 3",
   "language": "python",
   "name": "python3"
  },
  "language_info": {
   "codemirror_mode": {
    "name": "ipython",
    "version": 3
   },
   "file_extension": ".py",
   "mimetype": "text/x-python",
   "name": "python",
   "nbconvert_exporter": "python",
   "pygments_lexer": "ipython3",
   "version": "3.8.3"
  },
  "toc": {
   "base_numbering": 1,
   "nav_menu": {},
   "number_sections": true,
   "sideBar": true,
   "skip_h1_title": true,
   "title_cell": "Table of Contents",
   "title_sidebar": "Contents",
   "toc_cell": false,
   "toc_position": {},
   "toc_section_display": true,
   "toc_window_display": false
  }
 },
 "nbformat": 4,
 "nbformat_minor": 2
}
