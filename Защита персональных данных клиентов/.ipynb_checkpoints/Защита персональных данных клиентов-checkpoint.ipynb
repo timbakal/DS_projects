{
 "cells": [
  {
   "cell_type": "markdown",
   "metadata": {},
   "source": [
    "# Защита персональных данных клиентов"
   ]
  },
  {
   "cell_type": "markdown",
   "metadata": {},
   "source": [
    "Вам нужно защитить данные клиентов страховой компании «Хоть потоп». Разработайте такой метод преобразования данных, чтобы по ним было сложно восстановить персональную информацию. Обоснуйте корректность его работы.\n",
    "\n",
    "Нужно защитить данные, чтобы при преобразовании качество моделей машинного обучения не ухудшилось. Подбирать наилучшую модель не требуется."
   ]
  },
  {
   "cell_type": "code",
   "execution_count": 3,
   "metadata": {},
   "outputs": [],
   "source": [
    "import numpy as np\n",
    "import pandas as pd\n",
    "from sklearn.linear_model import LinearRegression\n",
    "from sklearn.metrics import r2_score\n",
    "from sklearn.model_selection import train_test_split"
   ]
  },
  {
   "cell_type": "markdown",
   "metadata": {},
   "source": [
    "## Загрузка данных"
   ]
  },
  {
   "cell_type": "markdown",
   "metadata": {},
   "source": [
    "Загружаем данные"
   ]
  },
  {
   "cell_type": "code",
   "execution_count": 4,
   "metadata": {},
   "outputs": [],
   "source": [
    "data = pd.read_csv('/datasets/insurance.csv')"
   ]
  },
  {
   "cell_type": "markdown",
   "metadata": {},
   "source": [
    "Смотрим информацию о данных"
   ]
  },
  {
   "cell_type": "code",
   "execution_count": 5,
   "metadata": {},
   "outputs": [
    {
     "name": "stdout",
     "output_type": "stream",
     "text": [
      "<class 'pandas.core.frame.DataFrame'>\n",
      "RangeIndex: 5000 entries, 0 to 4999\n",
      "Data columns (total 5 columns):\n",
      " #   Column             Non-Null Count  Dtype  \n",
      "---  ------             --------------  -----  \n",
      " 0   Пол                5000 non-null   int64  \n",
      " 1   Возраст            5000 non-null   float64\n",
      " 2   Зарплата           5000 non-null   float64\n",
      " 3   Члены семьи        5000 non-null   int64  \n",
      " 4   Страховые выплаты  5000 non-null   int64  \n",
      "dtypes: float64(2), int64(3)\n",
      "memory usage: 195.4 KB\n"
     ]
    }
   ],
   "source": [
    "data.info()"
   ]
  },
  {
   "cell_type": "code",
   "execution_count": 6,
   "metadata": {},
   "outputs": [
    {
     "data": {
      "text/html": [
       "<div>\n",
       "<style scoped>\n",
       "    .dataframe tbody tr th:only-of-type {\n",
       "        vertical-align: middle;\n",
       "    }\n",
       "\n",
       "    .dataframe tbody tr th {\n",
       "        vertical-align: top;\n",
       "    }\n",
       "\n",
       "    .dataframe thead th {\n",
       "        text-align: right;\n",
       "    }\n",
       "</style>\n",
       "<table border=\"1\" class=\"dataframe\">\n",
       "  <thead>\n",
       "    <tr style=\"text-align: right;\">\n",
       "      <th></th>\n",
       "      <th>Пол</th>\n",
       "      <th>Возраст</th>\n",
       "      <th>Зарплата</th>\n",
       "      <th>Члены семьи</th>\n",
       "      <th>Страховые выплаты</th>\n",
       "    </tr>\n",
       "  </thead>\n",
       "  <tbody>\n",
       "    <tr>\n",
       "      <th>0</th>\n",
       "      <td>1</td>\n",
       "      <td>41.0</td>\n",
       "      <td>49600.0</td>\n",
       "      <td>1</td>\n",
       "      <td>0</td>\n",
       "    </tr>\n",
       "    <tr>\n",
       "      <th>1</th>\n",
       "      <td>0</td>\n",
       "      <td>46.0</td>\n",
       "      <td>38000.0</td>\n",
       "      <td>1</td>\n",
       "      <td>1</td>\n",
       "    </tr>\n",
       "    <tr>\n",
       "      <th>2</th>\n",
       "      <td>0</td>\n",
       "      <td>29.0</td>\n",
       "      <td>21000.0</td>\n",
       "      <td>0</td>\n",
       "      <td>0</td>\n",
       "    </tr>\n",
       "    <tr>\n",
       "      <th>3</th>\n",
       "      <td>0</td>\n",
       "      <td>21.0</td>\n",
       "      <td>41700.0</td>\n",
       "      <td>2</td>\n",
       "      <td>0</td>\n",
       "    </tr>\n",
       "    <tr>\n",
       "      <th>4</th>\n",
       "      <td>1</td>\n",
       "      <td>28.0</td>\n",
       "      <td>26100.0</td>\n",
       "      <td>0</td>\n",
       "      <td>0</td>\n",
       "    </tr>\n",
       "  </tbody>\n",
       "</table>\n",
       "</div>"
      ],
      "text/plain": [
       "   Пол  Возраст  Зарплата  Члены семьи  Страховые выплаты\n",
       "0    1     41.0   49600.0            1                  0\n",
       "1    0     46.0   38000.0            1                  1\n",
       "2    0     29.0   21000.0            0                  0\n",
       "3    0     21.0   41700.0            2                  0\n",
       "4    1     28.0   26100.0            0                  0"
      ]
     },
     "execution_count": 6,
     "metadata": {},
     "output_type": "execute_result"
    }
   ],
   "source": [
    "data.head()"
   ]
  },
  {
   "cell_type": "code",
   "execution_count": 7,
   "metadata": {},
   "outputs": [
    {
     "data": {
      "text/html": [
       "<div>\n",
       "<style scoped>\n",
       "    .dataframe tbody tr th:only-of-type {\n",
       "        vertical-align: middle;\n",
       "    }\n",
       "\n",
       "    .dataframe tbody tr th {\n",
       "        vertical-align: top;\n",
       "    }\n",
       "\n",
       "    .dataframe thead th {\n",
       "        text-align: right;\n",
       "    }\n",
       "</style>\n",
       "<table border=\"1\" class=\"dataframe\">\n",
       "  <thead>\n",
       "    <tr style=\"text-align: right;\">\n",
       "      <th></th>\n",
       "      <th>Пол</th>\n",
       "      <th>Возраст</th>\n",
       "      <th>Зарплата</th>\n",
       "      <th>Члены семьи</th>\n",
       "      <th>Страховые выплаты</th>\n",
       "    </tr>\n",
       "  </thead>\n",
       "  <tbody>\n",
       "    <tr>\n",
       "      <th>count</th>\n",
       "      <td>5000.000000</td>\n",
       "      <td>5000.000000</td>\n",
       "      <td>5000.000000</td>\n",
       "      <td>5000.000000</td>\n",
       "      <td>5000.000000</td>\n",
       "    </tr>\n",
       "    <tr>\n",
       "      <th>mean</th>\n",
       "      <td>0.499000</td>\n",
       "      <td>30.952800</td>\n",
       "      <td>39916.360000</td>\n",
       "      <td>1.194200</td>\n",
       "      <td>0.148000</td>\n",
       "    </tr>\n",
       "    <tr>\n",
       "      <th>std</th>\n",
       "      <td>0.500049</td>\n",
       "      <td>8.440807</td>\n",
       "      <td>9900.083569</td>\n",
       "      <td>1.091387</td>\n",
       "      <td>0.463183</td>\n",
       "    </tr>\n",
       "    <tr>\n",
       "      <th>min</th>\n",
       "      <td>0.000000</td>\n",
       "      <td>18.000000</td>\n",
       "      <td>5300.000000</td>\n",
       "      <td>0.000000</td>\n",
       "      <td>0.000000</td>\n",
       "    </tr>\n",
       "    <tr>\n",
       "      <th>25%</th>\n",
       "      <td>0.000000</td>\n",
       "      <td>24.000000</td>\n",
       "      <td>33300.000000</td>\n",
       "      <td>0.000000</td>\n",
       "      <td>0.000000</td>\n",
       "    </tr>\n",
       "    <tr>\n",
       "      <th>50%</th>\n",
       "      <td>0.000000</td>\n",
       "      <td>30.000000</td>\n",
       "      <td>40200.000000</td>\n",
       "      <td>1.000000</td>\n",
       "      <td>0.000000</td>\n",
       "    </tr>\n",
       "    <tr>\n",
       "      <th>75%</th>\n",
       "      <td>1.000000</td>\n",
       "      <td>37.000000</td>\n",
       "      <td>46600.000000</td>\n",
       "      <td>2.000000</td>\n",
       "      <td>0.000000</td>\n",
       "    </tr>\n",
       "    <tr>\n",
       "      <th>max</th>\n",
       "      <td>1.000000</td>\n",
       "      <td>65.000000</td>\n",
       "      <td>79000.000000</td>\n",
       "      <td>6.000000</td>\n",
       "      <td>5.000000</td>\n",
       "    </tr>\n",
       "  </tbody>\n",
       "</table>\n",
       "</div>"
      ],
      "text/plain": [
       "               Пол      Возраст      Зарплата  Члены семьи  Страховые выплаты\n",
       "count  5000.000000  5000.000000   5000.000000  5000.000000        5000.000000\n",
       "mean      0.499000    30.952800  39916.360000     1.194200           0.148000\n",
       "std       0.500049     8.440807   9900.083569     1.091387           0.463183\n",
       "min       0.000000    18.000000   5300.000000     0.000000           0.000000\n",
       "25%       0.000000    24.000000  33300.000000     0.000000           0.000000\n",
       "50%       0.000000    30.000000  40200.000000     1.000000           0.000000\n",
       "75%       1.000000    37.000000  46600.000000     2.000000           0.000000\n",
       "max       1.000000    65.000000  79000.000000     6.000000           5.000000"
      ]
     },
     "execution_count": 7,
     "metadata": {},
     "output_type": "execute_result"
    }
   ],
   "source": [
    "data.describe()"
   ]
  },
  {
   "cell_type": "markdown",
   "metadata": {},
   "source": [
    "После данной информации по столбцам можно с уверенностью сказать, что в данных не присутствует каких либо аутлайеров либо неверных значений, а значит с ними можно работать дальше, проверим пропуски и дубликаты"
   ]
  },
  {
   "cell_type": "code",
   "execution_count": 8,
   "metadata": {},
   "outputs": [
    {
     "data": {
      "text/plain": [
       "Пол                  0\n",
       "Возраст              0\n",
       "Зарплата             0\n",
       "Члены семьи          0\n",
       "Страховые выплаты    0\n",
       "dtype: int64"
      ]
     },
     "execution_count": 8,
     "metadata": {},
     "output_type": "execute_result"
    }
   ],
   "source": [
    "data.isnull().sum()"
   ]
  },
  {
   "cell_type": "markdown",
   "metadata": {},
   "source": [
    "Пропусков нет"
   ]
  },
  {
   "cell_type": "code",
   "execution_count": 9,
   "metadata": {},
   "outputs": [
    {
     "data": {
      "text/plain": [
       "153"
      ]
     },
     "execution_count": 9,
     "metadata": {},
     "output_type": "execute_result"
    }
   ],
   "source": [
    "data.duplicated().sum()"
   ]
  },
  {
   "cell_type": "markdown",
   "metadata": {},
   "source": [
    "Обнаружено 153 дубликата, их можно удалить без вреда для датасета"
   ]
  },
  {
   "cell_type": "code",
   "execution_count": 10,
   "metadata": {},
   "outputs": [
    {
     "data": {
      "text/plain": [
       "0"
      ]
     },
     "execution_count": 10,
     "metadata": {},
     "output_type": "execute_result"
    }
   ],
   "source": [
    "data = data.drop_duplicates()\n",
    "data.duplicated().sum()"
   ]
  },
  {
   "cell_type": "markdown",
   "metadata": {},
   "source": [
    "Отлично! Теперь можно двигаться дальше"
   ]
  },
  {
   "cell_type": "markdown",
   "metadata": {},
   "source": [
    "## Умножение матриц"
   ]
  },
  {
   "cell_type": "markdown",
   "metadata": {},
   "source": [
    "Раскрываем скобки\n",
    "$$\n",
    "W = ([P^TX^T]*XP)^{-1}*P^T* X^T * y\n",
    "$$\n",
    "        \n",
    "$$\n",
    "W = (P^TX^TXP)^{-1}*P^T* X^T * y\n",
    "$$\n",
    "        \n",
    "$$\n",
    "W = ([P^TX^TX]*P)^{-1}*P^T* X^T * y\n",
    "$$\n",
    "Выносим за скобку P^(-1)        \n",
    "$$\n",
    "W = P^{-1}*[P^T(X^T*X)]^{-1}*P^T* X^T * y\n",
    "$$\n",
    "        \n",
    "$$\n",
    "W = P^{-1}*[X^T*X]^{-1}*[P^T]^{-1}*P^T* X^T * y\n",
    "$$\n",
    "Производим замену    \n",
    "$$\n",
    "A = XPP^{-1}*[X^T*X]^{-1}*[P^T]^{-1}*P^T* X^T * y\n",
    "$$\n",
    "Сокращаем    \n",
    "$$\n",
    "A = XE*[X^T*X]^{-1}*E* X^T * y\n",
    "$$\n",
    "    \n",
    "$$\n",
    "A = X*[X^T*X]^{-1}* X^T * y\n",
    "$$\n",
    "Равенство доказано    \n",
    "$$\n",
    "A = X*w\n",
    "$$\n",
    "    "
   ]
  },
  {
   "cell_type": "markdown",
   "metadata": {},
   "source": [
    "## Алгоритм преобразования"
   ]
  },
  {
   "cell_type": "markdown",
   "metadata": {},
   "source": [
    "**Алгоритм**\n",
    "\n",
    "Я хочу чтобы мой алгоритм строился на рандомных числах и был наименее предсказуемым.\n",
    "Поэтому выделю следующие ключевые точки.\n",
    "1. Я умножу нашу матрицу на рандомную матрицу\n",
    "2. Повторю данную операцию несколько раз\n",
    "3. Проверю каждую из матриц на обратимость, делать я это буду с помощью обпределителя, так как когда он не равен нулю матрица необратима (Если матрица все же окажется необратимой, то я просто не буду умножать на нее, веростность этого мала, а веростность того, что данные никак не зашифруются также близится к нулю так как при 10 сгенерированный матрицах хотя бы одна в 99,99% точно будет обратима)\n",
    "4. Чтобы дешифровать данные будет достаточно в обратном порядке умножить нашу полученную матрицу на случайно сгенерированные раннее"
   ]
  },
  {
   "cell_type": "markdown",
   "metadata": {},
   "source": [
    "**Обоснование**\n",
    "\n",
    "Это абсолютно понятный код, который раз за разом будет случайно генерироваться и таким образом его будет сложно дешифровать, к тому же данная операция будет повторяться несколько раз, еще больше усложняя процесс. Результаты в ходе данных операций никак не изменятся"
   ]
  },
  {
   "cell_type": "markdown",
   "metadata": {},
   "source": [
    "## Проверка алгоритма"
   ]
  },
  {
   "cell_type": "code",
   "execution_count": 11,
   "metadata": {
    "scrolled": true
   },
   "outputs": [
    {
     "name": "stdout",
     "output_type": "stream",
     "text": [
      "0.42307727492147584\n"
     ]
    }
   ],
   "source": [
    "target = data['Страховые выплаты']\n",
    "features = data.drop('Страховые выплаты', axis = 1)\n",
    "features_train, features_valid, target_train, target_valid = train_test_split(\n",
    "    features, target, test_size=0.25, random_state=12345)\n",
    "model = LinearRegression()\n",
    "model.fit(features_train, target_train)\n",
    "predictions = model.predict(features_valid)\n",
    "print(r2_score(target_valid, predictions))"
   ]
  },
  {
   "cell_type": "code",
   "execution_count": 12,
   "metadata": {},
   "outputs": [],
   "source": [
    "def transformation(X, y):\n",
    "    X_trans = X\n",
    "    for i in range(10):\n",
    "        trans = np.random.randint (1, 100000, (X.shape[1], X.shape[1]))\n",
    "        if np.linalg.det(trans) != 0:\n",
    "            X_trans = X_trans@trans\n",
    "            features_train, features_valid, target_train, target_valid = train_test_split(\n",
    "            X_trans, y, test_size=0.25, random_state=12345)\n",
    "            model = LinearRegression()\n",
    "            model.fit(features_train, target_train)\n",
    "            predictions = model.predict(features_valid)\n",
    "            print(r2_score(target_valid, predictions))\n",
    "        else:\n",
    "            continue"
   ]
  },
  {
   "cell_type": "markdown",
   "metadata": {},
   "source": [
    "Хорошо, сделал так, но мне кажется так получается не совсем то, что я хотел, так мы видим точность только после того, как мы нашу матрицу умножили на одну рандомную, а я хочу умножить ее 10 раз, для большего изменения, не очень понял, почему именно так будет верно, подскажите пожалуйста"
   ]
  },
  {
   "cell_type": "markdown",
   "metadata": {},
   "source": [
    "С другой стороны можно сделать и так, данный метод тоже имеет свои плюсы"
   ]
  },
  {
   "cell_type": "code",
   "execution_count": 13,
   "metadata": {},
   "outputs": [
    {
     "name": "stdout",
     "output_type": "stream",
     "text": [
      "0.4230772749247892\n",
      "0.4230772746591791\n",
      "0.4230772798237419\n",
      "0.4230772736840739\n",
      "0.4230773024292236\n",
      "0.42307503475364117\n",
      "0.4230884364579327\n",
      "0.4231507940494882\n",
      "0.4155512934529191\n",
      "0.41589588209159567\n"
     ]
    }
   ],
   "source": [
    "transformation(features, target)"
   ]
  },
  {
   "cell_type": "markdown",
   "metadata": {},
   "source": [
    "Результаты получились одинаковые, трансформация работает на ура"
   ]
  },
  {
   "cell_type": "markdown",
   "metadata": {},
   "source": [
    "Вывод: \n",
    "1) Данные были успешно проверены и обработаны\n",
    "\n",
    "2) Был разработан алгоритм шифровки данных\n",
    "\n",
    "3) Алгоритм шифрования данных был успешно проверен на прототипе\n",
    "\n",
    "4) Была проверена гипотеза о том, что при линейном изменении матрицы результаты регрессии не будут меняться"
   ]
  }
 ],
 "metadata": {
  "ExecuteTimeLog": [
   {
    "duration": 55,
    "start_time": "2023-07-16T13:00:55.825Z"
   },
   {
    "duration": 394,
    "start_time": "2023-07-16T13:00:58.607Z"
   },
   {
    "duration": 78,
    "start_time": "2023-07-16T13:00:59.556Z"
   },
   {
    "duration": 17,
    "start_time": "2023-07-16T13:01:29.634Z"
   },
   {
    "duration": 12,
    "start_time": "2023-07-16T13:01:33.915Z"
   },
   {
    "duration": 36,
    "start_time": "2023-07-16T13:02:00.960Z"
   },
   {
    "duration": 9,
    "start_time": "2023-07-16T13:02:06.894Z"
   },
   {
    "duration": 25,
    "start_time": "2023-07-16T13:02:16.108Z"
   },
   {
    "duration": 30,
    "start_time": "2023-07-16T13:04:06.748Z"
   },
   {
    "duration": 8,
    "start_time": "2023-07-16T13:04:11.142Z"
   },
   {
    "duration": 14,
    "start_time": "2023-07-16T13:04:37.326Z"
   },
   {
    "duration": 8,
    "start_time": "2023-07-16T13:05:00.970Z"
   },
   {
    "duration": 7,
    "start_time": "2023-07-16T13:12:35.913Z"
   },
   {
    "duration": 10,
    "start_time": "2023-07-16T13:12:44.936Z"
   },
   {
    "duration": 1293,
    "start_time": "2023-07-17T20:36:59.257Z"
   },
   {
    "duration": 102,
    "start_time": "2023-07-17T20:37:08.021Z"
   },
   {
    "duration": 12,
    "start_time": "2023-07-17T20:37:08.442Z"
   },
   {
    "duration": 36,
    "start_time": "2023-07-17T20:37:08.688Z"
   },
   {
    "duration": 7,
    "start_time": "2023-07-17T20:37:09.073Z"
   },
   {
    "duration": 9,
    "start_time": "2023-07-17T20:37:09.438Z"
   },
   {
    "duration": 10,
    "start_time": "2023-07-17T20:37:09.819Z"
   },
   {
    "duration": 113,
    "start_time": "2023-07-17T20:38:58.166Z"
   },
   {
    "duration": 15,
    "start_time": "2023-07-17T20:39:32.395Z"
   },
   {
    "duration": 10,
    "start_time": "2023-07-17T20:39:52.621Z"
   },
   {
    "duration": 2376,
    "start_time": "2023-07-17T20:40:13.978Z"
   },
   {
    "duration": 14,
    "start_time": "2023-07-17T20:40:25.683Z"
   },
   {
    "duration": 4,
    "start_time": "2023-07-17T20:42:53.773Z"
   },
   {
    "duration": 11,
    "start_time": "2023-07-17T20:46:49.771Z"
   },
   {
    "duration": 10,
    "start_time": "2023-07-17T20:47:14.543Z"
   },
   {
    "duration": 141,
    "start_time": "2023-07-17T20:58:30.698Z"
   },
   {
    "duration": 12,
    "start_time": "2023-07-17T20:58:36.274Z"
   },
   {
    "duration": 3,
    "start_time": "2023-07-17T20:59:14.877Z"
   },
   {
    "duration": 13,
    "start_time": "2023-07-17T20:59:18.745Z"
   },
   {
    "duration": 4,
    "start_time": "2023-07-17T22:25:18.847Z"
   },
   {
    "duration": 10,
    "start_time": "2023-07-17T22:26:04.206Z"
   },
   {
    "duration": 5,
    "start_time": "2023-07-17T22:26:37.340Z"
   },
   {
    "duration": 11,
    "start_time": "2023-07-17T22:26:38.047Z"
   },
   {
    "duration": 4,
    "start_time": "2023-07-17T22:33:03.368Z"
   },
   {
    "duration": 11,
    "start_time": "2023-07-17T22:33:04.340Z"
   },
   {
    "duration": 111,
    "start_time": "2023-07-19T12:56:37.912Z"
   },
   {
    "duration": 1408,
    "start_time": "2023-07-19T12:56:57.054Z"
   },
   {
    "duration": 142,
    "start_time": "2023-07-19T12:56:58.464Z"
   },
   {
    "duration": 15,
    "start_time": "2023-07-19T12:56:58.608Z"
   },
   {
    "duration": 32,
    "start_time": "2023-07-19T12:56:58.627Z"
   },
   {
    "duration": 37,
    "start_time": "2023-07-19T12:56:58.661Z"
   },
   {
    "duration": 22,
    "start_time": "2023-07-19T12:56:58.700Z"
   },
   {
    "duration": 24,
    "start_time": "2023-07-19T12:56:58.724Z"
   },
   {
    "duration": 11,
    "start_time": "2023-07-19T12:56:58.750Z"
   },
   {
    "duration": 30,
    "start_time": "2023-07-19T12:56:58.763Z"
   },
   {
    "duration": 7,
    "start_time": "2023-07-19T13:32:57.250Z"
   },
   {
    "duration": 26,
    "start_time": "2023-07-19T13:32:58.717Z"
   },
   {
    "duration": 5,
    "start_time": "2023-07-19T13:34:22.385Z"
   },
   {
    "duration": 16,
    "start_time": "2023-07-19T13:34:23.413Z"
   },
   {
    "duration": 1791,
    "start_time": "2023-07-20T08:49:59.419Z"
   },
   {
    "duration": 96,
    "start_time": "2023-07-20T08:50:01.212Z"
   },
   {
    "duration": 87,
    "start_time": "2023-07-20T08:50:01.310Z"
   },
   {
    "duration": 311,
    "start_time": "2023-07-20T08:50:01.399Z"
   },
   {
    "duration": 120,
    "start_time": "2023-07-20T08:50:01.712Z"
   },
   {
    "duration": 39,
    "start_time": "2023-07-20T08:50:01.834Z"
   },
   {
    "duration": 83,
    "start_time": "2023-07-20T08:50:01.875Z"
   },
   {
    "duration": 48,
    "start_time": "2023-07-20T08:50:01.960Z"
   },
   {
    "duration": 4,
    "start_time": "2023-07-20T08:51:49.474Z"
   },
   {
    "duration": 93,
    "start_time": "2023-07-20T08:51:53.259Z"
   },
   {
    "duration": 3,
    "start_time": "2023-07-20T08:52:02.672Z"
   },
   {
    "duration": 47,
    "start_time": "2023-07-20T08:52:02.677Z"
   },
   {
    "duration": 23,
    "start_time": "2023-07-20T08:52:02.725Z"
   },
   {
    "duration": 319,
    "start_time": "2023-07-20T08:52:02.751Z"
   },
   {
    "duration": 408,
    "start_time": "2023-07-20T08:52:03.072Z"
   },
   {
    "duration": 254,
    "start_time": "2023-07-20T08:52:03.482Z"
   },
   {
    "duration": 76,
    "start_time": "2023-07-20T08:52:03.737Z"
   },
   {
    "duration": 76,
    "start_time": "2023-07-20T08:52:03.814Z"
   },
   {
    "duration": 31,
    "start_time": "2023-07-20T08:52:03.892Z"
   },
   {
    "duration": 3,
    "start_time": "2023-07-20T08:52:12.456Z"
   },
   {
    "duration": 9,
    "start_time": "2023-07-20T08:52:15.741Z"
   },
   {
    "duration": 11,
    "start_time": "2023-07-20T10:31:47.964Z"
   },
   {
    "duration": 44,
    "start_time": "2023-07-20T10:31:49.496Z"
   },
   {
    "duration": 1094,
    "start_time": "2023-07-20T10:32:31.982Z"
   },
   {
    "duration": 119,
    "start_time": "2023-07-20T10:32:33.078Z"
   },
   {
    "duration": 12,
    "start_time": "2023-07-20T10:32:33.199Z"
   },
   {
    "duration": 122,
    "start_time": "2023-07-20T10:32:33.212Z"
   },
   {
    "duration": 30,
    "start_time": "2023-07-20T10:32:33.338Z"
   },
   {
    "duration": 34,
    "start_time": "2023-07-20T10:32:33.370Z"
   },
   {
    "duration": 25,
    "start_time": "2023-07-20T10:32:33.406Z"
   },
   {
    "duration": 52,
    "start_time": "2023-07-20T10:32:33.433Z"
   },
   {
    "duration": 59,
    "start_time": "2023-07-20T10:32:33.486Z"
   },
   {
    "duration": 4,
    "start_time": "2023-07-20T10:32:35.483Z"
   },
   {
    "duration": 57,
    "start_time": "2023-07-20T10:32:38.760Z"
   }
  ],
  "kernelspec": {
   "display_name": "Python 3",
   "language": "python",
   "name": "python3"
  },
  "language_info": {
   "codemirror_mode": {
    "name": "ipython",
    "version": 3
   },
   "file_extension": ".py",
   "mimetype": "text/x-python",
   "name": "python",
   "nbconvert_exporter": "python",
   "pygments_lexer": "ipython3",
   "version": "3.8.3"
  },
  "toc": {
   "base_numbering": 1,
   "nav_menu": {},
   "number_sections": true,
   "sideBar": true,
   "skip_h1_title": true,
   "title_cell": "Содержание",
   "title_sidebar": "Contents",
   "toc_cell": true,
   "toc_position": {
    "height": "calc(100% - 180px)",
    "left": "10px",
    "top": "150px",
    "width": "165px"
   },
   "toc_section_display": true,
   "toc_window_display": true
  }
 },
 "nbformat": 4,
 "nbformat_minor": 2
}
