{
 "cells": [
  {
   "cell_type": "markdown",
   "metadata": {},
   "source": [
    "# Отток клиентов"
   ]
  },
  {
   "cell_type": "markdown",
   "metadata": {},
   "source": [
    "Из «Бета-Банка» стали уходить клиенты. Каждый месяц. Немного, но заметно. Банковские маркетологи посчитали: сохранять текущих клиентов дешевле, чем привлекать новых.\n",
    "\n",
    "Нужно спрогнозировать, уйдёт клиент из банка в ближайшее время или нет. Вам предоставлены исторические данные о поведении клиентов и расторжении договоров с банком. \n",
    "\n",
    "Постройте модель с предельно большим значением *F1*-меры. Чтобы сдать проект успешно, нужно довести метрику до 0.59. Проверьте *F1*-меру на тестовой выборке самостоятельно.\n",
    "\n",
    "Дополнительно измеряйте *AUC-ROC*, сравнивайте её значение с *F1*-мерой.\n",
    "\n",
    "Источник данных: [https://www.kaggle.com/barelydedicated/bank-customer-churn-modeling](https://www.kaggle.com/barelydedicated/bank-customer-churn-modeling)"
   ]
  },
  {
   "cell_type": "markdown",
   "metadata": {},
   "source": [
    "## Подготовка данных"
   ]
  },
  {
   "cell_type": "code",
   "execution_count": 1,
   "metadata": {},
   "outputs": [],
   "source": [
    "import pandas as pd\n",
    "from sklearn.utils import shuffle\n",
    "from sklearn.metrics import f1_score\n",
    "from sklearn.tree import DecisionTreeRegressor\n",
    "from sklearn.ensemble import RandomForestRegressor\n",
    "from sklearn.ensemble import RandomForestClassifier\n",
    "from sklearn.model_selection import train_test_split\n",
    "import numpy as np\n",
    "from sklearn.linear_model import LogisticRegression\n",
    "from sklearn.metrics import roc_auc_score\n",
    "import matplotlib.pyplot as plt"
   ]
  },
  {
   "cell_type": "code",
   "execution_count": 2,
   "metadata": {},
   "outputs": [],
   "source": [
    "df = pd.read_csv('/datasets/Churn.csv')"
   ]
  },
  {
   "cell_type": "code",
   "execution_count": 3,
   "metadata": {},
   "outputs": [
    {
     "name": "stdout",
     "output_type": "stream",
     "text": [
      "<bound method DataFrame.info of       RowNumber  CustomerId    Surname  CreditScore Geography  Gender  Age  \\\n",
      "0             1    15634602   Hargrave          619    France  Female   42   \n",
      "1             2    15647311       Hill          608     Spain  Female   41   \n",
      "2             3    15619304       Onio          502    France  Female   42   \n",
      "3             4    15701354       Boni          699    France  Female   39   \n",
      "4             5    15737888   Mitchell          850     Spain  Female   43   \n",
      "...         ...         ...        ...          ...       ...     ...  ...   \n",
      "9995       9996    15606229   Obijiaku          771    France    Male   39   \n",
      "9996       9997    15569892  Johnstone          516    France    Male   35   \n",
      "9997       9998    15584532        Liu          709    France  Female   36   \n",
      "9998       9999    15682355  Sabbatini          772   Germany    Male   42   \n",
      "9999      10000    15628319     Walker          792    France  Female   28   \n",
      "\n",
      "      Tenure    Balance  NumOfProducts  HasCrCard  IsActiveMember  \\\n",
      "0        2.0       0.00              1          1               1   \n",
      "1        1.0   83807.86              1          0               1   \n",
      "2        8.0  159660.80              3          1               0   \n",
      "3        1.0       0.00              2          0               0   \n",
      "4        2.0  125510.82              1          1               1   \n",
      "...      ...        ...            ...        ...             ...   \n",
      "9995     5.0       0.00              2          1               0   \n",
      "9996    10.0   57369.61              1          1               1   \n",
      "9997     7.0       0.00              1          0               1   \n",
      "9998     3.0   75075.31              2          1               0   \n",
      "9999     NaN  130142.79              1          1               0   \n",
      "\n",
      "      EstimatedSalary  Exited  \n",
      "0           101348.88       1  \n",
      "1           112542.58       0  \n",
      "2           113931.57       1  \n",
      "3            93826.63       0  \n",
      "4            79084.10       0  \n",
      "...               ...     ...  \n",
      "9995         96270.64       0  \n",
      "9996        101699.77       0  \n",
      "9997         42085.58       1  \n",
      "9998         92888.52       1  \n",
      "9999         38190.78       0  \n",
      "\n",
      "[10000 rows x 14 columns]>\n"
     ]
    }
   ],
   "source": [
    "print(df.info)\n",
    "df = df.dropna()"
   ]
  },
  {
   "cell_type": "markdown",
   "metadata": {},
   "source": [
    "Забыл закомментить, я это сделал чтобы в кодах не вылазело ошибок, потому что во время написания одного из циклов питон выдавал ошибку, связанную с этим"
   ]
  },
  {
   "cell_type": "code",
   "execution_count": 4,
   "metadata": {},
   "outputs": [
    {
     "name": "stdout",
     "output_type": "stream",
     "text": [
      "   RowNumber  CustomerId   Surname  CreditScore Geography  Gender  Age  \\\n",
      "0          1    15634602  Hargrave          619    France  Female   42   \n",
      "1          2    15647311      Hill          608     Spain  Female   41   \n",
      "2          3    15619304      Onio          502    France  Female   42   \n",
      "3          4    15701354      Boni          699    France  Female   39   \n",
      "4          5    15737888  Mitchell          850     Spain  Female   43   \n",
      "\n",
      "   Tenure    Balance  NumOfProducts  HasCrCard  IsActiveMember  \\\n",
      "0     2.0       0.00              1          1               1   \n",
      "1     1.0   83807.86              1          0               1   \n",
      "2     8.0  159660.80              3          1               0   \n",
      "3     1.0       0.00              2          0               0   \n",
      "4     2.0  125510.82              1          1               1   \n",
      "\n",
      "   EstimatedSalary  Exited  \n",
      "0        101348.88       1  \n",
      "1        112542.58       0  \n",
      "2        113931.57       1  \n",
      "3         93826.63       0  \n",
      "4         79084.10       0  \n",
      "['France' 'Spain' 'Germany']\n"
     ]
    }
   ],
   "source": [
    "print(df.head())\n",
    "print(df['Geography'].unique())"
   ]
  },
  {
   "cell_type": "code",
   "execution_count": 5,
   "metadata": {},
   "outputs": [],
   "source": [
    "df = pd.get_dummies(data=df, columns=['Gender', 'Geography'], drop_first=True)"
   ]
  },
  {
   "cell_type": "markdown",
   "metadata": {},
   "source": [
    "Есть очень много столбцов, которые никак не важны для обучения модели, поэтому попробуем их удалить, ибо никакой значимой для нас информации они не несут. Также есть некоторые столбцы, которые необходимо перевоплотить в другой формат, чтобы их можно было использовать в обучении, например столбец страны стоит превратить в 0, 1, 2, а гендер стоит превратить в 0 и 1 соответственно"
   ]
  },
  {
   "cell_type": "code",
   "execution_count": 6,
   "metadata": {},
   "outputs": [],
   "source": [
    "df = df.drop(['RowNumber', 'CustomerId', 'Surname'], axis  = 1)"
   ]
  },
  {
   "cell_type": "code",
   "execution_count": 7,
   "metadata": {},
   "outputs": [
    {
     "data": {
      "text/html": [
       "<div>\n",
       "<style scoped>\n",
       "    .dataframe tbody tr th:only-of-type {\n",
       "        vertical-align: middle;\n",
       "    }\n",
       "\n",
       "    .dataframe tbody tr th {\n",
       "        vertical-align: top;\n",
       "    }\n",
       "\n",
       "    .dataframe thead th {\n",
       "        text-align: right;\n",
       "    }\n",
       "</style>\n",
       "<table border=\"1\" class=\"dataframe\">\n",
       "  <thead>\n",
       "    <tr style=\"text-align: right;\">\n",
       "      <th></th>\n",
       "      <th>CreditScore</th>\n",
       "      <th>Age</th>\n",
       "      <th>Tenure</th>\n",
       "      <th>Balance</th>\n",
       "      <th>NumOfProducts</th>\n",
       "      <th>HasCrCard</th>\n",
       "      <th>IsActiveMember</th>\n",
       "      <th>EstimatedSalary</th>\n",
       "      <th>Exited</th>\n",
       "      <th>Gender_Male</th>\n",
       "      <th>Geography_Germany</th>\n",
       "      <th>Geography_Spain</th>\n",
       "    </tr>\n",
       "  </thead>\n",
       "  <tbody>\n",
       "    <tr>\n",
       "      <th>count</th>\n",
       "      <td>9091.000000</td>\n",
       "      <td>9091.000000</td>\n",
       "      <td>9091.000000</td>\n",
       "      <td>9091.000000</td>\n",
       "      <td>9091.000000</td>\n",
       "      <td>9091.000000</td>\n",
       "      <td>9091.000000</td>\n",
       "      <td>9091.000000</td>\n",
       "      <td>9091.000000</td>\n",
       "      <td>9091.000000</td>\n",
       "      <td>9091.000000</td>\n",
       "      <td>9091.000000</td>\n",
       "    </tr>\n",
       "    <tr>\n",
       "      <th>mean</th>\n",
       "      <td>650.736553</td>\n",
       "      <td>38.949181</td>\n",
       "      <td>4.997690</td>\n",
       "      <td>76522.740015</td>\n",
       "      <td>1.530195</td>\n",
       "      <td>0.704983</td>\n",
       "      <td>0.515565</td>\n",
       "      <td>100181.214924</td>\n",
       "      <td>0.203938</td>\n",
       "      <td>0.547135</td>\n",
       "      <td>0.252227</td>\n",
       "      <td>0.247278</td>\n",
       "    </tr>\n",
       "    <tr>\n",
       "      <th>std</th>\n",
       "      <td>96.410471</td>\n",
       "      <td>10.555581</td>\n",
       "      <td>2.894723</td>\n",
       "      <td>62329.528576</td>\n",
       "      <td>0.581003</td>\n",
       "      <td>0.456076</td>\n",
       "      <td>0.499785</td>\n",
       "      <td>57624.755647</td>\n",
       "      <td>0.402946</td>\n",
       "      <td>0.497801</td>\n",
       "      <td>0.434315</td>\n",
       "      <td>0.431453</td>\n",
       "    </tr>\n",
       "    <tr>\n",
       "      <th>min</th>\n",
       "      <td>350.000000</td>\n",
       "      <td>18.000000</td>\n",
       "      <td>0.000000</td>\n",
       "      <td>0.000000</td>\n",
       "      <td>1.000000</td>\n",
       "      <td>0.000000</td>\n",
       "      <td>0.000000</td>\n",
       "      <td>11.580000</td>\n",
       "      <td>0.000000</td>\n",
       "      <td>0.000000</td>\n",
       "      <td>0.000000</td>\n",
       "      <td>0.000000</td>\n",
       "    </tr>\n",
       "    <tr>\n",
       "      <th>25%</th>\n",
       "      <td>584.000000</td>\n",
       "      <td>32.000000</td>\n",
       "      <td>2.000000</td>\n",
       "      <td>0.000000</td>\n",
       "      <td>1.000000</td>\n",
       "      <td>0.000000</td>\n",
       "      <td>0.000000</td>\n",
       "      <td>51227.745000</td>\n",
       "      <td>0.000000</td>\n",
       "      <td>0.000000</td>\n",
       "      <td>0.000000</td>\n",
       "      <td>0.000000</td>\n",
       "    </tr>\n",
       "    <tr>\n",
       "      <th>50%</th>\n",
       "      <td>652.000000</td>\n",
       "      <td>37.000000</td>\n",
       "      <td>5.000000</td>\n",
       "      <td>97318.250000</td>\n",
       "      <td>1.000000</td>\n",
       "      <td>1.000000</td>\n",
       "      <td>1.000000</td>\n",
       "      <td>100240.200000</td>\n",
       "      <td>0.000000</td>\n",
       "      <td>1.000000</td>\n",
       "      <td>0.000000</td>\n",
       "      <td>0.000000</td>\n",
       "    </tr>\n",
       "    <tr>\n",
       "      <th>75%</th>\n",
       "      <td>717.000000</td>\n",
       "      <td>44.000000</td>\n",
       "      <td>7.000000</td>\n",
       "      <td>127561.890000</td>\n",
       "      <td>2.000000</td>\n",
       "      <td>1.000000</td>\n",
       "      <td>1.000000</td>\n",
       "      <td>149567.210000</td>\n",
       "      <td>0.000000</td>\n",
       "      <td>1.000000</td>\n",
       "      <td>1.000000</td>\n",
       "      <td>0.000000</td>\n",
       "    </tr>\n",
       "    <tr>\n",
       "      <th>max</th>\n",
       "      <td>850.000000</td>\n",
       "      <td>92.000000</td>\n",
       "      <td>10.000000</td>\n",
       "      <td>250898.090000</td>\n",
       "      <td>4.000000</td>\n",
       "      <td>1.000000</td>\n",
       "      <td>1.000000</td>\n",
       "      <td>199992.480000</td>\n",
       "      <td>1.000000</td>\n",
       "      <td>1.000000</td>\n",
       "      <td>1.000000</td>\n",
       "      <td>1.000000</td>\n",
       "    </tr>\n",
       "  </tbody>\n",
       "</table>\n",
       "</div>"
      ],
      "text/plain": [
       "       CreditScore          Age       Tenure        Balance  NumOfProducts  \\\n",
       "count  9091.000000  9091.000000  9091.000000    9091.000000    9091.000000   \n",
       "mean    650.736553    38.949181     4.997690   76522.740015       1.530195   \n",
       "std      96.410471    10.555581     2.894723   62329.528576       0.581003   \n",
       "min     350.000000    18.000000     0.000000       0.000000       1.000000   \n",
       "25%     584.000000    32.000000     2.000000       0.000000       1.000000   \n",
       "50%     652.000000    37.000000     5.000000   97318.250000       1.000000   \n",
       "75%     717.000000    44.000000     7.000000  127561.890000       2.000000   \n",
       "max     850.000000    92.000000    10.000000  250898.090000       4.000000   \n",
       "\n",
       "         HasCrCard  IsActiveMember  EstimatedSalary       Exited  Gender_Male  \\\n",
       "count  9091.000000     9091.000000      9091.000000  9091.000000  9091.000000   \n",
       "mean      0.704983        0.515565    100181.214924     0.203938     0.547135   \n",
       "std       0.456076        0.499785     57624.755647     0.402946     0.497801   \n",
       "min       0.000000        0.000000        11.580000     0.000000     0.000000   \n",
       "25%       0.000000        0.000000     51227.745000     0.000000     0.000000   \n",
       "50%       1.000000        1.000000    100240.200000     0.000000     1.000000   \n",
       "75%       1.000000        1.000000    149567.210000     0.000000     1.000000   \n",
       "max       1.000000        1.000000    199992.480000     1.000000     1.000000   \n",
       "\n",
       "       Geography_Germany  Geography_Spain  \n",
       "count        9091.000000      9091.000000  \n",
       "mean            0.252227         0.247278  \n",
       "std             0.434315         0.431453  \n",
       "min             0.000000         0.000000  \n",
       "25%             0.000000         0.000000  \n",
       "50%             0.000000         0.000000  \n",
       "75%             1.000000         0.000000  \n",
       "max             1.000000         1.000000  "
      ]
     },
     "execution_count": 7,
     "metadata": {},
     "output_type": "execute_result"
    }
   ],
   "source": [
    "df.describe()"
   ]
  },
  {
   "cell_type": "markdown",
   "metadata": {},
   "source": [
    "По результатам предварительного осмотра данных не было замечено каких то явных отклонений, единственное что - в нашей таргет переменной всего 20% единиц, что указывает на дисбаланс классов. Удалено было всего 10% значений, что не является сильно значимым в данном случае"
   ]
  },
  {
   "cell_type": "markdown",
   "metadata": {},
   "source": [
    "## Исследование задачи"
   ]
  },
  {
   "cell_type": "markdown",
   "metadata": {},
   "source": [
    "Для начала построю модель без учет аклассов и посмотрим метрику для лучшей из моделей"
   ]
  },
  {
   "cell_type": "code",
   "execution_count": 8,
   "metadata": {},
   "outputs": [],
   "source": [
    "train, data1 = train_test_split(df, test_size=0.4, random_state=12345)\n",
    "target_train = train['Exited']\n",
    "features_train = train.drop(['Exited'] , axis=1)\n",
    "target = data1['Exited']\n",
    "features = data1.drop(['Exited'] , axis=1)\n",
    "features_test, features_valid, target_test, target_valid = train_test_split(features, target, test_size=0.5, random_state=12345)"
   ]
  },
  {
   "cell_type": "markdown",
   "metadata": {},
   "source": [
    "Перебил на 3 выборки, 0,6 0,2 и 0,2."
   ]
  },
  {
   "cell_type": "code",
   "execution_count": 9,
   "metadata": {},
   "outputs": [
    {
     "name": "stdout",
     "output_type": "stream",
     "text": [
      "0.572463768115942 10 49 RandomForestClassifier(max_depth=10, n_estimators=49, random_state=12345)\n"
     ]
    }
   ],
   "source": [
    "best_model = None\n",
    "best_f1 = 0.01\n",
    "best_depth = 0\n",
    "for est in range(1, 50, 2):\n",
    "    for depth in range(1, 12):\n",
    "        model = RandomForestClassifier(n_estimators = est, max_depth=depth, random_state=12345)\n",
    "        model.fit(features_train, target_train)\n",
    "        result = model.score(features_valid, target_valid)\n",
    "        predicted_valid = model.predict(features_valid)\n",
    "        result_f1 = f1_score(target_valid, predicted_valid)\n",
    "        if result_f1 > best_f1:\n",
    "            best_model = model\n",
    "            best_f1 = result_f1\n",
    "            best_depth = depth\n",
    "            best_est = est\n",
    "print(best_f1, best_depth, best_est, best_model)"
   ]
  },
  {
   "cell_type": "markdown",
   "metadata": {},
   "source": [
    "Получилась достатончо низкая Ф1 мера, всего 0,57, конечно для проверки недостает всего 0,01, но так или иначе если модель будет каждый раз выбирать 0 точность будет выше, поэтому порпобуем улучшить точноость модели поменяв абаланс калссов"
   ]
  },
  {
   "cell_type": "markdown",
   "metadata": {},
   "source": [
    "## Борьба с дисбалансом"
   ]
  },
  {
   "cell_type": "markdown",
   "metadata": {},
   "source": [
    "Для начала попробуем просто добавить параметр class_weight для нашей модели, опять перебрав все модели и выбрав лучшую"
   ]
  },
  {
   "cell_type": "code",
   "execution_count": 10,
   "metadata": {},
   "outputs": [
    {
     "name": "stdout",
     "output_type": "stream",
     "text": [
      "0.6255924170616114 12 87 RandomForestClassifier(class_weight='balanced', max_depth=12, n_estimators=87,\n",
      "                       random_state=12345)\n"
     ]
    }
   ],
   "source": [
    "for est in range(1, 100, 2):\n",
    "    for depth in range(1, 15):\n",
    "        model = RandomForestClassifier(n_estimators = est, max_depth=depth, random_state=12345, class_weight = 'balanced')\n",
    "        model.fit(features_train, target_train)\n",
    "        result = model.score(features_valid, target_valid)\n",
    "        predicted_valid = model.predict(features_valid)\n",
    "        result_f1 = f1_score(target_valid, predicted_valid)\n",
    "        if result_f1 > best_f1:\n",
    "            best_model = model\n",
    "            best_f1 = result_f1\n",
    "            best_depth = depth\n",
    "            best_est = est\n",
    "print(best_f1, best_depth, best_est, best_model)"
   ]
  },
  {
   "cell_type": "markdown",
   "metadata": {},
   "source": [
    "Отлично, мера повысилась аж почти на 0,04 и уже можно точность получилась выше минимально допустимой,  но попробуем еще, применив другие методы борьбы с неравенством классов, например метод апсемплинга"
   ]
  },
  {
   "cell_type": "code",
   "execution_count": 11,
   "metadata": {},
   "outputs": [
    {
     "name": "stdout",
     "output_type": "stream",
     "text": [
      "0.6033810143042913 RandomForestClassifier(criterion='entropy', max_depth=11, n_estimators=23,\n",
      "                       random_state=12345)\n"
     ]
    }
   ],
   "source": [
    "def upsample(features, target, repeat):\n",
    "    features_zeros = features[target == 0]\n",
    "    features_ones = features[target == 1]\n",
    "    target_zeros = target[target == 0]\n",
    "    target_ones = target[target == 1]\n",
    "\n",
    "    features_upsampled = pd.concat([features_zeros] + [features_ones] * repeat)\n",
    "    target_upsampled = pd.concat([target_zeros] + [target_ones] * repeat)\n",
    "    \n",
    "    features_upsampled, target_upsampled = shuffle(\n",
    "        features_upsampled, target_upsampled, random_state=12345)\n",
    "    \n",
    "    return features_upsampled, target_upsampled\n",
    "\n",
    "features_upsampled, target_upsampled = upsample(features_train, target_train, 4)\n",
    "\n",
    "best_f1 = 0.01\n",
    "for est in range(1, 32, 2):\n",
    "    for depth in range(1, 13):\n",
    "            for criteria in ['gini', 'entropy']:\n",
    "                model = RandomForestClassifier(n_estimators = est, max_depth=depth, random_state=12345, criterion = criteria)\n",
    "                model.fit(features_upsampled, target_upsampled)\n",
    "                predicted_valid = model.predict(features_valid)\n",
    "                result_f1 = f1_score(target_valid, predicted_valid)\n",
    "                if result_f1 > best_f1:\n",
    "                    best_model = model\n",
    "                    best_f1 = result_f1\n",
    "print(best_f1, best_model)"
   ]
  },
  {
   "cell_type": "markdown",
   "metadata": {},
   "source": [
    "0,60 без апсемплинга была выше, но оно вполне ожидаемо, зато так будет гораздо лучше определать единицы"
   ]
  },
  {
   "cell_type": "code",
   "execution_count": 12,
   "metadata": {},
   "outputs": [
    {
     "data": {
      "text/plain": [
       "count    8832.000000\n",
       "mean        0.509964\n",
       "std         0.499929\n",
       "min         0.000000\n",
       "25%         0.000000\n",
       "50%         1.000000\n",
       "75%         1.000000\n",
       "max         1.000000\n",
       "Name: Exited, dtype: float64"
      ]
     },
     "execution_count": 12,
     "metadata": {},
     "output_type": "execute_result"
    }
   ],
   "source": [
    "target_upsampled.describe()"
   ]
  },
  {
   "cell_type": "markdown",
   "metadata": {},
   "source": [
    "## Тестирование модели"
   ]
  },
  {
   "cell_type": "code",
   "execution_count": 13,
   "metadata": {},
   "outputs": [],
   "source": [
    "predicted_test = best_model.predict(features_test)\n",
    "result_f1 = f1_score(target_test, predicted_test)"
   ]
  },
  {
   "cell_type": "markdown",
   "metadata": {},
   "source": [
    "Cделал просто апсемплинг, так как мне очень нравится этот способ борьбы с неравенством классов"
   ]
  },
  {
   "cell_type": "markdown",
   "metadata": {},
   "source": [
    "Результат получился немного ниже чем был на последней моделе но он все равно допустимый. Скорее всего это проихошло потому что в прошлый раз модель научилась очень хорошо определять нули и очень плохо единицы, сейчас же она научилась хорошо определять нули и также хорошо определять единицы, так или иначе рузультат оставлет желать лучшего.\n",
    "\n",
    "Теперь посмотрим метрику AUC-ROC"
   ]
  },
  {
   "cell_type": "code",
   "execution_count": 15,
   "metadata": {},
   "outputs": [
    {
     "name": "stdout",
     "output_type": "stream",
     "text": [
      "0.8588651411762758\n"
     ]
    }
   ],
   "source": [
    "probabilities_valid = best_model.predict_proba(features_test)\n",
    "probabilities_one_valid = probabilities_valid[:, 1]\n",
    "\n",
    "auc_roc = roc_auc_score(target_test, probabilities_one_valid)\n",
    "print(auc_roc)"
   ]
  },
  {
   "cell_type": "markdown",
   "metadata": {},
   "source": [
    "Качество данной метрики уже очень даже хорошее, выше случайно модели аж на 0,35, что является вполне достойным значением"
   ]
  },
  {
   "cell_type": "markdown",
   "metadata": {},
   "source": [
    "В заключение стоит сказать, что в результате наша модель научилась достаточно хорошо определять нули и единицы в равной степени, метрика Ф1 получилась равной 0,60, что в целом допустимо. Также имеется очень высокий результат касательно AUC-ROC метрики, целых 0,85. Также в течение построения моделей были применяны разные методы борьбы с неравенством классов, один из них - это дополнительный параметр в моделе, другой - апсемплинг"
   ]
  }
 ],
 "metadata": {
  "ExecuteTimeLog": [
   {
    "duration": 1573,
    "start_time": "2023-05-06T08:19:33.919Z"
   },
   {
    "duration": 80,
    "start_time": "2023-05-06T08:19:35.494Z"
   },
   {
    "duration": 1476,
    "start_time": "2023-05-06T18:32:36.097Z"
   },
   {
    "duration": 171,
    "start_time": "2023-05-06T18:32:37.575Z"
   },
   {
    "duration": 17,
    "start_time": "2023-05-06T18:32:38.566Z"
   },
   {
    "duration": 15,
    "start_time": "2023-05-06T18:32:47.351Z"
   },
   {
    "duration": 15,
    "start_time": "2023-05-06T18:33:29.553Z"
   },
   {
    "duration": 43,
    "start_time": "2023-05-06T18:33:40.816Z"
   },
   {
    "duration": 107,
    "start_time": "2023-05-06T18:59:13.321Z"
   },
   {
    "duration": 135,
    "start_time": "2023-05-06T18:59:20.764Z"
   },
   {
    "duration": 46,
    "start_time": "2023-05-06T18:59:34.675Z"
   },
   {
    "duration": 13,
    "start_time": "2023-05-06T18:59:36.111Z"
   },
   {
    "duration": 12,
    "start_time": "2023-05-06T18:59:36.911Z"
   },
   {
    "duration": 36,
    "start_time": "2023-05-06T18:59:37.774Z"
   },
   {
    "duration": 29,
    "start_time": "2023-05-06T18:59:39.935Z"
   },
   {
    "duration": 17,
    "start_time": "2023-05-06T19:02:31.076Z"
   },
   {
    "duration": 59,
    "start_time": "2023-05-06T19:02:32.424Z"
   },
   {
    "duration": 24,
    "start_time": "2023-05-06T19:02:33.057Z"
   },
   {
    "duration": 20,
    "start_time": "2023-05-06T19:02:33.573Z"
   },
   {
    "duration": 57,
    "start_time": "2023-05-06T19:02:34.246Z"
   },
   {
    "duration": 31,
    "start_time": "2023-05-06T19:02:40.277Z"
   },
   {
    "duration": 29,
    "start_time": "2023-05-06T19:05:00.598Z"
   },
   {
    "duration": 25,
    "start_time": "2023-05-06T19:11:30.283Z"
   },
   {
    "duration": 30,
    "start_time": "2023-05-06T19:12:59.525Z"
   },
   {
    "duration": 3,
    "start_time": "2023-05-06T19:16:27.428Z"
   },
   {
    "duration": 40,
    "start_time": "2023-05-06T19:16:27.996Z"
   },
   {
    "duration": 29,
    "start_time": "2023-05-06T19:16:28.038Z"
   },
   {
    "duration": 21,
    "start_time": "2023-05-06T19:16:28.092Z"
   },
   {
    "duration": 39,
    "start_time": "2023-05-06T19:16:28.115Z"
   },
   {
    "duration": 25,
    "start_time": "2023-05-06T19:16:28.192Z"
   },
   {
    "duration": 44,
    "start_time": "2023-05-06T19:23:21.535Z"
   },
   {
    "duration": 12,
    "start_time": "2023-05-06T19:23:36.814Z"
   },
   {
    "duration": 4,
    "start_time": "2023-05-06T19:23:49.117Z"
   },
   {
    "duration": 34,
    "start_time": "2023-05-06T19:24:50.092Z"
   },
   {
    "duration": 23,
    "start_time": "2023-05-06T19:24:52.490Z"
   },
   {
    "duration": 4,
    "start_time": "2023-05-06T19:31:37.318Z"
   },
   {
    "duration": 5,
    "start_time": "2023-05-06T19:38:06.086Z"
   },
   {
    "duration": 61,
    "start_time": "2023-05-06T19:38:11.040Z"
   },
   {
    "duration": 4,
    "start_time": "2023-05-06T19:47:03.895Z"
   },
   {
    "duration": 62,
    "start_time": "2023-05-06T19:47:04.349Z"
   },
   {
    "duration": 14,
    "start_time": "2023-05-06T19:47:04.674Z"
   },
   {
    "duration": 11,
    "start_time": "2023-05-06T19:47:05.391Z"
   },
   {
    "duration": 7,
    "start_time": "2023-05-06T19:47:09.551Z"
   },
   {
    "duration": 115,
    "start_time": "2023-05-06T19:47:10.472Z"
   },
   {
    "duration": 42,
    "start_time": "2023-05-06T19:47:20.079Z"
   },
   {
    "duration": 31,
    "start_time": "2023-05-06T19:47:50.870Z"
   },
   {
    "duration": 11,
    "start_time": "2023-05-06T19:49:35.570Z"
   },
   {
    "duration": 1965,
    "start_time": "2023-05-06T19:49:38.226Z"
   },
   {
    "duration": 49,
    "start_time": "2023-05-06T19:49:54.669Z"
   },
   {
    "duration": 6,
    "start_time": "2023-05-06T19:49:55.118Z"
   },
   {
    "duration": 8,
    "start_time": "2023-05-06T19:49:56.024Z"
   },
   {
    "duration": 5,
    "start_time": "2023-05-06T19:50:11.036Z"
   },
   {
    "duration": 111,
    "start_time": "2023-05-06T19:50:11.626Z"
   },
   {
    "duration": 63,
    "start_time": "2023-05-06T19:50:12.346Z"
   },
   {
    "duration": 1524,
    "start_time": "2023-05-07T11:17:50.864Z"
   },
   {
    "duration": 76,
    "start_time": "2023-05-07T11:17:53.130Z"
   },
   {
    "duration": 9,
    "start_time": "2023-05-07T11:17:53.711Z"
   },
   {
    "duration": 12,
    "start_time": "2023-05-07T11:17:54.155Z"
   },
   {
    "duration": 5,
    "start_time": "2023-05-07T11:17:58.376Z"
   },
   {
    "duration": 78,
    "start_time": "2023-05-07T11:17:59.105Z"
   },
   {
    "duration": 43,
    "start_time": "2023-05-07T11:18:00.099Z"
   },
   {
    "duration": 130,
    "start_time": "2023-05-07T11:21:38.289Z"
   },
   {
    "duration": 25,
    "start_time": "2023-05-07T11:22:01.295Z"
   },
   {
    "duration": 3,
    "start_time": "2023-05-07T11:22:07.605Z"
   },
   {
    "duration": 46,
    "start_time": "2023-05-07T11:22:11.801Z"
   },
   {
    "duration": 7,
    "start_time": "2023-05-07T11:39:21.417Z"
   },
   {
    "duration": 72,
    "start_time": "2023-05-07T11:39:23.209Z"
   },
   {
    "duration": 39,
    "start_time": "2023-05-07T11:42:59.282Z"
   },
   {
    "duration": 36,
    "start_time": "2023-05-07T11:43:12.004Z"
   },
   {
    "duration": 21,
    "start_time": "2023-05-07T11:43:32.204Z"
   },
   {
    "duration": 36931,
    "start_time": "2023-05-07T11:43:55.151Z"
   },
   {
    "duration": 1820,
    "start_time": "2023-05-07T15:19:51.517Z"
   },
   {
    "duration": 387,
    "start_time": "2023-05-07T15:19:53.339Z"
   },
   {
    "duration": 15,
    "start_time": "2023-05-07T15:19:53.729Z"
   },
   {
    "duration": 16,
    "start_time": "2023-05-07T15:19:54.946Z"
   },
   {
    "duration": 6,
    "start_time": "2023-05-07T15:19:56.167Z"
   },
   {
    "duration": 96,
    "start_time": "2023-05-07T15:19:56.531Z"
   },
   {
    "duration": 46,
    "start_time": "2023-05-07T15:19:57.029Z"
   },
   {
    "duration": 8,
    "start_time": "2023-05-07T15:19:59.256Z"
   },
   {
    "duration": 39621,
    "start_time": "2023-05-07T15:20:22.057Z"
   },
   {
    "duration": 121,
    "start_time": "2023-05-07T15:37:00.060Z"
   },
   {
    "duration": 219612,
    "start_time": "2023-05-07T15:38:35.007Z"
   },
   {
    "duration": 2039,
    "start_time": "2023-05-07T19:15:27.343Z"
   },
   {
    "duration": 179,
    "start_time": "2023-05-07T19:15:29.384Z"
   },
   {
    "duration": 10,
    "start_time": "2023-05-07T19:15:29.564Z"
   },
   {
    "duration": 26,
    "start_time": "2023-05-07T19:15:29.576Z"
   },
   {
    "duration": 17,
    "start_time": "2023-05-07T19:15:29.604Z"
   },
   {
    "duration": 79,
    "start_time": "2023-05-07T19:15:29.623Z"
   },
   {
    "duration": 42,
    "start_time": "2023-05-07T19:15:29.703Z"
   },
   {
    "duration": 8,
    "start_time": "2023-05-07T19:15:35.064Z"
   },
   {
    "duration": 143,
    "start_time": "2023-05-07T19:15:41.910Z"
   },
   {
    "duration": 3,
    "start_time": "2023-05-07T19:15:58.614Z"
   },
   {
    "duration": 15,
    "start_time": "2023-05-07T19:16:03.606Z"
   },
   {
    "duration": 24,
    "start_time": "2023-05-07T19:17:06.014Z"
   },
   {
    "duration": 386388,
    "start_time": "2023-05-07T19:17:25.983Z"
   },
   {
    "duration": 164508,
    "start_time": "2023-05-07T19:24:40.857Z"
   },
   {
    "duration": 11,
    "start_time": "2023-05-07T19:28:08.705Z"
   },
   {
    "duration": 22,
    "start_time": "2023-05-07T19:40:43.928Z"
   },
   {
    "duration": 27,
    "start_time": "2023-05-07T19:40:55.682Z"
   },
   {
    "duration": 3567,
    "start_time": "2023-05-08T04:55:32.151Z"
   },
   {
    "duration": 43,
    "start_time": "2023-05-08T04:55:35.720Z"
   },
   {
    "duration": 58,
    "start_time": "2023-05-08T04:55:35.764Z"
   },
   {
    "duration": 13,
    "start_time": "2023-05-08T04:55:35.824Z"
   },
   {
    "duration": 8,
    "start_time": "2023-05-08T04:55:35.840Z"
   },
   {
    "duration": 196,
    "start_time": "2023-05-08T04:55:35.849Z"
   },
   {
    "duration": 106,
    "start_time": "2023-05-08T04:55:36.047Z"
   },
   {
    "duration": 67,
    "start_time": "2023-05-08T04:55:36.155Z"
   },
   {
    "duration": 89210,
    "start_time": "2023-05-08T04:55:36.224Z"
   },
   {
    "duration": 262853,
    "start_time": "2023-05-08T04:57:05.436Z"
   },
   {
    "duration": 14,
    "start_time": "2023-05-08T05:01:28.291Z"
   },
   {
    "duration": 17,
    "start_time": "2023-05-08T05:01:28.306Z"
   },
   {
    "duration": 165285,
    "start_time": "2023-05-08T05:01:28.325Z"
   },
   {
    "duration": 26,
    "start_time": "2023-05-08T05:04:13.612Z"
   },
   {
    "duration": 87,
    "start_time": "2023-05-08T05:04:13.640Z"
   },
   {
    "duration": 175,
    "start_time": "2023-05-08T06:40:41.115Z"
   },
   {
    "duration": 107,
    "start_time": "2023-05-08T06:40:53.768Z"
   },
   {
    "duration": 116,
    "start_time": "2023-05-08T06:41:19.058Z"
   },
   {
    "duration": 134,
    "start_time": "2023-05-08T06:41:42.375Z"
   },
   {
    "duration": 112,
    "start_time": "2023-05-08T06:42:20.095Z"
   },
   {
    "duration": 8724,
    "start_time": "2023-05-08T06:54:05.774Z"
   },
   {
    "duration": 295,
    "start_time": "2023-05-08T06:54:14.501Z"
   },
   {
    "duration": 15,
    "start_time": "2023-05-08T06:54:14.798Z"
   },
   {
    "duration": 83,
    "start_time": "2023-05-08T06:54:14.816Z"
   },
   {
    "duration": 2190,
    "start_time": "2023-05-08T06:54:21.880Z"
   },
   {
    "duration": 4,
    "start_time": "2023-05-08T06:54:34.482Z"
   },
   {
    "duration": 87,
    "start_time": "2023-05-08T06:54:35.407Z"
   },
   {
    "duration": 16,
    "start_time": "2023-05-08T06:54:38.243Z"
   },
   {
    "duration": 18,
    "start_time": "2023-05-08T06:54:41.443Z"
   },
   {
    "duration": 1901,
    "start_time": "2023-05-08T06:54:59.245Z"
   },
   {
    "duration": 1918,
    "start_time": "2023-05-08T06:55:17.483Z"
   },
   {
    "duration": 51,
    "start_time": "2023-05-08T06:55:35.047Z"
   },
   {
    "duration": 4,
    "start_time": "2023-05-08T06:56:15.071Z"
   },
   {
    "duration": 53,
    "start_time": "2023-05-08T06:56:16.378Z"
   },
   {
    "duration": 13,
    "start_time": "2023-05-08T06:56:24.145Z"
   },
   {
    "duration": 13,
    "start_time": "2023-05-08T06:56:26.207Z"
   },
   {
    "duration": 2178,
    "start_time": "2023-05-08T06:56:32.170Z"
   },
   {
    "duration": 1938,
    "start_time": "2023-05-08T06:57:58.239Z"
   },
   {
    "duration": 1722,
    "start_time": "2023-05-08T06:58:34.250Z"
   },
   {
    "duration": 49,
    "start_time": "2023-05-08T06:58:37.351Z"
   },
   {
    "duration": 20,
    "start_time": "2023-05-08T06:58:42.515Z"
   },
   {
    "duration": 31,
    "start_time": "2023-05-08T07:01:39.541Z"
   },
   {
    "duration": 15,
    "start_time": "2023-05-08T07:01:56.769Z"
   },
   {
    "duration": 2062,
    "start_time": "2023-05-08T07:02:04.913Z"
   },
   {
    "duration": 1798,
    "start_time": "2023-05-08T07:03:27.468Z"
   },
   {
    "duration": 9,
    "start_time": "2023-05-08T07:03:49.488Z"
   },
   {
    "duration": 61,
    "start_time": "2023-05-08T07:03:50.067Z"
   },
   {
    "duration": 25,
    "start_time": "2023-05-08T07:03:51.270Z"
   },
   {
    "duration": 24,
    "start_time": "2023-05-08T07:04:04.214Z"
   },
   {
    "duration": 10,
    "start_time": "2023-05-08T07:05:10.906Z"
   },
   {
    "duration": 5,
    "start_time": "2023-05-08T07:05:32.479Z"
   },
   {
    "duration": 2702,
    "start_time": "2023-05-08T07:05:44.056Z"
   },
   {
    "duration": 5,
    "start_time": "2023-05-08T07:06:08.868Z"
   },
   {
    "duration": 51,
    "start_time": "2023-05-08T07:06:09.968Z"
   },
   {
    "duration": 24,
    "start_time": "2023-05-08T07:06:11.576Z"
   },
   {
    "duration": 19,
    "start_time": "2023-05-08T07:06:19.239Z"
   },
   {
    "duration": 9,
    "start_time": "2023-05-08T07:06:24.261Z"
   },
   {
    "duration": 6,
    "start_time": "2023-05-08T07:06:40.013Z"
   },
   {
    "duration": 1900,
    "start_time": "2023-05-08T07:06:44.581Z"
   },
   {
    "duration": 2351,
    "start_time": "2023-05-08T07:07:00.331Z"
   },
   {
    "duration": 4,
    "start_time": "2023-05-08T07:11:49.127Z"
   },
   {
    "duration": 76,
    "start_time": "2023-05-08T07:11:49.708Z"
   },
   {
    "duration": 18,
    "start_time": "2023-05-08T07:11:50.896Z"
   },
   {
    "duration": 19,
    "start_time": "2023-05-08T07:11:53.337Z"
   },
   {
    "duration": 6,
    "start_time": "2023-05-08T07:11:56.996Z"
   },
   {
    "duration": 2405,
    "start_time": "2023-05-08T07:11:58.959Z"
   },
   {
    "duration": 5,
    "start_time": "2023-05-08T07:12:39.467Z"
   },
   {
    "duration": 15,
    "start_time": "2023-05-08T07:12:44.212Z"
   },
   {
    "duration": 11,
    "start_time": "2023-05-08T07:13:10.573Z"
   },
   {
    "duration": 5,
    "start_time": "2023-05-08T07:14:16.061Z"
   },
   {
    "duration": 52,
    "start_time": "2023-05-08T07:14:16.792Z"
   },
   {
    "duration": 20,
    "start_time": "2023-05-08T07:14:18.093Z"
   },
   {
    "duration": 10,
    "start_time": "2023-05-08T07:14:20.972Z"
   },
   {
    "duration": 8,
    "start_time": "2023-05-08T07:14:22.076Z"
   },
   {
    "duration": 9,
    "start_time": "2023-05-08T07:14:24.959Z"
   },
   {
    "duration": 16,
    "start_time": "2023-05-08T07:14:34.680Z"
   },
   {
    "duration": 5,
    "start_time": "2023-05-08T07:18:44.500Z"
   },
   {
    "duration": 81,
    "start_time": "2023-05-08T07:18:45.100Z"
   },
   {
    "duration": 16,
    "start_time": "2023-05-08T07:18:46.266Z"
   },
   {
    "duration": 9,
    "start_time": "2023-05-08T07:18:53.199Z"
   },
   {
    "duration": 6,
    "start_time": "2023-05-08T07:18:54.392Z"
   },
   {
    "duration": 11,
    "start_time": "2023-05-08T07:18:56.663Z"
   },
   {
    "duration": 5,
    "start_time": "2023-05-08T07:18:58.673Z"
   },
   {
    "duration": 70,
    "start_time": "2023-05-08T07:19:26.300Z"
   },
   {
    "duration": 7,
    "start_time": "2023-05-08T07:20:34.099Z"
   },
   {
    "duration": 42230,
    "start_time": "2023-05-08T07:20:36.270Z"
   },
   {
    "duration": 1466,
    "start_time": "2023-05-08T10:07:38.969Z"
   },
   {
    "duration": 180,
    "start_time": "2023-05-08T10:07:42.774Z"
   },
   {
    "duration": 17,
    "start_time": "2023-05-08T10:07:47.095Z"
   },
   {
    "duration": 8,
    "start_time": "2023-05-08T10:07:49.269Z"
   },
   {
    "duration": 9,
    "start_time": "2023-05-08T10:07:50.693Z"
   },
   {
    "duration": 5,
    "start_time": "2023-05-08T10:07:51.739Z"
   },
   {
    "duration": 40,
    "start_time": "2023-05-08T10:07:55.116Z"
   },
   {
    "duration": 105,
    "start_time": "2023-05-08T10:08:00.108Z"
   },
   {
    "duration": 11,
    "start_time": "2023-05-08T10:08:38.309Z"
   },
   {
    "duration": 26751,
    "start_time": "2023-05-08T10:08:42.769Z"
   },
   {
    "duration": 149905,
    "start_time": "2023-05-08T10:09:09.522Z"
   },
   {
    "duration": 33383,
    "start_time": "2023-05-08T10:11:39.428Z"
   },
   {
    "duration": 16,
    "start_time": "2023-05-08T10:12:12.813Z"
   },
   {
    "duration": 1526,
    "start_time": "2023-05-08T15:46:16.779Z"
   },
   {
    "duration": 80,
    "start_time": "2023-05-08T15:46:18.307Z"
   },
   {
    "duration": 21,
    "start_time": "2023-05-08T15:46:19.998Z"
   },
   {
    "duration": 9,
    "start_time": "2023-05-08T15:46:23.618Z"
   },
   {
    "duration": 11,
    "start_time": "2023-05-08T15:46:27.458Z"
   },
   {
    "duration": 6,
    "start_time": "2023-05-08T15:46:29.153Z"
   },
   {
    "duration": 47,
    "start_time": "2023-05-08T15:46:34.549Z"
   },
   {
    "duration": 10,
    "start_time": "2023-05-08T15:46:45.387Z"
   },
   {
    "duration": 115,
    "start_time": "2023-05-08T15:48:40.898Z"
   },
   {
    "duration": 35901,
    "start_time": "2023-05-08T15:49:07.498Z"
   },
   {
    "duration": 7,
    "start_time": "2023-05-08T15:49:43.401Z"
   },
   {
    "duration": 26,
    "start_time": "2023-05-08T15:49:43.409Z"
   },
   {
    "duration": 21,
    "start_time": "2023-05-08T15:50:56.308Z"
   },
   {
    "duration": 2386,
    "start_time": "2023-05-08T17:05:26.278Z"
   },
   {
    "duration": 41,
    "start_time": "2023-05-08T17:05:28.666Z"
   },
   {
    "duration": 18,
    "start_time": "2023-05-08T17:05:28.709Z"
   },
   {
    "duration": 8,
    "start_time": "2023-05-08T17:05:28.729Z"
   },
   {
    "duration": 20,
    "start_time": "2023-05-08T17:05:28.739Z"
   },
   {
    "duration": 5,
    "start_time": "2023-05-08T17:05:28.761Z"
   },
   {
    "duration": 42,
    "start_time": "2023-05-08T17:05:28.767Z"
   },
   {
    "duration": 7,
    "start_time": "2023-05-08T17:05:28.811Z"
   },
   {
    "duration": 31271,
    "start_time": "2023-05-08T17:05:28.820Z"
   },
   {
    "duration": 173085,
    "start_time": "2023-05-08T17:06:00.093Z"
   },
   {
    "duration": 40132,
    "start_time": "2023-05-08T17:08:53.180Z"
   },
   {
    "duration": 7,
    "start_time": "2023-05-08T17:09:33.313Z"
   },
   {
    "duration": 16,
    "start_time": "2023-05-08T17:09:33.322Z"
   },
   {
    "duration": 15,
    "start_time": "2023-05-08T17:09:33.349Z"
   },
   {
    "duration": 15,
    "start_time": "2023-05-08T17:10:28.555Z"
   }
  ],
  "kernelspec": {
   "display_name": "Python 3",
   "language": "python",
   "name": "python3"
  },
  "language_info": {
   "codemirror_mode": {
    "name": "ipython",
    "version": 3
   },
   "file_extension": ".py",
   "mimetype": "text/x-python",
   "name": "python",
   "nbconvert_exporter": "python",
   "pygments_lexer": "ipython3",
   "version": "3.8.3"
  },
  "toc": {
   "base_numbering": 1,
   "nav_menu": {},
   "number_sections": true,
   "sideBar": true,
   "skip_h1_title": true,
   "title_cell": "Содержание",
   "title_sidebar": "Contents",
   "toc_cell": true,
   "toc_position": {},
   "toc_section_display": true,
   "toc_window_display": true
  }
 },
 "nbformat": 4,
 "nbformat_minor": 2
}
