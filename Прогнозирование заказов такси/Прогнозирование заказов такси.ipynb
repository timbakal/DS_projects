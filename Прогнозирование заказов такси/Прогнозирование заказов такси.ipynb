{
 "cells": [
  {
   "cell_type": "markdown",
   "metadata": {},
   "source": [
    "#  Прогнозирование заказов такси"
   ]
  },
  {
   "cell_type": "markdown",
   "metadata": {},
   "source": [
    "Компания по услугам такси собрала исторические данные о заказах такси в аэропортах. Чтобы привлекать больше водителей в период пиковой нагрузки, нужно спрогнозировать количество заказов такси на следующий час. Постройте модель для такого предсказания.\n",
    "\n",
    "Нам нужно:\n",
    "\n",
    "1. Загрузить данные и выполнить их ресемплирование по одному часу.\n",
    "2. Проанализировать данные.\n",
    "3. Обучить разные модели с различными гиперпараметрами. Сделать тестовую выборку размером 10% от исходных данных.\n",
    "4. Проверить данные на тестовой выборке и сделать выводы."
   ]
  },
  {
   "cell_type": "markdown",
   "metadata": {},
   "source": [
    "## Подготовка"
   ]
  },
  {
   "cell_type": "markdown",
   "metadata": {},
   "source": [
    "Для начала импортируем всевозможные пакеты, которые могут нам понадобиться"
   ]
  },
  {
   "cell_type": "code",
   "execution_count": 1,
   "metadata": {},
   "outputs": [],
   "source": [
    "import numpy as np\n",
    "import pandas as pd\n",
    "from sklearn.linear_model import LinearRegression\n",
    "from sklearn.metrics import r2_score\n",
    "from sklearn.model_selection import train_test_split\n",
    "import matplotlib.pyplot as plt\n",
    "import lightgbm as lgb\n",
    "import sklearn\n",
    "from sklearn.metrics import accuracy_score\n",
    "from sklearn.metrics import mean_squared_error\n",
    "from sklearn.model_selection import GridSearchCV\n",
    "from sklearn.preprocessing import LabelEncoder \n",
    "from sklearn.preprocessing import OneHotEncoder \n",
    "import lightgbm as lgb\n",
    "from sklearn.linear_model import LinearRegression\n",
    "from sklearn.preprocessing import OneHotEncoder\n",
    "from lightgbm import LGBMRegressor\n",
    "from catboost import CatBoostRegressor\n",
    "from sklearn.ensemble import RandomForestRegressor\n",
    "from sklearn.model_selection import TimeSeriesSplit\n",
    "import time \n",
    "from statsmodels.tsa.seasonal import seasonal_decompose\n",
    "import warnings\n",
    "warnings.filterwarnings(\"ignore\")"
   ]
  },
  {
   "cell_type": "markdown",
   "metadata": {},
   "source": [
    "Настало время импортировать данные и сммотреть на их качество, возможо иногда поправлять"
   ]
  },
  {
   "cell_type": "code",
   "execution_count": 2,
   "metadata": {},
   "outputs": [],
   "source": [
    "data = pd.read_csv('/datasets/taxi.csv', index_col=[0], parse_dates=[0])\n",
    "data.sort_index(inplace=True)"
   ]
  },
  {
   "cell_type": "code",
   "execution_count": 3,
   "metadata": {},
   "outputs": [
    {
     "name": "stdout",
     "output_type": "stream",
     "text": [
      "<class 'pandas.core.frame.DataFrame'>\n",
      "DatetimeIndex: 26496 entries, 2018-03-01 00:00:00 to 2018-08-31 23:50:00\n",
      "Data columns (total 1 columns):\n",
      " #   Column      Non-Null Count  Dtype\n",
      "---  ------      --------------  -----\n",
      " 0   num_orders  26496 non-null  int64\n",
      "dtypes: int64(1)\n",
      "memory usage: 414.0 KB\n"
     ]
    }
   ],
   "source": [
    "data.info()"
   ]
  },
  {
   "cell_type": "code",
   "execution_count": 4,
   "metadata": {},
   "outputs": [
    {
     "data": {
      "text/html": [
       "<div>\n",
       "<style scoped>\n",
       "    .dataframe tbody tr th:only-of-type {\n",
       "        vertical-align: middle;\n",
       "    }\n",
       "\n",
       "    .dataframe tbody tr th {\n",
       "        vertical-align: top;\n",
       "    }\n",
       "\n",
       "    .dataframe thead th {\n",
       "        text-align: right;\n",
       "    }\n",
       "</style>\n",
       "<table border=\"1\" class=\"dataframe\">\n",
       "  <thead>\n",
       "    <tr style=\"text-align: right;\">\n",
       "      <th></th>\n",
       "      <th>num_orders</th>\n",
       "    </tr>\n",
       "    <tr>\n",
       "      <th>datetime</th>\n",
       "      <th></th>\n",
       "    </tr>\n",
       "  </thead>\n",
       "  <tbody>\n",
       "    <tr>\n",
       "      <th>2018-03-01 00:00:00</th>\n",
       "      <td>9</td>\n",
       "    </tr>\n",
       "    <tr>\n",
       "      <th>2018-03-01 00:10:00</th>\n",
       "      <td>14</td>\n",
       "    </tr>\n",
       "    <tr>\n",
       "      <th>2018-03-01 00:20:00</th>\n",
       "      <td>28</td>\n",
       "    </tr>\n",
       "    <tr>\n",
       "      <th>2018-03-01 00:30:00</th>\n",
       "      <td>20</td>\n",
       "    </tr>\n",
       "    <tr>\n",
       "      <th>2018-03-01 00:40:00</th>\n",
       "      <td>32</td>\n",
       "    </tr>\n",
       "  </tbody>\n",
       "</table>\n",
       "</div>"
      ],
      "text/plain": [
       "                     num_orders\n",
       "datetime                       \n",
       "2018-03-01 00:00:00           9\n",
       "2018-03-01 00:10:00          14\n",
       "2018-03-01 00:20:00          28\n",
       "2018-03-01 00:30:00          20\n",
       "2018-03-01 00:40:00          32"
      ]
     },
     "execution_count": 4,
     "metadata": {},
     "output_type": "execute_result"
    }
   ],
   "source": [
    "data.head(5)"
   ]
  },
  {
   "cell_type": "code",
   "execution_count": 5,
   "metadata": {},
   "outputs": [
    {
     "data": {
      "text/html": [
       "<div>\n",
       "<style scoped>\n",
       "    .dataframe tbody tr th:only-of-type {\n",
       "        vertical-align: middle;\n",
       "    }\n",
       "\n",
       "    .dataframe tbody tr th {\n",
       "        vertical-align: top;\n",
       "    }\n",
       "\n",
       "    .dataframe thead th {\n",
       "        text-align: right;\n",
       "    }\n",
       "</style>\n",
       "<table border=\"1\" class=\"dataframe\">\n",
       "  <thead>\n",
       "    <tr style=\"text-align: right;\">\n",
       "      <th></th>\n",
       "      <th>num_orders</th>\n",
       "    </tr>\n",
       "  </thead>\n",
       "  <tbody>\n",
       "    <tr>\n",
       "      <th>count</th>\n",
       "      <td>26496.000000</td>\n",
       "    </tr>\n",
       "    <tr>\n",
       "      <th>mean</th>\n",
       "      <td>14.070463</td>\n",
       "    </tr>\n",
       "    <tr>\n",
       "      <th>std</th>\n",
       "      <td>9.211330</td>\n",
       "    </tr>\n",
       "    <tr>\n",
       "      <th>min</th>\n",
       "      <td>0.000000</td>\n",
       "    </tr>\n",
       "    <tr>\n",
       "      <th>25%</th>\n",
       "      <td>8.000000</td>\n",
       "    </tr>\n",
       "    <tr>\n",
       "      <th>50%</th>\n",
       "      <td>13.000000</td>\n",
       "    </tr>\n",
       "    <tr>\n",
       "      <th>75%</th>\n",
       "      <td>19.000000</td>\n",
       "    </tr>\n",
       "    <tr>\n",
       "      <th>max</th>\n",
       "      <td>119.000000</td>\n",
       "    </tr>\n",
       "  </tbody>\n",
       "</table>\n",
       "</div>"
      ],
      "text/plain": [
       "         num_orders\n",
       "count  26496.000000\n",
       "mean      14.070463\n",
       "std        9.211330\n",
       "min        0.000000\n",
       "25%        8.000000\n",
       "50%       13.000000\n",
       "75%       19.000000\n",
       "max      119.000000"
      ]
     },
     "execution_count": 5,
     "metadata": {},
     "output_type": "execute_result"
    }
   ],
   "source": [
    "data.describe()"
   ]
  },
  {
   "cell_type": "markdown",
   "metadata": {},
   "source": [
    "Никаких странных значений нету, аутлаеров тоже не выявлено, данные понятный, ровные, ничего выбивающегося. А значит время делать сэмплирование\n",
    "\n",
    "Я сделаю семплирование в части анализа, так как мне кажется что это нелогично делать семплирование даже не смотря данные"
   ]
  },
  {
   "cell_type": "markdown",
   "metadata": {},
   "source": [
    "## Анализ"
   ]
  },
  {
   "cell_type": "markdown",
   "metadata": {},
   "source": [
    "Семплирование будем делать используя сумму заказов, так как нам важно именно общее количетсво заказов за час, и предсказывать нужно именно количество заказов на следующий час поэтому берем сумму, среднее количество нам не важно."
   ]
  },
  {
   "cell_type": "code",
   "execution_count": 6,
   "metadata": {},
   "outputs": [
    {
     "data": {
      "image/png": "[encoded data removed]",
      "text/plain": [
       "<Figure size 432x576 with 3 Axes>"
      ]
     },
     "metadata": {
      "needs_background": "light"
     },
     "output_type": "display_data"
    }
   ],
   "source": [
    "data = data.resample('1H').sum()\n",
    "\n",
    "decomposed = seasonal_decompose(data) \n",
    "\n",
    "plt.figure(figsize=(6, 8))\n",
    "plt.subplot(311)\n",
    "decomposed.trend.plot(ax=plt.gca())\n",
    "plt.title('Trend')\n",
    "\n",
    "plt.subplot(312)\n",
    "decomposed.seasonal.plot(ax=plt.gca()) \n",
    "plt.title('Seasonality')\n",
    "\n",
    "plt.subplot(313)\n",
    "decomposed.resid.plot(ax=plt.gca()) \n",
    "plt.title('Residuals')\n",
    "\n",
    "plt.tight_layout()"
   ]
  },
  {
   "cell_type": "markdown",
   "metadata": {},
   "source": [
    "По итогам этих 3 графиков можно очень явно отследить сезонность данного действа, у остатков непонятное взаимодействие, единственное что можно сказать - к концу их становится больше, что касается тренда то он исключительно восходящий"
   ]
  },
  {
   "cell_type": "markdown",
   "metadata": {},
   "source": [
    "Данные у нас имеются за 5 месяцев, построим график"
   ]
  },
  {
   "cell_type": "code",
   "execution_count": 7,
   "metadata": {},
   "outputs": [
    {
     "data": {
      "image/png": "[encoded data removed]",
      "text/plain": [
       "<Figure size 432x288 with 1 Axes>"
      ]
     },
     "metadata": {
      "needs_background": "light"
     },
     "output_type": "display_data"
    }
   ],
   "source": [
    "data['rolling_mean'] = data.rolling(10).mean()\n",
    "plt.plot(data) \n",
    "plt.xlabel('Время') \n",
    "plt.ylabel('Количество заказов') \n",
    "  \n",
    "# displaying the title\n",
    "plt.title(\"Количество заказов за все время\")\n",
    "  \n",
    "plt.show() "
   ]
  },
  {
   "cell_type": "markdown",
   "metadata": {},
   "source": [
    "У нас имеются явные периодические скачки, также ближе к сентябрю среднее количество заказов стремительно повышается"
   ]
  },
  {
   "cell_type": "markdown",
   "metadata": {},
   "source": [
    "Когда стало ясно, что у нас имеются отчетвливые сезонные колебания можно переходить к обучению модели"
   ]
  },
  {
   "cell_type": "code",
   "execution_count": 8,
   "metadata": {},
   "outputs": [
    {
     "data": {
      "image/png": "[encoded data removed]",
      "text/plain": [
       "<Figure size 432x288 with 1 Axes>"
      ]
     },
     "metadata": {
      "needs_background": "light"
     },
     "output_type": "display_data"
    }
   ],
   "source": [
    "data1 = data['2018-03-01 00:00:00':'2018-04-01 00:00:00']\n",
    "plt.plot(data1) \n",
    "plt.xlabel('Время') \n",
    "plt.ylabel('Количество заказов') \n",
    "plt.title(\"Количество заказов за месяц\")\n",
    "plt.show() "
   ]
  },
  {
   "cell_type": "markdown",
   "metadata": {},
   "source": [
    "Нужно еще больше сузить график, скорее всего колебания дневные либо недельные"
   ]
  },
  {
   "cell_type": "markdown",
   "metadata": {},
   "source": [
    "1 марта 2018 - это четверг, но я хочу посмотреть именно недельные колебания, поэтому возьмем семь дней начиная с 12 по 18, так как это не праздничная неделя в отличии от предидущей"
   ]
  },
  {
   "cell_type": "code",
   "execution_count": 9,
   "metadata": {},
   "outputs": [
    {
     "data": {
      "image/png": "[encoded data removed]",
      "text/plain": [
       "<Figure size 432x288 with 1 Axes>"
      ]
     },
     "metadata": {
      "needs_background": "light"
     },
     "output_type": "display_data"
    }
   ],
   "source": [
    "data1 = data['2018-03-12 00:00:00':'2018-03-18 00:00:00']\n",
    "plt.plot(data1) \n",
    "plt.xlabel('Время') \n",
    "plt.ylabel('Количество заказов') \n",
    "plt.title(\"Количество заказов за неделю\")\n",
    "plt.show() "
   ]
  },
  {
   "cell_type": "markdown",
   "metadata": {},
   "source": [
    "Тут уже стало чуть более понятно, вот некоторые выводы:\n",
    "1. отчетливо видно что самая большая часть заказов прилетает именно вечером\n",
    "2. ночью с воскресенья на понедельник - больше всего заказов\n",
    "3. с начала и до конца недели видна тенденция увеличения заказов вечером и уменьшения заказов утром\n",
    "4. суббота - самый стабильный день, весь день достаточно среднее количество заказов"
   ]
  },
  {
   "cell_type": "markdown",
   "metadata": {},
   "source": [
    "Можно попроовать декомпонировать данные, может быть будут еще какие то наблюдения"
   ]
  },
  {
   "cell_type": "markdown",
   "metadata": {},
   "source": [
    "## Обучение"
   ]
  },
  {
   "cell_type": "markdown",
   "metadata": {},
   "source": [
    "Для начала создадим признаки и функцию для их создания"
   ]
  },
  {
   "cell_type": "code",
   "execution_count": 10,
   "metadata": {},
   "outputs": [],
   "source": [
    "def make_features(data, max_lag, rolling_mean_size):\n",
    "    data['day'] = data.index.day\n",
    "    data['dayofweek'] = data.index.dayofweek\n",
    "    \n",
    "    for lag in range(1, max_lag + 1):\n",
    "        data['lag_{}'.format(lag)] = data['num_orders'].shift(lag)\n",
    "\n",
    "    data['rolling_mean'] = data['num_orders'].shift().rolling(rolling_mean_size).mean()"
   ]
  },
  {
   "cell_type": "code",
   "execution_count": 11,
   "metadata": {},
   "outputs": [],
   "source": [
    "make_features(data, 168, 24)"
   ]
  },
  {
   "cell_type": "markdown",
   "metadata": {},
   "source": [
    "Написал именно 168, так как у нас в неделе 7 дней в каждой по 24 часа"
   ]
  },
  {
   "cell_type": "markdown",
   "metadata": {},
   "source": [
    "Теперь создадим и обучим модель"
   ]
  },
  {
   "cell_type": "code",
   "execution_count": 12,
   "metadata": {},
   "outputs": [],
   "source": [
    "train, test = train_test_split(data, shuffle=False, test_size=0.1)\n",
    "train = train.dropna()\n",
    "test = test.dropna()\n",
    "\n",
    "train_features = train.drop('num_orders', axis = 1)\n",
    "train_target = train['num_orders']\n",
    "\n",
    "test_features = test.drop('num_orders', axis = 1)\n",
    "test_target = test['num_orders']"
   ]
  },
  {
   "cell_type": "code",
   "execution_count": 13,
   "metadata": {},
   "outputs": [
    {
     "name": "stdout",
     "output_type": "stream",
     "text": [
      "23.62120836970698\n",
      "{'max_depth': 12, 'n_estimators': 150}\n"
     ]
    }
   ],
   "source": [
    "grid = {\n",
    "    'n_estimators': [50,100,150],\n",
    "    'max_depth': [4,8,12]\n",
    "}\n",
    "model_rf = RandomForestRegressor(random_state=12345)\n",
    "tscv = TimeSeriesSplit(n_splits = 3)\n",
    "rf_grid = GridSearchCV(model_rf,  param_grid=grid,  scoring='neg_root_mean_squared_error', cv=tscv)\n",
    "\n",
    "rf_grid.fit(train_features, train_target)\n",
    "\n",
    "best_score = rf_grid.best_score_ * -1\n",
    "best_params = rf_grid.best_params_\n",
    "\n",
    "print(best_score)\n",
    "print(best_params)"
   ]
  },
  {
   "cell_type": "markdown",
   "metadata": {},
   "source": [
    "Какой же я невнимательный"
   ]
  },
  {
   "cell_type": "markdown",
   "metadata": {},
   "source": [
    "rmse равно 23.6, вообще достаточно неплохой результат, но мне кажется можно сделать лучше, попорубем библиотеку кэтбуст"
   ]
  },
  {
   "cell_type": "code",
   "execution_count": 15,
   "metadata": {},
   "outputs": [
    {
     "name": "stdout",
     "output_type": "stream",
     "text": [
      "Learning rate set to 0.464102\n",
      "0:\tlearn: 24.0177712\ttotal: 79.9ms\tremaining: 3.92s\n",
      "25:\tlearn: 9.9639708\ttotal: 615ms\tremaining: 567ms\n",
      "49:\tlearn: 5.5950559\ttotal: 1.11s\tremaining: 0us\n",
      "Learning rate set to 0.5\n",
      "0:\tlearn: 26.1898963\ttotal: 43.2ms\tremaining: 2.11s\n",
      "25:\tlearn: 13.1598177\ttotal: 769ms\tremaining: 710ms\n",
      "49:\tlearn: 8.9225681\ttotal: 1.4s\tremaining: 0us\n",
      "Learning rate set to 0.5\n",
      "0:\tlearn: 26.2535915\ttotal: 48.1ms\tremaining: 2.36s\n",
      "25:\tlearn: 15.1307312\ttotal: 808ms\tremaining: 746ms\n",
      "49:\tlearn: 11.4226057\ttotal: 1.51s\tremaining: 0us\n",
      "Learning rate set to 0.264166\n",
      "0:\tlearn: 26.1896665\ttotal: 40.7ms\tremaining: 4.03s\n",
      "25:\tlearn: 12.8157804\ttotal: 646ms\tremaining: 1.84s\n",
      "50:\tlearn: 9.3499843\ttotal: 1.23s\tremaining: 1.18s\n",
      "75:\tlearn: 6.3917841\ttotal: 1.76s\tremaining: 555ms\n",
      "99:\tlearn: 4.6648449\ttotal: 2.28s\tremaining: 0us\n",
      "Learning rate set to 0.294691\n",
      "0:\tlearn: 28.6797414\ttotal: 41.4ms\tremaining: 4.09s\n",
      "25:\tlearn: 15.0128472\ttotal: 746ms\tremaining: 2.12s\n",
      "50:\tlearn: 12.2607484\ttotal: 1.45s\tremaining: 1.39s\n",
      "75:\tlearn: 9.7017993\ttotal: 2.13s\tremaining: 674ms\n",
      "99:\tlearn: 8.0051143\ttotal: 2.83s\tremaining: 0us\n",
      "Learning rate set to 0.31417\n",
      "0:\tlearn: 28.7372353\ttotal: 49.1ms\tremaining: 4.86s\n",
      "25:\tlearn: 16.5403695\ttotal: 825ms\tremaining: 2.35s\n",
      "50:\tlearn: 13.9259089\ttotal: 1.56s\tremaining: 1.5s\n",
      "75:\tlearn: 11.8370317\ttotal: 2.29s\tremaining: 724ms\n",
      "99:\tlearn: 10.0623095\ttotal: 3.01s\tremaining: 0us\n",
      "Learning rate set to 0.464102\n",
      "0:\tlearn: 23.7230078\ttotal: 898ms\tremaining: 44s\n",
      "25:\tlearn: 2.4230502\ttotal: 22.6s\tremaining: 20.8s\n",
      "49:\tlearn: 0.3819428\ttotal: 45.3s\tremaining: 0us\n",
      "Learning rate set to 0.5\n",
      "0:\tlearn: 27.0564168\ttotal: 1.1s\tremaining: 54s\n",
      "25:\tlearn: 4.0178141\ttotal: 27.2s\tremaining: 25.1s\n",
      "49:\tlearn: 1.0257891\ttotal: 52.7s\tremaining: 0us\n",
      "Learning rate set to 0.5\n",
      "0:\tlearn: 26.1105736\ttotal: 1.42s\tremaining: 1m 9s\n",
      "25:\tlearn: 6.3301551\ttotal: 31.3s\tremaining: 28.9s\n",
      "49:\tlearn: 2.3706102\ttotal: 1m\tremaining: 0us\n",
      "Learning rate set to 0.264166\n",
      "0:\tlearn: 26.1126814\ttotal: 923ms\tremaining: 1m 31s\n",
      "25:\tlearn: 5.6098121\ttotal: 22s\tremaining: 1m 2s\n",
      "50:\tlearn: 1.7470586\ttotal: 43.3s\tremaining: 41.6s\n",
      "75:\tlearn: 0.5979464\ttotal: 1m 4s\tremaining: 20.3s\n",
      "99:\tlearn: 0.2102937\ttotal: 1m 24s\tremaining: 0us\n",
      "Learning rate set to 0.294691\n",
      "0:\tlearn: 29.3847030\ttotal: 1.06s\tremaining: 1m 45s\n",
      "25:\tlearn: 6.5474553\ttotal: 27.8s\tremaining: 1m 19s\n",
      "50:\tlearn: 2.8132961\ttotal: 55s\tremaining: 52.8s\n",
      "75:\tlearn: 1.1491918\ttotal: 1m 21s\tremaining: 25.6s\n",
      "99:\tlearn: 0.5894424\ttotal: 1m 46s\tremaining: 0us\n",
      "Learning rate set to 0.31417\n",
      "0:\tlearn: 28.6970993\ttotal: 1.17s\tremaining: 1m 55s\n",
      "25:\tlearn: 7.9729109\ttotal: 33s\tremaining: 1m 33s\n",
      "50:\tlearn: 3.8088061\ttotal: 1m 1s\tremaining: 59s\n",
      "75:\tlearn: 1.9740715\ttotal: 1m 30s\tremaining: 28.6s\n",
      "99:\tlearn: 1.0667301\ttotal: 1m 57s\tremaining: 0us\n",
      "Learning rate set to 0.328771\n",
      "0:\tlearn: 32.4445195\ttotal: 54.6ms\tremaining: 5.4s\n",
      "25:\tlearn: 19.0199549\ttotal: 973ms\tremaining: 2.77s\n",
      "50:\tlearn: 15.9617082\ttotal: 1.87s\tremaining: 1.79s\n",
      "75:\tlearn: 13.7329958\ttotal: 2.85s\tremaining: 900ms\n",
      "99:\tlearn: 12.1316695\ttotal: 3.68s\tremaining: 0us\n",
      "24.64530179878234\n",
      "{'depth': 6, 'iterations': 100}\n"
     ]
    }
   ],
   "source": [
    "grid = {\n",
    "    'iterations': [50,100],\n",
    "    'depth': [6,12]\n",
    "}\n",
    "model_cat = CatBoostRegressor(random_state=12345, verbose = 25)\n",
    "tscv = TimeSeriesSplit(n_splits = 3)\n",
    "model_cat = GridSearchCV(model_cat,  param_grid=grid,  scoring='neg_root_mean_squared_error', cv=tscv)\n",
    "\n",
    "model_cat.fit(train_features, train_target)\n",
    "\n",
    "best_score = model_cat.best_score_ * -1\n",
    "best_params = model_cat.best_params_\n",
    "print(best_score)\n",
    "print(best_params)"
   ]
  },
  {
   "cell_type": "markdown",
   "metadata": {},
   "source": [
    "У градинтного бустинга результат получился получше, результат равен 21, возьмем его как лучшую модель"
   ]
  },
  {
   "cell_type": "markdown",
   "metadata": {},
   "source": [
    "## Тестирование"
   ]
  },
  {
   "cell_type": "code",
   "execution_count": 16,
   "metadata": {},
   "outputs": [
    {
     "name": "stdout",
     "output_type": "stream",
     "text": [
      "39.37987042383186\n"
     ]
    }
   ],
   "source": [
    "predictions_test = model_cat.best_estimator_.predict(test_features)\n",
    "print(mean_squared_error(test_target, predictions_test, squared=False))"
   ]
  },
  {
   "cell_type": "markdown",
   "metadata": {},
   "source": [
    "Получилось 39, неплохой результат, модель обучилась отлично!"
   ]
  },
  {
   "cell_type": "markdown",
   "metadata": {},
   "source": [
    "По итогам работы было сделано следующее:\n",
    "1. Обработаны и проанализированы данные\n",
    "2. Была отчетливо проанализирована сезонность\n",
    "3. Построена модель линейной регрессии\n",
    "4. Построена модель градиентного бустнга на базе библиотеки catboost"
   ]
  }
 ],
 "metadata": {
  "ExecuteTimeLog": [
   {
    "duration": 155,
    "start_time": "2023-08-05T22:10:53.978Z"
   },
   {
    "duration": 1908,
    "start_time": "2023-08-06T11:34:43.234Z"
   },
   {
    "duration": 166,
    "start_time": "2023-08-06T11:37:32.941Z"
   },
   {
    "duration": 150,
    "start_time": "2023-08-06T11:37:35.817Z"
   },
   {
    "duration": 16,
    "start_time": "2023-08-06T11:37:36.025Z"
   },
   {
    "duration": 14,
    "start_time": "2023-08-06T11:40:48.448Z"
   },
   {
    "duration": 18,
    "start_time": "2023-08-06T11:41:56.217Z"
   },
   {
    "duration": 101,
    "start_time": "2023-08-06T11:43:24.620Z"
   },
   {
    "duration": 17,
    "start_time": "2023-08-06T11:52:13.015Z"
   },
   {
    "duration": 6,
    "start_time": "2023-08-06T11:53:17.503Z"
   },
   {
    "duration": 111,
    "start_time": "2023-08-06T11:53:18.327Z"
   },
   {
    "duration": 48,
    "start_time": "2023-08-06T11:53:26.619Z"
   },
   {
    "duration": 11,
    "start_time": "2023-08-06T11:53:27.440Z"
   },
   {
    "duration": 8,
    "start_time": "2023-08-06T11:53:30.681Z"
   },
   {
    "duration": 13,
    "start_time": "2023-08-06T11:53:33.488Z"
   },
   {
    "duration": 18,
    "start_time": "2023-08-06T11:53:35.505Z"
   },
   {
    "duration": 742,
    "start_time": "2023-08-06T11:57:23.840Z"
   },
   {
    "duration": 672,
    "start_time": "2023-08-06T12:02:16.492Z"
   },
   {
    "duration": 18,
    "start_time": "2023-08-06T12:04:09.745Z"
   },
   {
    "duration": 43,
    "start_time": "2023-08-06T12:04:27.487Z"
   },
   {
    "duration": 38,
    "start_time": "2023-08-06T12:04:34.805Z"
   },
   {
    "duration": 33,
    "start_time": "2023-08-06T12:04:57.621Z"
   },
   {
    "duration": 27,
    "start_time": "2023-08-06T12:07:19.196Z"
   },
   {
    "duration": 21,
    "start_time": "2023-08-06T12:12:04.664Z"
   },
   {
    "duration": 22,
    "start_time": "2023-08-06T12:37:46.567Z"
   },
   {
    "duration": 22,
    "start_time": "2023-08-06T12:38:19.434Z"
   },
   {
    "duration": 397,
    "start_time": "2023-08-06T12:42:58.601Z"
   },
   {
    "duration": 187,
    "start_time": "2023-08-06T12:43:55.383Z"
   },
   {
    "duration": 188,
    "start_time": "2023-08-06T12:47:43.658Z"
   },
   {
    "duration": 191,
    "start_time": "2023-08-06T12:48:49.581Z"
   },
   {
    "duration": 131,
    "start_time": "2023-08-06T12:54:07.513Z"
   },
   {
    "duration": 4,
    "start_time": "2023-08-06T12:57:04.207Z"
   },
   {
    "duration": 1920,
    "start_time": "2023-08-06T12:57:15.425Z"
   },
   {
    "duration": 8,
    "start_time": "2023-08-06T12:57:39.029Z"
   },
   {
    "duration": 153,
    "start_time": "2023-08-06T12:57:43.214Z"
   },
   {
    "duration": 58,
    "start_time": "2023-08-06T13:11:08.981Z"
   },
   {
    "duration": 739,
    "start_time": "2023-08-06T13:12:52.122Z"
   },
   {
    "duration": 592,
    "start_time": "2023-08-06T13:16:26.398Z"
   },
   {
    "duration": 741,
    "start_time": "2023-08-06T13:16:54.926Z"
   },
   {
    "duration": 1578,
    "start_time": "2023-08-06T13:17:39.388Z"
   },
   {
    "duration": 1930,
    "start_time": "2023-08-06T13:18:11.649Z"
   },
   {
    "duration": 3003,
    "start_time": "2023-08-06T13:19:03.668Z"
   },
   {
    "duration": 40,
    "start_time": "2023-08-06T13:23:31.454Z"
   },
   {
    "duration": 4,
    "start_time": "2023-08-06T13:24:19.447Z"
   },
   {
    "duration": 17,
    "start_time": "2023-08-06T13:24:19.729Z"
   },
   {
    "duration": 2307,
    "start_time": "2023-08-06T13:24:21.458Z"
   },
   {
    "duration": 1773,
    "start_time": "2023-08-06T13:24:32.019Z"
   },
   {
    "duration": 41,
    "start_time": "2023-08-06T13:24:56.956Z"
   },
   {
    "duration": 3173,
    "start_time": "2023-08-06T13:24:57.600Z"
   },
   {
    "duration": 68,
    "start_time": "2023-08-06T13:25:08.907Z"
   },
   {
    "duration": 874,
    "start_time": "2023-08-06T13:25:10.597Z"
   },
   {
    "duration": 25,
    "start_time": "2023-08-06T13:25:54.520Z"
   },
   {
    "duration": 70,
    "start_time": "2023-08-06T13:26:19.261Z"
   },
   {
    "duration": 2572,
    "start_time": "2023-08-06T13:26:20.701Z"
   },
   {
    "duration": 12,
    "start_time": "2023-08-06T13:27:33.640Z"
   },
   {
    "duration": 12,
    "start_time": "2023-08-06T13:29:45.682Z"
   },
   {
    "duration": 5,
    "start_time": "2023-08-06T13:32:32.723Z"
   },
   {
    "duration": 84,
    "start_time": "2023-08-06T13:32:32.730Z"
   },
   {
    "duration": 11,
    "start_time": "2023-08-06T13:32:32.816Z"
   },
   {
    "duration": 62,
    "start_time": "2023-08-06T13:32:32.829Z"
   },
   {
    "duration": 19,
    "start_time": "2023-08-06T13:32:32.893Z"
   },
   {
    "duration": 7,
    "start_time": "2023-08-06T13:32:39.391Z"
   },
   {
    "duration": 95,
    "start_time": "2023-08-06T13:32:39.401Z"
   },
   {
    "duration": 13,
    "start_time": "2023-08-06T13:32:39.498Z"
   },
   {
    "duration": 10,
    "start_time": "2023-08-06T13:32:39.514Z"
   },
   {
    "duration": 51,
    "start_time": "2023-08-06T13:32:39.527Z"
   },
   {
    "duration": 1110,
    "start_time": "2023-08-06T13:32:43.431Z"
   },
   {
    "duration": 264,
    "start_time": "2023-08-06T13:33:57.736Z"
   },
   {
    "duration": 314,
    "start_time": "2023-08-06T13:33:58.373Z"
   },
   {
    "duration": 218,
    "start_time": "2023-08-06T13:33:58.926Z"
   },
   {
    "duration": 6,
    "start_time": "2023-08-06T13:33:59.942Z"
   },
   {
    "duration": 158,
    "start_time": "2023-08-06T13:34:00.146Z"
   },
   {
    "duration": 39,
    "start_time": "2023-08-06T13:34:00.554Z"
   },
   {
    "duration": 11,
    "start_time": "2023-08-06T13:36:14.755Z"
   },
   {
    "duration": 66,
    "start_time": "2023-08-06T13:36:14.770Z"
   },
   {
    "duration": 15,
    "start_time": "2023-08-06T13:36:14.839Z"
   },
   {
    "duration": 22,
    "start_time": "2023-08-06T13:36:14.857Z"
   },
   {
    "duration": 24,
    "start_time": "2023-08-06T13:36:14.882Z"
   },
   {
    "duration": 3,
    "start_time": "2023-08-06T13:36:14.908Z"
   },
   {
    "duration": 935,
    "start_time": "2023-08-06T13:36:14.912Z"
   },
   {
    "duration": 439,
    "start_time": "2023-08-06T13:36:15.849Z"
   },
   {
    "duration": 239,
    "start_time": "2023-08-06T13:36:37.523Z"
   },
   {
    "duration": 7,
    "start_time": "2023-08-06T13:39:08.424Z"
   },
   {
    "duration": 58,
    "start_time": "2023-08-06T13:39:08.433Z"
   },
   {
    "duration": 10,
    "start_time": "2023-08-06T13:39:08.493Z"
   },
   {
    "duration": 7,
    "start_time": "2023-08-06T13:39:08.506Z"
   },
   {
    "duration": 15,
    "start_time": "2023-08-06T13:39:08.515Z"
   },
   {
    "duration": 717,
    "start_time": "2023-08-06T13:39:11.681Z"
   },
   {
    "duration": 379,
    "start_time": "2023-08-06T13:39:52.870Z"
   },
   {
    "duration": 245,
    "start_time": "2023-08-06T13:39:55.483Z"
   },
   {
    "duration": 222,
    "start_time": "2023-08-06T13:39:57.245Z"
   },
   {
    "duration": 4,
    "start_time": "2023-08-06T13:40:17.506Z"
   },
   {
    "duration": 143,
    "start_time": "2023-08-06T13:40:17.907Z"
   },
   {
    "duration": 1999,
    "start_time": "2023-08-06T13:40:18.766Z"
   },
   {
    "duration": 18296,
    "start_time": "2023-08-06T13:41:21.432Z"
   },
   {
    "duration": 38,
    "start_time": "2023-08-06T13:42:00.229Z"
   },
   {
    "duration": 361,
    "start_time": "2023-08-06T13:42:01.003Z"
   },
   {
    "duration": 196,
    "start_time": "2023-08-06T13:42:10.882Z"
   },
   {
    "duration": 3508,
    "start_time": "2023-08-06T13:42:11.669Z"
   },
   {
    "duration": 47,
    "start_time": "2023-08-06T13:42:25.465Z"
   },
   {
    "duration": 903,
    "start_time": "2023-08-06T13:42:26.156Z"
   },
   {
    "duration": 31,
    "start_time": "2023-08-06T13:43:40.454Z"
   },
   {
    "duration": 18,
    "start_time": "2023-08-06T13:44:31.619Z"
   },
   {
    "duration": 7440,
    "start_time": "2023-08-06T13:44:32.154Z"
   },
   {
    "duration": 36266,
    "start_time": "2023-08-06T13:44:39.675Z"
   },
   {
    "duration": 32,
    "start_time": "2023-08-06T13:45:28.817Z"
   },
   {
    "duration": 302822,
    "start_time": "2023-08-06T13:45:40.087Z"
   },
   {
    "duration": 21,
    "start_time": "2023-08-06T13:50:42.912Z"
   },
   {
    "duration": 5,
    "start_time": "2023-08-06T13:50:42.935Z"
   },
   {
    "duration": 22,
    "start_time": "2023-08-06T13:51:06.358Z"
   },
   {
    "duration": 11,
    "start_time": "2023-08-06T13:51:54.875Z"
   },
   {
    "duration": 15,
    "start_time": "2023-08-06T13:51:58.557Z"
   },
   {
    "duration": 15,
    "start_time": "2023-08-06T13:51:58.870Z"
   },
   {
    "duration": 2892,
    "start_time": "2023-08-06T13:51:59.569Z"
   },
   {
    "duration": 11,
    "start_time": "2023-08-06T13:52:15.470Z"
   },
   {
    "duration": 1811,
    "start_time": "2023-08-06T13:52:16.056Z"
   },
   {
    "duration": 11,
    "start_time": "2023-08-06T13:52:23.302Z"
   },
   {
    "duration": 2388,
    "start_time": "2023-08-06T13:52:23.870Z"
   },
   {
    "duration": 10,
    "start_time": "2023-08-06T13:52:30.703Z"
   },
   {
    "duration": 2411,
    "start_time": "2023-08-06T13:52:31.557Z"
   },
   {
    "duration": 11,
    "start_time": "2023-08-06T13:54:30.540Z"
   },
   {
    "duration": 2682,
    "start_time": "2023-08-06T13:54:31.277Z"
   },
   {
    "duration": 15,
    "start_time": "2023-08-06T13:54:40.217Z"
   },
   {
    "duration": 1486,
    "start_time": "2023-08-06T13:54:40.873Z"
   },
   {
    "duration": 293144,
    "start_time": "2023-08-06T13:54:55.471Z"
   },
   {
    "duration": 24,
    "start_time": "2023-08-06T13:59:55.176Z"
   },
   {
    "duration": 5,
    "start_time": "2023-08-06T14:03:09.060Z"
   },
   {
    "duration": 18,
    "start_time": "2023-08-06T14:03:09.376Z"
   },
   {
    "duration": 3171,
    "start_time": "2023-08-06T14:03:09.995Z"
   },
   {
    "duration": 37589,
    "start_time": "2023-08-06T14:03:13.173Z"
   },
   {
    "duration": 25,
    "start_time": "2023-08-06T14:03:50.769Z"
   },
   {
    "duration": 36672,
    "start_time": "2023-08-06T14:03:54.895Z"
   },
   {
    "duration": 14,
    "start_time": "2023-08-06T14:04:31.570Z"
   },
   {
    "duration": 117,
    "start_time": "2023-08-06T14:04:31.586Z"
   },
   {
    "duration": 39,
    "start_time": "2023-08-06T14:05:40.482Z"
   },
   {
    "duration": 1271,
    "start_time": "2023-08-06T14:05:40.904Z"
   },
   {
    "duration": 36524,
    "start_time": "2023-08-06T14:05:42.178Z"
   },
   {
    "duration": 25,
    "start_time": "2023-08-06T14:06:18.705Z"
   },
   {
    "duration": 1703,
    "start_time": "2023-08-06T19:54:21.655Z"
   },
   {
    "duration": 122,
    "start_time": "2023-08-06T19:54:23.360Z"
   },
   {
    "duration": 19,
    "start_time": "2023-08-06T19:54:23.483Z"
   },
   {
    "duration": 27,
    "start_time": "2023-08-06T19:54:23.507Z"
   },
   {
    "duration": 33,
    "start_time": "2023-08-06T19:54:23.535Z"
   },
   {
    "duration": 802,
    "start_time": "2023-08-06T19:54:23.570Z"
   },
   {
    "duration": 220,
    "start_time": "2023-08-06T19:54:29.363Z"
   },
   {
    "duration": 172,
    "start_time": "2023-08-06T19:55:01.645Z"
   },
   {
    "duration": 4,
    "start_time": "2023-08-06T19:55:22.472Z"
   },
   {
    "duration": 136,
    "start_time": "2023-08-06T19:55:23.402Z"
   },
   {
    "duration": 412,
    "start_time": "2023-08-06T19:55:26.181Z"
   },
   {
    "duration": 15124,
    "start_time": "2023-08-06T19:55:44.755Z"
   },
   {
    "duration": 13,
    "start_time": "2023-08-06T19:55:59.882Z"
   },
   {
    "duration": 7,
    "start_time": "2023-08-06T20:19:37.966Z"
   },
   {
    "duration": 182,
    "start_time": "2023-08-06T20:21:34.667Z"
   },
   {
    "duration": 36,
    "start_time": "2023-08-06T20:21:47.809Z"
   },
   {
    "duration": 35,
    "start_time": "2023-08-06T20:22:22.274Z"
   },
   {
    "duration": 176637,
    "start_time": "2023-08-06T20:22:57.606Z"
   },
   {
    "duration": 12,
    "start_time": "2023-08-06T20:27:05.986Z"
   },
   {
    "duration": 4,
    "start_time": "2023-08-06T20:27:38.084Z"
   },
   {
    "duration": 460372,
    "start_time": "2023-08-06T20:29:50.506Z"
   },
   {
    "duration": 5,
    "start_time": "2023-08-06T20:39:34.371Z"
   },
   {
    "duration": 51,
    "start_time": "2023-08-06T20:39:34.378Z"
   },
   {
    "duration": 11,
    "start_time": "2023-08-06T20:39:34.430Z"
   },
   {
    "duration": 8,
    "start_time": "2023-08-06T20:39:34.442Z"
   },
   {
    "duration": 14,
    "start_time": "2023-08-06T20:39:34.452Z"
   },
   {
    "duration": 839,
    "start_time": "2023-08-06T20:39:34.467Z"
   },
   {
    "duration": 176,
    "start_time": "2023-08-06T20:39:35.308Z"
   },
   {
    "duration": 200,
    "start_time": "2023-08-06T20:39:35.487Z"
   },
   {
    "duration": 177,
    "start_time": "2023-08-06T20:39:35.689Z"
   },
   {
    "duration": 3,
    "start_time": "2023-08-06T20:39:35.868Z"
   },
   {
    "duration": 127,
    "start_time": "2023-08-06T20:39:35.873Z"
   },
   {
    "duration": 26,
    "start_time": "2023-08-06T20:39:36.002Z"
   },
   {
    "duration": 2070,
    "start_time": "2023-08-06T20:39:49.510Z"
   },
   {
    "duration": 49,
    "start_time": "2023-08-06T20:39:51.581Z"
   },
   {
    "duration": 12,
    "start_time": "2023-08-06T20:39:51.632Z"
   },
   {
    "duration": 19,
    "start_time": "2023-08-06T20:39:51.646Z"
   },
   {
    "duration": 29,
    "start_time": "2023-08-06T20:39:51.666Z"
   },
   {
    "duration": 792,
    "start_time": "2023-08-06T20:39:51.697Z"
   },
   {
    "duration": 243,
    "start_time": "2023-08-06T20:39:52.492Z"
   },
   {
    "duration": 201,
    "start_time": "2023-08-06T20:39:52.737Z"
   },
   {
    "duration": 180,
    "start_time": "2023-08-06T20:39:52.939Z"
   },
   {
    "duration": 5,
    "start_time": "2023-08-06T20:39:53.121Z"
   },
   {
    "duration": 186,
    "start_time": "2023-08-06T20:39:53.128Z"
   },
   {
    "duration": 44,
    "start_time": "2023-08-06T20:39:53.316Z"
   },
   {
    "duration": 259635,
    "start_time": "2023-08-06T20:39:53.362Z"
   },
   {
    "duration": 115,
    "start_time": "2023-08-06T20:44:58.575Z"
   },
   {
    "duration": 492749,
    "start_time": "2023-08-06T20:45:37.895Z"
   },
   {
    "duration": 13,
    "start_time": "2023-08-06T21:01:47.522Z"
   }
  ],
  "kernelspec": {
   "display_name": "Python 3",
   "language": "python",
   "name": "python3"
  },
  "language_info": {
   "codemirror_mode": {
    "name": "ipython",
    "version": 3
   },
   "file_extension": ".py",
   "mimetype": "text/x-python",
   "name": "python",
   "nbconvert_exporter": "python",
   "pygments_lexer": "ipython3",
   "version": "3.8.3"
  },
  "toc": {
   "base_numbering": 1,
   "nav_menu": {},
   "number_sections": true,
   "sideBar": true,
   "skip_h1_title": true,
   "title_cell": "Содержание",
   "title_sidebar": "Contents",
   "toc_cell": true,
   "toc_position": {},
   "toc_section_display": true,
   "toc_window_display": false
  }
 },
 "nbformat": 4,
 "nbformat_minor": 2
}
