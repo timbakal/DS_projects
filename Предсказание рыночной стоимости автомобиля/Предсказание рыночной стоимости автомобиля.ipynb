{
 "cells": [
  {
   "cell_type": "markdown",
   "metadata": {},
   "source": [
    "# Определение стоимости автомобилей"
   ]
  },
  {
   "cell_type": "markdown",
   "metadata": {},
   "source": [
    "Сервис по продаже автомобилей с пробегом «Не бит, не крашен» разрабатывает приложение для привлечения новых клиентов. В нём можно быстро узнать рыночную стоимость своего автомобиля. В вашем распоряжении исторические данные: технические характеристики, комплектации и цены автомобилей. Вам нужно построить модель для определения стоимости. \n",
    "\n",
    "Заказчику важны:\n",
    "\n",
    "- качество предсказания;\n",
    "- скорость предсказания;\n",
    "- время обучения."
   ]
  },
  {
   "cell_type": "markdown",
   "metadata": {},
   "source": [
    "## Подготовка данных"
   ]
  },
  {
   "cell_type": "markdown",
   "metadata": {},
   "source": [
    "Для начала мы ипортируем пакеты, импортируем данные, посмотрим на их распределение"
   ]
  },
  {
   "cell_type": "code",
   "execution_count": 2,
   "metadata": {},
   "outputs": [],
   "source": [
    "import numpy as np\n",
    "import pandas as pd\n",
    "from sklearn.linear_model import LinearRegression\n",
    "from sklearn.metrics import r2_score\n",
    "from sklearn.model_selection import train_test_split\n",
    "import matplotlib.pyplot as plt\n",
    "import lightgbm as lgb\n",
    "import sklearn\n",
    "from sklearn.metrics import accuracy_score\n",
    "from sklearn.metrics import mean_squared_error\n",
    "from sklearn.model_selection import GridSearchCV\n",
    "from sklearn.preprocessing import LabelEncoder \n",
    "from sklearn.preprocessing import OneHotEncoder \n",
    "import lightgbm as lgb\n",
    "from sklearn.linear_model import LinearRegression\n",
    "from sklearn.preprocessing import OneHotEncoder\n",
    "from lightgbm import LGBMRegressor\n",
    "from catboost import CatBoostRegressor\n",
    "from sklearn.ensemble import RandomForestRegressor\n",
    "import time \n",
    "import warnings\n",
    "warnings.filterwarnings(\"ignore\")"
   ]
  },
  {
   "cell_type": "code",
   "execution_count": 3,
   "metadata": {},
   "outputs": [],
   "source": [
    "data = pd.read_csv('/datasets/autos.csv')"
   ]
  },
  {
   "cell_type": "code",
   "execution_count": 4,
   "metadata": {},
   "outputs": [
    {
     "data": {
      "text/html": [
       "<div>\n",
       "<style scoped>\n",
       "    .dataframe tbody tr th:only-of-type {\n",
       "        vertical-align: middle;\n",
       "    }\n",
       "\n",
       "    .dataframe tbody tr th {\n",
       "        vertical-align: top;\n",
       "    }\n",
       "\n",
       "    .dataframe thead th {\n",
       "        text-align: right;\n",
       "    }\n",
       "</style>\n",
       "<table border=\"1\" class=\"dataframe\">\n",
       "  <thead>\n",
       "    <tr style=\"text-align: right;\">\n",
       "      <th></th>\n",
       "      <th>Price</th>\n",
       "      <th>RegistrationYear</th>\n",
       "      <th>Power</th>\n",
       "      <th>Kilometer</th>\n",
       "      <th>RegistrationMonth</th>\n",
       "      <th>NumberOfPictures</th>\n",
       "      <th>PostalCode</th>\n",
       "    </tr>\n",
       "  </thead>\n",
       "  <tbody>\n",
       "    <tr>\n",
       "      <th>count</th>\n",
       "      <td>354369.000000</td>\n",
       "      <td>354369.000000</td>\n",
       "      <td>354369.000000</td>\n",
       "      <td>354369.000000</td>\n",
       "      <td>354369.000000</td>\n",
       "      <td>354369.0</td>\n",
       "      <td>354369.000000</td>\n",
       "    </tr>\n",
       "    <tr>\n",
       "      <th>mean</th>\n",
       "      <td>4416.656776</td>\n",
       "      <td>2004.234448</td>\n",
       "      <td>110.094337</td>\n",
       "      <td>128211.172535</td>\n",
       "      <td>5.714645</td>\n",
       "      <td>0.0</td>\n",
       "      <td>50508.689087</td>\n",
       "    </tr>\n",
       "    <tr>\n",
       "      <th>std</th>\n",
       "      <td>4514.158514</td>\n",
       "      <td>90.227958</td>\n",
       "      <td>189.850405</td>\n",
       "      <td>37905.341530</td>\n",
       "      <td>3.726421</td>\n",
       "      <td>0.0</td>\n",
       "      <td>25783.096248</td>\n",
       "    </tr>\n",
       "    <tr>\n",
       "      <th>min</th>\n",
       "      <td>0.000000</td>\n",
       "      <td>1000.000000</td>\n",
       "      <td>0.000000</td>\n",
       "      <td>5000.000000</td>\n",
       "      <td>0.000000</td>\n",
       "      <td>0.0</td>\n",
       "      <td>1067.000000</td>\n",
       "    </tr>\n",
       "    <tr>\n",
       "      <th>25%</th>\n",
       "      <td>1050.000000</td>\n",
       "      <td>1999.000000</td>\n",
       "      <td>69.000000</td>\n",
       "      <td>125000.000000</td>\n",
       "      <td>3.000000</td>\n",
       "      <td>0.0</td>\n",
       "      <td>30165.000000</td>\n",
       "    </tr>\n",
       "    <tr>\n",
       "      <th>50%</th>\n",
       "      <td>2700.000000</td>\n",
       "      <td>2003.000000</td>\n",
       "      <td>105.000000</td>\n",
       "      <td>150000.000000</td>\n",
       "      <td>6.000000</td>\n",
       "      <td>0.0</td>\n",
       "      <td>49413.000000</td>\n",
       "    </tr>\n",
       "    <tr>\n",
       "      <th>75%</th>\n",
       "      <td>6400.000000</td>\n",
       "      <td>2008.000000</td>\n",
       "      <td>143.000000</td>\n",
       "      <td>150000.000000</td>\n",
       "      <td>9.000000</td>\n",
       "      <td>0.0</td>\n",
       "      <td>71083.000000</td>\n",
       "    </tr>\n",
       "    <tr>\n",
       "      <th>max</th>\n",
       "      <td>20000.000000</td>\n",
       "      <td>9999.000000</td>\n",
       "      <td>20000.000000</td>\n",
       "      <td>150000.000000</td>\n",
       "      <td>12.000000</td>\n",
       "      <td>0.0</td>\n",
       "      <td>99998.000000</td>\n",
       "    </tr>\n",
       "  </tbody>\n",
       "</table>\n",
       "</div>"
      ],
      "text/plain": [
       "               Price  RegistrationYear          Power      Kilometer  \\\n",
       "count  354369.000000     354369.000000  354369.000000  354369.000000   \n",
       "mean     4416.656776       2004.234448     110.094337  128211.172535   \n",
       "std      4514.158514         90.227958     189.850405   37905.341530   \n",
       "min         0.000000       1000.000000       0.000000    5000.000000   \n",
       "25%      1050.000000       1999.000000      69.000000  125000.000000   \n",
       "50%      2700.000000       2003.000000     105.000000  150000.000000   \n",
       "75%      6400.000000       2008.000000     143.000000  150000.000000   \n",
       "max     20000.000000       9999.000000   20000.000000  150000.000000   \n",
       "\n",
       "       RegistrationMonth  NumberOfPictures     PostalCode  \n",
       "count      354369.000000          354369.0  354369.000000  \n",
       "mean            5.714645               0.0   50508.689087  \n",
       "std             3.726421               0.0   25783.096248  \n",
       "min             0.000000               0.0    1067.000000  \n",
       "25%             3.000000               0.0   30165.000000  \n",
       "50%             6.000000               0.0   49413.000000  \n",
       "75%             9.000000               0.0   71083.000000  \n",
       "max            12.000000               0.0   99998.000000  "
      ]
     },
     "execution_count": 4,
     "metadata": {},
     "output_type": "execute_result"
    }
   ],
   "source": [
    "data.describe()"
   ]
  },
  {
   "cell_type": "markdown",
   "metadata": {},
   "source": [
    "Уже можно заметить очень странные значения в некоторых столбцах, перечислю отдельно:\n",
    "1) Цена вряд ли может быть меньше нуля, очень нелогично, думаю стоит убрать нулевые значения\n",
    "\n",
    "2) Год регистрации не может быть меньше 1899 года, только в этом году начали регистрировать автомобили, также как и не может быть больше 2023\n",
    "\n",
    "3) Мощность равная нулю очень странна, не может быть меньше 1, также как и не может быть больше 2000 лс.\n",
    "\n",
    "4) С осталными столбцами все хорошо (машина также не может быть зарегестрирована в 0 месяце, также что это тоже странно, но это вряд ли может на что то повлиять)"
   ]
  },
  {
   "cell_type": "markdown",
   "metadata": {},
   "source": [
    "Мне я это показалось странным, я это заметил, скорее всего это ошибка сбора данных, так как данный столбец отвечает за количество фотографий объекта"
   ]
  },
  {
   "cell_type": "markdown",
   "metadata": {},
   "source": [
    "Давайте уберем тогда, согласен"
   ]
  },
  {
   "cell_type": "code",
   "execution_count": 5,
   "metadata": {},
   "outputs": [],
   "source": [
    "data = data.drop('NumberOfPictures', axis = 1)"
   ]
  },
  {
   "cell_type": "code",
   "execution_count": 6,
   "metadata": {},
   "outputs": [
    {
     "name": "stdout",
     "output_type": "stream",
     "text": [
      "<class 'pandas.core.frame.DataFrame'>\n",
      "RangeIndex: 354369 entries, 0 to 354368\n",
      "Data columns (total 15 columns):\n",
      " #   Column             Non-Null Count   Dtype \n",
      "---  ------             --------------   ----- \n",
      " 0   DateCrawled        354369 non-null  object\n",
      " 1   Price              354369 non-null  int64 \n",
      " 2   VehicleType        316879 non-null  object\n",
      " 3   RegistrationYear   354369 non-null  int64 \n",
      " 4   Gearbox            334536 non-null  object\n",
      " 5   Power              354369 non-null  int64 \n",
      " 6   Model              334664 non-null  object\n",
      " 7   Kilometer          354369 non-null  int64 \n",
      " 8   RegistrationMonth  354369 non-null  int64 \n",
      " 9   FuelType           321474 non-null  object\n",
      " 10  Brand              354369 non-null  object\n",
      " 11  Repaired           283215 non-null  object\n",
      " 12  DateCreated        354369 non-null  object\n",
      " 13  PostalCode         354369 non-null  int64 \n",
      " 14  LastSeen           354369 non-null  object\n",
      "dtypes: int64(6), object(9)\n",
      "memory usage: 40.6+ MB\n"
     ]
    }
   ],
   "source": [
    "data.info()"
   ]
  },
  {
   "cell_type": "code",
   "execution_count": 32,
   "metadata": {},
   "outputs": [
    {
     "data": {
      "text/html": [
       "<div>\n",
       "<style scoped>\n",
       "    .dataframe tbody tr th:only-of-type {\n",
       "        vertical-align: middle;\n",
       "    }\n",
       "\n",
       "    .dataframe tbody tr th {\n",
       "        vertical-align: top;\n",
       "    }\n",
       "\n",
       "    .dataframe thead th {\n",
       "        text-align: right;\n",
       "    }\n",
       "</style>\n",
       "<table border=\"1\" class=\"dataframe\">\n",
       "  <thead>\n",
       "    <tr style=\"text-align: right;\">\n",
       "      <th></th>\n",
       "      <th>DateCrawled</th>\n",
       "      <th>Price</th>\n",
       "      <th>VehicleType</th>\n",
       "      <th>RegistrationYear</th>\n",
       "      <th>Gearbox</th>\n",
       "      <th>Power</th>\n",
       "      <th>Model</th>\n",
       "      <th>Kilometer</th>\n",
       "      <th>RegistrationMonth</th>\n",
       "      <th>FuelType</th>\n",
       "      <th>Brand</th>\n",
       "      <th>Repaired</th>\n",
       "      <th>DateCreated</th>\n",
       "      <th>NumberOfPictures</th>\n",
       "      <th>PostalCode</th>\n",
       "      <th>LastSeen</th>\n",
       "    </tr>\n",
       "  </thead>\n",
       "  <tbody>\n",
       "    <tr>\n",
       "      <th>0</th>\n",
       "      <td>2016-03-24 11:52:17</td>\n",
       "      <td>480</td>\n",
       "      <td>NaN</td>\n",
       "      <td>1993</td>\n",
       "      <td>manual</td>\n",
       "      <td>0</td>\n",
       "      <td>golf</td>\n",
       "      <td>150000</td>\n",
       "      <td>0</td>\n",
       "      <td>petrol</td>\n",
       "      <td>volkswagen</td>\n",
       "      <td>NaN</td>\n",
       "      <td>2016-03-24 00:00:00</td>\n",
       "      <td>0</td>\n",
       "      <td>70435</td>\n",
       "      <td>2016-04-07 03:16:57</td>\n",
       "    </tr>\n",
       "    <tr>\n",
       "      <th>1</th>\n",
       "      <td>2016-03-24 10:58:45</td>\n",
       "      <td>18300</td>\n",
       "      <td>coupe</td>\n",
       "      <td>2011</td>\n",
       "      <td>manual</td>\n",
       "      <td>190</td>\n",
       "      <td>NaN</td>\n",
       "      <td>125000</td>\n",
       "      <td>5</td>\n",
       "      <td>gasoline</td>\n",
       "      <td>audi</td>\n",
       "      <td>yes</td>\n",
       "      <td>2016-03-24 00:00:00</td>\n",
       "      <td>0</td>\n",
       "      <td>66954</td>\n",
       "      <td>2016-04-07 01:46:50</td>\n",
       "    </tr>\n",
       "    <tr>\n",
       "      <th>2</th>\n",
       "      <td>2016-03-14 12:52:21</td>\n",
       "      <td>9800</td>\n",
       "      <td>suv</td>\n",
       "      <td>2004</td>\n",
       "      <td>auto</td>\n",
       "      <td>163</td>\n",
       "      <td>grand</td>\n",
       "      <td>125000</td>\n",
       "      <td>8</td>\n",
       "      <td>gasoline</td>\n",
       "      <td>jeep</td>\n",
       "      <td>NaN</td>\n",
       "      <td>2016-03-14 00:00:00</td>\n",
       "      <td>0</td>\n",
       "      <td>90480</td>\n",
       "      <td>2016-04-05 12:47:46</td>\n",
       "    </tr>\n",
       "    <tr>\n",
       "      <th>3</th>\n",
       "      <td>2016-03-17 16:54:04</td>\n",
       "      <td>1500</td>\n",
       "      <td>small</td>\n",
       "      <td>2001</td>\n",
       "      <td>manual</td>\n",
       "      <td>75</td>\n",
       "      <td>golf</td>\n",
       "      <td>150000</td>\n",
       "      <td>6</td>\n",
       "      <td>petrol</td>\n",
       "      <td>volkswagen</td>\n",
       "      <td>no</td>\n",
       "      <td>2016-03-17 00:00:00</td>\n",
       "      <td>0</td>\n",
       "      <td>91074</td>\n",
       "      <td>2016-03-17 17:40:17</td>\n",
       "    </tr>\n",
       "    <tr>\n",
       "      <th>4</th>\n",
       "      <td>2016-03-31 17:25:20</td>\n",
       "      <td>3600</td>\n",
       "      <td>small</td>\n",
       "      <td>2008</td>\n",
       "      <td>manual</td>\n",
       "      <td>69</td>\n",
       "      <td>fabia</td>\n",
       "      <td>90000</td>\n",
       "      <td>7</td>\n",
       "      <td>gasoline</td>\n",
       "      <td>skoda</td>\n",
       "      <td>no</td>\n",
       "      <td>2016-03-31 00:00:00</td>\n",
       "      <td>0</td>\n",
       "      <td>60437</td>\n",
       "      <td>2016-04-06 10:17:21</td>\n",
       "    </tr>\n",
       "  </tbody>\n",
       "</table>\n",
       "</div>"
      ],
      "text/plain": [
       "           DateCrawled  Price VehicleType  RegistrationYear Gearbox  Power  \\\n",
       "0  2016-03-24 11:52:17    480         NaN              1993  manual      0   \n",
       "1  2016-03-24 10:58:45  18300       coupe              2011  manual    190   \n",
       "2  2016-03-14 12:52:21   9800         suv              2004    auto    163   \n",
       "3  2016-03-17 16:54:04   1500       small              2001  manual     75   \n",
       "4  2016-03-31 17:25:20   3600       small              2008  manual     69   \n",
       "\n",
       "   Model  Kilometer  RegistrationMonth  FuelType       Brand Repaired  \\\n",
       "0   golf     150000                  0    petrol  volkswagen      NaN   \n",
       "1    NaN     125000                  5  gasoline        audi      yes   \n",
       "2  grand     125000                  8  gasoline        jeep      NaN   \n",
       "3   golf     150000                  6    petrol  volkswagen       no   \n",
       "4  fabia      90000                  7  gasoline       skoda       no   \n",
       "\n",
       "           DateCreated  NumberOfPictures  PostalCode             LastSeen  \n",
       "0  2016-03-24 00:00:00                 0       70435  2016-04-07 03:16:57  \n",
       "1  2016-03-24 00:00:00                 0       66954  2016-04-07 01:46:50  \n",
       "2  2016-03-14 00:00:00                 0       90480  2016-04-05 12:47:46  \n",
       "3  2016-03-17 00:00:00                 0       91074  2016-03-17 17:40:17  \n",
       "4  2016-03-31 00:00:00                 0       60437  2016-04-06 10:17:21  "
      ]
     },
     "execution_count": 32,
     "metadata": {},
     "output_type": "execute_result"
    }
   ],
   "source": [
    "data.head(5)"
   ]
  },
  {
   "cell_type": "markdown",
   "metadata": {},
   "source": [
    "На этом этапе можно удалить 2 столбца, а именно дату размещения объявления и последний просмотр, так как они в себе по сути не несут никакой информации"
   ]
  },
  {
   "cell_type": "code",
   "execution_count": 33,
   "metadata": {},
   "outputs": [],
   "source": [
    "data = data.drop(['DateCrawled', 'DateCreated', 'LastSeen'], axis = 1)"
   ]
  },
  {
   "cell_type": "code",
   "execution_count": 34,
   "metadata": {},
   "outputs": [
    {
     "data": {
      "text/html": [
       "<div>\n",
       "<style scoped>\n",
       "    .dataframe tbody tr th:only-of-type {\n",
       "        vertical-align: middle;\n",
       "    }\n",
       "\n",
       "    .dataframe tbody tr th {\n",
       "        vertical-align: top;\n",
       "    }\n",
       "\n",
       "    .dataframe thead th {\n",
       "        text-align: right;\n",
       "    }\n",
       "</style>\n",
       "<table border=\"1\" class=\"dataframe\">\n",
       "  <thead>\n",
       "    <tr style=\"text-align: right;\">\n",
       "      <th></th>\n",
       "      <th>Price</th>\n",
       "      <th>RegistrationYear</th>\n",
       "      <th>Power</th>\n",
       "      <th>Kilometer</th>\n",
       "      <th>RegistrationMonth</th>\n",
       "      <th>NumberOfPictures</th>\n",
       "      <th>PostalCode</th>\n",
       "    </tr>\n",
       "  </thead>\n",
       "  <tbody>\n",
       "    <tr>\n",
       "      <th>count</th>\n",
       "      <td>354369.000000</td>\n",
       "      <td>354369.000000</td>\n",
       "      <td>354369.000000</td>\n",
       "      <td>354369.000000</td>\n",
       "      <td>354369.000000</td>\n",
       "      <td>354369.0</td>\n",
       "      <td>354369.000000</td>\n",
       "    </tr>\n",
       "    <tr>\n",
       "      <th>mean</th>\n",
       "      <td>4416.656776</td>\n",
       "      <td>2004.234448</td>\n",
       "      <td>110.094337</td>\n",
       "      <td>128211.172535</td>\n",
       "      <td>5.714645</td>\n",
       "      <td>0.0</td>\n",
       "      <td>50508.689087</td>\n",
       "    </tr>\n",
       "    <tr>\n",
       "      <th>std</th>\n",
       "      <td>4514.158514</td>\n",
       "      <td>90.227958</td>\n",
       "      <td>189.850405</td>\n",
       "      <td>37905.341530</td>\n",
       "      <td>3.726421</td>\n",
       "      <td>0.0</td>\n",
       "      <td>25783.096248</td>\n",
       "    </tr>\n",
       "    <tr>\n",
       "      <th>min</th>\n",
       "      <td>0.000000</td>\n",
       "      <td>1000.000000</td>\n",
       "      <td>0.000000</td>\n",
       "      <td>5000.000000</td>\n",
       "      <td>0.000000</td>\n",
       "      <td>0.0</td>\n",
       "      <td>1067.000000</td>\n",
       "    </tr>\n",
       "    <tr>\n",
       "      <th>25%</th>\n",
       "      <td>1050.000000</td>\n",
       "      <td>1999.000000</td>\n",
       "      <td>69.000000</td>\n",
       "      <td>125000.000000</td>\n",
       "      <td>3.000000</td>\n",
       "      <td>0.0</td>\n",
       "      <td>30165.000000</td>\n",
       "    </tr>\n",
       "    <tr>\n",
       "      <th>50%</th>\n",
       "      <td>2700.000000</td>\n",
       "      <td>2003.000000</td>\n",
       "      <td>105.000000</td>\n",
       "      <td>150000.000000</td>\n",
       "      <td>6.000000</td>\n",
       "      <td>0.0</td>\n",
       "      <td>49413.000000</td>\n",
       "    </tr>\n",
       "    <tr>\n",
       "      <th>75%</th>\n",
       "      <td>6400.000000</td>\n",
       "      <td>2008.000000</td>\n",
       "      <td>143.000000</td>\n",
       "      <td>150000.000000</td>\n",
       "      <td>9.000000</td>\n",
       "      <td>0.0</td>\n",
       "      <td>71083.000000</td>\n",
       "    </tr>\n",
       "    <tr>\n",
       "      <th>max</th>\n",
       "      <td>20000.000000</td>\n",
       "      <td>9999.000000</td>\n",
       "      <td>20000.000000</td>\n",
       "      <td>150000.000000</td>\n",
       "      <td>12.000000</td>\n",
       "      <td>0.0</td>\n",
       "      <td>99998.000000</td>\n",
       "    </tr>\n",
       "  </tbody>\n",
       "</table>\n",
       "</div>"
      ],
      "text/plain": [
       "               Price  RegistrationYear          Power      Kilometer  \\\n",
       "count  354369.000000     354369.000000  354369.000000  354369.000000   \n",
       "mean     4416.656776       2004.234448     110.094337  128211.172535   \n",
       "std      4514.158514         90.227958     189.850405   37905.341530   \n",
       "min         0.000000       1000.000000       0.000000    5000.000000   \n",
       "25%      1050.000000       1999.000000      69.000000  125000.000000   \n",
       "50%      2700.000000       2003.000000     105.000000  150000.000000   \n",
       "75%      6400.000000       2008.000000     143.000000  150000.000000   \n",
       "max     20000.000000       9999.000000   20000.000000  150000.000000   \n",
       "\n",
       "       RegistrationMonth  NumberOfPictures     PostalCode  \n",
       "count      354369.000000          354369.0  354369.000000  \n",
       "mean            5.714645               0.0   50508.689087  \n",
       "std             3.726421               0.0   25783.096248  \n",
       "min             0.000000               0.0    1067.000000  \n",
       "25%             3.000000               0.0   30165.000000  \n",
       "50%             6.000000               0.0   49413.000000  \n",
       "75%             9.000000               0.0   71083.000000  \n",
       "max            12.000000               0.0   99998.000000  "
      ]
     },
     "execution_count": 34,
     "metadata": {},
     "output_type": "execute_result"
    }
   ],
   "source": [
    "data.describe()"
   ]
  },
  {
   "cell_type": "code",
   "execution_count": 35,
   "metadata": {},
   "outputs": [],
   "source": [
    "data = data.query('Price > 0 & RegistrationYear > 1899 & RegistrationYear < 2023 & Power > 0 & Power < 2000')"
   ]
  },
  {
   "cell_type": "code",
   "execution_count": 36,
   "metadata": {},
   "outputs": [
    {
     "name": "stdout",
     "output_type": "stream",
     "text": [
      "<class 'pandas.core.frame.DataFrame'>\n",
      "Int64Index: 307084 entries, 1 to 354368\n",
      "Data columns (total 13 columns):\n",
      " #   Column             Non-Null Count   Dtype \n",
      "---  ------             --------------   ----- \n",
      " 0   Price              307084 non-null  int64 \n",
      " 1   VehicleType        285739 non-null  object\n",
      " 2   RegistrationYear   307084 non-null  int64 \n",
      " 3   Gearbox            301002 non-null  object\n",
      " 4   Power              307084 non-null  int64 \n",
      " 5   Model              294618 non-null  object\n",
      " 6   Kilometer          307084 non-null  int64 \n",
      " 7   RegistrationMonth  307084 non-null  int64 \n",
      " 8   FuelType           287301 non-null  object\n",
      " 9   Brand              307084 non-null  object\n",
      " 10  Repaired           259961 non-null  object\n",
      " 11  NumberOfPictures   307084 non-null  int64 \n",
      " 12  PostalCode         307084 non-null  int64 \n",
      "dtypes: int64(7), object(6)\n",
      "memory usage: 32.8+ MB\n"
     ]
    }
   ],
   "source": [
    "data.info()"
   ]
  },
  {
   "cell_type": "markdown",
   "metadata": {},
   "source": [
    "Мы убрали всех аутлайеров, значений было 354000 а стало 307000, что не является критичным. Теперь поработаем над пропусками и дубликатами"
   ]
  },
  {
   "cell_type": "markdown",
   "metadata": {},
   "source": [
    "Хорошо, принял, тогда предлагаю их вообще не удалять, так как их всего несколько строк и они мало на что повлияют"
   ]
  },
  {
   "cell_type": "markdown",
   "metadata": {},
   "source": [
    "Дубликаты удалили успешно, удалилось всего несколько строк, далее можно просто удалить все пропуски, конечно, их достаточно много, но в любом случае у нас останется более 200000 значений"
   ]
  },
  {
   "cell_type": "code",
   "execution_count": 42,
   "metadata": {},
   "outputs": [
    {
     "data": {
      "text/plain": [
       "Price                   0\n",
       "VehicleType            24\n",
       "RegistrationYear        0\n",
       "Gearbox              6082\n",
       "Power                   0\n",
       "Model                  23\n",
       "Kilometer               0\n",
       "RegistrationMonth       0\n",
       "FuelType               37\n",
       "Brand                   0\n",
       "Repaired               70\n",
       "NumberOfPictures        0\n",
       "PostalCode              0\n",
       "dtype: int64"
      ]
     },
     "execution_count": 42,
     "metadata": {},
     "output_type": "execute_result"
    }
   ],
   "source": [
    "data.isnull().sum()"
   ]
  },
  {
   "cell_type": "markdown",
   "metadata": {},
   "source": [
    "Для начала попробуем восстановить тип кузова исходя из мощности, понятно, что есть множество разных, но тем не менее обычно у конкретной модели конкретное количество мощности и лошадиных сил, условно у тех же малолитражен может быть от 90 до 120 лошадиных сил в зависимости от конкретного производителя, с фуел тайпом сделаем тоже самое, как и с моделью, что касается ремонта, то какие то двигатели ремнтируются чаще, какие то реже, поэтому это также можно привязать к мощности"
   ]
  },
  {
   "cell_type": "code",
   "execution_count": 43,
   "metadata": {},
   "outputs": [],
   "source": [
    "data['VehicleType'] = data['VehicleType'].fillna(data.groupby('Power')['VehicleType'].transform(lambda x: x.mode()[0] if not x.mode().empty else np.nan))\n",
    "data['Model'] = data['Model'].fillna(data.groupby('Power')['Model'].transform(lambda x: x.mode()[0] if not x.mode().empty else np.nan))\n",
    "data['FuelType'] = data['FuelType'].fillna(data.groupby('Power')['FuelType'].transform(lambda x: x.mode()[0] if not x.mode().empty else np.nan))\n",
    "data['Repaired'] = data['Repaired'].fillna(data.groupby('Power')['Repaired'].transform(lambda x: x.mode()[0] if not x.mode().empty else np.nan))\n",
    "data['Gearbox'] = data['Gearbox'].fillna(data.groupby('Power')['Gearbox'].transform(lambda x: x.mode()[0] if not x.mode().empty else np.nan))"
   ]
  },
  {
   "cell_type": "code",
   "execution_count": 44,
   "metadata": {},
   "outputs": [
    {
     "name": "stdout",
     "output_type": "stream",
     "text": [
      "<class 'pandas.core.frame.DataFrame'>\n",
      "Int64Index: 306969 entries, 1 to 354368\n",
      "Data columns (total 13 columns):\n",
      " #   Column             Non-Null Count   Dtype \n",
      "---  ------             --------------   ----- \n",
      " 0   Price              306969 non-null  int64 \n",
      " 1   VehicleType        306969 non-null  object\n",
      " 2   RegistrationYear   306969 non-null  int64 \n",
      " 3   Gearbox            306969 non-null  object\n",
      " 4   Power              306969 non-null  int64 \n",
      " 5   Model              306969 non-null  object\n",
      " 6   Kilometer          306969 non-null  int64 \n",
      " 7   RegistrationMonth  306969 non-null  int64 \n",
      " 8   FuelType           306969 non-null  object\n",
      " 9   Brand              306969 non-null  object\n",
      " 10  Repaired           306969 non-null  object\n",
      " 11  NumberOfPictures   306969 non-null  int64 \n",
      " 12  PostalCode         306969 non-null  int64 \n",
      "dtypes: int64(7), object(6)\n",
      "memory usage: 32.8+ MB\n"
     ]
    }
   ],
   "source": [
    "data = data.dropna()\n",
    "data.info()"
   ]
  },
  {
   "cell_type": "markdown",
   "metadata": {},
   "source": [
    "Данных осталось гораздо больше"
   ]
  },
  {
   "cell_type": "markdown",
   "metadata": {},
   "source": [
    "Также чтобы у нас верно работало машинное обучение нужно превратить признаки типа object в categorical, но это я сделаю после деления датасета"
   ]
  },
  {
   "cell_type": "markdown",
   "metadata": {},
   "source": [
    "После небольшой первичной обработки данных можно начать обучать модели и работать с этими данными"
   ]
  },
  {
   "cell_type": "markdown",
   "metadata": {},
   "source": [
    "Тут напишу что было сделано с данными:\n",
    "\n",
    "    1. Проверены аутлайеры а также просто ненормальные и нелогичные значения\n",
    "    \n",
    "    2. Были удалены такие значения\n",
    "    \n",
    "    3. Были удалены дубликаты\n",
    "    \n",
    "    4. Были обработаны пропуски"
   ]
  },
  {
   "cell_type": "markdown",
   "metadata": {},
   "source": [
    "## Обучение моделей"
   ]
  },
  {
   "cell_type": "markdown",
   "metadata": {},
   "source": [
    "Для начала разделим датасет на обучающую и тестовую выборки, также выделим таргет переменную и признаки."
   ]
  },
  {
   "cell_type": "code",
   "execution_count": 46,
   "metadata": {},
   "outputs": [],
   "source": [
    "target = data['Price']\n",
    "features = data.drop('Price', axis = 1)\n",
    "for col in features.columns:\n",
    "    col_type = features[col].dtype\n",
    "    if col_type == 'object' or col_type.name == 'category':\n",
    "        features[col] = features[col].astype('category')\n",
    "features_train, features_valid1, target_train, target_valid1 = train_test_split(\n",
    "    features, target, test_size=0.4, random_state=12345)\n",
    "features_test, features_valid, target_test, target_valid = train_test_split(\n",
    "    features_valid1, target_valid1, test_size=0.5, random_state=12345)"
   ]
  },
  {
   "cell_type": "code",
   "execution_count": 18,
   "metadata": {},
   "outputs": [],
   "source": [
    "start = time.time() \n",
    "param_grid = {\n",
    "    'class_weight': [None, 'balanced'],\n",
    "    'boosting_type': ['gbdt', 'goss', 'dart'],\n",
    "    'num_leaves': list(range(30, 150)),\n",
    "    'learning_rate': [0.01,0.1,0.5],\n",
    "    'subsample_for_bin': [20000,50000,100000,120000,150000],\n",
    "    'min_child_samples': [20,50,100,200,500],\n",
    "    'colsample_bytree': [0.6,0.8,1],\n",
    "    \"max_depth\": [5,10,50,100]\n",
    "}\n",
    "\n",
    "lgbm = LGBMRegressor() \n",
    "lgbm.fit(features_train, target_train) \n",
    "\n",
    "lgbm_tuned = LGBMRegressor(boosting_type = 'gbdt',\n",
    "                            class_weight = None,\n",
    "                            min_child_samples = 20,\n",
    "                            num_leaves = 30,\n",
    "                            subsample_for_bin = 20000,\n",
    "                            learning_rate=0.01,\n",
    "                            max_depth=10,\n",
    "                            n_estimators=40)\n",
    "lgbm_tuned.fit(features_train, target_train)\n",
    "\n",
    "y_test_pred = lgbm_tuned.predict(features_valid)\n",
    "score = mean_squared_error(target_valid, y_test_pred, squared=False)\n",
    "end = time.time() - start\n",
    "print(score)\n",
    "print(end)"
   ]
  },
  {
   "cell_type": "markdown",
   "metadata": {},
   "source": [
    "Принял, поделю на 3 выборки"
   ]
  },
  {
   "cell_type": "markdown",
   "metadata": {},
   "source": [
    "Результат получился не очень, попробуем еще кэтбуст и рандомный лес"
   ]
  },
  {
   "cell_type": "code",
   "execution_count": 47,
   "metadata": {},
   "outputs": [
    {
     "name": "stdout",
     "output_type": "stream",
     "text": [
      "Learning rate set to 0.5\n",
      "0:\tlearn: 3126.5149833\ttotal: 182ms\tremaining: 8.92s\n",
      "10:\tlearn: 1781.8692743\ttotal: 1.36s\tremaining: 4.81s\n",
      "20:\tlearn: 1689.7064764\ttotal: 2.41s\tremaining: 3.33s\n",
      "30:\tlearn: 1628.2375603\ttotal: 3.52s\tremaining: 2.16s\n",
      "40:\tlearn: 1579.0137787\ttotal: 4.56s\tremaining: 1s\n",
      "49:\tlearn: 1548.6744910\ttotal: 5.55s\tremaining: 0us\n",
      "1683.8770013372055\n",
      "9.178460597991943\n"
     ]
    }
   ],
   "source": [
    "start = time.time() \n",
    "cat_features = ['VehicleType', 'Gearbox', 'Model',\n",
    "                'FuelType', 'Brand', 'Repaired']\n",
    "\n",
    "model_cat = CatBoostRegressor(iterations=50, depth = 10) \n",
    "\n",
    "model_cat.fit(features_train, target_train, cat_features=cat_features, verbose=10)\n",
    "\n",
    "y_test_pred = model_cat.predict(features_valid)\n",
    "end = time.time() - start\n",
    "print(mean_squared_error(target_valid, y_test_pred, squared=False))\n",
    "print(end)"
   ]
  },
  {
   "cell_type": "markdown",
   "metadata": {},
   "source": [
    "Используя другую библиотеку для бустинга получился результат гораздо лучше, RMSE всего 1600. Теперь построим рандомный лес, также применим ван хот енкодинг, чтобы все работало"
   ]
  },
  {
   "cell_type": "code",
   "execution_count": 47,
   "metadata": {},
   "outputs": [
    {
     "data": {
      "text/html": [
       "<div>\n",
       "<style scoped>\n",
       "    .dataframe tbody tr th:only-of-type {\n",
       "        vertical-align: middle;\n",
       "    }\n",
       "\n",
       "    .dataframe tbody tr th {\n",
       "        vertical-align: top;\n",
       "    }\n",
       "\n",
       "    .dataframe thead th {\n",
       "        text-align: right;\n",
       "    }\n",
       "</style>\n",
       "<table border=\"1\" class=\"dataframe\">\n",
       "  <thead>\n",
       "    <tr style=\"text-align: right;\">\n",
       "      <th></th>\n",
       "      <th>Price</th>\n",
       "      <th>RegistrationYear</th>\n",
       "      <th>Power</th>\n",
       "      <th>Kilometer</th>\n",
       "      <th>RegistrationMonth</th>\n",
       "      <th>NumberOfPictures</th>\n",
       "      <th>PostalCode</th>\n",
       "      <th>VehicleType_bus</th>\n",
       "      <th>VehicleType_convertible</th>\n",
       "      <th>VehicleType_coupe</th>\n",
       "      <th>...</th>\n",
       "      <th>Brand_skoda</th>\n",
       "      <th>Brand_smart</th>\n",
       "      <th>Brand_subaru</th>\n",
       "      <th>Brand_suzuki</th>\n",
       "      <th>Brand_toyota</th>\n",
       "      <th>Brand_trabant</th>\n",
       "      <th>Brand_volkswagen</th>\n",
       "      <th>Brand_volvo</th>\n",
       "      <th>Repaired_no</th>\n",
       "      <th>Repaired_yes</th>\n",
       "    </tr>\n",
       "  </thead>\n",
       "  <tbody>\n",
       "    <tr>\n",
       "      <th>3</th>\n",
       "      <td>1500</td>\n",
       "      <td>2001</td>\n",
       "      <td>75</td>\n",
       "      <td>150000</td>\n",
       "      <td>6</td>\n",
       "      <td>0</td>\n",
       "      <td>91074</td>\n",
       "      <td>0</td>\n",
       "      <td>0</td>\n",
       "      <td>0</td>\n",
       "      <td>...</td>\n",
       "      <td>0</td>\n",
       "      <td>0</td>\n",
       "      <td>0</td>\n",
       "      <td>0</td>\n",
       "      <td>0</td>\n",
       "      <td>0</td>\n",
       "      <td>1</td>\n",
       "      <td>0</td>\n",
       "      <td>1</td>\n",
       "      <td>0</td>\n",
       "    </tr>\n",
       "    <tr>\n",
       "      <th>4</th>\n",
       "      <td>3600</td>\n",
       "      <td>2008</td>\n",
       "      <td>69</td>\n",
       "      <td>90000</td>\n",
       "      <td>7</td>\n",
       "      <td>0</td>\n",
       "      <td>60437</td>\n",
       "      <td>0</td>\n",
       "      <td>0</td>\n",
       "      <td>0</td>\n",
       "      <td>...</td>\n",
       "      <td>1</td>\n",
       "      <td>0</td>\n",
       "      <td>0</td>\n",
       "      <td>0</td>\n",
       "      <td>0</td>\n",
       "      <td>0</td>\n",
       "      <td>0</td>\n",
       "      <td>0</td>\n",
       "      <td>1</td>\n",
       "      <td>0</td>\n",
       "    </tr>\n",
       "    <tr>\n",
       "      <th>5</th>\n",
       "      <td>650</td>\n",
       "      <td>1995</td>\n",
       "      <td>102</td>\n",
       "      <td>150000</td>\n",
       "      <td>10</td>\n",
       "      <td>0</td>\n",
       "      <td>33775</td>\n",
       "      <td>0</td>\n",
       "      <td>0</td>\n",
       "      <td>0</td>\n",
       "      <td>...</td>\n",
       "      <td>0</td>\n",
       "      <td>0</td>\n",
       "      <td>0</td>\n",
       "      <td>0</td>\n",
       "      <td>0</td>\n",
       "      <td>0</td>\n",
       "      <td>0</td>\n",
       "      <td>0</td>\n",
       "      <td>0</td>\n",
       "      <td>1</td>\n",
       "    </tr>\n",
       "    <tr>\n",
       "      <th>6</th>\n",
       "      <td>2200</td>\n",
       "      <td>2004</td>\n",
       "      <td>109</td>\n",
       "      <td>150000</td>\n",
       "      <td>8</td>\n",
       "      <td>0</td>\n",
       "      <td>67112</td>\n",
       "      <td>0</td>\n",
       "      <td>1</td>\n",
       "      <td>0</td>\n",
       "      <td>...</td>\n",
       "      <td>0</td>\n",
       "      <td>0</td>\n",
       "      <td>0</td>\n",
       "      <td>0</td>\n",
       "      <td>0</td>\n",
       "      <td>0</td>\n",
       "      <td>0</td>\n",
       "      <td>0</td>\n",
       "      <td>1</td>\n",
       "      <td>0</td>\n",
       "    </tr>\n",
       "    <tr>\n",
       "      <th>10</th>\n",
       "      <td>2000</td>\n",
       "      <td>2004</td>\n",
       "      <td>105</td>\n",
       "      <td>150000</td>\n",
       "      <td>12</td>\n",
       "      <td>0</td>\n",
       "      <td>96224</td>\n",
       "      <td>0</td>\n",
       "      <td>0</td>\n",
       "      <td>0</td>\n",
       "      <td>...</td>\n",
       "      <td>0</td>\n",
       "      <td>0</td>\n",
       "      <td>0</td>\n",
       "      <td>0</td>\n",
       "      <td>0</td>\n",
       "      <td>0</td>\n",
       "      <td>0</td>\n",
       "      <td>0</td>\n",
       "      <td>1</td>\n",
       "      <td>0</td>\n",
       "    </tr>\n",
       "  </tbody>\n",
       "</table>\n",
       "<p>5 rows × 314 columns</p>\n",
       "</div>"
      ],
      "text/plain": [
       "    Price  RegistrationYear  Power  Kilometer  RegistrationMonth  \\\n",
       "3    1500              2001     75     150000                  6   \n",
       "4    3600              2008     69      90000                  7   \n",
       "5     650              1995    102     150000                 10   \n",
       "6    2200              2004    109     150000                  8   \n",
       "10   2000              2004    105     150000                 12   \n",
       "\n",
       "    NumberOfPictures  PostalCode  VehicleType_bus  VehicleType_convertible  \\\n",
       "3                  0       91074                0                        0   \n",
       "4                  0       60437                0                        0   \n",
       "5                  0       33775                0                        0   \n",
       "6                  0       67112                0                        1   \n",
       "10                 0       96224                0                        0   \n",
       "\n",
       "    VehicleType_coupe  ...  Brand_skoda  Brand_smart  Brand_subaru  \\\n",
       "3                   0  ...            0            0             0   \n",
       "4                   0  ...            1            0             0   \n",
       "5                   0  ...            0            0             0   \n",
       "6                   0  ...            0            0             0   \n",
       "10                  0  ...            0            0             0   \n",
       "\n",
       "    Brand_suzuki  Brand_toyota  Brand_trabant  Brand_volkswagen  Brand_volvo  \\\n",
       "3              0             0              0                 1            0   \n",
       "4              0             0              0                 0            0   \n",
       "5              0             0              0                 0            0   \n",
       "6              0             0              0                 0            0   \n",
       "10             0             0              0                 0            0   \n",
       "\n",
       "    Repaired_no  Repaired_yes  \n",
       "3             1             0  \n",
       "4             1             0  \n",
       "5             0             1  \n",
       "6             1             0  \n",
       "10            1             0  \n",
       "\n",
       "[5 rows x 314 columns]"
      ]
     },
     "execution_count": 47,
     "metadata": {},
     "output_type": "execute_result"
    }
   ],
   "source": [
    "data1 = pd.get_dummies(data)\n",
    "data1.head()"
   ]
  },
  {
   "cell_type": "code",
   "execution_count": 66,
   "metadata": {},
   "outputs": [],
   "source": [
    "target = data1['Price']\n",
    "features = data1.drop('Price', axis = 1)\n",
    "features_train, features_valid1, target_train, target_valid1 = train_test_split(\n",
    "    features, target, test_size=0.4, random_state=12345)\n",
    "features_test, features_valid, target_test, target_valid = train_test_split(\n",
    "    features_valid1, target_valid1, test_size=0.5, random_state=12345)"
   ]
  },
  {
   "cell_type": "code",
   "execution_count": 71,
   "metadata": {},
   "outputs": [
    {
     "name": "stdout",
     "output_type": "stream",
     "text": [
      "1736.8492163067604\n"
     ]
    }
   ],
   "source": [
    "start = time.time() \n",
    "best_RMSE = 10000\n",
    "for est in range(1, 101, 20):\n",
    "    for depth in range(1, 17, 4):\n",
    "                model = RandomForestRegressor(n_estimators = est, max_depth=depth, random_state=12345)\n",
    "                model.fit(features_train, target_train)\n",
    "                y_test_pred = model.predict(features_valid)\n",
    "                result_RMSE = mean_squared_error(target_valid, y_test_pred, squared=False)\n",
    "                if result_RMSE < best_RMSE:\n",
    "                    best_RMSE = result_RMSE\n",
    "end = time.time() - start\n",
    "print(best_RMSE)\n",
    "print(end)"
   ]
  },
  {
   "cell_type": "markdown",
   "metadata": {},
   "source": [
    "Получился еще один очень хороший результат, очень близкий к кэтбустингу, люблю рандомный лес!"
   ]
  },
  {
   "cell_type": "code",
   "execution_count": 67,
   "metadata": {},
   "outputs": [
    {
     "name": "stdout",
     "output_type": "stream",
     "text": [
      "34.537431478500366\n"
     ]
    }
   ],
   "source": [
    "start = time.time() \n",
    "model = LinearRegression()\n",
    "model.fit(features_train, target_train)\n",
    "y_test_pred = model.predict(features_valid)\n",
    "result_RMSE = mean_squared_error(target_valid, y_test_pred, squared=False)\n",
    "end = time.time() - start\n",
    "print(result_RMSE)\n",
    "print(end)"
   ]
  },
  {
   "cell_type": "markdown",
   "metadata": {},
   "source": [
    "В линейной регрессии результат получился неплохой, но все равно хуже чем в кэтбусте и радомном лесу"
   ]
  },
  {
   "cell_type": "markdown",
   "metadata": {},
   "source": [
    "## Анализ моделей"
   ]
  },
  {
   "cell_type": "markdown",
   "metadata": {},
   "source": [
    "Анализируя все имеющиеся модели самый лучший RMSE получился именно у catboost'а, там он равен 1600, это очень хороший результат, модель обучается достаточно быстро, что также является достойным результатом.\n",
    "\n",
    "Чтобы не быть головловным сделаем предсказания по лучшей модели на тестовой выборке. Что касается времени то кэтбуст также оказлась самой быстрой библиотекой.\n",
    "\n",
    "Обучим ее еще раз и проверим."
   ]
  },
  {
   "cell_type": "code",
   "execution_count": 69,
   "metadata": {},
   "outputs": [],
   "source": [
    "target = data['Price']\n",
    "features = data.drop('Price', axis = 1)\n",
    "for col in features.columns:\n",
    "    col_type = features[col].dtype\n",
    "    if col_type == 'object' or col_type.name == 'category':\n",
    "        features[col] = features[col].astype('category')\n",
    "features_train, features_valid1, target_train, target_valid1 = train_test_split(\n",
    "    features, target, test_size=0.4, random_state=12345)\n",
    "features_test, features_valid, target_test, target_valid = train_test_split(\n",
    "    features_valid1, target_valid1, test_size=0.5, random_state=12345)"
   ]
  },
  {
   "cell_type": "code",
   "execution_count": 70,
   "metadata": {},
   "outputs": [
    {
     "name": "stdout",
     "output_type": "stream",
     "text": [
      "Learning rate set to 0.5\n",
      "0:\tlearn: 3138.7125087\ttotal: 87.1ms\tremaining: 4.27s\n",
      "10:\tlearn: 1713.7630837\ttotal: 908ms\tremaining: 3.22s\n",
      "20:\tlearn: 1615.6439363\ttotal: 1.8s\tremaining: 2.49s\n",
      "30:\tlearn: 1562.2652301\ttotal: 2.67s\tremaining: 1.64s\n",
      "40:\tlearn: 1513.0835306\ttotal: 3.52s\tremaining: 772ms\n",
      "49:\tlearn: 1484.4462215\ttotal: 4.24s\tremaining: 0us\n",
      "1611.1574972351932\n",
      "5.682898283004761\n"
     ]
    }
   ],
   "source": [
    "start = time.time() \n",
    "cat_features = ['VehicleType', 'Gearbox', 'Model',\n",
    "                'FuelType', 'Brand', 'Repaired']\n",
    "\n",
    "model_cat = CatBoostRegressor(iterations=50, depth = 10) \n",
    "\n",
    "model_cat.fit(features_train, target_train, cat_features=cat_features, verbose=10)\n",
    "\n",
    "y_test_pred = model_cat.predict(features_valid)\n",
    "end = time.time() - start\n",
    "print(mean_squared_error(target_valid, y_test_pred, squared=False))\n",
    "print(end)"
   ]
  },
  {
   "cell_type": "code",
   "execution_count": 71,
   "metadata": {},
   "outputs": [
    {
     "name": "stdout",
     "output_type": "stream",
     "text": [
      "1591.1538610589882\n"
     ]
    }
   ],
   "source": [
    "y_pred = model_cat.predict(features_test)\n",
    "print(mean_squared_error(target_test, y_pred, squared=False))"
   ]
  },
  {
   "cell_type": "markdown",
   "metadata": {},
   "source": [
    "Результат"
   ]
  },
  {
   "cell_type": "markdown",
   "metadata": {},
   "source": [
    "Модель catboost'а оказалась самой быстрой и точной моделью, время обучения составляет всего 8-10 секунд. По сравнению с другими моделями, например линейной регрессией, которая обычается все 40 секунд это очень быстро.\n",
    "\n",
    "Точность также очень высокая, RMSE всего лишь 1600, ближайшая к ней 1700 в раномном лесу, который обучается ну очень долго"
   ]
  },
  {
   "cell_type": "markdown",
   "metadata": {},
   "source": [
    "В результате мы получилио обученную модель, которая может предсказывать цену автомобиля.\n",
    "\n",
    "За этот проект было сделано следующее:\n",
    "\n",
    "    1. Проверены аутлайеры а также просто ненормальные и нелогичные значения\n",
    "    \n",
    "    2. Были удалены такие значения\n",
    "    \n",
    "    3. Были удалены дубликаты\n",
    "    \n",
    "    4. Были обработаны пропуски\n",
    "    \n",
    "    5. Был проведен one-hot-encoding\n",
    "    \n",
    "    6. Построена и обучена модель через библиотеку lightGBM\n",
    "    \n",
    "    7. Построена и обучена модель через библиотеку CatBoost\n",
    "    \n",
    "    8. Построена и обучена модель с помощью рандомного леса\n",
    "    \n",
    "    9. Построена и обучена модель с помощью обычной линейной регрессии\n",
    "    \n",
    "Результаты были получены достаточно хорошие, модель предсказывает достаточно четко"
   ]
  }
 ],
 "metadata": {
  "ExecuteTimeLog": [
   {
    "duration": 47,
    "start_time": "2023-07-31T14:15:59.597Z"
   },
   {
    "duration": 1219,
    "start_time": "2023-07-31T14:16:01.965Z"
   },
   {
    "duration": 2838,
    "start_time": "2023-07-31T14:16:03.186Z"
   },
   {
    "duration": 49,
    "start_time": "2023-07-31T20:26:46.217Z"
   },
   {
    "duration": 1198,
    "start_time": "2023-07-31T20:26:49.721Z"
   },
   {
    "duration": 1197,
    "start_time": "2023-07-31T20:26:50.920Z"
   },
   {
    "duration": 159,
    "start_time": "2023-07-31T20:26:52.119Z"
   },
   {
    "duration": 121,
    "start_time": "2023-07-31T20:27:15.845Z"
   },
   {
    "duration": 14,
    "start_time": "2023-07-31T20:34:54.961Z"
   },
   {
    "duration": 108,
    "start_time": "2023-07-31T20:37:00.610Z"
   },
   {
    "duration": 91,
    "start_time": "2023-07-31T21:02:25.323Z"
   },
   {
    "duration": 69,
    "start_time": "2023-07-31T21:48:41.830Z"
   },
   {
    "duration": 63,
    "start_time": "2023-07-31T21:49:42.196Z"
   },
   {
    "duration": 104,
    "start_time": "2023-07-31T21:49:59.129Z"
   },
   {
    "duration": 435,
    "start_time": "2023-07-31T21:51:36.701Z"
   },
   {
    "duration": 498,
    "start_time": "2023-07-31T21:52:00.967Z"
   },
   {
    "duration": 543,
    "start_time": "2023-07-31T21:52:44.147Z"
   },
   {
    "duration": 541,
    "start_time": "2023-07-31T21:53:55.733Z"
   },
   {
    "duration": 9,
    "start_time": "2023-07-31T21:55:40.835Z"
   },
   {
    "duration": 104,
    "start_time": "2023-07-31T21:55:45.148Z"
   },
   {
    "duration": 131,
    "start_time": "2023-07-31T21:56:36.805Z"
   },
   {
    "duration": 190,
    "start_time": "2023-07-31T21:56:47.813Z"
   },
   {
    "duration": 109,
    "start_time": "2023-07-31T21:58:24.952Z"
   },
   {
    "duration": 1599,
    "start_time": "2023-08-02T09:56:10.993Z"
   },
   {
    "duration": 2993,
    "start_time": "2023-08-02T09:56:12.594Z"
   },
   {
    "duration": 143,
    "start_time": "2023-08-02T09:56:15.589Z"
   },
   {
    "duration": 113,
    "start_time": "2023-08-02T09:56:15.733Z"
   },
   {
    "duration": 25,
    "start_time": "2023-08-02T09:56:15.849Z"
   },
   {
    "duration": 149,
    "start_time": "2023-08-02T09:56:15.876Z"
   },
   {
    "duration": 59,
    "start_time": "2023-08-02T09:56:16.027Z"
   },
   {
    "duration": 105,
    "start_time": "2023-08-02T09:56:16.087Z"
   },
   {
    "duration": 554,
    "start_time": "2023-08-02T09:56:16.194Z"
   },
   {
    "duration": 231,
    "start_time": "2023-08-02T09:56:16.749Z"
   },
   {
    "duration": 33,
    "start_time": "2023-08-02T09:57:02.753Z"
   },
   {
    "duration": 143,
    "start_time": "2023-08-02T10:01:31.240Z"
   },
   {
    "duration": 1620,
    "start_time": "2023-08-02T12:59:06.671Z"
   },
   {
    "duration": 2973,
    "start_time": "2023-08-02T12:59:08.294Z"
   },
   {
    "duration": 131,
    "start_time": "2023-08-02T12:59:11.269Z"
   },
   {
    "duration": 143,
    "start_time": "2023-08-02T12:59:11.402Z"
   },
   {
    "duration": 13,
    "start_time": "2023-08-02T12:59:11.547Z"
   },
   {
    "duration": 102,
    "start_time": "2023-08-02T12:59:11.562Z"
   },
   {
    "duration": 63,
    "start_time": "2023-08-02T12:59:11.665Z"
   },
   {
    "duration": 119,
    "start_time": "2023-08-02T12:59:11.730Z"
   },
   {
    "duration": 560,
    "start_time": "2023-08-02T12:59:11.850Z"
   },
   {
    "duration": 235,
    "start_time": "2023-08-02T12:59:12.413Z"
   },
   {
    "duration": 119,
    "start_time": "2023-08-02T12:59:15.946Z"
   },
   {
    "duration": 3,
    "start_time": "2023-08-02T13:00:54.397Z"
   },
   {
    "duration": 191,
    "start_time": "2023-08-02T13:04:37.387Z"
   },
   {
    "duration": 89,
    "start_time": "2023-08-02T13:16:58.914Z"
   },
   {
    "duration": 10,
    "start_time": "2023-08-02T13:17:19.894Z"
   },
   {
    "duration": 3,
    "start_time": "2023-08-02T13:17:30.467Z"
   },
   {
    "duration": 50,
    "start_time": "2023-08-02T13:17:35.303Z"
   },
   {
    "duration": 4,
    "start_time": "2023-08-02T13:21:45.051Z"
   },
   {
    "duration": 1625,
    "start_time": "2023-08-02T19:17:31.648Z"
   },
   {
    "duration": 1173,
    "start_time": "2023-08-02T19:17:33.275Z"
   },
   {
    "duration": 137,
    "start_time": "2023-08-02T19:17:34.450Z"
   },
   {
    "duration": 154,
    "start_time": "2023-08-02T19:17:34.588Z"
   },
   {
    "duration": 16,
    "start_time": "2023-08-02T19:17:34.745Z"
   },
   {
    "duration": 169,
    "start_time": "2023-08-02T19:17:34.763Z"
   },
   {
    "duration": 76,
    "start_time": "2023-08-02T19:17:34.934Z"
   },
   {
    "duration": 148,
    "start_time": "2023-08-02T19:17:35.012Z"
   },
   {
    "duration": 607,
    "start_time": "2023-08-02T19:17:35.162Z"
   },
   {
    "duration": 267,
    "start_time": "2023-08-02T19:17:35.771Z"
   },
   {
    "duration": 596,
    "start_time": "2023-08-02T19:18:03.359Z"
   },
   {
    "duration": 1038,
    "start_time": "2023-08-02T19:18:19.793Z"
   },
   {
    "duration": 382087,
    "start_time": "2023-08-02T19:18:22.151Z"
   },
   {
    "duration": 670199,
    "start_time": "2023-08-02T19:25:27.406Z"
   },
   {
    "duration": 601356,
    "start_time": "2023-08-02T19:47:22.247Z"
   },
   {
    "duration": 568806,
    "start_time": "2023-08-02T20:28:25.987Z"
   },
   {
    "duration": 5,
    "start_time": "2023-08-02T21:21:47.486Z"
   },
   {
    "duration": 572938,
    "start_time": "2023-08-02T21:21:52.467Z"
   },
   {
    "duration": 1965,
    "start_time": "2023-08-03T13:19:15.512Z"
   },
   {
    "duration": 1314,
    "start_time": "2023-08-03T13:19:17.480Z"
   },
   {
    "duration": 149,
    "start_time": "2023-08-03T13:19:18.796Z"
   },
   {
    "duration": 155,
    "start_time": "2023-08-03T13:19:18.947Z"
   },
   {
    "duration": 14,
    "start_time": "2023-08-03T13:19:19.104Z"
   },
   {
    "duration": 116,
    "start_time": "2023-08-03T13:19:19.120Z"
   },
   {
    "duration": 57,
    "start_time": "2023-08-03T13:19:19.238Z"
   },
   {
    "duration": 129,
    "start_time": "2023-08-03T13:19:19.297Z"
   },
   {
    "duration": 591,
    "start_time": "2023-08-03T13:19:19.428Z"
   },
   {
    "duration": 249,
    "start_time": "2023-08-03T13:19:24.935Z"
   },
   {
    "duration": 953,
    "start_time": "2023-08-03T13:19:40.464Z"
   },
   {
    "duration": 119,
    "start_time": "2023-08-03T13:21:39.571Z"
   },
   {
    "duration": 4,
    "start_time": "2023-08-03T14:06:20.828Z"
   },
   {
    "duration": 65,
    "start_time": "2023-08-03T14:06:25.768Z"
   },
   {
    "duration": 22,
    "start_time": "2023-08-03T14:06:35.435Z"
   },
   {
    "duration": 165,
    "start_time": "2023-08-03T14:09:34.663Z"
   },
   {
    "duration": 10,
    "start_time": "2023-08-03T14:09:41.449Z"
   },
   {
    "duration": 66,
    "start_time": "2023-08-03T14:10:17.309Z"
   },
   {
    "duration": 15,
    "start_time": "2023-08-03T14:10:23.816Z"
   },
   {
    "duration": 2295,
    "start_time": "2023-08-03T14:10:44.964Z"
   },
   {
    "duration": 13,
    "start_time": "2023-08-03T14:10:59.670Z"
   },
   {
    "duration": 4,
    "start_time": "2023-08-03T14:11:14.963Z"
   },
   {
    "duration": 888,
    "start_time": "2023-08-03T14:11:14.969Z"
   },
   {
    "duration": 101,
    "start_time": "2023-08-03T14:11:15.859Z"
   },
   {
    "duration": 160,
    "start_time": "2023-08-03T14:11:15.962Z"
   },
   {
    "duration": 14,
    "start_time": "2023-08-03T14:11:16.125Z"
   },
   {
    "duration": 28,
    "start_time": "2023-08-03T14:11:16.142Z"
   },
   {
    "duration": 112,
    "start_time": "2023-08-03T14:11:16.172Z"
   },
   {
    "duration": 39,
    "start_time": "2023-08-03T14:11:16.286Z"
   },
   {
    "duration": 107,
    "start_time": "2023-08-03T14:11:16.327Z"
   },
   {
    "duration": 303,
    "start_time": "2023-08-03T14:11:16.436Z"
   },
   {
    "duration": 170,
    "start_time": "2023-08-03T14:11:16.741Z"
   },
   {
    "duration": 3028,
    "start_time": "2023-08-03T14:11:27.454Z"
   },
   {
    "duration": 12,
    "start_time": "2023-08-03T14:12:37.308Z"
   },
   {
    "duration": 4,
    "start_time": "2023-08-03T14:12:53.319Z"
   },
   {
    "duration": 886,
    "start_time": "2023-08-03T14:12:53.326Z"
   },
   {
    "duration": 111,
    "start_time": "2023-08-03T14:12:54.214Z"
   },
   {
    "duration": 152,
    "start_time": "2023-08-03T14:12:54.327Z"
   },
   {
    "duration": 32,
    "start_time": "2023-08-03T14:12:54.481Z"
   },
   {
    "duration": 20,
    "start_time": "2023-08-03T14:12:54.514Z"
   },
   {
    "duration": 114,
    "start_time": "2023-08-03T14:12:54.536Z"
   },
   {
    "duration": 32,
    "start_time": "2023-08-03T14:12:54.652Z"
   },
   {
    "duration": 112,
    "start_time": "2023-08-03T14:12:54.694Z"
   },
   {
    "duration": 278,
    "start_time": "2023-08-03T14:12:54.810Z"
   },
   {
    "duration": 162,
    "start_time": "2023-08-03T14:12:55.095Z"
   },
   {
    "duration": 157,
    "start_time": "2023-08-03T14:12:55.258Z"
   },
   {
    "duration": 7627,
    "start_time": "2023-08-03T14:13:04.608Z"
   },
   {
    "duration": 135,
    "start_time": "2023-08-03T15:29:41.987Z"
   },
   {
    "duration": 10,
    "start_time": "2023-08-03T15:40:34.806Z"
   },
   {
    "duration": 10,
    "start_time": "2023-08-03T15:41:21.594Z"
   },
   {
    "duration": 32,
    "start_time": "2023-08-03T15:41:27.713Z"
   },
   {
    "duration": 17,
    "start_time": "2023-08-03T15:41:31.334Z"
   },
   {
    "duration": 58,
    "start_time": "2023-08-03T15:41:56.253Z"
   },
   {
    "duration": 9,
    "start_time": "2023-08-03T15:45:33.930Z"
   },
   {
    "duration": 4,
    "start_time": "2023-08-03T15:45:59.988Z"
   },
   {
    "duration": 10,
    "start_time": "2023-08-03T15:46:05.988Z"
   },
   {
    "duration": 50,
    "start_time": "2023-08-03T15:46:19.918Z"
   },
   {
    "duration": 13,
    "start_time": "2023-08-03T15:48:30.028Z"
   },
   {
    "duration": 5,
    "start_time": "2023-08-03T15:49:56.394Z"
   },
   {
    "duration": 10,
    "start_time": "2023-08-03T15:50:42.692Z"
   },
   {
    "duration": 99,
    "start_time": "2023-08-03T15:51:59.185Z"
   },
   {
    "duration": 51,
    "start_time": "2023-08-03T16:02:39.469Z"
   },
   {
    "duration": 10,
    "start_time": "2023-08-03T16:09:42.159Z"
   },
   {
    "duration": 29,
    "start_time": "2023-08-03T16:10:12.219Z"
   },
   {
    "duration": 359,
    "start_time": "2023-08-03T16:50:53.392Z"
   },
   {
    "duration": 175,
    "start_time": "2023-08-03T16:51:00.239Z"
   },
   {
    "duration": 578,
    "start_time": "2023-08-03T16:51:53.254Z"
   },
   {
    "duration": 1071958,
    "start_time": "2023-08-03T16:52:13.674Z"
   },
   {
    "duration": 1090348,
    "start_time": "2023-08-03T21:29:14.213Z"
   },
   {
    "duration": 14507,
    "start_time": "2023-08-03T21:52:04.399Z"
   },
   {
    "duration": 1045653,
    "start_time": "2023-08-03T21:55:12.200Z"
   },
   {
    "duration": 2925,
    "start_time": "2023-08-04T10:35:47.587Z"
   },
   {
    "duration": 1093,
    "start_time": "2023-08-04T10:35:50.514Z"
   },
   {
    "duration": 96,
    "start_time": "2023-08-04T10:35:51.609Z"
   },
   {
    "duration": 146,
    "start_time": "2023-08-04T10:35:51.706Z"
   },
   {
    "duration": 14,
    "start_time": "2023-08-04T10:35:51.854Z"
   },
   {
    "duration": 46,
    "start_time": "2023-08-04T10:35:51.870Z"
   },
   {
    "duration": 104,
    "start_time": "2023-08-04T10:35:51.918Z"
   },
   {
    "duration": 42,
    "start_time": "2023-08-04T10:35:52.023Z"
   },
   {
    "duration": 111,
    "start_time": "2023-08-04T10:35:52.067Z"
   },
   {
    "duration": 9,
    "start_time": "2023-08-04T10:35:52.181Z"
   },
   {
    "duration": 270,
    "start_time": "2023-08-04T10:35:52.191Z"
   },
   {
    "duration": 161,
    "start_time": "2023-08-04T10:35:52.463Z"
   },
   {
    "duration": 132,
    "start_time": "2023-08-04T10:36:04.513Z"
   },
   {
    "duration": 194,
    "start_time": "2023-08-04T10:36:51.562Z"
   },
   {
    "duration": 267,
    "start_time": "2023-08-04T10:36:55.244Z"
   },
   {
    "duration": 8,
    "start_time": "2023-08-04T10:37:15.832Z"
   },
   {
    "duration": 1058,
    "start_time": "2023-08-04T10:37:15.844Z"
   },
   {
    "duration": 134,
    "start_time": "2023-08-04T10:37:16.905Z"
   },
   {
    "duration": 154,
    "start_time": "2023-08-04T10:37:17.041Z"
   },
   {
    "duration": 15,
    "start_time": "2023-08-04T10:37:17.198Z"
   },
   {
    "duration": 26,
    "start_time": "2023-08-04T10:37:17.215Z"
   },
   {
    "duration": 165,
    "start_time": "2023-08-04T10:37:17.243Z"
   },
   {
    "duration": 32,
    "start_time": "2023-08-04T10:37:17.410Z"
   },
   {
    "duration": 102,
    "start_time": "2023-08-04T10:37:17.443Z"
   },
   {
    "duration": 9,
    "start_time": "2023-08-04T10:37:17.547Z"
   },
   {
    "duration": 174,
    "start_time": "2023-08-04T10:37:17.558Z"
   },
   {
    "duration": 1957,
    "start_time": "2023-08-04T10:37:52.576Z"
   },
   {
    "duration": 879,
    "start_time": "2023-08-04T10:37:54.536Z"
   },
   {
    "duration": 118,
    "start_time": "2023-08-04T10:37:55.417Z"
   },
   {
    "duration": 182,
    "start_time": "2023-08-04T10:37:55.536Z"
   },
   {
    "duration": 14,
    "start_time": "2023-08-04T10:37:55.721Z"
   },
   {
    "duration": 32,
    "start_time": "2023-08-04T10:37:55.737Z"
   },
   {
    "duration": 108,
    "start_time": "2023-08-04T10:37:55.795Z"
   },
   {
    "duration": 36,
    "start_time": "2023-08-04T10:37:55.904Z"
   },
   {
    "duration": 154,
    "start_time": "2023-08-04T10:37:55.942Z"
   },
   {
    "duration": 2,
    "start_time": "2023-08-04T10:37:56.098Z"
   },
   {
    "duration": 297,
    "start_time": "2023-08-04T10:37:56.103Z"
   },
   {
    "duration": 272,
    "start_time": "2023-08-04T10:37:56.403Z"
   },
   {
    "duration": 204,
    "start_time": "2023-08-04T10:41:30.819Z"
   },
   {
    "duration": 137,
    "start_time": "2023-08-04T10:41:42.470Z"
   },
   {
    "duration": 28,
    "start_time": "2023-08-04T10:42:48.480Z"
   },
   {
    "duration": 64,
    "start_time": "2023-08-04T10:43:02.705Z"
   },
   {
    "duration": 466,
    "start_time": "2023-08-04T10:43:11.260Z"
   },
   {
    "duration": 56,
    "start_time": "2023-08-04T10:43:15.179Z"
   },
   {
    "duration": 6,
    "start_time": "2023-08-04T10:44:47.400Z"
   },
   {
    "duration": 807,
    "start_time": "2023-08-04T10:44:47.408Z"
   },
   {
    "duration": 100,
    "start_time": "2023-08-04T10:44:48.217Z"
   },
   {
    "duration": 165,
    "start_time": "2023-08-04T10:44:48.319Z"
   },
   {
    "duration": 14,
    "start_time": "2023-08-04T10:44:48.496Z"
   },
   {
    "duration": 21,
    "start_time": "2023-08-04T10:44:48.512Z"
   },
   {
    "duration": 120,
    "start_time": "2023-08-04T10:44:48.535Z"
   },
   {
    "duration": 38,
    "start_time": "2023-08-04T10:44:48.657Z"
   },
   {
    "duration": 98,
    "start_time": "2023-08-04T10:44:48.697Z"
   },
   {
    "duration": 3,
    "start_time": "2023-08-04T10:44:48.797Z"
   },
   {
    "duration": 181,
    "start_time": "2023-08-04T10:44:48.802Z"
   },
   {
    "duration": 157,
    "start_time": "2023-08-04T10:44:48.985Z"
   },
   {
    "duration": 8,
    "start_time": "2023-08-04T10:45:22.281Z"
   },
   {
    "duration": 982,
    "start_time": "2023-08-04T10:45:22.294Z"
   },
   {
    "duration": 107,
    "start_time": "2023-08-04T10:45:23.279Z"
   },
   {
    "duration": 150,
    "start_time": "2023-08-04T10:45:23.388Z"
   },
   {
    "duration": 51,
    "start_time": "2023-08-04T10:45:23.542Z"
   },
   {
    "duration": 94,
    "start_time": "2023-08-04T10:45:23.596Z"
   },
   {
    "duration": 137,
    "start_time": "2023-08-04T10:45:23.693Z"
   },
   {
    "duration": 32,
    "start_time": "2023-08-04T10:45:23.831Z"
   },
   {
    "duration": 106,
    "start_time": "2023-08-04T10:45:23.864Z"
   },
   {
    "duration": 4,
    "start_time": "2023-08-04T10:45:23.972Z"
   },
   {
    "duration": 188,
    "start_time": "2023-08-04T10:45:23.978Z"
   },
   {
    "duration": 238,
    "start_time": "2023-08-04T10:45:24.170Z"
   },
   {
    "duration": 8413,
    "start_time": "2023-08-04T10:46:02.150Z"
   },
   {
    "duration": 177,
    "start_time": "2023-08-04T10:54:51.368Z"
   },
   {
    "duration": 6339,
    "start_time": "2023-08-04T10:54:56.576Z"
   },
   {
    "duration": 6018,
    "start_time": "2023-08-04T10:55:16.011Z"
   },
   {
    "duration": 440,
    "start_time": "2023-08-04T10:56:28.935Z"
   },
   {
    "duration": 420,
    "start_time": "2023-08-04T10:56:45.545Z"
   },
   {
    "duration": 42493,
    "start_time": "2023-08-04T10:56:48.713Z"
   },
   {
    "duration": 13,
    "start_time": "2023-08-04T11:12:50.793Z"
   },
   {
    "duration": 22,
    "start_time": "2023-08-04T11:13:11.443Z"
   },
   {
    "duration": 12,
    "start_time": "2023-08-04T11:13:36.292Z"
   },
   {
    "duration": 944,
    "start_time": "2023-08-04T11:13:36.306Z"
   },
   {
    "duration": 109,
    "start_time": "2023-08-04T11:13:37.252Z"
   },
   {
    "duration": 156,
    "start_time": "2023-08-04T11:13:37.363Z"
   },
   {
    "duration": 24,
    "start_time": "2023-08-04T11:13:37.522Z"
   },
   {
    "duration": 33,
    "start_time": "2023-08-04T11:13:37.548Z"
   },
   {
    "duration": 105,
    "start_time": "2023-08-04T11:13:37.583Z"
   },
   {
    "duration": 33,
    "start_time": "2023-08-04T11:13:37.689Z"
   },
   {
    "duration": 111,
    "start_time": "2023-08-04T11:13:37.724Z"
   },
   {
    "duration": 3,
    "start_time": "2023-08-04T11:13:37.837Z"
   },
   {
    "duration": 188,
    "start_time": "2023-08-04T11:13:37.842Z"
   },
   {
    "duration": 166,
    "start_time": "2023-08-04T11:13:38.032Z"
   },
   {
    "duration": 5748,
    "start_time": "2023-08-04T11:13:43.345Z"
   },
   {
    "duration": 58,
    "start_time": "2023-08-04T11:14:03.314Z"
   },
   {
    "duration": 363,
    "start_time": "2023-08-04T11:14:09.165Z"
   },
   {
    "duration": 34547,
    "start_time": "2023-08-04T11:14:11.760Z"
   },
   {
    "duration": 1944,
    "start_time": "2023-08-04T11:17:53.894Z"
   },
   {
    "duration": 160,
    "start_time": "2023-08-04T11:21:49.412Z"
   },
   {
    "duration": 5688,
    "start_time": "2023-08-04T11:21:50.127Z"
   },
   {
    "duration": 57,
    "start_time": "2023-08-04T11:22:08.918Z"
   },
   {
    "duration": 5,
    "start_time": "2023-08-04T11:48:41.545Z"
   },
   {
    "duration": 882,
    "start_time": "2023-08-04T11:48:41.553Z"
   },
   {
    "duration": 106,
    "start_time": "2023-08-04T11:48:42.436Z"
   },
   {
    "duration": 189,
    "start_time": "2023-08-04T11:48:42.544Z"
   },
   {
    "duration": 15,
    "start_time": "2023-08-04T11:48:42.736Z"
   },
   {
    "duration": 21,
    "start_time": "2023-08-04T11:48:42.752Z"
   },
   {
    "duration": 139,
    "start_time": "2023-08-04T11:48:42.775Z"
   },
   {
    "duration": 32,
    "start_time": "2023-08-04T11:48:42.916Z"
   },
   {
    "duration": 126,
    "start_time": "2023-08-04T11:48:42.950Z"
   },
   {
    "duration": 3,
    "start_time": "2023-08-04T11:48:43.078Z"
   },
   {
    "duration": 2504,
    "start_time": "2023-08-04T11:49:01.332Z"
   },
   {
    "duration": 1009,
    "start_time": "2023-08-04T11:49:03.840Z"
   },
   {
    "duration": 121,
    "start_time": "2023-08-04T11:49:04.852Z"
   },
   {
    "duration": 191,
    "start_time": "2023-08-04T11:49:04.976Z"
   },
   {
    "duration": 31,
    "start_time": "2023-08-04T11:49:05.170Z"
   },
   {
    "duration": 62,
    "start_time": "2023-08-04T11:49:05.205Z"
   },
   {
    "duration": 114,
    "start_time": "2023-08-04T11:49:05.268Z"
   },
   {
    "duration": 64,
    "start_time": "2023-08-04T11:49:05.384Z"
   },
   {
    "duration": 128,
    "start_time": "2023-08-04T11:49:05.450Z"
   },
   {
    "duration": 3,
    "start_time": "2023-08-04T11:49:05.581Z"
   },
   {
    "duration": 166,
    "start_time": "2023-08-04T11:49:28.780Z"
   },
   {
    "duration": 1159,
    "start_time": "2023-08-04T11:50:39.850Z"
   },
   {
    "duration": 8,
    "start_time": "2023-08-04T11:56:36.143Z"
   },
   {
    "duration": 1343,
    "start_time": "2023-08-04T11:56:36.154Z"
   },
   {
    "duration": 119,
    "start_time": "2023-08-04T11:56:37.503Z"
   },
   {
    "duration": 224,
    "start_time": "2023-08-04T11:56:37.625Z"
   },
   {
    "duration": 19,
    "start_time": "2023-08-04T11:56:37.853Z"
   },
   {
    "duration": 28,
    "start_time": "2023-08-04T11:56:37.874Z"
   },
   {
    "duration": 124,
    "start_time": "2023-08-04T11:56:37.904Z"
   },
   {
    "duration": 41,
    "start_time": "2023-08-04T11:56:38.030Z"
   },
   {
    "duration": 117,
    "start_time": "2023-08-04T11:56:38.072Z"
   },
   {
    "duration": 10,
    "start_time": "2023-08-04T11:56:38.191Z"
   },
   {
    "duration": 181,
    "start_time": "2023-08-04T11:56:38.203Z"
   },
   {
    "duration": 447,
    "start_time": "2023-08-04T11:57:07.487Z"
   },
   {
    "duration": 103,
    "start_time": "2023-08-04T11:57:15.519Z"
   },
   {
    "duration": 1309,
    "start_time": "2023-08-04T12:09:13.239Z"
   },
   {
    "duration": 108,
    "start_time": "2023-08-04T12:09:19.269Z"
   },
   {
    "duration": 13,
    "start_time": "2023-08-04T12:09:53.311Z"
   },
   {
    "duration": 1014,
    "start_time": "2023-08-04T12:09:53.330Z"
   },
   {
    "duration": 110,
    "start_time": "2023-08-04T12:09:54.347Z"
   },
   {
    "duration": 205,
    "start_time": "2023-08-04T12:09:54.458Z"
   },
   {
    "duration": 14,
    "start_time": "2023-08-04T12:09:54.665Z"
   },
   {
    "duration": 25,
    "start_time": "2023-08-04T12:09:54.680Z"
   },
   {
    "duration": 147,
    "start_time": "2023-08-04T12:09:54.707Z"
   },
   {
    "duration": 31,
    "start_time": "2023-08-04T12:09:54.856Z"
   },
   {
    "duration": 120,
    "start_time": "2023-08-04T12:09:54.889Z"
   },
   {
    "duration": 49,
    "start_time": "2023-08-04T12:09:55.011Z"
   },
   {
    "duration": 131,
    "start_time": "2023-08-04T12:09:55.061Z"
   },
   {
    "duration": 1238,
    "start_time": "2023-08-04T12:09:59.330Z"
   },
   {
    "duration": 113,
    "start_time": "2023-08-04T12:10:05.314Z"
   },
   {
    "duration": 1755,
    "start_time": "2023-08-04T12:11:33.214Z"
   },
   {
    "duration": 85,
    "start_time": "2023-08-04T12:11:40.524Z"
   },
   {
    "duration": 1831,
    "start_time": "2023-08-04T12:12:30.560Z"
   },
   {
    "duration": 193,
    "start_time": "2023-08-04T12:12:33.211Z"
   },
   {
    "duration": 138,
    "start_time": "2023-08-04T12:12:53.851Z"
   },
   {
    "duration": 221,
    "start_time": "2023-08-04T12:13:10.036Z"
   },
   {
    "duration": 9191,
    "start_time": "2023-08-04T12:13:16.225Z"
   },
   {
    "duration": 51,
    "start_time": "2023-08-05T12:33:48.369Z"
   },
   {
    "duration": 1672,
    "start_time": "2023-08-05T12:33:53.927Z"
   },
   {
    "duration": 2952,
    "start_time": "2023-08-05T12:33:55.602Z"
   },
   {
    "duration": 169,
    "start_time": "2023-08-05T12:33:58.556Z"
   },
   {
    "duration": 65,
    "start_time": "2023-08-05T12:33:58.727Z"
   },
   {
    "duration": 121,
    "start_time": "2023-08-05T12:34:00.491Z"
   }
  ],
  "kernelspec": {
   "display_name": "Python 3",
   "language": "python",
   "name": "python3"
  },
  "language_info": {
   "codemirror_mode": {
    "name": "ipython",
    "version": 3
   },
   "file_extension": ".py",
   "mimetype": "text/x-python",
   "name": "python",
   "nbconvert_exporter": "python",
   "pygments_lexer": "ipython3",
   "version": "3.8.3"
  },
  "toc": {
   "base_numbering": 1,
   "nav_menu": {},
   "number_sections": true,
   "sideBar": true,
   "skip_h1_title": true,
   "title_cell": "Table of Contents",
   "title_sidebar": "Contents",
   "toc_cell": false,
   "toc_position": {},
   "toc_section_display": true,
   "toc_window_display": false
  }
 },
 "nbformat": 4,
 "nbformat_minor": 2
}
