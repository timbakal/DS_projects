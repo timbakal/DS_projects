{
 "cells": [
  {
   "cell_type": "markdown",
   "metadata": {},
   "source": [
    "# Исследование объявлений о продаже квартир\n",
    "\n",
    "В нашем распоряжении данные сервиса Яндекс.Недвижимость — архив объявлений о продаже квартир в Санкт-Петербурге и соседних населённых пунктов за несколько лет. Нужно научиться определять рыночную стоимость объектов недвижимости. Наша задача — установить параметры. Это позволит построить автоматизированную систему: она отследит аномалии и мошенническую деятельность. \n",
    "\n",
    "По каждой квартире на продажу доступны два вида данных. Первые вписаны пользователем, вторые — получены автоматически на основе картографических данных. Например, расстояние до центра, аэропорта, ближайшего парка и водоёма. "
   ]
  },
  {
   "cell_type": "markdown",
   "metadata": {},
   "source": [
    "### Откройте файл с данными и изучите общую информацию. "
   ]
  },
  {
   "cell_type": "markdown",
   "metadata": {},
   "source": [
    "#### Импортирование необхдимых библиотек и получение датасета"
   ]
  },
  {
   "cell_type": "code",
   "execution_count": 2,
   "metadata": {},
   "outputs": [
    {
     "data": {
      "text/html": [
       "<div>\n",
       "<style scoped>\n",
       "    .dataframe tbody tr th:only-of-type {\n",
       "        vertical-align: middle;\n",
       "    }\n",
       "\n",
       "    .dataframe tbody tr th {\n",
       "        vertical-align: top;\n",
       "    }\n",
       "\n",
       "    .dataframe thead th {\n",
       "        text-align: right;\n",
       "    }\n",
       "</style>\n",
       "<table border=\"1\" class=\"dataframe\">\n",
       "  <thead>\n",
       "    <tr style=\"text-align: right;\">\n",
       "      <th></th>\n",
       "      <th>total_images</th>\n",
       "      <th>last_price</th>\n",
       "      <th>total_area</th>\n",
       "      <th>first_day_exposition</th>\n",
       "      <th>rooms</th>\n",
       "      <th>ceiling_height</th>\n",
       "      <th>floors_total</th>\n",
       "      <th>living_area</th>\n",
       "      <th>floor</th>\n",
       "      <th>is_apartment</th>\n",
       "      <th>...</th>\n",
       "      <th>kitchen_area</th>\n",
       "      <th>balcony</th>\n",
       "      <th>locality_name</th>\n",
       "      <th>airports_nearest</th>\n",
       "      <th>cityCenters_nearest</th>\n",
       "      <th>parks_around3000</th>\n",
       "      <th>parks_nearest</th>\n",
       "      <th>ponds_around3000</th>\n",
       "      <th>ponds_nearest</th>\n",
       "      <th>days_exposition</th>\n",
       "    </tr>\n",
       "  </thead>\n",
       "  <tbody>\n",
       "    <tr>\n",
       "      <th>0</th>\n",
       "      <td>20</td>\n",
       "      <td>13000000.0</td>\n",
       "      <td>108.00</td>\n",
       "      <td>2019-03-07T00:00:00</td>\n",
       "      <td>3</td>\n",
       "      <td>2.70</td>\n",
       "      <td>16.0</td>\n",
       "      <td>51.00</td>\n",
       "      <td>8</td>\n",
       "      <td>NaN</td>\n",
       "      <td>...</td>\n",
       "      <td>25.00</td>\n",
       "      <td>NaN</td>\n",
       "      <td>Санкт-Петербург</td>\n",
       "      <td>18863.0</td>\n",
       "      <td>16028.0</td>\n",
       "      <td>1.0</td>\n",
       "      <td>482.0</td>\n",
       "      <td>2.0</td>\n",
       "      <td>755.0</td>\n",
       "      <td>NaN</td>\n",
       "    </tr>\n",
       "    <tr>\n",
       "      <th>1</th>\n",
       "      <td>7</td>\n",
       "      <td>3350000.0</td>\n",
       "      <td>40.40</td>\n",
       "      <td>2018-12-04T00:00:00</td>\n",
       "      <td>1</td>\n",
       "      <td>NaN</td>\n",
       "      <td>11.0</td>\n",
       "      <td>18.60</td>\n",
       "      <td>1</td>\n",
       "      <td>NaN</td>\n",
       "      <td>...</td>\n",
       "      <td>11.00</td>\n",
       "      <td>2.0</td>\n",
       "      <td>посёлок Шушары</td>\n",
       "      <td>12817.0</td>\n",
       "      <td>18603.0</td>\n",
       "      <td>0.0</td>\n",
       "      <td>NaN</td>\n",
       "      <td>0.0</td>\n",
       "      <td>NaN</td>\n",
       "      <td>81.0</td>\n",
       "    </tr>\n",
       "    <tr>\n",
       "      <th>2</th>\n",
       "      <td>10</td>\n",
       "      <td>5196000.0</td>\n",
       "      <td>56.00</td>\n",
       "      <td>2015-08-20T00:00:00</td>\n",
       "      <td>2</td>\n",
       "      <td>NaN</td>\n",
       "      <td>5.0</td>\n",
       "      <td>34.30</td>\n",
       "      <td>4</td>\n",
       "      <td>NaN</td>\n",
       "      <td>...</td>\n",
       "      <td>8.30</td>\n",
       "      <td>0.0</td>\n",
       "      <td>Санкт-Петербург</td>\n",
       "      <td>21741.0</td>\n",
       "      <td>13933.0</td>\n",
       "      <td>1.0</td>\n",
       "      <td>90.0</td>\n",
       "      <td>2.0</td>\n",
       "      <td>574.0</td>\n",
       "      <td>558.0</td>\n",
       "    </tr>\n",
       "    <tr>\n",
       "      <th>3</th>\n",
       "      <td>0</td>\n",
       "      <td>64900000.0</td>\n",
       "      <td>159.00</td>\n",
       "      <td>2015-07-24T00:00:00</td>\n",
       "      <td>3</td>\n",
       "      <td>NaN</td>\n",
       "      <td>14.0</td>\n",
       "      <td>NaN</td>\n",
       "      <td>9</td>\n",
       "      <td>NaN</td>\n",
       "      <td>...</td>\n",
       "      <td>NaN</td>\n",
       "      <td>0.0</td>\n",
       "      <td>Санкт-Петербург</td>\n",
       "      <td>28098.0</td>\n",
       "      <td>6800.0</td>\n",
       "      <td>2.0</td>\n",
       "      <td>84.0</td>\n",
       "      <td>3.0</td>\n",
       "      <td>234.0</td>\n",
       "      <td>424.0</td>\n",
       "    </tr>\n",
       "    <tr>\n",
       "      <th>4</th>\n",
       "      <td>2</td>\n",
       "      <td>10000000.0</td>\n",
       "      <td>100.00</td>\n",
       "      <td>2018-06-19T00:00:00</td>\n",
       "      <td>2</td>\n",
       "      <td>3.03</td>\n",
       "      <td>14.0</td>\n",
       "      <td>32.00</td>\n",
       "      <td>13</td>\n",
       "      <td>NaN</td>\n",
       "      <td>...</td>\n",
       "      <td>41.00</td>\n",
       "      <td>NaN</td>\n",
       "      <td>Санкт-Петербург</td>\n",
       "      <td>31856.0</td>\n",
       "      <td>8098.0</td>\n",
       "      <td>2.0</td>\n",
       "      <td>112.0</td>\n",
       "      <td>1.0</td>\n",
       "      <td>48.0</td>\n",
       "      <td>121.0</td>\n",
       "    </tr>\n",
       "    <tr>\n",
       "      <th>5</th>\n",
       "      <td>10</td>\n",
       "      <td>2890000.0</td>\n",
       "      <td>30.40</td>\n",
       "      <td>2018-09-10T00:00:00</td>\n",
       "      <td>1</td>\n",
       "      <td>NaN</td>\n",
       "      <td>12.0</td>\n",
       "      <td>14.40</td>\n",
       "      <td>5</td>\n",
       "      <td>NaN</td>\n",
       "      <td>...</td>\n",
       "      <td>9.10</td>\n",
       "      <td>NaN</td>\n",
       "      <td>городской посёлок Янино-1</td>\n",
       "      <td>NaN</td>\n",
       "      <td>NaN</td>\n",
       "      <td>NaN</td>\n",
       "      <td>NaN</td>\n",
       "      <td>NaN</td>\n",
       "      <td>NaN</td>\n",
       "      <td>55.0</td>\n",
       "    </tr>\n",
       "    <tr>\n",
       "      <th>6</th>\n",
       "      <td>6</td>\n",
       "      <td>3700000.0</td>\n",
       "      <td>37.30</td>\n",
       "      <td>2017-11-02T00:00:00</td>\n",
       "      <td>1</td>\n",
       "      <td>NaN</td>\n",
       "      <td>26.0</td>\n",
       "      <td>10.60</td>\n",
       "      <td>6</td>\n",
       "      <td>NaN</td>\n",
       "      <td>...</td>\n",
       "      <td>14.40</td>\n",
       "      <td>1.0</td>\n",
       "      <td>посёлок Парголово</td>\n",
       "      <td>52996.0</td>\n",
       "      <td>19143.0</td>\n",
       "      <td>0.0</td>\n",
       "      <td>NaN</td>\n",
       "      <td>0.0</td>\n",
       "      <td>NaN</td>\n",
       "      <td>155.0</td>\n",
       "    </tr>\n",
       "    <tr>\n",
       "      <th>7</th>\n",
       "      <td>5</td>\n",
       "      <td>7915000.0</td>\n",
       "      <td>71.60</td>\n",
       "      <td>2019-04-18T00:00:00</td>\n",
       "      <td>2</td>\n",
       "      <td>NaN</td>\n",
       "      <td>24.0</td>\n",
       "      <td>NaN</td>\n",
       "      <td>22</td>\n",
       "      <td>NaN</td>\n",
       "      <td>...</td>\n",
       "      <td>18.90</td>\n",
       "      <td>2.0</td>\n",
       "      <td>Санкт-Петербург</td>\n",
       "      <td>23982.0</td>\n",
       "      <td>11634.0</td>\n",
       "      <td>0.0</td>\n",
       "      <td>NaN</td>\n",
       "      <td>0.0</td>\n",
       "      <td>NaN</td>\n",
       "      <td>NaN</td>\n",
       "    </tr>\n",
       "    <tr>\n",
       "      <th>8</th>\n",
       "      <td>20</td>\n",
       "      <td>2900000.0</td>\n",
       "      <td>33.16</td>\n",
       "      <td>2018-05-23T00:00:00</td>\n",
       "      <td>1</td>\n",
       "      <td>NaN</td>\n",
       "      <td>27.0</td>\n",
       "      <td>15.43</td>\n",
       "      <td>26</td>\n",
       "      <td>NaN</td>\n",
       "      <td>...</td>\n",
       "      <td>8.81</td>\n",
       "      <td>NaN</td>\n",
       "      <td>посёлок Мурино</td>\n",
       "      <td>NaN</td>\n",
       "      <td>NaN</td>\n",
       "      <td>NaN</td>\n",
       "      <td>NaN</td>\n",
       "      <td>NaN</td>\n",
       "      <td>NaN</td>\n",
       "      <td>189.0</td>\n",
       "    </tr>\n",
       "    <tr>\n",
       "      <th>9</th>\n",
       "      <td>18</td>\n",
       "      <td>5400000.0</td>\n",
       "      <td>61.00</td>\n",
       "      <td>2017-02-26T00:00:00</td>\n",
       "      <td>3</td>\n",
       "      <td>2.50</td>\n",
       "      <td>9.0</td>\n",
       "      <td>43.60</td>\n",
       "      <td>7</td>\n",
       "      <td>NaN</td>\n",
       "      <td>...</td>\n",
       "      <td>6.50</td>\n",
       "      <td>2.0</td>\n",
       "      <td>Санкт-Петербург</td>\n",
       "      <td>50898.0</td>\n",
       "      <td>15008.0</td>\n",
       "      <td>0.0</td>\n",
       "      <td>NaN</td>\n",
       "      <td>0.0</td>\n",
       "      <td>NaN</td>\n",
       "      <td>289.0</td>\n",
       "    </tr>\n",
       "    <tr>\n",
       "      <th>10</th>\n",
       "      <td>5</td>\n",
       "      <td>5050000.0</td>\n",
       "      <td>39.60</td>\n",
       "      <td>2017-11-16T00:00:00</td>\n",
       "      <td>1</td>\n",
       "      <td>2.67</td>\n",
       "      <td>12.0</td>\n",
       "      <td>20.30</td>\n",
       "      <td>3</td>\n",
       "      <td>NaN</td>\n",
       "      <td>...</td>\n",
       "      <td>8.50</td>\n",
       "      <td>NaN</td>\n",
       "      <td>Санкт-Петербург</td>\n",
       "      <td>38357.0</td>\n",
       "      <td>13878.0</td>\n",
       "      <td>1.0</td>\n",
       "      <td>310.0</td>\n",
       "      <td>2.0</td>\n",
       "      <td>553.0</td>\n",
       "      <td>137.0</td>\n",
       "    </tr>\n",
       "    <tr>\n",
       "      <th>11</th>\n",
       "      <td>9</td>\n",
       "      <td>3300000.0</td>\n",
       "      <td>44.00</td>\n",
       "      <td>2018-08-27T00:00:00</td>\n",
       "      <td>2</td>\n",
       "      <td>NaN</td>\n",
       "      <td>5.0</td>\n",
       "      <td>31.00</td>\n",
       "      <td>4</td>\n",
       "      <td>False</td>\n",
       "      <td>...</td>\n",
       "      <td>6.00</td>\n",
       "      <td>1.0</td>\n",
       "      <td>Ломоносов</td>\n",
       "      <td>48252.0</td>\n",
       "      <td>51677.0</td>\n",
       "      <td>0.0</td>\n",
       "      <td>NaN</td>\n",
       "      <td>0.0</td>\n",
       "      <td>NaN</td>\n",
       "      <td>7.0</td>\n",
       "    </tr>\n",
       "    <tr>\n",
       "      <th>12</th>\n",
       "      <td>10</td>\n",
       "      <td>3890000.0</td>\n",
       "      <td>54.00</td>\n",
       "      <td>2016-06-30T00:00:00</td>\n",
       "      <td>2</td>\n",
       "      <td>NaN</td>\n",
       "      <td>5.0</td>\n",
       "      <td>30.00</td>\n",
       "      <td>5</td>\n",
       "      <td>NaN</td>\n",
       "      <td>...</td>\n",
       "      <td>9.00</td>\n",
       "      <td>0.0</td>\n",
       "      <td>Сертолово</td>\n",
       "      <td>NaN</td>\n",
       "      <td>NaN</td>\n",
       "      <td>NaN</td>\n",
       "      <td>NaN</td>\n",
       "      <td>NaN</td>\n",
       "      <td>NaN</td>\n",
       "      <td>90.0</td>\n",
       "    </tr>\n",
       "    <tr>\n",
       "      <th>13</th>\n",
       "      <td>20</td>\n",
       "      <td>3550000.0</td>\n",
       "      <td>42.80</td>\n",
       "      <td>2017-07-01T00:00:00</td>\n",
       "      <td>2</td>\n",
       "      <td>2.56</td>\n",
       "      <td>5.0</td>\n",
       "      <td>27.00</td>\n",
       "      <td>5</td>\n",
       "      <td>NaN</td>\n",
       "      <td>...</td>\n",
       "      <td>5.20</td>\n",
       "      <td>1.0</td>\n",
       "      <td>Петергоф</td>\n",
       "      <td>37868.0</td>\n",
       "      <td>33058.0</td>\n",
       "      <td>1.0</td>\n",
       "      <td>294.0</td>\n",
       "      <td>3.0</td>\n",
       "      <td>298.0</td>\n",
       "      <td>366.0</td>\n",
       "    </tr>\n",
       "    <tr>\n",
       "      <th>14</th>\n",
       "      <td>1</td>\n",
       "      <td>4400000.0</td>\n",
       "      <td>36.00</td>\n",
       "      <td>2016-06-23T00:00:00</td>\n",
       "      <td>1</td>\n",
       "      <td>NaN</td>\n",
       "      <td>6.0</td>\n",
       "      <td>17.00</td>\n",
       "      <td>1</td>\n",
       "      <td>NaN</td>\n",
       "      <td>...</td>\n",
       "      <td>8.00</td>\n",
       "      <td>0.0</td>\n",
       "      <td>Пушкин</td>\n",
       "      <td>20782.0</td>\n",
       "      <td>30759.0</td>\n",
       "      <td>0.0</td>\n",
       "      <td>NaN</td>\n",
       "      <td>1.0</td>\n",
       "      <td>96.0</td>\n",
       "      <td>203.0</td>\n",
       "    </tr>\n",
       "  </tbody>\n",
       "</table>\n",
       "<p>15 rows × 22 columns</p>\n",
       "</div>"
      ],
      "text/plain": [
       "    total_images  last_price  total_area first_day_exposition  rooms  \\\n",
       "0             20  13000000.0      108.00  2019-03-07T00:00:00      3   \n",
       "1              7   3350000.0       40.40  2018-12-04T00:00:00      1   \n",
       "2             10   5196000.0       56.00  2015-08-20T00:00:00      2   \n",
       "3              0  64900000.0      159.00  2015-07-24T00:00:00      3   \n",
       "4              2  10000000.0      100.00  2018-06-19T00:00:00      2   \n",
       "5             10   2890000.0       30.40  2018-09-10T00:00:00      1   \n",
       "6              6   3700000.0       37.30  2017-11-02T00:00:00      1   \n",
       "7              5   7915000.0       71.60  2019-04-18T00:00:00      2   \n",
       "8             20   2900000.0       33.16  2018-05-23T00:00:00      1   \n",
       "9             18   5400000.0       61.00  2017-02-26T00:00:00      3   \n",
       "10             5   5050000.0       39.60  2017-11-16T00:00:00      1   \n",
       "11             9   3300000.0       44.00  2018-08-27T00:00:00      2   \n",
       "12            10   3890000.0       54.00  2016-06-30T00:00:00      2   \n",
       "13            20   3550000.0       42.80  2017-07-01T00:00:00      2   \n",
       "14             1   4400000.0       36.00  2016-06-23T00:00:00      1   \n",
       "\n",
       "    ceiling_height  floors_total  living_area  floor is_apartment  ...  \\\n",
       "0             2.70          16.0        51.00      8          NaN  ...   \n",
       "1              NaN          11.0        18.60      1          NaN  ...   \n",
       "2              NaN           5.0        34.30      4          NaN  ...   \n",
       "3              NaN          14.0          NaN      9          NaN  ...   \n",
       "4             3.03          14.0        32.00     13          NaN  ...   \n",
       "5              NaN          12.0        14.40      5          NaN  ...   \n",
       "6              NaN          26.0        10.60      6          NaN  ...   \n",
       "7              NaN          24.0          NaN     22          NaN  ...   \n",
       "8              NaN          27.0        15.43     26          NaN  ...   \n",
       "9             2.50           9.0        43.60      7          NaN  ...   \n",
       "10            2.67          12.0        20.30      3          NaN  ...   \n",
       "11             NaN           5.0        31.00      4        False  ...   \n",
       "12             NaN           5.0        30.00      5          NaN  ...   \n",
       "13            2.56           5.0        27.00      5          NaN  ...   \n",
       "14             NaN           6.0        17.00      1          NaN  ...   \n",
       "\n",
       "    kitchen_area  balcony              locality_name  airports_nearest  \\\n",
       "0          25.00      NaN            Санкт-Петербург           18863.0   \n",
       "1          11.00      2.0             посёлок Шушары           12817.0   \n",
       "2           8.30      0.0            Санкт-Петербург           21741.0   \n",
       "3            NaN      0.0            Санкт-Петербург           28098.0   \n",
       "4          41.00      NaN            Санкт-Петербург           31856.0   \n",
       "5           9.10      NaN  городской посёлок Янино-1               NaN   \n",
       "6          14.40      1.0          посёлок Парголово           52996.0   \n",
       "7          18.90      2.0            Санкт-Петербург           23982.0   \n",
       "8           8.81      NaN             посёлок Мурино               NaN   \n",
       "9           6.50      2.0            Санкт-Петербург           50898.0   \n",
       "10          8.50      NaN            Санкт-Петербург           38357.0   \n",
       "11          6.00      1.0                  Ломоносов           48252.0   \n",
       "12          9.00      0.0                  Сертолово               NaN   \n",
       "13          5.20      1.0                   Петергоф           37868.0   \n",
       "14          8.00      0.0                     Пушкин           20782.0   \n",
       "\n",
       "   cityCenters_nearest  parks_around3000  parks_nearest  ponds_around3000  \\\n",
       "0              16028.0               1.0          482.0               2.0   \n",
       "1              18603.0               0.0            NaN               0.0   \n",
       "2              13933.0               1.0           90.0               2.0   \n",
       "3               6800.0               2.0           84.0               3.0   \n",
       "4               8098.0               2.0          112.0               1.0   \n",
       "5                  NaN               NaN            NaN               NaN   \n",
       "6              19143.0               0.0            NaN               0.0   \n",
       "7              11634.0               0.0            NaN               0.0   \n",
       "8                  NaN               NaN            NaN               NaN   \n",
       "9              15008.0               0.0            NaN               0.0   \n",
       "10             13878.0               1.0          310.0               2.0   \n",
       "11             51677.0               0.0            NaN               0.0   \n",
       "12                 NaN               NaN            NaN               NaN   \n",
       "13             33058.0               1.0          294.0               3.0   \n",
       "14             30759.0               0.0            NaN               1.0   \n",
       "\n",
       "    ponds_nearest  days_exposition  \n",
       "0           755.0              NaN  \n",
       "1             NaN             81.0  \n",
       "2           574.0            558.0  \n",
       "3           234.0            424.0  \n",
       "4            48.0            121.0  \n",
       "5             NaN             55.0  \n",
       "6             NaN            155.0  \n",
       "7             NaN              NaN  \n",
       "8             NaN            189.0  \n",
       "9             NaN            289.0  \n",
       "10          553.0            137.0  \n",
       "11            NaN              7.0  \n",
       "12            NaN             90.0  \n",
       "13          298.0            366.0  \n",
       "14           96.0            203.0  \n",
       "\n",
       "[15 rows x 22 columns]"
      ]
     },
     "execution_count": 2,
     "metadata": {},
     "output_type": "execute_result"
    }
   ],
   "source": [
    "import pandas as pd\n",
    "import numpy as np\n",
    "import seaborn as sns\n",
    "import matplotlib.pyplot as plt\n",
    "import warnings\n",
    "warnings.filterwarnings('ignore')\n",
    "df = pd.read_csv('/datasets/real_estate_data.csv', sep = '\\t')\n",
    "df.head(15)"
   ]
  },
  {
   "cell_type": "markdown",
   "metadata": {},
   "source": [
    "#### Основная информация о данных и дескриптивная статистика"
   ]
  },
  {
   "cell_type": "code",
   "execution_count": 3,
   "metadata": {},
   "outputs": [
    {
     "name": "stdout",
     "output_type": "stream",
     "text": [
      "<class 'pandas.core.frame.DataFrame'>\n",
      "RangeIndex: 23699 entries, 0 to 23698\n",
      "Data columns (total 22 columns):\n",
      " #   Column                Non-Null Count  Dtype  \n",
      "---  ------                --------------  -----  \n",
      " 0   total_images          23699 non-null  int64  \n",
      " 1   last_price            23699 non-null  float64\n",
      " 2   total_area            23699 non-null  float64\n",
      " 3   first_day_exposition  23699 non-null  object \n",
      " 4   rooms                 23699 non-null  int64  \n",
      " 5   ceiling_height        14504 non-null  float64\n",
      " 6   floors_total          23613 non-null  float64\n",
      " 7   living_area           21796 non-null  float64\n",
      " 8   floor                 23699 non-null  int64  \n",
      " 9   is_apartment          2775 non-null   object \n",
      " 10  studio                23699 non-null  bool   \n",
      " 11  open_plan             23699 non-null  bool   \n",
      " 12  kitchen_area          21421 non-null  float64\n",
      " 13  balcony               12180 non-null  float64\n",
      " 14  locality_name         23650 non-null  object \n",
      " 15  airports_nearest      18157 non-null  float64\n",
      " 16  cityCenters_nearest   18180 non-null  float64\n",
      " 17  parks_around3000      18181 non-null  float64\n",
      " 18  parks_nearest         8079 non-null   float64\n",
      " 19  ponds_around3000      18181 non-null  float64\n",
      " 20  ponds_nearest         9110 non-null   float64\n",
      " 21  days_exposition       20518 non-null  float64\n",
      "dtypes: bool(2), float64(14), int64(3), object(3)\n",
      "memory usage: 3.7+ MB\n"
     ]
    },
    {
     "data": {
      "text/html": [
       "<div>\n",
       "<style scoped>\n",
       "    .dataframe tbody tr th:only-of-type {\n",
       "        vertical-align: middle;\n",
       "    }\n",
       "\n",
       "    .dataframe tbody tr th {\n",
       "        vertical-align: top;\n",
       "    }\n",
       "\n",
       "    .dataframe thead th {\n",
       "        text-align: right;\n",
       "    }\n",
       "</style>\n",
       "<table border=\"1\" class=\"dataframe\">\n",
       "  <thead>\n",
       "    <tr style=\"text-align: right;\">\n",
       "      <th></th>\n",
       "      <th>total_images</th>\n",
       "      <th>last_price</th>\n",
       "      <th>total_area</th>\n",
       "      <th>rooms</th>\n",
       "      <th>ceiling_height</th>\n",
       "      <th>floors_total</th>\n",
       "      <th>living_area</th>\n",
       "      <th>floor</th>\n",
       "      <th>kitchen_area</th>\n",
       "      <th>balcony</th>\n",
       "      <th>airports_nearest</th>\n",
       "      <th>cityCenters_nearest</th>\n",
       "      <th>parks_around3000</th>\n",
       "      <th>parks_nearest</th>\n",
       "      <th>ponds_around3000</th>\n",
       "      <th>ponds_nearest</th>\n",
       "      <th>days_exposition</th>\n",
       "    </tr>\n",
       "  </thead>\n",
       "  <tbody>\n",
       "    <tr>\n",
       "      <th>count</th>\n",
       "      <td>23699.000000</td>\n",
       "      <td>2.369900e+04</td>\n",
       "      <td>23699.000000</td>\n",
       "      <td>23699.000000</td>\n",
       "      <td>14504.000000</td>\n",
       "      <td>23613.000000</td>\n",
       "      <td>21796.000000</td>\n",
       "      <td>23699.000000</td>\n",
       "      <td>21421.000000</td>\n",
       "      <td>12180.000000</td>\n",
       "      <td>18157.000000</td>\n",
       "      <td>18180.000000</td>\n",
       "      <td>18181.000000</td>\n",
       "      <td>8079.000000</td>\n",
       "      <td>18181.000000</td>\n",
       "      <td>9110.000000</td>\n",
       "      <td>20518.000000</td>\n",
       "    </tr>\n",
       "    <tr>\n",
       "      <th>mean</th>\n",
       "      <td>9.858475</td>\n",
       "      <td>6.541549e+06</td>\n",
       "      <td>60.348651</td>\n",
       "      <td>2.070636</td>\n",
       "      <td>2.771499</td>\n",
       "      <td>10.673824</td>\n",
       "      <td>34.457852</td>\n",
       "      <td>5.892358</td>\n",
       "      <td>10.569807</td>\n",
       "      <td>1.150082</td>\n",
       "      <td>28793.672193</td>\n",
       "      <td>14191.277833</td>\n",
       "      <td>0.611408</td>\n",
       "      <td>490.804555</td>\n",
       "      <td>0.770255</td>\n",
       "      <td>517.980900</td>\n",
       "      <td>180.888634</td>\n",
       "    </tr>\n",
       "    <tr>\n",
       "      <th>std</th>\n",
       "      <td>5.682529</td>\n",
       "      <td>1.088701e+07</td>\n",
       "      <td>35.654083</td>\n",
       "      <td>1.078405</td>\n",
       "      <td>1.261056</td>\n",
       "      <td>6.597173</td>\n",
       "      <td>22.030445</td>\n",
       "      <td>4.885249</td>\n",
       "      <td>5.905438</td>\n",
       "      <td>1.071300</td>\n",
       "      <td>12630.880622</td>\n",
       "      <td>8608.386210</td>\n",
       "      <td>0.802074</td>\n",
       "      <td>342.317995</td>\n",
       "      <td>0.938346</td>\n",
       "      <td>277.720643</td>\n",
       "      <td>219.727988</td>\n",
       "    </tr>\n",
       "    <tr>\n",
       "      <th>min</th>\n",
       "      <td>0.000000</td>\n",
       "      <td>1.219000e+04</td>\n",
       "      <td>12.000000</td>\n",
       "      <td>0.000000</td>\n",
       "      <td>1.000000</td>\n",
       "      <td>1.000000</td>\n",
       "      <td>2.000000</td>\n",
       "      <td>1.000000</td>\n",
       "      <td>1.300000</td>\n",
       "      <td>0.000000</td>\n",
       "      <td>0.000000</td>\n",
       "      <td>181.000000</td>\n",
       "      <td>0.000000</td>\n",
       "      <td>1.000000</td>\n",
       "      <td>0.000000</td>\n",
       "      <td>13.000000</td>\n",
       "      <td>1.000000</td>\n",
       "    </tr>\n",
       "    <tr>\n",
       "      <th>25%</th>\n",
       "      <td>6.000000</td>\n",
       "      <td>3.400000e+06</td>\n",
       "      <td>40.000000</td>\n",
       "      <td>1.000000</td>\n",
       "      <td>2.520000</td>\n",
       "      <td>5.000000</td>\n",
       "      <td>18.600000</td>\n",
       "      <td>2.000000</td>\n",
       "      <td>7.000000</td>\n",
       "      <td>0.000000</td>\n",
       "      <td>18585.000000</td>\n",
       "      <td>9238.000000</td>\n",
       "      <td>0.000000</td>\n",
       "      <td>288.000000</td>\n",
       "      <td>0.000000</td>\n",
       "      <td>294.000000</td>\n",
       "      <td>45.000000</td>\n",
       "    </tr>\n",
       "    <tr>\n",
       "      <th>50%</th>\n",
       "      <td>9.000000</td>\n",
       "      <td>4.650000e+06</td>\n",
       "      <td>52.000000</td>\n",
       "      <td>2.000000</td>\n",
       "      <td>2.650000</td>\n",
       "      <td>9.000000</td>\n",
       "      <td>30.000000</td>\n",
       "      <td>4.000000</td>\n",
       "      <td>9.100000</td>\n",
       "      <td>1.000000</td>\n",
       "      <td>26726.000000</td>\n",
       "      <td>13098.500000</td>\n",
       "      <td>0.000000</td>\n",
       "      <td>455.000000</td>\n",
       "      <td>1.000000</td>\n",
       "      <td>502.000000</td>\n",
       "      <td>95.000000</td>\n",
       "    </tr>\n",
       "    <tr>\n",
       "      <th>75%</th>\n",
       "      <td>14.000000</td>\n",
       "      <td>6.800000e+06</td>\n",
       "      <td>69.900000</td>\n",
       "      <td>3.000000</td>\n",
       "      <td>2.800000</td>\n",
       "      <td>16.000000</td>\n",
       "      <td>42.300000</td>\n",
       "      <td>8.000000</td>\n",
       "      <td>12.000000</td>\n",
       "      <td>2.000000</td>\n",
       "      <td>37273.000000</td>\n",
       "      <td>16293.000000</td>\n",
       "      <td>1.000000</td>\n",
       "      <td>612.000000</td>\n",
       "      <td>1.000000</td>\n",
       "      <td>729.000000</td>\n",
       "      <td>232.000000</td>\n",
       "    </tr>\n",
       "    <tr>\n",
       "      <th>max</th>\n",
       "      <td>50.000000</td>\n",
       "      <td>7.630000e+08</td>\n",
       "      <td>900.000000</td>\n",
       "      <td>19.000000</td>\n",
       "      <td>100.000000</td>\n",
       "      <td>60.000000</td>\n",
       "      <td>409.700000</td>\n",
       "      <td>33.000000</td>\n",
       "      <td>112.000000</td>\n",
       "      <td>5.000000</td>\n",
       "      <td>84869.000000</td>\n",
       "      <td>65968.000000</td>\n",
       "      <td>3.000000</td>\n",
       "      <td>3190.000000</td>\n",
       "      <td>3.000000</td>\n",
       "      <td>1344.000000</td>\n",
       "      <td>1580.000000</td>\n",
       "    </tr>\n",
       "  </tbody>\n",
       "</table>\n",
       "</div>"
      ],
      "text/plain": [
       "       total_images    last_price    total_area         rooms  ceiling_height  \\\n",
       "count  23699.000000  2.369900e+04  23699.000000  23699.000000    14504.000000   \n",
       "mean       9.858475  6.541549e+06     60.348651      2.070636        2.771499   \n",
       "std        5.682529  1.088701e+07     35.654083      1.078405        1.261056   \n",
       "min        0.000000  1.219000e+04     12.000000      0.000000        1.000000   \n",
       "25%        6.000000  3.400000e+06     40.000000      1.000000        2.520000   \n",
       "50%        9.000000  4.650000e+06     52.000000      2.000000        2.650000   \n",
       "75%       14.000000  6.800000e+06     69.900000      3.000000        2.800000   \n",
       "max       50.000000  7.630000e+08    900.000000     19.000000      100.000000   \n",
       "\n",
       "       floors_total   living_area         floor  kitchen_area       balcony  \\\n",
       "count  23613.000000  21796.000000  23699.000000  21421.000000  12180.000000   \n",
       "mean      10.673824     34.457852      5.892358     10.569807      1.150082   \n",
       "std        6.597173     22.030445      4.885249      5.905438      1.071300   \n",
       "min        1.000000      2.000000      1.000000      1.300000      0.000000   \n",
       "25%        5.000000     18.600000      2.000000      7.000000      0.000000   \n",
       "50%        9.000000     30.000000      4.000000      9.100000      1.000000   \n",
       "75%       16.000000     42.300000      8.000000     12.000000      2.000000   \n",
       "max       60.000000    409.700000     33.000000    112.000000      5.000000   \n",
       "\n",
       "       airports_nearest  cityCenters_nearest  parks_around3000  parks_nearest  \\\n",
       "count      18157.000000         18180.000000      18181.000000    8079.000000   \n",
       "mean       28793.672193         14191.277833          0.611408     490.804555   \n",
       "std        12630.880622          8608.386210          0.802074     342.317995   \n",
       "min            0.000000           181.000000          0.000000       1.000000   \n",
       "25%        18585.000000          9238.000000          0.000000     288.000000   \n",
       "50%        26726.000000         13098.500000          0.000000     455.000000   \n",
       "75%        37273.000000         16293.000000          1.000000     612.000000   \n",
       "max        84869.000000         65968.000000          3.000000    3190.000000   \n",
       "\n",
       "       ponds_around3000  ponds_nearest  days_exposition  \n",
       "count      18181.000000    9110.000000     20518.000000  \n",
       "mean           0.770255     517.980900       180.888634  \n",
       "std            0.938346     277.720643       219.727988  \n",
       "min            0.000000      13.000000         1.000000  \n",
       "25%            0.000000     294.000000        45.000000  \n",
       "50%            1.000000     502.000000        95.000000  \n",
       "75%            1.000000     729.000000       232.000000  \n",
       "max            3.000000    1344.000000      1580.000000  "
      ]
     },
     "execution_count": 3,
     "metadata": {},
     "output_type": "execute_result"
    }
   ],
   "source": [
    "df.info()\n",
    "df.describe()"
   ]
  },
  {
   "cell_type": "code",
   "execution_count": 4,
   "metadata": {},
   "outputs": [
    {
     "data": {
      "text/plain": [
       "array([[<AxesSubplot:title={'center':'total_images'}>,\n",
       "        <AxesSubplot:title={'center':'last_price'}>,\n",
       "        <AxesSubplot:title={'center':'total_area'}>,\n",
       "        <AxesSubplot:title={'center':'rooms'}>],\n",
       "       [<AxesSubplot:title={'center':'ceiling_height'}>,\n",
       "        <AxesSubplot:title={'center':'floors_total'}>,\n",
       "        <AxesSubplot:title={'center':'living_area'}>,\n",
       "        <AxesSubplot:title={'center':'floor'}>],\n",
       "       [<AxesSubplot:title={'center':'kitchen_area'}>,\n",
       "        <AxesSubplot:title={'center':'balcony'}>,\n",
       "        <AxesSubplot:title={'center':'airports_nearest'}>,\n",
       "        <AxesSubplot:title={'center':'cityCenters_nearest'}>],\n",
       "       [<AxesSubplot:title={'center':'parks_around3000'}>,\n",
       "        <AxesSubplot:title={'center':'parks_nearest'}>,\n",
       "        <AxesSubplot:title={'center':'ponds_around3000'}>,\n",
       "        <AxesSubplot:title={'center':'ponds_nearest'}>],\n",
       "       [<AxesSubplot:title={'center':'days_exposition'}>, <AxesSubplot:>,\n",
       "        <AxesSubplot:>, <AxesSubplot:>]], dtype=object)"
      ]
     },
     "execution_count": 4,
     "metadata": {},
     "output_type": "execute_result"
    },
    {
     "data": {
      "image/png": "[encoded data removed]",
      "text/plain": [
       "<Figure size 1080x1440 with 20 Axes>"
      ]
     },
     "metadata": {
      "needs_background": "light"
     },
     "output_type": "display_data"
    }
   ],
   "source": [
    "df.hist(figsize=(15, 20))"
   ]
  },
  {
   "cell_type": "markdown",
   "metadata": {},
   "source": [
    "#### Выводы"
   ]
  },
  {
   "cell_type": "markdown",
   "metadata": {},
   "source": [
    "Сделав описательную статистику и построив графики по всем величинам можно заметить некоторые странные отклонения в данных:\n",
    "1. Ненормальные значения в переменной, которая отвечает за потолки, потолки не могут быть равными даже 50 метрам\n",
    "2. Плохое распределение в нескольких переменных: Цена, площадь квартиры, высота потолков, жилая площадь, площадь кухни.\n",
    "3. Осталььные переменные находятся вполне себе в хорошем состоянии, осталось разобраться в пропусках.\n",
    "4. Во многих столбцах есть выбросы, и насколько я знаю, это вполне допустимо удалять несколько самых больших или самых маленьких значений из даасета для нормализации данных"
   ]
  },
  {
   "cell_type": "markdown",
   "metadata": {},
   "source": [
    "### Предобработка данных"
   ]
  },
  {
   "cell_type": "markdown",
   "metadata": {},
   "source": [
    "#### Анализ пропусков"
   ]
  },
  {
   "cell_type": "code",
   "execution_count": 5,
   "metadata": {},
   "outputs": [
    {
     "data": {
      "text/plain": [
       "total_images                0\n",
       "last_price                  0\n",
       "total_area                  0\n",
       "first_day_exposition        0\n",
       "rooms                       0\n",
       "ceiling_height           9195\n",
       "floors_total               86\n",
       "living_area              1903\n",
       "floor                       0\n",
       "is_apartment            20924\n",
       "studio                      0\n",
       "open_plan                   0\n",
       "kitchen_area             2278\n",
       "balcony                 11519\n",
       "locality_name              49\n",
       "airports_nearest         5542\n",
       "cityCenters_nearest      5519\n",
       "parks_around3000         5518\n",
       "parks_nearest           15620\n",
       "ponds_around3000         5518\n",
       "ponds_nearest           14589\n",
       "days_exposition          3181\n",
       "dtype: int64"
      ]
     },
     "execution_count": 5,
     "metadata": {},
     "output_type": "execute_result"
    }
   ],
   "source": [
    "df.isnull().sum()"
   ]
  },
  {
   "cell_type": "markdown",
   "metadata": {},
   "source": [
    "Как видно, почти во всех столбцах есть пропуски, в некоторых их не очень много - 2000 пропущенных значений\\. в других же пропусков полчти половина, что уже является критичным, попробуем построить датасет и посмотреть как эти пропуски распределены по датасету"
   ]
  },
  {
   "cell_type": "code",
   "execution_count": 6,
   "metadata": {},
   "outputs": [
    {
     "data": {
      "text/plain": [
       "<AxesSubplot:>"
      ]
     },
     "execution_count": 6,
     "metadata": {},
     "output_type": "execute_result"
    },
    {
     "data": {
      "image/png": "[encoded data removed]",
      "text/plain": [
       "<Figure size 1440x1440 with 2 Axes>"
      ]
     },
     "metadata": {
      "needs_background": "light"
     },
     "output_type": "display_data"
    }
   ],
   "source": [
    "fig, ax = plt.subplots(figsize=(20, 20))\n",
    "sns.heatmap(df.isnull())"
   ]
  },
  {
   "cell_type": "markdown",
   "metadata": {},
   "source": [
    "Если честно, надеялся увидеть тут какую то закономерность в пропусках, но мой начальнопрофессиональный взгляд ничего заметить не смог"
   ]
  },
  {
   "cell_type": "markdown",
   "metadata": {},
   "source": [
    "Следующим шагом считаю нужным удалить те строки, которые пропущены в столцах отвечающих за жилую площадь и площадь кухни. Пропусков там не много, а значит это не должно сильно сказаться на полноте данных и исследовании, а заменять их медианным или средним значением глупо, поэтому считаю нужным от них избавиться.\n",
    "В свою очередь такие переменные как высота потолков и количество балконов следует проработать отдельно.\n",
    "А в большинстве переменных, касающихся удаленности квартиры от чего либо можно заменить средним либо медианным значением, ближе к делу посмотрю на распределение и решу, что с ними делать."
   ]
  },
  {
   "cell_type": "markdown",
   "metadata": {},
   "source": [
    "#### Преобразование датасета"
   ]
  },
  {
   "cell_type": "code",
   "execution_count": 7,
   "metadata": {},
   "outputs": [
    {
     "data": {
      "text/plain": [
       "0"
      ]
     },
     "execution_count": 7,
     "metadata": {},
     "output_type": "execute_result"
    }
   ],
   "source": [
    "df = df.dropna(subset = ['living_area'])\n",
    "df['living_area'].isnull().sum()"
   ]
  },
  {
   "cell_type": "code",
   "execution_count": 8,
   "metadata": {},
   "outputs": [
    {
     "name": "stdout",
     "output_type": "stream",
     "text": [
      "<class 'pandas.core.frame.DataFrame'>\n",
      "Int64Index: 20982 entries, 0 to 23698\n",
      "Data columns (total 22 columns):\n",
      " #   Column                Non-Null Count  Dtype  \n",
      "---  ------                --------------  -----  \n",
      " 0   total_images          20982 non-null  int64  \n",
      " 1   last_price            20982 non-null  float64\n",
      " 2   total_area            20982 non-null  float64\n",
      " 3   first_day_exposition  20982 non-null  object \n",
      " 4   rooms                 20982 non-null  int64  \n",
      " 5   ceiling_height        13336 non-null  float64\n",
      " 6   floors_total          20943 non-null  float64\n",
      " 7   living_area           20982 non-null  float64\n",
      " 8   floor                 20982 non-null  int64  \n",
      " 9   is_apartment          2537 non-null   object \n",
      " 10  studio                20982 non-null  bool   \n",
      " 11  open_plan             20982 non-null  bool   \n",
      " 12  kitchen_area          20982 non-null  float64\n",
      " 13  balcony               11218 non-null  float64\n",
      " 14  locality_name         20943 non-null  object \n",
      " 15  airports_nearest      16308 non-null  float64\n",
      " 16  cityCenters_nearest   16329 non-null  float64\n",
      " 17  parks_around3000      16330 non-null  float64\n",
      " 18  parks_nearest         7266 non-null   float64\n",
      " 19  ponds_around3000      16330 non-null  float64\n",
      " 20  ponds_nearest         8100 non-null   float64\n",
      " 21  days_exposition       18091 non-null  float64\n",
      "dtypes: bool(2), float64(14), int64(3), object(3)\n",
      "memory usage: 3.4+ MB\n"
     ]
    }
   ],
   "source": [
    "df = df.dropna(subset = ['kitchen_area'])\n",
    "df['kitchen_area'].isnull().sum()\n",
    "df.info()"
   ]
  },
  {
   "cell_type": "code",
   "execution_count": 9,
   "metadata": {},
   "outputs": [
    {
     "data": {
      "text/plain": [
       "0"
      ]
     },
     "execution_count": 9,
     "metadata": {},
     "output_type": "execute_result"
    }
   ],
   "source": [
    "df['balcony'] = df['balcony'].fillna(0)\n",
    "df['balcony'].isnull().sum()"
   ]
  },
  {
   "cell_type": "code",
   "execution_count": 10,
   "metadata": {},
   "outputs": [
    {
     "data": {
      "image/png": "[encoded data removed]",
      "text/plain": [
       "<Figure size 432x288 with 1 Axes>"
      ]
     },
     "metadata": {
      "needs_background": "light"
     },
     "output_type": "display_data"
    },
    {
     "data": {
      "image/png": "[encoded data removed]",
      "text/plain": [
       "<Figure size 432x288 with 1 Axes>"
      ]
     },
     "metadata": {
      "needs_background": "light"
     },
     "output_type": "display_data"
    }
   ],
   "source": [
    "list = ['airports_nearest', 'cityCenters_nearest']\n",
    "for i in list:\n",
    "    df[i].hist()\n",
    "    plt.show()"
   ]
  },
  {
   "cell_type": "markdown",
   "metadata": {},
   "source": [
    "Делая выводы по полученным графикам стоит сказать что здесь самое нормальой распределение у переменной, которая отвечает за дальность аэропорта от квартиры, скорее всего это потому что аэропортов не так много и зачастю их стараются строить на оптимальном расстоянии от населенного пункта, поэтому здесь нам лучше всего взять среднее.\n",
    "\n",
    "В случае с удалением от городских центров мне также кажется правильным взять именно среднее значение, так как города как правильно застраиваются достаточно равномерно, постепенно удаляясь от центра.\n",
    "\n",
    "Верно замечено, что здесь произошло небольшое смещение и распределние выглядит не совсем нормальным, но я полагаю, что это связано с тем, что центр города определяется не всегда правильно, а также с тем, что некоторые города бывают вытянутыми например в вдоль реки (например, Самара).\n",
    "\n",
    "Возможно заплнять данные пропуски является не совсем верным, так как они связаны с географией объекта и это не совсем то, что можно посчитать средним или медианным значением, но те не менее, это не основообразующие переменные и мне кажется, что это лучше, чем оставить их пустыми.\n",
    "\n",
    "Например в слечае, где пропусков почти половина всего датасета - это абсолютно неверное решение, так как может очень сильно исказить данные, в данном же случае пропусков не так много."
   ]
  },
  {
   "cell_type": "code",
   "execution_count": 11,
   "metadata": {},
   "outputs": [
    {
     "data": {
      "text/plain": [
       "total_images                0\n",
       "last_price                  0\n",
       "total_area                  0\n",
       "first_day_exposition        0\n",
       "rooms                       0\n",
       "ceiling_height           7646\n",
       "floors_total               39\n",
       "living_area                 0\n",
       "floor                       0\n",
       "is_apartment            18445\n",
       "studio                      0\n",
       "open_plan                   0\n",
       "kitchen_area                0\n",
       "balcony                     0\n",
       "locality_name              39\n",
       "airports_nearest            0\n",
       "cityCenters_nearest         0\n",
       "parks_around3000         4652\n",
       "parks_nearest           13716\n",
       "ponds_around3000         4652\n",
       "ponds_nearest           12882\n",
       "days_exposition          2891\n",
       "dtype: int64"
      ]
     },
     "execution_count": 11,
     "metadata": {},
     "output_type": "execute_result"
    }
   ],
   "source": [
    "for i in list:\n",
    "    x = df[i].median()\n",
    "    df[i] = df[i].fillna(x)\n",
    "df.isnull().sum()       "
   ]
  },
  {
   "cell_type": "markdown",
   "metadata": {},
   "source": [
    "Осталось разобраться с высотой потолков, тут очень большое количество пропусков и их неправильно заполнять медианой или средним значением, так как это вполне может сильно навредить полноте данных. \n",
    "Есть множество способов как их заполнить, например в зависимости от города, или в зависимости от площади. Но в городе существуют асолютно разные типы застройки и разные районы, поэтому здесь нужен как то дополнительный критерий, например - цена.\n",
    "Но прежде чем смотреть зависимость, строя пивот таблицы или заполнять начения нужно заполнить точно неверные значения типо 32 или 28."
   ]
  },
  {
   "cell_type": "code",
   "execution_count": 12,
   "metadata": {},
   "outputs": [
    {
     "name": "stdout",
     "output_type": "stream",
     "text": [
      "[  1.     1.2    1.75   2.     2.2    2.25   2.3    2.4    2.45   2.46\n",
      "   2.47   2.48   2.49   2.5    2.51   2.52   2.53   2.54   2.55   2.56\n",
      "   2.57   2.58   2.59   2.6    2.61   2.62   2.63   2.64   2.65   2.66\n",
      "   2.67   2.68   2.69   2.7    2.71   2.72   2.73   2.74   2.75   2.76\n",
      "   2.77   2.78   2.79   2.8    2.81   2.82   2.83   2.84   2.85   2.86\n",
      "   2.87   2.88   2.89   2.9    2.91   2.92   2.93   2.94   2.95   2.96\n",
      "   2.97   2.98   3.     3.01   3.02   3.03   3.04   3.05   3.06   3.07\n",
      "   3.08   3.09   3.1    3.11   3.12   3.13   3.14   3.15   3.16   3.17\n",
      "   3.18   3.2    3.21   3.22   3.23   3.24   3.25   3.26   3.27   3.28\n",
      "   3.29   3.3    3.31   3.32   3.33   3.34   3.35   3.36   3.37   3.38\n",
      "   3.39   3.4    3.42   3.43   3.44   3.45   3.46   3.47   3.48   3.49\n",
      "   3.5    3.51   3.52   3.53   3.54   3.55   3.56   3.57   3.58   3.59\n",
      "   3.6    3.62   3.63   3.65   3.66   3.67   3.68   3.7    3.75   3.76\n",
      "   3.78   3.8    3.82   3.83   3.84   3.85   3.86   3.87   3.88   3.9\n",
      "   3.93   3.95   3.98   4.     4.06   4.1    4.15   4.19   4.2    4.25\n",
      "   4.3    4.37   4.4    4.45   4.5    4.65   4.7    4.8    4.9    5.2\n",
      "   5.3    5.5    6.     8.     8.3   14.    20.    22.6   24.    25.\n",
      "  26.    27.    27.5   32.   100.      nan]\n",
      "2.50     3260\n",
      "2.60     1531\n",
      "2.70     1426\n",
      "3.00      989\n",
      "2.55      930\n",
      "         ... \n",
      "14.00       1\n",
      "22.60       1\n",
      "3.59        1\n",
      "4.90        1\n",
      "4.65        1\n",
      "Name: ceiling_height, Length: 175, dtype: int64\n"
     ]
    },
    {
     "data": {
      "text/plain": [
       "<AxesSubplot:>"
      ]
     },
     "execution_count": 12,
     "metadata": {},
     "output_type": "execute_result"
    },
    {
     "data": {
      "image/png": "[encoded data removed]",
      "text/plain": [
       "<Figure size 432x288 with 1 Axes>"
      ]
     },
     "metadata": {
      "needs_background": "light"
     },
     "output_type": "display_data"
    }
   ],
   "source": [
    "print(df['ceiling_height'].sort_values().unique())\n",
    "print(df['ceiling_height'].value_counts())\n",
    "df['ceiling_height'].hist(bins = 30, range = (0,10))"
   ]
  },
  {
   "cell_type": "markdown",
   "metadata": {},
   "source": [
    "Как видно из уникальных значений и из гистограммы - значений, которых меньше 2 и больше 5 очень мало и они явно не являются правдивыми, так как не бывает потолков 1 метр или 22 метра, а вероятность того, что человек сделал ошибку и забыл поставить запятую, который писал 22 мне кажется не слишком велика. Поэтому я предпочту просто удалить эти значения, потом посмотрим сколько значений удалилось, думаю удалится около 30 значений."
   ]
  },
  {
   "cell_type": "code",
   "execution_count": 13,
   "metadata": {},
   "outputs": [
    {
     "name": "stdout",
     "output_type": "stream",
     "text": [
      "<class 'pandas.core.frame.DataFrame'>\n",
      "Int64Index: 20982 entries, 0 to 23698\n",
      "Data columns (total 22 columns):\n",
      " #   Column                Non-Null Count  Dtype  \n",
      "---  ------                --------------  -----  \n",
      " 0   total_images          20982 non-null  int64  \n",
      " 1   last_price            20982 non-null  float64\n",
      " 2   total_area            20982 non-null  float64\n",
      " 3   first_day_exposition  20982 non-null  object \n",
      " 4   rooms                 20982 non-null  int64  \n",
      " 5   ceiling_height        13336 non-null  float64\n",
      " 6   floors_total          20943 non-null  float64\n",
      " 7   living_area           20982 non-null  float64\n",
      " 8   floor                 20982 non-null  int64  \n",
      " 9   is_apartment          2537 non-null   object \n",
      " 10  studio                20982 non-null  bool   \n",
      " 11  open_plan             20982 non-null  bool   \n",
      " 12  kitchen_area          20982 non-null  float64\n",
      " 13  balcony               20982 non-null  float64\n",
      " 14  locality_name         20943 non-null  object \n",
      " 15  airports_nearest      20982 non-null  float64\n",
      " 16  cityCenters_nearest   20982 non-null  float64\n",
      " 17  parks_around3000      16330 non-null  float64\n",
      " 18  parks_nearest         7266 non-null   float64\n",
      " 19  ponds_around3000      16330 non-null  float64\n",
      " 20  ponds_nearest         8100 non-null   float64\n",
      " 21  days_exposition       18091 non-null  float64\n",
      "dtypes: bool(2), float64(14), int64(3), object(3)\n",
      "memory usage: 3.4+ MB\n",
      "<class 'pandas.core.frame.DataFrame'>\n",
      "Int64Index: 20952 entries, 0 to 23698\n",
      "Data columns (total 22 columns):\n",
      " #   Column                Non-Null Count  Dtype  \n",
      "---  ------                --------------  -----  \n",
      " 0   total_images          20952 non-null  int64  \n",
      " 1   last_price            20952 non-null  float64\n",
      " 2   total_area            20952 non-null  float64\n",
      " 3   first_day_exposition  20952 non-null  object \n",
      " 4   rooms                 20952 non-null  int64  \n",
      " 5   ceiling_height        13306 non-null  float64\n",
      " 6   floors_total          20913 non-null  float64\n",
      " 7   living_area           20952 non-null  float64\n",
      " 8   floor                 20952 non-null  int64  \n",
      " 9   is_apartment          2527 non-null   object \n",
      " 10  studio                20952 non-null  bool   \n",
      " 11  open_plan             20952 non-null  bool   \n",
      " 12  kitchen_area          20952 non-null  float64\n",
      " 13  balcony               20952 non-null  float64\n",
      " 14  locality_name         20913 non-null  object \n",
      " 15  airports_nearest      20952 non-null  float64\n",
      " 16  cityCenters_nearest   20952 non-null  float64\n",
      " 17  parks_around3000      16309 non-null  float64\n",
      " 18  parks_nearest         7255 non-null   float64\n",
      " 19  ponds_around3000      16309 non-null  float64\n",
      " 20  ponds_nearest         8087 non-null   float64\n",
      " 21  days_exposition       18069 non-null  float64\n",
      "dtypes: bool(2), float64(14), int64(3), object(3)\n",
      "memory usage: 3.4+ MB\n"
     ]
    },
    {
     "data": {
      "text/plain": [
       "array([2.7 ,  nan, 3.03, 2.5 , 2.67, 2.56, 3.05, 2.75, 2.6 , 2.9 , 2.8 ,\n",
       "       2.55, 3.  , 2.65, 3.2 , 2.61, 3.25, 3.45, 2.77, 2.85, 2.64, 2.57,\n",
       "       4.15, 3.3 , 4.  , 2.47, 2.84, 3.1 , 3.4 , 3.5 , 2.72, 2.54, 2.51,\n",
       "       2.78, 2.76, 2.58, 3.7 , 2.52, 2.87, 2.66, 2.59, 2.  , 2.45, 3.6 ,\n",
       "       2.92, 3.11, 3.13, 3.8 , 3.15, 3.55, 3.16, 3.62, 2.53, 2.73, 2.96,\n",
       "       2.46, 2.74, 2.95, 4.06, 2.94, 2.79, 3.82, 3.54, 3.53, 2.83, 4.7 ,\n",
       "       2.4 , 3.38, 3.01, 3.65, 3.9 , 3.18, 2.71, 3.35, 2.3 , 3.57, 2.48,\n",
       "       2.62, 2.82, 3.98, 3.12, 2.63, 3.83, 3.52, 3.95, 3.75, 2.88, 3.67,\n",
       "       3.87, 3.66, 3.85, 3.86, 4.19, 3.24, 4.8 , 4.5 , 4.2 , 3.36, 3.68,\n",
       "       3.07, 3.37, 3.09, 3.26, 3.34, 2.81, 3.44, 2.97, 3.14, 4.37, 2.68,\n",
       "       3.22, 3.27, 2.93, 3.46, 3.47, 3.63, 3.33, 3.32, 4.1 , 2.86, 3.08,\n",
       "       3.17, 4.4 , 3.28, 3.04, 4.45, 3.84, 3.23, 3.02, 3.21, 3.43, 3.78,\n",
       "       4.3 , 3.06, 3.39, 3.31, 4.65, 3.56, 2.2 , 3.51, 3.93, 3.42, 3.49,\n",
       "       2.91, 3.88, 4.25, 3.29, 2.25, 3.76, 2.89, 3.58, 2.69, 2.49, 4.9 ,\n",
       "       3.48, 2.98, 3.59])"
      ]
     },
     "execution_count": 13,
     "metadata": {},
     "output_type": "execute_result"
    }
   ],
   "source": [
    "df.info()\n",
    "df = df[(df['ceiling_height'] <= 5) & (df['ceiling_height'] >=2) | (df['ceiling_height'].isna())]\n",
    "df.info()\n",
    "df['ceiling_height'].unique()"
   ]
  },
  {
   "cell_type": "markdown",
   "metadata": {},
   "source": [
    "Сейчас я убрал все значения, которые выходят за нормы высоты потолков, потолки 4.5 - 5 метров вполне себе могут присутствовать в частных домах. Теперь осталось заполнить пропуски. Заполнять пропуски я планирую в зависимости от города и от цены. Сейчас я собираюсь сделать парочку пивот таблиц, но перед этим нужно поработать со столбцом города."
   ]
  },
  {
   "cell_type": "code",
   "execution_count": 14,
   "metadata": {},
   "outputs": [
    {
     "data": {
      "text/html": [
       "<div>\n",
       "<style scoped>\n",
       "    .dataframe tbody tr th:only-of-type {\n",
       "        vertical-align: middle;\n",
       "    }\n",
       "\n",
       "    .dataframe tbody tr th {\n",
       "        vertical-align: top;\n",
       "    }\n",
       "\n",
       "    .dataframe thead th {\n",
       "        text-align: right;\n",
       "    }\n",
       "</style>\n",
       "<table border=\"1\" class=\"dataframe\">\n",
       "  <thead>\n",
       "    <tr style=\"text-align: right;\">\n",
       "      <th></th>\n",
       "      <th>ceiling_height</th>\n",
       "    </tr>\n",
       "    <tr>\n",
       "      <th>locality_name</th>\n",
       "      <th></th>\n",
       "    </tr>\n",
       "  </thead>\n",
       "  <tbody>\n",
       "    <tr>\n",
       "      <th>Волосово</th>\n",
       "      <td>2.500</td>\n",
       "    </tr>\n",
       "    <tr>\n",
       "      <th>Волхов</th>\n",
       "      <td>2.565</td>\n",
       "    </tr>\n",
       "    <tr>\n",
       "      <th>Всеволожск</th>\n",
       "      <td>2.700</td>\n",
       "    </tr>\n",
       "    <tr>\n",
       "      <th>Выборг</th>\n",
       "      <td>2.550</td>\n",
       "    </tr>\n",
       "    <tr>\n",
       "      <th>Высоцк</th>\n",
       "      <td>2.500</td>\n",
       "    </tr>\n",
       "    <tr>\n",
       "      <th>...</th>\n",
       "      <td>...</td>\n",
       "    </tr>\n",
       "    <tr>\n",
       "      <th>садовое товарищество Рахья</th>\n",
       "      <td>2.600</td>\n",
       "    </tr>\n",
       "    <tr>\n",
       "      <th>село Копорье</th>\n",
       "      <td>2.500</td>\n",
       "    </tr>\n",
       "    <tr>\n",
       "      <th>село Павлово</th>\n",
       "      <td>2.750</td>\n",
       "    </tr>\n",
       "    <tr>\n",
       "      <th>село Путилово</th>\n",
       "      <td>2.550</td>\n",
       "    </tr>\n",
       "    <tr>\n",
       "      <th>село Русско-Высоцкое</th>\n",
       "      <td>2.600</td>\n",
       "    </tr>\n",
       "  </tbody>\n",
       "</table>\n",
       "<p>273 rows × 1 columns</p>\n",
       "</div>"
      ],
      "text/plain": [
       "                            ceiling_height\n",
       "locality_name                             \n",
       "Волосово                             2.500\n",
       "Волхов                               2.565\n",
       "Всеволожск                           2.700\n",
       "Выборг                               2.550\n",
       "Высоцк                               2.500\n",
       "...                                    ...\n",
       "садовое товарищество Рахья           2.600\n",
       "село Копорье                         2.500\n",
       "село Павлово                         2.750\n",
       "село Путилово                        2.550\n",
       "село Русско-Высоцкое                 2.600\n",
       "\n",
       "[273 rows x 1 columns]"
      ]
     },
     "execution_count": 14,
     "metadata": {},
     "output_type": "execute_result"
    }
   ],
   "source": [
    "df.pivot_table(index = 'locality_name', values = 'ceiling_height', aggfunc = 'median')"
   ]
  },
  {
   "cell_type": "code",
   "execution_count": 15,
   "metadata": {},
   "outputs": [
    {
     "data": {
      "text/plain": [
       "Санкт-Петербург                                      14051\n",
       "посёлок Мурино                                         401\n",
       "посёлок Шушары                                         393\n",
       "Всеволожск                                             357\n",
       "Пушкин                                                 337\n",
       "                                                     ...  \n",
       "деревня Большая Пустомержа                               1\n",
       "посёлок Ленинское                                        1\n",
       "посёлок при железнодорожной станции Приветнинское        1\n",
       "поселок Володарское                                      1\n",
       "деревня Тихковицы                                        1\n",
       "Name: locality_name, Length: 344, dtype: int64"
      ]
     },
     "execution_count": 15,
     "metadata": {},
     "output_type": "execute_result"
    }
   ],
   "source": [
    "df['locality_name'].sort_values().unique()\n",
    "df['locality_name'].value_counts()"
   ]
  },
  {
   "cell_type": "markdown",
   "metadata": {},
   "source": [
    "Мне кажется, что для более точного анализа данных можно убрать города и села в которых меньше 20 заявлений, так как это скорее всего очень маленькие села которые не смогут репрезентативно отразить статистику."
   ]
  },
  {
   "cell_type": "code",
   "execution_count": 16,
   "metadata": {},
   "outputs": [
    {
     "data": {
      "text/plain": [
       "Санкт-Петербург                            14051\n",
       "посёлок Мурино                               401\n",
       "посёлок Шушары                               393\n",
       "Всеволожск                                   357\n",
       "Пушкин                                       337\n",
       "Колпино                                      322\n",
       "Гатчина                                      290\n",
       "посёлок Парголово                            288\n",
       "деревня Кудрово                              226\n",
       "Петергоф                                     190\n",
       "Выборг                                       190\n",
       "Сестрорецк                                   166\n",
       "Красное Село                                 164\n",
       "Кудрово                                      152\n",
       "Сертолово                                    132\n",
       "деревня Новое Девяткино                      132\n",
       "Ломоносов                                    124\n",
       "Сланцы                                        96\n",
       "Тосно                                         92\n",
       "Волхов                                        90\n",
       "Кириши                                        89\n",
       "Кронштадт                                     88\n",
       "Кировск                                       78\n",
       "Коммунар                                      77\n",
       "Отрадное                                      74\n",
       "Кингисепп                                     70\n",
       "Сосновый Бор                                  67\n",
       "посёлок Металлострой                          62\n",
       "Никольское                                    61\n",
       "Приозерск                                     60\n",
       "деревня Старая                                58\n",
       "посёлок Бугры                                 55\n",
       "Шлиссельбург                                  55\n",
       "городской посёлок Янино-1                     52\n",
       "посёлок Стрельна                              44\n",
       "поселок Бугры                                 40\n",
       "Луга                                          37\n",
       "Тихвин                                        35\n",
       "посёлок Тельмана                              35\n",
       "Павловск                                      35\n",
       "Волосово                                      35\n",
       "поселок Романовка                             34\n",
       "посёлок городского типа Сиверский             29\n",
       "Мурино                                        29\n",
       "поселок Мурино                                28\n",
       "Ивангород                                     25\n",
       "Зеленогорск                                   23\n",
       "поселок городского типа имени Свердлова       22\n",
       "городской посёлок Новоселье                   22\n",
       "посёлок городского типа Кузьмоловский         20\n",
       "Name: locality_name, dtype: int64"
      ]
     },
     "execution_count": 16,
     "metadata": {},
     "output_type": "execute_result"
    }
   ],
   "source": [
    "for i in df['locality_name'].unique():\n",
    "    if df[df['locality_name'] == i]['locality_name'].count() < 20:\n",
    "        df = df[df['locality_name'] != i]\n",
    "df['locality_name'].value_counts()"
   ]
  },
  {
   "cell_type": "markdown",
   "metadata": {},
   "source": [
    "Теперь можно поработать непосредственно с названиями, так как явно присутствует скрытые дубликаты. Думаю что для начала стоит привести все к единому регистру и заменить все Ё на Е, предварительно убрав пропуски, чтобы не возникало ошибок"
   ]
  },
  {
   "cell_type": "code",
   "execution_count": 17,
   "metadata": {},
   "outputs": [
    {
     "data": {
      "text/plain": [
       "санкт-петербург                            14051\n",
       "поселок мурино                               429\n",
       "поселок шушары                               393\n",
       "всеволожск                                   357\n",
       "пушкин                                       337\n",
       "колпино                                      322\n",
       "гатчина                                      290\n",
       "поселок парголово                            288\n",
       "деревня кудрово                              226\n",
       "петергоф                                     190\n",
       "выборг                                       190\n",
       "сестрорецк                                   166\n",
       "красное село                                 164\n",
       "кудрово                                      152\n",
       "деревня новое девяткино                      132\n",
       "сертолово                                    132\n",
       "ломоносов                                    124\n",
       "сланцы                                        96\n",
       "поселок бугры                                 95\n",
       "тосно                                         92\n",
       "волхов                                        90\n",
       "кириши                                        89\n",
       "кронштадт                                     88\n",
       "кировск                                       78\n",
       "коммунар                                      77\n",
       "отрадное                                      74\n",
       "кингисепп                                     70\n",
       "сосновый бор                                  67\n",
       "поселок металлострой                          62\n",
       "никольское                                    61\n",
       "приозерск                                     60\n",
       "деревня старая                                58\n",
       "шлиссельбург                                  55\n",
       "городской поселок янино-1                     52\n",
       "поселок стрельна                              44\n",
       "луга                                          37\n",
       "поселок тельмана                              35\n",
       "тихвин                                        35\n",
       "павловск                                      35\n",
       "волосово                                      35\n",
       "поселок романовка                             34\n",
       "мурино                                        29\n",
       "поселок городского типа сиверский             29\n",
       "ивангород                                     25\n",
       "зеленогорск                                   23\n",
       "городской поселок новоселье                   22\n",
       "поселок городского типа имени свердлова       22\n",
       "поселок городского типа кузьмоловский         20\n",
       "Name: locality_name, dtype: int64"
      ]
     },
     "execution_count": 17,
     "metadata": {},
     "output_type": "execute_result"
    }
   ],
   "source": [
    "df = df.dropna(subset = ['locality_name'])\n",
    "def e_in_text(text):\n",
    "    text = text.lower()\n",
    "    split_row = text.split()\n",
    "    if 'посёлок' in split_row:\n",
    "        split_row[split_row.index('посёлок')] = 'поселок'\n",
    "    text = ' '.join(split_row).lower()\n",
    "    return(text)\n",
    "df['locality_name'] = df['locality_name'].apply(e_in_text)\n",
    "df['locality_name'].value_counts()"
   ]
  },
  {
   "cell_type": "markdown",
   "metadata": {},
   "source": [
    "Я заменил все посёлки на поселки и сделал все маленьким регистромЮ осталось только удалить дубликаты типо поселок Мурино и Мурино. В этом мне поможет создании функции и словаря. Начну cо словаря"
   ]
  },
  {
   "cell_type": "code",
   "execution_count": 18,
   "metadata": {},
   "outputs": [
    {
     "data": {
      "text/plain": [
       "санкт-петербург            14051\n",
       "мурино                       458\n",
       "поселок шушары               393\n",
       "всеволожск                   357\n",
       "пушкин                       337\n",
       "колпино                      322\n",
       "гатчина                      290\n",
       "поселок парголово            288\n",
       "деревня кудрово              226\n",
       "петергоф                     190\n",
       "выборг                       190\n",
       "сестрорецк                   166\n",
       "красное село                 164\n",
       "кудрово                      152\n",
       "деревня новое девяткино      132\n",
       "сертолово                    132\n",
       "ломоносов                    124\n",
       "сланцы                        96\n",
       "поселок бугры                 95\n",
       "тосно                         92\n",
       "волхов                        90\n",
       "кириши                        89\n",
       "кронштадт                     88\n",
       "кировск                       78\n",
       "коммунар                      77\n",
       "отрадное                      74\n",
       "кингисепп                     70\n",
       "сосновый бор                  67\n",
       "поселок металлострой          62\n",
       "никольское                    61\n",
       "приозерск                     60\n",
       "деревня старая                58\n",
       "шлиссельбург                  55\n",
       "поселок янино-1               52\n",
       "поселок стрельна              44\n",
       "луга                          37\n",
       "волосово                      35\n",
       "поселок тельмана              35\n",
       "павловск                      35\n",
       "тихвин                        35\n",
       "поселок романовка             34\n",
       "поселок сиверский             29\n",
       "ивангород                     25\n",
       "зеленогорск                   23\n",
       "поселок новоселье             22\n",
       "поселок имени свердлова       22\n",
       "поселок кузьмоловский         20\n",
       "Name: locality_name, dtype: int64"
      ]
     },
     "execution_count": 18,
     "metadata": {},
     "output_type": "execute_result"
    }
   ],
   "source": [
    "locality_dict = {\n",
    "    'поселок мурино': 'мурино',\n",
    "    'городской поселок': 'поселок',\n",
    "    'поселок городского типа': 'поселок'\n",
    "}\n",
    "def locality_unique(text):\n",
    "    for key, value in locality_dict.items():\n",
    "        text = text.replace(key, value)\n",
    "    return text\n",
    "df['locality_name'] = df['locality_name'].apply(locality_unique)\n",
    "df['locality_name'].value_counts()"
   ]
  },
  {
   "cell_type": "markdown",
   "metadata": {},
   "source": [
    "Отлично, никаких дубликатов не осталось, можем идти дальше"
   ]
  },
  {
   "cell_type": "code",
   "execution_count": 115,
   "metadata": {},
   "outputs": [
    {
     "name": "stdout",
     "output_type": "stream",
     "text": [
      "<class 'pandas.core.frame.DataFrame'>\n",
      "Int64Index: 19632 entries, 0 to 23695\n",
      "Data columns (total 22 columns):\n",
      " #   Column                Non-Null Count  Dtype  \n",
      "---  ------                --------------  -----  \n",
      " 0   total_images          19632 non-null  int64  \n",
      " 1   last_price            19632 non-null  float64\n",
      " 2   total_area            19632 non-null  float64\n",
      " 3   first_day_exposition  19632 non-null  object \n",
      " 4   rooms                 19632 non-null  int64  \n",
      " 5   ceiling_height        12529 non-null  float64\n",
      " 6   floors_total          19594 non-null  float64\n",
      " 7   living_area           19632 non-null  float64\n",
      " 8   floor                 19632 non-null  int64  \n",
      " 9   is_apartment          2399 non-null   object \n",
      " 10  studio                19632 non-null  bool   \n",
      " 11  open_plan             19632 non-null  bool   \n",
      " 12  kitchen_area          19632 non-null  float64\n",
      " 13  balcony               19632 non-null  float64\n",
      " 14  locality_name         19632 non-null  object \n",
      " 15  airports_nearest      19632 non-null  float64\n",
      " 16  cityCenters_nearest   19632 non-null  float64\n",
      " 17  parks_around3000      16237 non-null  float64\n",
      " 18  parks_nearest         7241 non-null   float64\n",
      " 19  ponds_around3000      16237 non-null  float64\n",
      " 20  ponds_nearest         8052 non-null   float64\n",
      " 21  days_exposition       17032 non-null  float64\n",
      "dtypes: bool(2), float64(14), int64(3), object(3)\n",
      "memory usage: 3.2+ MB\n"
     ]
    }
   ],
   "source": [
    "df.info()"
   ]
  },
  {
   "cell_type": "code",
   "execution_count": 19,
   "metadata": {},
   "outputs": [
    {
     "data": {
      "text/plain": [
       "<AxesSubplot:xlabel='last_price', ylabel='ceiling_height'>"
      ]
     },
     "execution_count": 19,
     "metadata": {},
     "output_type": "execute_result"
    },
    {
     "data": {
      "image/png": "[encoded data removed]",
      "text/plain": [
       "<Figure size 432x288 with 1 Axes>"
      ]
     },
     "metadata": {
      "needs_background": "light"
     },
     "output_type": "display_data"
    }
   ],
   "source": [
    "df.plot(x = 'last_price', y = 'ceiling_height',kind = 'scatter', marker='.',  linestyle='dashed')"
   ]
  },
  {
   "cell_type": "markdown",
   "metadata": {},
   "source": [
    "Тут я хотел посмотреть зависимость между ценой и высотой потолка, но здесь все очень смешано, поэтому не получится взять цену как главный параметр для заполнения пропусков в колонке высота потолков, потому оставлю только город.\n",
    "\n",
    "Конечно, можно заметить что здесь есть небольшой восходящий тренд, но мне кажется этого все равно недостаточно\n"
   ]
  },
  {
   "cell_type": "markdown",
   "metadata": {},
   "source": [
    "Теперь я заполню пропуски в столбцах в зависимости только от города, так как мне кажется это самое логичное решение, ведь в разных городах разная архитектура. Сначала я удалю пропуски в названии города, их там совсем мало, около 30 штук, а затем просто заменю пустые значения в значениях высоты потолков на медиану этих потолков по городу, именно на медиану, так как она менее чувствительна к выбросам"
   ]
  },
  {
   "cell_type": "code",
   "execution_count": 20,
   "metadata": {},
   "outputs": [
    {
     "data": {
      "text/plain": [
       "0"
      ]
     },
     "execution_count": 20,
     "metadata": {},
     "output_type": "execute_result"
    }
   ],
   "source": [
    "for i in df['locality_name'].unique():\n",
    "    median = df[df['locality_name'] == i]['ceiling_height'].median()\n",
    "    df.loc[((df['locality_name'] == i) & (df['ceiling_height'].isnull())), 'ceiling_height'] = median\n",
    "df['ceiling_height'].isnull().sum()"
   ]
  },
  {
   "cell_type": "code",
   "execution_count": 21,
   "metadata": {},
   "outputs": [
    {
     "name": "stdout",
     "output_type": "stream",
     "text": [
      "<class 'pandas.core.frame.DataFrame'>\n",
      "Int64Index: 19632 entries, 0 to 23695\n",
      "Data columns (total 22 columns):\n",
      " #   Column                Non-Null Count  Dtype  \n",
      "---  ------                --------------  -----  \n",
      " 0   total_images          19632 non-null  int64  \n",
      " 1   last_price            19632 non-null  float64\n",
      " 2   total_area            19632 non-null  float64\n",
      " 3   first_day_exposition  19632 non-null  object \n",
      " 4   rooms                 19632 non-null  int64  \n",
      " 5   ceiling_height        19632 non-null  float64\n",
      " 6   floors_total          19594 non-null  float64\n",
      " 7   living_area           19632 non-null  float64\n",
      " 8   floor                 19632 non-null  int64  \n",
      " 9   is_apartment          2399 non-null   object \n",
      " 10  studio                19632 non-null  bool   \n",
      " 11  open_plan             19632 non-null  bool   \n",
      " 12  kitchen_area          19632 non-null  float64\n",
      " 13  balcony               19632 non-null  float64\n",
      " 14  locality_name         19632 non-null  object \n",
      " 15  airports_nearest      19632 non-null  float64\n",
      " 16  cityCenters_nearest   19632 non-null  float64\n",
      " 17  parks_around3000      16237 non-null  float64\n",
      " 18  parks_nearest         7241 non-null   float64\n",
      " 19  ponds_around3000      16237 non-null  float64\n",
      " 20  ponds_nearest         8052 non-null   float64\n",
      " 21  days_exposition       17032 non-null  float64\n",
      "dtypes: bool(2), float64(14), int64(3), object(3)\n",
      "memory usage: 3.2+ MB\n"
     ]
    }
   ],
   "source": [
    "df.info()"
   ]
  },
  {
   "cell_type": "markdown",
   "metadata": {},
   "source": [
    "Теперь мне кажется что самое время поправить 2 столбца, в которых неверных формат данных, это столбец is_apartment и first_day_exposition. К сожалению, работать со столбцом is_apartment нет никакого смысла так как там 80% пропусков и использовать его для какого либо анализа нецелесобразно"
   ]
  },
  {
   "cell_type": "code",
   "execution_count": 22,
   "metadata": {},
   "outputs": [
    {
     "data": {
      "text/plain": [
       "0        2019-03-07T00:00:00\n",
       "1        2018-12-04T00:00:00\n",
       "2        2015-08-20T00:00:00\n",
       "4        2018-06-19T00:00:00\n",
       "5        2018-09-10T00:00:00\n",
       "                ...         \n",
       "23691    2016-10-13T00:00:00\n",
       "23692    2017-07-07T00:00:00\n",
       "23693    2016-08-05T00:00:00\n",
       "23694    2017-03-21T00:00:00\n",
       "23695    2018-01-15T00:00:00\n",
       "Name: first_day_exposition, Length: 19632, dtype: object"
      ]
     },
     "execution_count": 22,
     "metadata": {},
     "output_type": "execute_result"
    }
   ],
   "source": [
    "df['first_day_exposition']"
   ]
  },
  {
   "cell_type": "code",
   "execution_count": 23,
   "metadata": {},
   "outputs": [],
   "source": [
    "df['first_day_exposition'] = pd.to_datetime(df['first_day_exposition'])"
   ]
  },
  {
   "cell_type": "markdown",
   "metadata": {},
   "source": [
    "Я решил сделать без времени, так как в любом случае везде равно 00:00 и иметь его в виду не имеет никакого смысла. Теперь промерим все ли поменялось"
   ]
  },
  {
   "cell_type": "code",
   "execution_count": 24,
   "metadata": {},
   "outputs": [
    {
     "name": "stdout",
     "output_type": "stream",
     "text": [
      "0       2019-03-07\n",
      "1       2018-12-04\n",
      "2       2015-08-20\n",
      "4       2018-06-19\n",
      "5       2018-09-10\n",
      "           ...    \n",
      "23691   2016-10-13\n",
      "23692   2017-07-07\n",
      "23693   2016-08-05\n",
      "23694   2017-03-21\n",
      "23695   2018-01-15\n",
      "Name: first_day_exposition, Length: 19632, dtype: datetime64[ns]\n",
      "<class 'pandas.core.frame.DataFrame'>\n",
      "Int64Index: 19632 entries, 0 to 23695\n",
      "Data columns (total 22 columns):\n",
      " #   Column                Non-Null Count  Dtype         \n",
      "---  ------                --------------  -----         \n",
      " 0   total_images          19632 non-null  int64         \n",
      " 1   last_price            19632 non-null  float64       \n",
      " 2   total_area            19632 non-null  float64       \n",
      " 3   first_day_exposition  19632 non-null  datetime64[ns]\n",
      " 4   rooms                 19632 non-null  int64         \n",
      " 5   ceiling_height        19632 non-null  float64       \n",
      " 6   floors_total          19594 non-null  float64       \n",
      " 7   living_area           19632 non-null  float64       \n",
      " 8   floor                 19632 non-null  int64         \n",
      " 9   is_apartment          2399 non-null   object        \n",
      " 10  studio                19632 non-null  bool          \n",
      " 11  open_plan             19632 non-null  bool          \n",
      " 12  kitchen_area          19632 non-null  float64       \n",
      " 13  balcony               19632 non-null  float64       \n",
      " 14  locality_name         19632 non-null  object        \n",
      " 15  airports_nearest      19632 non-null  float64       \n",
      " 16  cityCenters_nearest   19632 non-null  float64       \n",
      " 17  parks_around3000      16237 non-null  float64       \n",
      " 18  parks_nearest         7241 non-null   float64       \n",
      " 19  ponds_around3000      16237 non-null  float64       \n",
      " 20  ponds_nearest         8052 non-null   float64       \n",
      " 21  days_exposition       17032 non-null  float64       \n",
      "dtypes: bool(2), datetime64[ns](1), float64(14), int64(3), object(2)\n",
      "memory usage: 3.2+ MB\n"
     ]
    }
   ],
   "source": [
    "print(df['first_day_exposition'])\n",
    "df.info()"
   ]
  },
  {
   "cell_type": "markdown",
   "metadata": {},
   "source": [
    "Все хорошо, теперь можно переходить к следующему шагу, данные починены, выбраны данные с которыми можно работать, с которыми нет, выделю еще раз те данные, с которыми мы в теории можем работать без особо вреда для анализа. Вот список: total_images, last_price,total_area, first_day_exposition,rooms, ceiling_height,floors_total, living_area, floor, studio, open_plan, kitchen_area, balcony, locality_name, airports_nearest, cityCenters_nearest, days_exposition"
   ]
  },
  {
   "cell_type": "markdown",
   "metadata": {},
   "source": [
    "### Посчитайте и добавьте в таблицу новые столбцы"
   ]
  },
  {
   "cell_type": "markdown",
   "metadata": {},
   "source": [
    "#### Цена одного квадратного метра"
   ]
  },
  {
   "cell_type": "code",
   "execution_count": 25,
   "metadata": {
    "scrolled": false
   },
   "outputs": [
    {
     "data": {
      "text/html": [
       "<div>\n",
       "<style scoped>\n",
       "    .dataframe tbody tr th:only-of-type {\n",
       "        vertical-align: middle;\n",
       "    }\n",
       "\n",
       "    .dataframe tbody tr th {\n",
       "        vertical-align: top;\n",
       "    }\n",
       "\n",
       "    .dataframe thead th {\n",
       "        text-align: right;\n",
       "    }\n",
       "</style>\n",
       "<table border=\"1\" class=\"dataframe\">\n",
       "  <thead>\n",
       "    <tr style=\"text-align: right;\">\n",
       "      <th></th>\n",
       "      <th>total_images</th>\n",
       "      <th>last_price</th>\n",
       "      <th>total_area</th>\n",
       "      <th>first_day_exposition</th>\n",
       "      <th>rooms</th>\n",
       "      <th>ceiling_height</th>\n",
       "      <th>floors_total</th>\n",
       "      <th>living_area</th>\n",
       "      <th>floor</th>\n",
       "      <th>is_apartment</th>\n",
       "      <th>...</th>\n",
       "      <th>kitchen_area</th>\n",
       "      <th>balcony</th>\n",
       "      <th>locality_name</th>\n",
       "      <th>airports_nearest</th>\n",
       "      <th>cityCenters_nearest</th>\n",
       "      <th>parks_around3000</th>\n",
       "      <th>parks_nearest</th>\n",
       "      <th>ponds_around3000</th>\n",
       "      <th>ponds_nearest</th>\n",
       "      <th>days_exposition</th>\n",
       "    </tr>\n",
       "  </thead>\n",
       "  <tbody>\n",
       "    <tr>\n",
       "      <th>0</th>\n",
       "      <td>20</td>\n",
       "      <td>13000000.0</td>\n",
       "      <td>108.0</td>\n",
       "      <td>2019-03-07</td>\n",
       "      <td>3</td>\n",
       "      <td>2.700</td>\n",
       "      <td>16.0</td>\n",
       "      <td>51.0</td>\n",
       "      <td>8</td>\n",
       "      <td>NaN</td>\n",
       "      <td>...</td>\n",
       "      <td>25.0</td>\n",
       "      <td>0.0</td>\n",
       "      <td>санкт-петербург</td>\n",
       "      <td>18863.0</td>\n",
       "      <td>16028.0</td>\n",
       "      <td>1.0</td>\n",
       "      <td>482.0</td>\n",
       "      <td>2.0</td>\n",
       "      <td>755.0</td>\n",
       "      <td>NaN</td>\n",
       "    </tr>\n",
       "    <tr>\n",
       "      <th>1</th>\n",
       "      <td>7</td>\n",
       "      <td>3350000.0</td>\n",
       "      <td>40.4</td>\n",
       "      <td>2018-12-04</td>\n",
       "      <td>1</td>\n",
       "      <td>2.645</td>\n",
       "      <td>11.0</td>\n",
       "      <td>18.6</td>\n",
       "      <td>1</td>\n",
       "      <td>NaN</td>\n",
       "      <td>...</td>\n",
       "      <td>11.0</td>\n",
       "      <td>2.0</td>\n",
       "      <td>поселок шушары</td>\n",
       "      <td>12817.0</td>\n",
       "      <td>18603.0</td>\n",
       "      <td>0.0</td>\n",
       "      <td>NaN</td>\n",
       "      <td>0.0</td>\n",
       "      <td>NaN</td>\n",
       "      <td>81.0</td>\n",
       "    </tr>\n",
       "    <tr>\n",
       "      <th>2</th>\n",
       "      <td>10</td>\n",
       "      <td>5196000.0</td>\n",
       "      <td>56.0</td>\n",
       "      <td>2015-08-20</td>\n",
       "      <td>2</td>\n",
       "      <td>2.700</td>\n",
       "      <td>5.0</td>\n",
       "      <td>34.3</td>\n",
       "      <td>4</td>\n",
       "      <td>NaN</td>\n",
       "      <td>...</td>\n",
       "      <td>8.3</td>\n",
       "      <td>0.0</td>\n",
       "      <td>санкт-петербург</td>\n",
       "      <td>21741.0</td>\n",
       "      <td>13933.0</td>\n",
       "      <td>1.0</td>\n",
       "      <td>90.0</td>\n",
       "      <td>2.0</td>\n",
       "      <td>574.0</td>\n",
       "      <td>558.0</td>\n",
       "    </tr>\n",
       "    <tr>\n",
       "      <th>4</th>\n",
       "      <td>2</td>\n",
       "      <td>10000000.0</td>\n",
       "      <td>100.0</td>\n",
       "      <td>2018-06-19</td>\n",
       "      <td>2</td>\n",
       "      <td>3.030</td>\n",
       "      <td>14.0</td>\n",
       "      <td>32.0</td>\n",
       "      <td>13</td>\n",
       "      <td>NaN</td>\n",
       "      <td>...</td>\n",
       "      <td>41.0</td>\n",
       "      <td>0.0</td>\n",
       "      <td>санкт-петербург</td>\n",
       "      <td>31856.0</td>\n",
       "      <td>8098.0</td>\n",
       "      <td>2.0</td>\n",
       "      <td>112.0</td>\n",
       "      <td>1.0</td>\n",
       "      <td>48.0</td>\n",
       "      <td>121.0</td>\n",
       "    </tr>\n",
       "    <tr>\n",
       "      <th>5</th>\n",
       "      <td>10</td>\n",
       "      <td>2890000.0</td>\n",
       "      <td>30.4</td>\n",
       "      <td>2018-09-10</td>\n",
       "      <td>1</td>\n",
       "      <td>2.625</td>\n",
       "      <td>12.0</td>\n",
       "      <td>14.4</td>\n",
       "      <td>5</td>\n",
       "      <td>NaN</td>\n",
       "      <td>...</td>\n",
       "      <td>9.1</td>\n",
       "      <td>0.0</td>\n",
       "      <td>поселок янино-1</td>\n",
       "      <td>26679.0</td>\n",
       "      <td>13107.0</td>\n",
       "      <td>NaN</td>\n",
       "      <td>NaN</td>\n",
       "      <td>NaN</td>\n",
       "      <td>NaN</td>\n",
       "      <td>55.0</td>\n",
       "    </tr>\n",
       "  </tbody>\n",
       "</table>\n",
       "<p>5 rows × 22 columns</p>\n",
       "</div>"
      ],
      "text/plain": [
       "   total_images  last_price  total_area first_day_exposition  rooms  \\\n",
       "0            20  13000000.0       108.0           2019-03-07      3   \n",
       "1             7   3350000.0        40.4           2018-12-04      1   \n",
       "2            10   5196000.0        56.0           2015-08-20      2   \n",
       "4             2  10000000.0       100.0           2018-06-19      2   \n",
       "5            10   2890000.0        30.4           2018-09-10      1   \n",
       "\n",
       "   ceiling_height  floors_total  living_area  floor is_apartment  ...  \\\n",
       "0           2.700          16.0         51.0      8          NaN  ...   \n",
       "1           2.645          11.0         18.6      1          NaN  ...   \n",
       "2           2.700           5.0         34.3      4          NaN  ...   \n",
       "4           3.030          14.0         32.0     13          NaN  ...   \n",
       "5           2.625          12.0         14.4      5          NaN  ...   \n",
       "\n",
       "   kitchen_area  balcony    locality_name  airports_nearest  \\\n",
       "0          25.0      0.0  санкт-петербург           18863.0   \n",
       "1          11.0      2.0   поселок шушары           12817.0   \n",
       "2           8.3      0.0  санкт-петербург           21741.0   \n",
       "4          41.0      0.0  санкт-петербург           31856.0   \n",
       "5           9.1      0.0  поселок янино-1           26679.0   \n",
       "\n",
       "  cityCenters_nearest  parks_around3000  parks_nearest  ponds_around3000  \\\n",
       "0             16028.0               1.0          482.0               2.0   \n",
       "1             18603.0               0.0            NaN               0.0   \n",
       "2             13933.0               1.0           90.0               2.0   \n",
       "4              8098.0               2.0          112.0               1.0   \n",
       "5             13107.0               NaN            NaN               NaN   \n",
       "\n",
       "   ponds_nearest  days_exposition  \n",
       "0          755.0              NaN  \n",
       "1            NaN             81.0  \n",
       "2          574.0            558.0  \n",
       "4           48.0            121.0  \n",
       "5            NaN             55.0  \n",
       "\n",
       "[5 rows x 22 columns]"
      ]
     },
     "execution_count": 25,
     "metadata": {},
     "output_type": "execute_result"
    }
   ],
   "source": [
    "df.head()"
   ]
  },
  {
   "cell_type": "code",
   "execution_count": 26,
   "metadata": {
    "scrolled": true
   },
   "outputs": [
    {
     "data": {
      "text/plain": [
       "0        120370.370370\n",
       "1         82920.792079\n",
       "2         92785.714286\n",
       "4        100000.000000\n",
       "5         95065.789474\n",
       "             ...      \n",
       "23691    129903.978052\n",
       "23692     45000.000000\n",
       "23693     73717.948718\n",
       "23694     72490.845228\n",
       "23695     52542.372881\n",
       "Name: price_per_sq_m, Length: 19632, dtype: float64"
      ]
     },
     "execution_count": 26,
     "metadata": {},
     "output_type": "execute_result"
    }
   ],
   "source": [
    "df['price_per_sq_m'] = df['last_price'] / df['total_area']\n",
    "df['price_per_sq_m']"
   ]
  },
  {
   "cell_type": "markdown",
   "metadata": {},
   "source": [
    "#### День недели публикации объявления (0 — понедельник, 1 — вторник и так далее"
   ]
  },
  {
   "cell_type": "code",
   "execution_count": 27,
   "metadata": {},
   "outputs": [
    {
     "data": {
      "text/plain": [
       "0        3\n",
       "1        1\n",
       "2        3\n",
       "4        1\n",
       "5        0\n",
       "        ..\n",
       "23691    3\n",
       "23692    4\n",
       "23693    4\n",
       "23694    1\n",
       "23695    0\n",
       "Name: name_weekday, Length: 19632, dtype: int64"
      ]
     },
     "execution_count": 27,
     "metadata": {},
     "output_type": "execute_result"
    }
   ],
   "source": [
    "df['name_weekday'] = df['first_day_exposition'].dt.weekday\n",
    "df['name_weekday']"
   ]
  },
  {
   "cell_type": "markdown",
   "metadata": {},
   "source": [
    "#### Месяц публикации объявления"
   ]
  },
  {
   "cell_type": "code",
   "execution_count": 28,
   "metadata": {},
   "outputs": [
    {
     "data": {
      "text/plain": [
       "0         3\n",
       "1        12\n",
       "2         8\n",
       "4         6\n",
       "5         9\n",
       "         ..\n",
       "23691    10\n",
       "23692     7\n",
       "23693     8\n",
       "23694     3\n",
       "23695     1\n",
       "Name: name_month, Length: 19632, dtype: int64"
      ]
     },
     "execution_count": 28,
     "metadata": {},
     "output_type": "execute_result"
    }
   ],
   "source": [
    "df['name_month'] = df['first_day_exposition'].dt.month\n",
    "df['name_month']"
   ]
  },
  {
   "cell_type": "markdown",
   "metadata": {},
   "source": [
    "#### Год публикации объявления"
   ]
  },
  {
   "cell_type": "code",
   "execution_count": 29,
   "metadata": {},
   "outputs": [
    {
     "data": {
      "text/plain": [
       "0        2019\n",
       "1        2018\n",
       "2        2015\n",
       "4        2018\n",
       "5        2018\n",
       "         ... \n",
       "23691    2016\n",
       "23692    2017\n",
       "23693    2016\n",
       "23694    2017\n",
       "23695    2018\n",
       "Name: name_year, Length: 19632, dtype: int64"
      ]
     },
     "execution_count": 29,
     "metadata": {},
     "output_type": "execute_result"
    }
   ],
   "source": [
    "df['name_year'] = df['first_day_exposition'].dt.year\n",
    "df['name_year']"
   ]
  },
  {
   "cell_type": "markdown",
   "metadata": {},
   "source": [
    "#### Тип этажа квартиры (значения — «‎первый», «последний», «другой»)"
   ]
  },
  {
   "cell_type": "code",
   "execution_count": 30,
   "metadata": {},
   "outputs": [
    {
     "data": {
      "text/html": [
       "<div>\n",
       "<style scoped>\n",
       "    .dataframe tbody tr th:only-of-type {\n",
       "        vertical-align: middle;\n",
       "    }\n",
       "\n",
       "    .dataframe tbody tr th {\n",
       "        vertical-align: top;\n",
       "    }\n",
       "\n",
       "    .dataframe thead th {\n",
       "        text-align: right;\n",
       "    }\n",
       "</style>\n",
       "<table border=\"1\" class=\"dataframe\">\n",
       "  <thead>\n",
       "    <tr style=\"text-align: right;\">\n",
       "      <th></th>\n",
       "      <th>first_day_exposition</th>\n",
       "      <th>name_floor</th>\n",
       "    </tr>\n",
       "  </thead>\n",
       "  <tbody>\n",
       "    <tr>\n",
       "      <th>0</th>\n",
       "      <td>2019-03-07</td>\n",
       "      <td>другой</td>\n",
       "    </tr>\n",
       "    <tr>\n",
       "      <th>1</th>\n",
       "      <td>2018-12-04</td>\n",
       "      <td>первый</td>\n",
       "    </tr>\n",
       "    <tr>\n",
       "      <th>2</th>\n",
       "      <td>2015-08-20</td>\n",
       "      <td>другой</td>\n",
       "    </tr>\n",
       "    <tr>\n",
       "      <th>4</th>\n",
       "      <td>2018-06-19</td>\n",
       "      <td>другой</td>\n",
       "    </tr>\n",
       "    <tr>\n",
       "      <th>5</th>\n",
       "      <td>2018-09-10</td>\n",
       "      <td>другой</td>\n",
       "    </tr>\n",
       "    <tr>\n",
       "      <th>...</th>\n",
       "      <td>...</td>\n",
       "      <td>...</td>\n",
       "    </tr>\n",
       "    <tr>\n",
       "      <th>23691</th>\n",
       "      <td>2016-10-13</td>\n",
       "      <td>другой</td>\n",
       "    </tr>\n",
       "    <tr>\n",
       "      <th>23692</th>\n",
       "      <td>2017-07-07</td>\n",
       "      <td>другой</td>\n",
       "    </tr>\n",
       "    <tr>\n",
       "      <th>23693</th>\n",
       "      <td>2016-08-05</td>\n",
       "      <td>другой</td>\n",
       "    </tr>\n",
       "    <tr>\n",
       "      <th>23694</th>\n",
       "      <td>2017-03-21</td>\n",
       "      <td>другой</td>\n",
       "    </tr>\n",
       "    <tr>\n",
       "      <th>23695</th>\n",
       "      <td>2018-01-15</td>\n",
       "      <td>другой</td>\n",
       "    </tr>\n",
       "  </tbody>\n",
       "</table>\n",
       "<p>19632 rows × 2 columns</p>\n",
       "</div>"
      ],
      "text/plain": [
       "      first_day_exposition name_floor\n",
       "0               2019-03-07     другой\n",
       "1               2018-12-04     первый\n",
       "2               2015-08-20     другой\n",
       "4               2018-06-19     другой\n",
       "5               2018-09-10     другой\n",
       "...                    ...        ...\n",
       "23691           2016-10-13     другой\n",
       "23692           2017-07-07     другой\n",
       "23693           2016-08-05     другой\n",
       "23694           2017-03-21     другой\n",
       "23695           2018-01-15     другой\n",
       "\n",
       "[19632 rows x 2 columns]"
      ]
     },
     "execution_count": 30,
     "metadata": {},
     "output_type": "execute_result"
    }
   ],
   "source": [
    "def name_floor(row):\n",
    "    floor = row['floor']\n",
    "    floors_total = row['floors_total']\n",
    "    \n",
    "    if floor == 1:\n",
    "        return 'первый'\n",
    "    elif floors_total - floor == 0:\n",
    "        return \"последний\"\n",
    "    return 'другой'\n",
    "\n",
    "\n",
    "\n",
    "df['name_floor'] = df.apply(name_floor, axis=1)\n",
    "df[['first_day_exposition','name_floor']]"
   ]
  },
  {
   "cell_type": "markdown",
   "metadata": {},
   "source": [
    "#### Расстояние до центра города в километрах"
   ]
  },
  {
   "cell_type": "code",
   "execution_count": 31,
   "metadata": {},
   "outputs": [
    {
     "data": {
      "text/plain": [
       "0        16.0\n",
       "1        19.0\n",
       "2        14.0\n",
       "4         8.0\n",
       "5        13.0\n",
       "         ... \n",
       "23691     4.0\n",
       "23692    13.0\n",
       "23693    34.0\n",
       "23694     4.0\n",
       "23695    13.0\n",
       "Name: cityCenters_nearest_km, Length: 19632, dtype: float64"
      ]
     },
     "execution_count": 31,
     "metadata": {},
     "output_type": "execute_result"
    }
   ],
   "source": [
    "df['cityCenters_nearest_km'] = round(df['cityCenters_nearest']/1000)\n",
    "df['cityCenters_nearest_km']"
   ]
  },
  {
   "cell_type": "markdown",
   "metadata": {},
   "source": [
    "### Проведите исследовательский анализ данных"
   ]
  },
  {
   "cell_type": "markdown",
   "metadata": {},
   "source": [
    "После создания столбцов можно переходить к 4 пункту и непосредственно анализу данных. Для начала построим гоистограммы для всех переменных."
   ]
  },
  {
   "cell_type": "code",
   "execution_count": 32,
   "metadata": {},
   "outputs": [
    {
     "name": "stdout",
     "output_type": "stream",
     "text": [
      "<class 'pandas.core.frame.DataFrame'>\n",
      "Int64Index: 19632 entries, 0 to 23695\n",
      "Data columns (total 28 columns):\n",
      " #   Column                  Non-Null Count  Dtype         \n",
      "---  ------                  --------------  -----         \n",
      " 0   total_images            19632 non-null  int64         \n",
      " 1   last_price              19632 non-null  float64       \n",
      " 2   total_area              19632 non-null  float64       \n",
      " 3   first_day_exposition    19632 non-null  datetime64[ns]\n",
      " 4   rooms                   19632 non-null  int64         \n",
      " 5   ceiling_height          19632 non-null  float64       \n",
      " 6   floors_total            19594 non-null  float64       \n",
      " 7   living_area             19632 non-null  float64       \n",
      " 8   floor                   19632 non-null  int64         \n",
      " 9   is_apartment            2399 non-null   object        \n",
      " 10  studio                  19632 non-null  bool          \n",
      " 11  open_plan               19632 non-null  bool          \n",
      " 12  kitchen_area            19632 non-null  float64       \n",
      " 13  balcony                 19632 non-null  float64       \n",
      " 14  locality_name           19632 non-null  object        \n",
      " 15  airports_nearest        19632 non-null  float64       \n",
      " 16  cityCenters_nearest     19632 non-null  float64       \n",
      " 17  parks_around3000        16237 non-null  float64       \n",
      " 18  parks_nearest           7241 non-null   float64       \n",
      " 19  ponds_around3000        16237 non-null  float64       \n",
      " 20  ponds_nearest           8052 non-null   float64       \n",
      " 21  days_exposition         17032 non-null  float64       \n",
      " 22  price_per_sq_m          19632 non-null  float64       \n",
      " 23  name_weekday            19632 non-null  int64         \n",
      " 24  name_month              19632 non-null  int64         \n",
      " 25  name_year               19632 non-null  int64         \n",
      " 26  name_floor              19632 non-null  object        \n",
      " 27  cityCenters_nearest_km  19632 non-null  float64       \n",
      "dtypes: bool(2), datetime64[ns](1), float64(16), int64(6), object(3)\n",
      "memory usage: 4.1+ MB\n"
     ]
    }
   ],
   "source": [
    "df.info()"
   ]
  },
  {
   "cell_type": "code",
   "execution_count": 33,
   "metadata": {},
   "outputs": [
    {
     "data": {
      "image/png": "[encoded data removed]",
      "text/plain": [
       "<Figure size 432x288 with 1 Axes>"
      ]
     },
     "metadata": {
      "needs_background": "light"
     },
     "output_type": "display_data"
    },
    {
     "data": {
      "image/png": "[encoded data removed]",
      "text/plain": [
       "<Figure size 432x288 with 1 Axes>"
      ]
     },
     "metadata": {
      "needs_background": "light"
     },
     "output_type": "display_data"
    },
    {
     "data": {
      "image/png": "[encoded data removed]",
      "text/plain": [
       "<Figure size 432x288 with 1 Axes>"
      ]
     },
     "metadata": {
      "needs_background": "light"
     },
     "output_type": "display_data"
    },
    {
     "data": {
      "image/png": "[encoded data removed]",
      "text/plain": [
       "<Figure size 432x288 with 1 Axes>"
      ]
     },
     "metadata": {
      "needs_background": "light"
     },
     "output_type": "display_data"
    },
    {
     "data": {
      "image/png": "[encoded data removed]",
      "text/plain": [
       "<Figure size 432x288 with 1 Axes>"
      ]
     },
     "metadata": {
      "needs_background": "light"
     },
     "output_type": "display_data"
    },
    {
     "data": {
      "image/png": "[encoded data removed]",
      "text/plain": [
       "<Figure size 432x288 with 1 Axes>"
      ]
     },
     "metadata": {
      "needs_background": "light"
     },
     "output_type": "display_data"
    },
    {
     "data": {
      "image/png": "[encoded data removed]",
      "text/plain": [
       "<Figure size 432x288 with 1 Axes>"
      ]
     },
     "metadata": {
      "needs_background": "light"
     },
     "output_type": "display_data"
    },
    {
     "data": {
      "image/png": "[encoded data removed]",
      "text/plain": [
       "<Figure size 432x288 with 1 Axes>"
      ]
     },
     "metadata": {
      "needs_background": "light"
     },
     "output_type": "display_data"
    },
    {
     "data": {
      "image/png": "[encoded data removed]",
      "text/plain": [
       "<Figure size 432x288 with 1 Axes>"
      ]
     },
     "metadata": {
      "needs_background": "light"
     },
     "output_type": "display_data"
    },
    {
     "data": {
      "image/png": "[encoded data removed]",
      "text/plain": [
       "<Figure size 432x288 with 1 Axes>"
      ]
     },
     "metadata": {
      "needs_background": "light"
     },
     "output_type": "display_data"
    },
    {
     "data": {
      "image/png": "[encoded data removed]",
      "text/plain": [
       "<Figure size 432x288 with 1 Axes>"
      ]
     },
     "metadata": {
      "needs_background": "light"
     },
     "output_type": "display_data"
    },
    {
     "data": {
      "image/png": "[encoded data removed]",
      "text/plain": [
       "<Figure size 432x288 with 1 Axes>"
      ]
     },
     "metadata": {
      "needs_background": "light"
     },
     "output_type": "display_data"
    },
    {
     "data": {
      "image/png": "[encoded data removed]",
      "text/plain": [
       "<Figure size 432x288 with 1 Axes>"
      ]
     },
     "metadata": {
      "needs_background": "light"
     },
     "output_type": "display_data"
    },
    {
     "data": {
      "image/png": "[encoded data removed]",
      "text/plain": [
       "<Figure size 432x288 with 1 Axes>"
      ]
     },
     "metadata": {
      "needs_background": "light"
     },
     "output_type": "display_data"
    }
   ],
   "source": [
    "list = ['last_price', 'total_area', 'kitchen_area', 'living_area', 'rooms', 'ceiling_height', 'floor', 'name_floor', 'floors_total', 'cityCenters_nearest', 'airports_nearest', 'parks_nearest', 'name_weekday', 'name_month']\n",
    "for i in list:\n",
    "    df[i].hist(bins = 30)\n",
    "    plt.show()"
   ]
  },
  {
   "cell_type": "markdown",
   "metadata": {},
   "source": [
    "Давайте рассмотрим каждый из графиков по отдельности:\n",
    "\n",
    "    - цена объекта очень сильно варьируется и присутствуют очень большие значения, который очень мало, возможно мне следовало бы убрать слишком явных аутлайеров, но это явно не ошибка и просто очень дорого стоит квартира. Возможно, это было бы правильно но мне кажется стоит сделать чуть более безопасно\n",
    "    - все площади, а также количество комнат также имеют очень сильный разброс и несколько супер больших значений аутлаеров, убирать я их не стал из тех же соображений,здесь ситуация идентичная цене - и есть очень большие квартиры, которые очевидно будут стоить очень дорого\n",
    "    - с потолками мы уже работали, с ними все в порядке, в основном потолки от 2.5 до 3 метров что полностью соответствует действительности\n",
    "    - картину по этажам я думал увидеть немного другую, но тут мы видим явное преобладание квартир с 1 по 10 этаж, остальных квартир гораздо меньше, что в целом тоже вполне логично, в большинстве городов больше всего домов были посроены во времена хрущева, где высота редко была больше 10 этажей\n",
    "    - следующий график отражает количество квартир на первом, последнем и остальных этажах, абсолютно одидаемо - что преобладают именно квартиры этажа типа \"другой\", а также квартир на последнем этаже чуть больше и продаваться они должны лучше чем на первом этаже, так как квартиры на первом этаже по умолчанию покупаются хуже и считаются дешевле\n",
    "    - рассматривая общее количество этажей в доме мы видим картину, похожую на ту что была чуть выше с квартирами, продаваемыми на этажах, здесь также преобладают именно дома, в которых от 5 до 10 этажей - самые популярные в нашей стране, также достаточно популярными являются и те дома, где этажей насчитывается до 29, это обычные высотку в густонаселенных районах типо Мурино\n",
    "    - то касается расстояния до центра города то очень сильно мы видим именно преобладание квартир, которые находятся на расстоянии примерно 13-15 километров, так называемые спальные районы, видно также и редкие исключения, где расстояние доходит до 60км\n",
    "    - расстояние до аэропорта также не удивляет, абсолютное большинство квартир находятся именно в диапазоне от 23 до 27 км\n",
    "    - что касается расстояния до ближайшего карта, почти все дома имеют какой то парк в радиусе километра, но не стоит забывать что в этой колонке очень большое количество пропусков, что может нарушить целостность анализа\n",
    "    - Что касается дней недели, то выбиваются именно суббота и воскресенье, когда публикуются объявления гораздо реже чем в рабочие дни, что в целом вполне логично. В Рабочие дни чаще всего выставляют объявления именно во вторник и четверг\n",
    "    - Говоря о популярности месяцев в выставлении квартир - тут видно явное преобладание февраля, марта, апреля и ноября. Меньше всего квартиры публикуются в праздничные месяцы, такие как декабрь, январь и май. Летние месяцы также не являются очень продуктивными"
   ]
  },
  {
   "cell_type": "markdown",
   "metadata": {},
   "source": [
    "Теперь проанализируем сколько времени продаются квартиры, для начала построю несколько гистограмм, чтобы понять какое время считается самым популярным и какое в принципе максимальное"
   ]
  },
  {
   "cell_type": "code",
   "execution_count": 34,
   "metadata": {},
   "outputs": [
    {
     "data": {
      "image/png": "[encoded data removed]",
      "text/plain": [
       "<Figure size 432x288 with 1 Axes>"
      ]
     },
     "metadata": {
      "needs_background": "light"
     },
     "output_type": "display_data"
    },
    {
     "data": {
      "image/png": "[encoded data removed]",
      "text/plain": [
       "<Figure size 432x288 with 1 Axes>"
      ]
     },
     "metadata": {
      "needs_background": "light"
     },
     "output_type": "display_data"
    }
   ],
   "source": [
    "df['days_exposition'].hist(bins = 100)\n",
    "plt.show()\n",
    "df['days_exposition'].hist(bins = 100, range = (800,1600))\n",
    "plt.show()"
   ]
  },
  {
   "cell_type": "markdown",
   "metadata": {},
   "source": [
    "Из обоих графиков вполне очевидно, что чаще всего квартиры продаются за 1-100 дней, то есть 3 месяца, также есть и странные экземпляры, которые продаются более 4 лет, скорее всего это какие то элитные хоромы, либо упертые собственники. Сейчас посмотрим описательную статистику для данной переменной.\n",
    "\n",
    "Переделал график, чтобы лучше рассмотреть хвост, из второго графика видно, что у нас есть несколько квартир, которые продавались от 1400 до 1580 дней, можно предположить, что люди просто забыли снять объявления, а так как квартира висит уже очень долго, цена уже становится неактуальной. Также можно предположить, что собсвенники просто не хотят продавать квартиру ниже указанной цены, а с продажей не торопятся. Ради интереса можно посмотреть что это за объекты"
   ]
  },
  {
   "cell_type": "code",
   "execution_count": 36,
   "metadata": {},
   "outputs": [
    {
     "name": "stdout",
     "output_type": "stream",
     "text": [
      "       total_images  last_price  total_area first_day_exposition  rooms  \\\n",
      "20996            10   3400000.0       54.60           2014-12-10      2   \n",
      "18843            11   3500000.0       48.20           2014-12-15      2   \n",
      "6006              4   4400000.0       38.63           2015-02-03      1   \n",
      "6691              3   4400000.0       42.98           2014-12-12      1   \n",
      "19123             9   5990000.0       82.00           2015-02-19      3   \n",
      "14873             5   6400000.0       70.00           2015-02-19      4   \n",
      "4736             11   6650000.0       68.30           2015-02-19      4   \n",
      "14093             7   9500000.0      100.00           2015-02-19      4   \n",
      "9555             11   9950000.0       61.20           2015-04-06      2   \n",
      "2941              3  10090000.0       71.90           2015-02-02      2   \n",
      "9553             11  10600000.0       80.00           2014-12-09      3   \n",
      "11955             4  11400000.0       76.00           2014-12-09      2   \n",
      "6726              6  11995000.0       83.82           2014-11-27      2   \n",
      "20969            18  13300000.0      133.00           2015-02-11      4   \n",
      "1885              2  13300000.0       79.60           2014-12-09      2   \n",
      "11985             1  15104000.0      118.00           2015-05-19      3   \n",
      "521              20  25717300.0      230.10           2015-01-21      3   \n",
      "1109              1  34878556.0       95.80           2014-12-09      2   \n",
      "\n",
      "       ceiling_height  floors_total  living_area  floor is_apartment  ...  \\\n",
      "20996            2.50           5.0        29.70      1          NaN  ...   \n",
      "18843            2.50           5.0        27.40      2          NaN  ...   \n",
      "6006             2.85          25.0        15.00      6          NaN  ...   \n",
      "6691             2.60           5.0        18.72      1          NaN  ...   \n",
      "19123            3.00           4.0        60.00      2          NaN  ...   \n",
      "14873            3.10           5.0        56.70      3          NaN  ...   \n",
      "4736             2.63           5.0        45.10      4          NaN  ...   \n",
      "14093            3.00           5.0        76.00      5          NaN  ...   \n",
      "9555             3.17           7.0        39.70      2          NaN  ...   \n",
      "2941             2.70          10.0        34.10      9          NaN  ...   \n",
      "9553             2.85          17.0        44.00      9          NaN  ...   \n",
      "11955            2.70           9.0        36.00      3          NaN  ...   \n",
      "6726             2.73          11.0        42.31      1          NaN  ...   \n",
      "20969            3.00           5.0        58.00      2          NaN  ...   \n",
      "1885             3.00           8.0        42.70      7          NaN  ...   \n",
      "11985            3.10          16.0        64.32      5          NaN  ...   \n",
      "521              2.60           3.0       130.00      1          NaN  ...   \n",
      "1109             2.70           6.0        58.30      5         True  ...   \n",
      "\n",
      "       parks_nearest  ponds_around3000  ponds_nearest  days_exposition  \\\n",
      "20996            NaN               NaN            NaN           1413.0   \n",
      "18843            NaN               NaN            NaN           1580.0   \n",
      "6006             NaN               0.0            NaN           1452.0   \n",
      "6691           439.0               3.0          232.0           1512.0   \n",
      "19123            NaN               2.0          458.0           1485.0   \n",
      "14873          273.0               1.0          753.0           1430.0   \n",
      "4736           606.0               3.0          453.0           1477.0   \n",
      "14093          690.0               0.0            NaN           1497.0   \n",
      "9555           114.0               0.0            NaN           1434.0   \n",
      "2941             NaN               1.0          434.0           1458.0   \n",
      "9553             NaN               0.0            NaN           1553.0   \n",
      "11955          537.0               0.0            NaN           1484.0   \n",
      "6726          2102.0               3.0          303.0           1406.0   \n",
      "20969            NaN               1.0          534.0           1512.0   \n",
      "1885           537.0               0.0            NaN           1513.0   \n",
      "11985          441.0               2.0          427.0           1417.0   \n",
      "521            676.0               3.0          278.0           1441.0   \n",
      "1109           160.0               3.0          569.0           1572.0   \n",
      "\n",
      "      price_per_sq_m  name_weekday  name_month  name_year  name_floor  \\\n",
      "20996   62271.062271             2          12       2014      первый   \n",
      "18843   72614.107884             0          12       2014      другой   \n",
      "6006   113901.113125             1           2       2015      другой   \n",
      "6691   102373.196836             4          12       2014      первый   \n",
      "19123   73048.780488             3           2       2015      другой   \n",
      "14873   91428.571429             3           2       2015      другой   \n",
      "4736    97364.568082             3           2       2015      другой   \n",
      "14093   95000.000000             3           2       2015   последний   \n",
      "9555   162581.699346             0           4       2015      другой   \n",
      "2941   140333.796940             0           2       2015      другой   \n",
      "9553   132500.000000             1          12       2014      другой   \n",
      "11955  150000.000000             1          12       2014      другой   \n",
      "6726   143104.271057             3          11       2014      первый   \n",
      "20969  100000.000000             2           2       2015      другой   \n",
      "1885   167085.427136             1          12       2014      другой   \n",
      "11985  128000.000000             1           5       2015      другой   \n",
      "521    111765.754020             2           1       2015      первый   \n",
      "1109   364076.784969             1          12       2014      другой   \n",
      "\n",
      "       cityCenters_nearest_km  \n",
      "20996                    13.0  \n",
      "18843                    13.0  \n",
      "6006                     19.0  \n",
      "6691                     30.0  \n",
      "19123                    35.0  \n",
      "14873                     3.0  \n",
      "4736                      2.0  \n",
      "14093                     5.0  \n",
      "9555                     10.0  \n",
      "2941                      5.0  \n",
      "9553                     17.0  \n",
      "11955                    11.0  \n",
      "6726                     11.0  \n",
      "20969                     5.0  \n",
      "1885                     11.0  \n",
      "11985                     8.0  \n",
      "521                      29.0  \n",
      "1109                      0.0  \n",
      "\n",
      "[18 rows x 28 columns]\n"
     ]
    }
   ],
   "source": [
    "print(df.query('days_exposition > 1400').sort_values(by = 'last_price'))"
   ]
  },
  {
   "cell_type": "markdown",
   "metadata": {},
   "source": [
    "Как ни странно, больше половины квартир являются очень дорогостоящими и размещены в 2014 - 2015 годах, а насколько нам известно, именно в эти годы рынок недвижимости стал падать и все объекты начали стремительно дешеветь. Поэтому тут вполне можно списать на неактуальную цену и нежеление собственников продавать ниже указанной цены. Также интересно что нету квартир выше 9 этажа. Наверное в то время только начала начала зарождаться мода на человейники."
   ]
  },
  {
   "cell_type": "code",
   "execution_count": 37,
   "metadata": {},
   "outputs": [
    {
     "data": {
      "text/plain": [
       "count    17032.000000\n",
       "mean       184.126585\n",
       "std        222.185338\n",
       "min          1.000000\n",
       "25%         43.000000\n",
       "50%        100.000000\n",
       "75%        236.000000\n",
       "max       1580.000000\n",
       "Name: days_exposition, dtype: float64"
      ]
     },
     "execution_count": 37,
     "metadata": {},
     "output_type": "execute_result"
    }
   ],
   "source": [
    "df['days_exposition'].describe()"
   ]
  },
  {
   "cell_type": "markdown",
   "metadata": {},
   "source": [
    "Как видно из данной статистики, из за достаточно большого числа больших значений в среднем квартиры продаются за 222 дня, что не очень правдоподобно для рынка жилья, медиана уже более близка к реальным значениям и равна 100 дням.\n",
    "\n",
    "Таким образом, можно с уверенностью сказать, что долгая продажа это та, которая занимает более 300 дней, быстрая же в свою очередь - около месяца"
   ]
  },
  {
   "cell_type": "code",
   "execution_count": 38,
   "metadata": {},
   "outputs": [
    {
     "data": {
      "text/plain": [
       "count    1.963200e+04\n",
       "mean     6.764604e+06\n",
       "std      9.743899e+06\n",
       "min      1.219000e+04\n",
       "25%      3.680000e+06\n",
       "50%      4.851000e+06\n",
       "75%      6.999000e+06\n",
       "max      4.200000e+08\n",
       "Name: last_price, dtype: float64"
      ]
     },
     "execution_count": 38,
     "metadata": {},
     "output_type": "execute_result"
    }
   ],
   "source": [
    "df['last_price'].describe()"
   ]
  },
  {
   "cell_type": "markdown",
   "metadata": {},
   "source": [
    "В следующем шаге я поделю цену на некоторые промежутки, долго думал - как именно ее поделить, поэтому решил взять самый простой способ - квартили, так как они достаточно ясно отображают распределение данных и их суть."
   ]
  },
  {
   "cell_type": "code",
   "execution_count": 39,
   "metadata": {},
   "outputs": [
    {
     "name": "stdout",
     "output_type": "stream",
     "text": [
      "                             mean     median\n",
      "                       total_area total_area\n",
      "last_price                                  \n",
      "(0, 3680000]            40.028551       37.0\n",
      "(3680000, 4851000]      47.181893       45.0\n",
      "(4851000, 6999000]      59.366036       58.0\n",
      "(6999000, 15000000]     83.501936       80.0\n",
      "(15000000, 420000000]  154.222656      135.0\n"
     ]
    },
    {
     "data": {
      "image/png": "[encoded data removed]",
      "text/plain": [
       "<Figure size 432x288 with 1 Axes>"
      ]
     },
     "metadata": {
      "needs_background": "light"
     },
     "output_type": "display_data"
    }
   ],
   "source": [
    "price = pd.cut(df['last_price'], [0, 3680000, 4851000, 6999000, 15000000, 420000000])\n",
    "price_pivot = df.pivot_table('total_area', [price], aggfunc = ['mean', 'median'])\n",
    "print(price_pivot)\n",
    "price_pivot.plot()\n",
    "plt.xticks(rotation=45)\n",
    "plt.show()"
   ]
  },
  {
   "cell_type": "markdown",
   "metadata": {},
   "source": [
    "Здесь абсолютно очевидно, что при повышении квадратуры квартиры - увеличивается и цена, например при среднем колиестве квадратов 37 - цена варьируется от 0 до 3600000, если же мы берем средний квадратный метр равный 45, то здесь цена уже выше и начинается с 3680000 и заканчивая почти 5 миллионами. На графике также четко видно как кривая стремится в положительном направлении оси Y.\n",
    "\n",
    "Если поделить цену объекта на еще большее количество отрезков, то наша кривая будет более плавная, но я не стал этого делать, чтобы выводящийся пивот было легче понимать и читать."
   ]
  },
  {
   "cell_type": "code",
   "execution_count": 40,
   "metadata": {},
   "outputs": [
    {
     "name": "stdout",
     "output_type": "stream",
     "text": [
      "                             mean      median\n",
      "                      living_area living_area\n",
      "last_price                                   \n",
      "(0, 3680000]            22.186562       18.00\n",
      "(3680000, 4851000]      26.647439       27.00\n",
      "(4851000, 6999000]      34.452079       33.60\n",
      "(6999000, 15000000]     48.235178       46.40\n",
      "(15000000, 420000000]   87.520820       75.55\n"
     ]
    },
    {
     "data": {
      "image/png": "[encoded data removed]",
      "text/plain": [
       "<Figure size 432x288 with 1 Axes>"
      ]
     },
     "metadata": {
      "needs_background": "light"
     },
     "output_type": "display_data"
    }
   ],
   "source": [
    "living_pivot = df.pivot_table('living_area', [price], aggfunc = ['mean', 'median'])\n",
    "print(living_pivot)\n",
    "living_pivot.plot()\n",
    "plt.xticks(rotation=45)\n",
    "plt.show()"
   ]
  },
  {
   "cell_type": "code",
   "execution_count": 41,
   "metadata": {},
   "outputs": [
    {
     "name": "stdout",
     "output_type": "stream",
     "text": [
      "                              mean       median\n",
      "                      kitchen_area kitchen_area\n",
      "last_price                                     \n",
      "(0, 3680000]              7.921931         7.50\n",
      "(3680000, 4851000]        8.894660         8.40\n",
      "(4851000, 6999000]       10.148233         9.80\n",
      "(6999000, 15000000]      13.809804        12.40\n",
      "(15000000, 420000000]    23.061396        19.15\n"
     ]
    },
    {
     "data": {
      "image/png": "[encoded data removed]",
      "text/plain": [
       "<Figure size 432x288 with 1 Axes>"
      ]
     },
     "metadata": {
      "needs_background": "light"
     },
     "output_type": "display_data"
    }
   ],
   "source": [
    "kit_pivot = df.pivot_table('kitchen_area', [price], aggfunc = ['mean', 'median'])\n",
    "print(kit_pivot)\n",
    "kit_pivot.plot()\n",
    "plt.xticks(rotation=45)\n",
    "plt.show()"
   ]
  },
  {
   "cell_type": "markdown",
   "metadata": {},
   "source": [
    "В случае с жилой площадью и площадью кухни мы также видим явное стремление кривой вверх по оси Y, что также свидетельствует о положительной корреляции между данными площадями и ценой. Единственное замечание, так это то, что площадь кухни на первых трех отрезках отличается парой квадратных метрах, что говорит о том, что вплне может быть достаточно большое число квартир, где учитывая высокую стоимость и большую общую площадь будет маленькая кухня"
   ]
  },
  {
   "cell_type": "code",
   "execution_count": 42,
   "metadata": {},
   "outputs": [
    {
     "name": "stdout",
     "output_type": "stream",
     "text": [
      "                    mean     median\n",
      "              last_price last_price\n",
      "name_floor                         \n",
      "другой      6.868740e+06  5000000.0\n",
      "первый      5.215177e+06  4200000.0\n",
      "последний   7.491725e+06  4650000.0\n"
     ]
    },
    {
     "data": {
      "text/plain": [
       "<AxesSubplot:xlabel='name_floor'>"
      ]
     },
     "execution_count": 42,
     "metadata": {},
     "output_type": "execute_result"
    },
    {
     "data": {
      "image/png": "[encoded data removed]",
      "text/plain": [
       "<Figure size 432x288 with 1 Axes>"
      ]
     },
     "metadata": {
      "needs_background": "light"
     },
     "output_type": "display_data"
    }
   ],
   "source": [
    "floor_pivot = df.pivot_table('last_price', ['name_floor'], aggfunc = ['mean', 'median'])\n",
    "print(floor_pivot)\n",
    "floor_pivot.plot()"
   ]
  },
  {
   "cell_type": "markdown",
   "metadata": {},
   "source": [
    "Здесь результат вполне очевиден ожидаем и реален, на первом этаже квартиры стоят на порядок дешевле. Что же касается других этажей и последнего - тут ситуация следующая. Медиана выше именно у других этажей, в то время как среднее у нее ниже. Это связано с тем, что среди квартир на других этажах более дорогих квартир гораздо больше, поэтому медиана выше именно у них. В то время как среднее значение выше именно у последних этажей, и это связано в свою очередь с тем, что там имеется достаточно много так скажем аутлаеров в суперэлитных жилых комплексах. Поэтому здесь ситуация тоже вполне понятна."
   ]
  },
  {
   "cell_type": "code",
   "execution_count": 43,
   "metadata": {},
   "outputs": [
    {
     "name": "stdout",
     "output_type": "stream",
     "text": [
      "                      mean     median\n",
      "                last_price last_price\n",
      "name_weekday                         \n",
      "0             6.881807e+06  4900000.0\n",
      "1             6.713895e+06  4900000.0\n",
      "2             6.736547e+06  4900000.0\n",
      "3             7.050242e+06  4900000.0\n",
      "4             6.453350e+06  4750000.0\n",
      "5             6.838953e+06  4750000.0\n",
      "6             6.621164e+06  4749000.0\n"
     ]
    },
    {
     "data": {
      "text/plain": [
       "<AxesSubplot:xlabel='name_weekday'>"
      ]
     },
     "execution_count": 43,
     "metadata": {},
     "output_type": "execute_result"
    },
    {
     "data": {
      "image/png": "[encoded data removed]",
      "text/plain": [
       "<Figure size 432x288 with 1 Axes>"
      ]
     },
     "metadata": {
      "needs_background": "light"
     },
     "output_type": "display_data"
    }
   ],
   "source": [
    "weekday_pivot = df.pivot_table('last_price', ['name_weekday'], aggfunc = ['mean', 'median'])\n",
    "print(weekday_pivot)\n",
    "weekday_pivot.plot()"
   ]
  },
  {
   "cell_type": "markdown",
   "metadata": {},
   "source": [
    "Среднее значение немного скачет, но оно не особо репрезентативно, единственное, что можно сказать, это что в четверг выставляется больше всего дорогостоящих объектов, а в пятницу меньше всего"
   ]
  },
  {
   "cell_type": "code",
   "execution_count": 44,
   "metadata": {},
   "outputs": [
    {
     "name": "stdout",
     "output_type": "stream",
     "text": [
      "                    mean     median\n",
      "              last_price last_price\n",
      "name_month                         \n",
      "1           6.834330e+06  4875000.0\n",
      "2           6.861448e+06  4900000.0\n",
      "3           6.727037e+06  4900000.0\n",
      "4           7.074822e+06  4997000.0\n",
      "5           6.705751e+06  4790000.0\n",
      "6           6.613005e+06  4650000.0\n",
      "7           6.563591e+06  4800000.0\n",
      "8           6.667387e+06  4850000.0\n",
      "9           6.727484e+06  4900000.0\n",
      "10          6.212141e+06  4700000.0\n",
      "11          6.715040e+06  4900000.0\n",
      "12          7.603877e+06  5000000.0\n"
     ]
    },
    {
     "data": {
      "text/plain": [
       "<AxesSubplot:xlabel='name_month'>"
      ]
     },
     "execution_count": 44,
     "metadata": {},
     "output_type": "execute_result"
    },
    {
     "data": {
      "image/png": "[encoded data removed]",
      "text/plain": [
       "<Figure size 432x288 with 1 Axes>"
      ]
     },
     "metadata": {
      "needs_background": "light"
     },
     "output_type": "display_data"
    }
   ],
   "source": [
    "month_pivot = df.pivot_table('last_price', ['name_month'], aggfunc = ['mean', 'median'])\n",
    "print(month_pivot)\n",
    "month_pivot.plot()"
   ]
  },
  {
   "cell_type": "markdown",
   "metadata": {},
   "source": [
    "С месяцем ситуация немного лучше, чем с днем недели. Тут можно однозначно выделить апрель и декабрь, как месяцы, в которые выставляются наиболее дорогие объекты в больших количествах. В октябре же видно очень сильный именно в среднем значении, значит именно в октябре выставяляются экстремально дешевые объекты, причем в достаточно больших количествах, так как медианное значение тоже проседает. В Июне ситуация похожая, но среднее значение так не проседает, а значит просто выставляется очень много дешевых квартир."
   ]
  },
  {
   "cell_type": "code",
   "execution_count": 45,
   "metadata": {},
   "outputs": [
    {
     "name": "stdout",
     "output_type": "stream",
     "text": [
      "                   mean     median\n",
      "             last_price last_price\n",
      "name_year                         \n",
      "2014       1.271287e+07  8345000.0\n",
      "2015       8.621629e+06  5460000.0\n",
      "2016       6.970963e+06  4750000.0\n",
      "2017       6.719597e+06  4700000.0\n",
      "2018       6.268005e+06  4800000.0\n",
      "2019       7.022081e+06  5250000.0\n"
     ]
    },
    {
     "data": {
      "text/plain": [
       "<AxesSubplot:xlabel='name_year'>"
      ]
     },
     "execution_count": 45,
     "metadata": {},
     "output_type": "execute_result"
    },
    {
     "data": {
      "image/png": "[encoded data removed]",
      "text/plain": [
       "<Figure size 432x288 with 1 Axes>"
      ]
     },
     "metadata": {
      "needs_background": "light"
     },
     "output_type": "display_data"
    }
   ],
   "source": [
    "year_pivot = df.pivot_table('last_price', ['name_year'], aggfunc = ['mean', 'median'])\n",
    "print(year_pivot)\n",
    "year_pivot.plot()"
   ]
  },
  {
   "cell_type": "markdown",
   "metadata": {},
   "source": [
    "По графику лет можно ясно отследить в каком состоянии находился рынок недвижимости. После всем известных событий 2014 года он очень сильно покатился вниз и только к 18 году начал подниматься. Жалко, что нет данных на 2022 год :)"
   ]
  },
  {
   "cell_type": "markdown",
   "metadata": {},
   "source": [
    "Теперь перейдем к задаче касательно цены за квадратный метр, сначала посмотрим какие поселки нам нужны, а затем с помощью кода вытащим их."
   ]
  },
  {
   "cell_type": "code",
   "execution_count": 46,
   "metadata": {},
   "outputs": [
    {
     "data": {
      "text/html": [
       "<div>\n",
       "<style scoped>\n",
       "    .dataframe tbody tr th:only-of-type {\n",
       "        vertical-align: middle;\n",
       "    }\n",
       "\n",
       "    .dataframe tbody tr th {\n",
       "        vertical-align: top;\n",
       "    }\n",
       "\n",
       "    .dataframe thead th {\n",
       "        text-align: right;\n",
       "    }\n",
       "</style>\n",
       "<table border=\"1\" class=\"dataframe\">\n",
       "  <thead>\n",
       "    <tr style=\"text-align: right;\">\n",
       "      <th></th>\n",
       "      <th>count</th>\n",
       "      <th>mean</th>\n",
       "    </tr>\n",
       "    <tr>\n",
       "      <th>locality_name</th>\n",
       "      <th></th>\n",
       "      <th></th>\n",
       "    </tr>\n",
       "  </thead>\n",
       "  <tbody>\n",
       "    <tr>\n",
       "      <th>санкт-петербург</th>\n",
       "      <td>14051</td>\n",
       "      <td>113791.009348</td>\n",
       "    </tr>\n",
       "    <tr>\n",
       "      <th>пушкин</th>\n",
       "      <td>337</td>\n",
       "      <td>103291.299054</td>\n",
       "    </tr>\n",
       "    <tr>\n",
       "      <th>деревня кудрово</th>\n",
       "      <td>226</td>\n",
       "      <td>92248.477506</td>\n",
       "    </tr>\n",
       "    <tr>\n",
       "      <th>поселок парголово</th>\n",
       "      <td>288</td>\n",
       "      <td>90756.003417</td>\n",
       "    </tr>\n",
       "    <tr>\n",
       "      <th>мурино</th>\n",
       "      <td>458</td>\n",
       "      <td>85795.774158</td>\n",
       "    </tr>\n",
       "    <tr>\n",
       "      <th>петергоф</th>\n",
       "      <td>190</td>\n",
       "      <td>83754.204102</td>\n",
       "    </tr>\n",
       "    <tr>\n",
       "      <th>поселок шушары</th>\n",
       "      <td>393</td>\n",
       "      <td>78535.194019</td>\n",
       "    </tr>\n",
       "    <tr>\n",
       "      <th>колпино</th>\n",
       "      <td>322</td>\n",
       "      <td>75226.296359</td>\n",
       "    </tr>\n",
       "    <tr>\n",
       "      <th>всеволожск</th>\n",
       "      <td>357</td>\n",
       "      <td>69029.150099</td>\n",
       "    </tr>\n",
       "    <tr>\n",
       "      <th>гатчина</th>\n",
       "      <td>290</td>\n",
       "      <td>68635.620745</td>\n",
       "    </tr>\n",
       "    <tr>\n",
       "      <th>выборг</th>\n",
       "      <td>190</td>\n",
       "      <td>58319.351675</td>\n",
       "    </tr>\n",
       "  </tbody>\n",
       "</table>\n",
       "</div>"
      ],
      "text/plain": [
       "                   count           mean\n",
       "locality_name                          \n",
       "санкт-петербург    14051  113791.009348\n",
       "пушкин               337  103291.299054\n",
       "деревня кудрово      226   92248.477506\n",
       "поселок парголово    288   90756.003417\n",
       "мурино               458   85795.774158\n",
       "петергоф             190   83754.204102\n",
       "поселок шушары       393   78535.194019\n",
       "колпино              322   75226.296359\n",
       "всеволожск           357   69029.150099\n",
       "гатчина              290   68635.620745\n",
       "выборг               190   58319.351675"
      ]
     },
     "execution_count": 46,
     "metadata": {},
     "output_type": "execute_result"
    }
   ],
   "source": [
    "df['locality_name'].value_counts()\n",
    "average_square = df.pivot_table('price_per_sq_m', 'locality_name', aggfunc = ['count', 'mean'])\n",
    "average_square.columns = ['count', 'mean']\n",
    "top10 = []\n",
    "m = 0\n",
    "average_square_count = average_square\n",
    "while m < 10:\n",
    "    m+=1\n",
    "    top10.append(average_square_count['count'].max())\n",
    "    average_square_count = average_square_count[average_square_count['count'] != average_square_count['count'].max()]\n",
    "average_square = average_square[average_square['count'].isin(top10)].sort_values(by = 'mean', ascending = False)\n",
    "average_square"
   ]
  },
  {
   "cell_type": "markdown",
   "metadata": {},
   "source": [
    "Получив самые многочисленные города и поселки мы получаем неутишительные выводы. Самая дорогая недвижимость за квадратный метр находится в санкт петербурге, самая дешевая же - в Выборге. Что интересно - цена за квадратный метр отличается почти в 2 раза"
   ]
  },
  {
   "cell_type": "markdown",
   "metadata": {},
   "source": [
    "Перехожу к заданию касательно вычисления цены километра в Санкт Петербурге."
   ]
  },
  {
   "cell_type": "code",
   "execution_count": 47,
   "metadata": {
    "scrolled": true
   },
   "outputs": [
    {
     "name": "stdout",
     "output_type": "stream",
     "text": [
      "                        mean_last_price  mean_price_per_sq_km\n",
      "cityCenters_nearest_km                                       \n",
      "0.0                        3.259276e+07         250756.186857\n",
      "1.0                        2.152436e+07         170917.750940\n",
      "2.0                        1.822003e+07         160366.801614\n",
      "3.0                        1.103720e+07         119852.116800\n",
      "4.0                        1.195081e+07         129531.780456\n",
      "5.0                        1.361336e+07         137340.420648\n",
      "6.0                        1.465565e+07         147403.708616\n",
      "7.0                        1.435861e+07         155929.175379\n",
      "8.0                        1.028691e+07         124868.702178\n",
      "9.0                        6.986839e+06         112437.046754\n",
      "10.0                       6.402131e+06         111304.591331\n",
      "11.0                       6.189472e+06         108102.046617\n",
      "12.0                       5.891040e+06         107253.252890\n",
      "13.0                       6.380978e+06         108959.905097\n",
      "14.0                       5.605829e+06         103548.723192\n",
      "15.0                       5.902156e+06         104118.558212\n",
      "16.0                       5.365027e+06         100228.188903\n",
      "17.0                       5.336901e+06          96412.528974\n",
      "18.0                       5.194031e+06          96726.632271\n",
      "19.0                       5.112214e+06          98539.861137\n",
      "20.0                       6.108677e+06         100803.188561\n",
      "21.0                       5.168072e+06          90590.214851\n",
      "22.0                       5.242149e+06          89631.363013\n",
      "23.0                       5.041707e+06          92304.938895\n",
      "24.0                       3.913091e+06          84552.532009\n",
      "25.0                       4.312500e+06          86110.991337\n",
      "26.0                       4.021500e+06          84614.334074\n",
      "27.0                       8.300000e+06         132115.709459\n",
      "28.0                       5.026429e+06          81161.915320\n",
      "29.0                       4.594000e+06          76148.689696\n"
     ]
    },
    {
     "data": {
      "text/plain": [
       "Text(0, 0.5, 'mean_price_per_sq_m')"
      ]
     },
     "execution_count": 47,
     "metadata": {},
     "output_type": "execute_result"
    },
    {
     "data": {
      "image/png": "[encoded data removed]",
      "text/plain": [
       "<Figure size 432x288 with 2 Axes>"
      ]
     },
     "metadata": {
      "needs_background": "light"
     },
     "output_type": "display_data"
    }
   ],
   "source": [
    "df_spb = df.query('locality_name == \"санкт-петербург\"')\n",
    "centers = df_spb.pivot_table(index = 'cityCenters_nearest_km', values = ['price_per_sq_m', 'last_price'], aggfunc = [np.mean])\n",
    "centers.columns = ['mean_last_price', 'mean_price_per_sq_km']\n",
    "centers.sort_values(by = ['mean_last_price', 'mean_price_per_sq_km'])\n",
    "print(centers)\n",
    "fig,ax = plt.subplots()\n",
    "ax.plot(centers['mean_last_price'], linewidth= 3, color = 'red')\n",
    "ax.set_xlabel('cityCenters_nearest_km', fontsize= 14)\n",
    "ax.set_ylabel('mean_last_price', color='red', fontsize= 16 )\n",
    "ax2 = ax.twinx ()\n",
    "ax2.plot(centers['mean_price_per_sq_km'], linewidth= 3, color = 'blue')\n",
    "ax2.set_ylabel('mean_price_per_sq_m', color = 'blue', fontsize= 16 )\n"
   ]
  },
  {
   "cell_type": "markdown",
   "metadata": {},
   "source": [
    "Из графиков видно, что в самом центре находится самая дорогая недвижимость, затем сущетсвует 2 скачка, где недвижимость также дороже чем должна быть, но к краю города так или иначе недвижимость явно дешевеет. Вероятно первый выброс это Крестовский Остров и Петроградка, если центр - это площадь восстания, и еще один район - не могу предположить какой именно, в нем очень высокая цена за квадратный метр"
   ]
  },
  {
   "cell_type": "markdown",
   "metadata": {},
   "source": [
    "Вообще мне кажется, что центр - это центральный район, но в данном случае это нерелевантно называть центром так как тут за цен"
   ]
  },
  {
   "cell_type": "markdown",
   "metadata": {},
   "source": [
    "### Общий вывод"
   ]
  },
  {
   "cell_type": "markdown",
   "metadata": {},
   "source": [
    "В заключение стоит сказать, что недвижимость это достаточно шаткая отрасль, которая очень сильно зависит от экономической ситуации, это мы узнали из графиков цены по годам. На нее влияет множество разных факторов, причем не только те, которые были рассмотрены. Но среди тех, которые были рассмотрены точно влияют:\n",
    "\n",
    "\n",
    "    - Площади: общая, жилая, кухни. Чем больше даные площади, тем больше у нас будет цена за объект\n",
    "    \n",
    "    - Количество комнат: чем больше комнат, тем дороже недвижимость\n",
    "    \n",
    "    - Этаж квартиры: как правило на первом этаже квартиры в целом дешевее чем на остальных этажах\n",
    "    \n",
    "    - Очень сильно влияет расстояние до центра города: чем ближе квартира к центру города, тем дороже будет цена за недвижимость\n",
    "    \n",
    "    - Также очень интересным наблюдением является то, что во вторник и четверг выставляется больше дорогих объектов, также как в апреле и ноябре.\n",
    "    \n",
    "    - что касается населенных пунктов, то самым дорогим считается пушкин - а самым дешевым среди достаточно больших является Выборг. В целом цена в населенных пунктах тоже зависит от близости к спб, даже если мы берем самые крупые поселки. Например Выборг находится явно дальше чем мурино или шушары, а цена там заметно ниже.\n",
    "\n",
    "Что касается длительности продажи квартир, то здесь очень большой разброс, который может быть от 1 дня до 4 лет. Но как правильно квартиры не продаются больше 222 дней, а медианное время на которое можно рассчитывать обычному человеку при продаже квартиры равняется 100 дням."
   ]
  }
 ],
 "metadata": {
  "ExecuteTimeLog": [
   {
    "duration": 4,
    "start_time": "2023-03-09T15:15:52.506Z"
   },
   {
    "duration": 3,
    "start_time": "2023-03-09T15:15:55.631Z"
   },
   {
    "duration": 2236,
    "start_time": "2023-03-09T15:22:18.013Z"
   },
   {
    "duration": 20,
    "start_time": "2023-03-09T15:23:56.954Z"
   },
   {
    "duration": 41,
    "start_time": "2023-03-09T15:24:26.549Z"
   },
   {
    "duration": 95,
    "start_time": "2023-03-09T15:24:39.680Z"
   },
   {
    "duration": 97,
    "start_time": "2023-03-09T15:25:38.081Z"
   },
   {
    "duration": 140,
    "start_time": "2023-03-09T15:25:46.064Z"
   },
   {
    "duration": 130,
    "start_time": "2023-03-09T15:26:30.777Z"
   },
   {
    "duration": 125,
    "start_time": "2023-03-09T15:26:54.417Z"
   },
   {
    "duration": 155,
    "start_time": "2023-03-09T15:27:30.631Z"
   },
   {
    "duration": 104,
    "start_time": "2023-03-09T15:37:23.680Z"
   },
   {
    "duration": 19,
    "start_time": "2023-03-09T15:38:22.395Z"
   },
   {
    "duration": 102,
    "start_time": "2023-03-09T15:38:45.582Z"
   },
   {
    "duration": 94,
    "start_time": "2023-03-09T15:39:18.409Z"
   },
   {
    "duration": 2110,
    "start_time": "2023-03-09T15:40:34.897Z"
   },
   {
    "duration": 2206,
    "start_time": "2023-03-09T15:45:40.016Z"
   },
   {
    "duration": 104,
    "start_time": "2023-03-09T15:45:56.485Z"
   },
   {
    "duration": 2130,
    "start_time": "2023-03-09T15:47:31.749Z"
   },
   {
    "duration": 1506,
    "start_time": "2023-03-10T14:00:45.345Z"
   },
   {
    "duration": 94,
    "start_time": "2023-03-10T14:00:46.853Z"
   },
   {
    "duration": 1993,
    "start_time": "2023-03-10T14:00:46.949Z"
   },
   {
    "duration": 122,
    "start_time": "2023-03-10T15:11:43.297Z"
   },
   {
    "duration": 174,
    "start_time": "2023-03-10T15:11:43.673Z"
   },
   {
    "duration": 1926,
    "start_time": "2023-03-10T15:11:43.849Z"
   },
   {
    "duration": 9,
    "start_time": "2023-03-10T15:11:56.397Z"
   },
   {
    "duration": 3,
    "start_time": "2023-03-10T15:12:31.087Z"
   },
   {
    "duration": 12,
    "start_time": "2023-03-10T15:12:37.247Z"
   },
   {
    "duration": 110,
    "start_time": "2023-03-10T16:09:48.070Z"
   },
   {
    "duration": 1011,
    "start_time": "2023-03-10T16:09:55.577Z"
   },
   {
    "duration": 256,
    "start_time": "2023-03-10T16:10:24.008Z"
   },
   {
    "duration": 8,
    "start_time": "2023-03-10T16:12:58.887Z"
   },
   {
    "duration": 158,
    "start_time": "2023-03-10T16:13:52.120Z"
   },
   {
    "duration": 113,
    "start_time": "2023-03-10T16:13:55.463Z"
   },
   {
    "duration": 79,
    "start_time": "2023-03-10T16:13:55.887Z"
   },
   {
    "duration": 2000,
    "start_time": "2023-03-10T16:13:56.110Z"
   },
   {
    "duration": 9,
    "start_time": "2023-03-10T16:13:58.111Z"
   },
   {
    "duration": 2961,
    "start_time": "2023-03-10T16:14:04.687Z"
   },
   {
    "duration": 1591,
    "start_time": "2023-03-11T11:47:08.811Z"
   },
   {
    "duration": 95,
    "start_time": "2023-03-11T11:47:10.404Z"
   },
   {
    "duration": 2154,
    "start_time": "2023-03-11T11:47:10.500Z"
   },
   {
    "duration": 9,
    "start_time": "2023-03-11T11:47:12.777Z"
   },
   {
    "duration": 3021,
    "start_time": "2023-03-11T11:47:15.023Z"
   },
   {
    "duration": 8,
    "start_time": "2023-03-11T12:04:50.736Z"
   },
   {
    "duration": 7,
    "start_time": "2023-03-11T12:05:50.461Z"
   },
   {
    "duration": 21,
    "start_time": "2023-03-11T12:06:04.903Z"
   },
   {
    "duration": 718,
    "start_time": "2023-03-11T12:06:22.047Z"
   },
   {
    "duration": 557,
    "start_time": "2023-03-11T12:06:41.529Z"
   },
   {
    "duration": 147,
    "start_time": "2023-03-11T12:07:08.875Z"
   },
   {
    "duration": 113,
    "start_time": "2023-03-11T12:07:09.397Z"
   },
   {
    "duration": 2177,
    "start_time": "2023-03-11T12:07:09.739Z"
   },
   {
    "duration": 12,
    "start_time": "2023-03-11T12:07:11.921Z"
   },
   {
    "duration": 2962,
    "start_time": "2023-03-11T12:07:11.935Z"
   },
   {
    "duration": 807,
    "start_time": "2023-03-11T12:07:14.899Z"
   },
   {
    "duration": 8,
    "start_time": "2023-03-11T12:07:29.278Z"
   },
   {
    "duration": 10,
    "start_time": "2023-03-11T12:08:29.723Z"
   },
   {
    "duration": 9,
    "start_time": "2023-03-11T12:08:49.784Z"
   },
   {
    "duration": 120,
    "start_time": "2023-03-11T13:19:11.475Z"
   },
   {
    "duration": 84,
    "start_time": "2023-03-11T13:19:12.462Z"
   },
   {
    "duration": 2168,
    "start_time": "2023-03-11T13:19:13.138Z"
   },
   {
    "duration": 9,
    "start_time": "2023-03-11T13:19:17.672Z"
   },
   {
    "duration": 2614,
    "start_time": "2023-03-11T13:19:18.060Z"
   },
   {
    "duration": 9,
    "start_time": "2023-03-11T13:19:20.676Z"
   },
   {
    "duration": 28,
    "start_time": "2023-03-11T13:19:20.687Z"
   },
   {
    "duration": 20,
    "start_time": "2023-03-11T13:19:47.034Z"
   },
   {
    "duration": 4,
    "start_time": "2023-03-11T13:21:19.724Z"
   },
   {
    "duration": 6,
    "start_time": "2023-03-11T13:21:33.218Z"
   },
   {
    "duration": 140,
    "start_time": "2023-03-11T13:28:44.629Z"
   },
   {
    "duration": 416,
    "start_time": "2023-03-11T13:29:04.218Z"
   },
   {
    "duration": 54,
    "start_time": "2023-03-11T13:49:57.482Z"
   },
   {
    "duration": 7,
    "start_time": "2023-03-11T14:02:31.574Z"
   },
   {
    "duration": 14,
    "start_time": "2023-03-11T14:06:54.096Z"
   },
   {
    "duration": 183,
    "start_time": "2023-03-11T14:08:43.992Z"
   },
   {
    "duration": 102,
    "start_time": "2023-03-11T14:08:44.353Z"
   },
   {
    "duration": 2151,
    "start_time": "2023-03-11T14:08:45.227Z"
   },
   {
    "duration": 11,
    "start_time": "2023-03-11T14:08:47.380Z"
   },
   {
    "duration": 2909,
    "start_time": "2023-03-11T14:08:47.393Z"
   },
   {
    "duration": 17,
    "start_time": "2023-03-11T14:08:50.304Z"
   },
   {
    "duration": 22,
    "start_time": "2023-03-11T14:08:50.323Z"
   },
   {
    "duration": 6,
    "start_time": "2023-03-11T14:08:50.348Z"
   },
   {
    "duration": 456,
    "start_time": "2023-03-11T14:08:50.356Z"
   },
   {
    "duration": 15,
    "start_time": "2023-03-11T14:08:50.814Z"
   },
   {
    "duration": 12,
    "start_time": "2023-03-11T14:11:19.648Z"
   },
   {
    "duration": 288,
    "start_time": "2023-03-11T14:11:28.212Z"
   },
   {
    "duration": 11,
    "start_time": "2023-03-11T14:11:32.888Z"
   },
   {
    "duration": 12,
    "start_time": "2023-03-11T14:13:08.763Z"
   },
   {
    "duration": 15,
    "start_time": "2023-03-11T14:13:59.368Z"
   },
   {
    "duration": 13,
    "start_time": "2023-03-11T14:14:44.340Z"
   },
   {
    "duration": 11,
    "start_time": "2023-03-11T14:15:39.250Z"
   },
   {
    "duration": 44,
    "start_time": "2023-03-13T18:00:09.326Z"
   },
   {
    "duration": 1555,
    "start_time": "2023-03-13T18:00:17.795Z"
   },
   {
    "duration": 82,
    "start_time": "2023-03-13T18:00:19.353Z"
   },
   {
    "duration": 1920,
    "start_time": "2023-03-13T18:00:19.437Z"
   },
   {
    "duration": 9,
    "start_time": "2023-03-13T18:00:21.360Z"
   },
   {
    "duration": 2802,
    "start_time": "2023-03-13T18:00:21.371Z"
   },
   {
    "duration": 14,
    "start_time": "2023-03-13T18:00:24.175Z"
   },
   {
    "duration": 40,
    "start_time": "2023-03-13T18:00:24.191Z"
   },
   {
    "duration": 6,
    "start_time": "2023-03-13T18:00:24.234Z"
   },
   {
    "duration": 303,
    "start_time": "2023-03-13T18:00:24.242Z"
   },
   {
    "duration": 11,
    "start_time": "2023-03-13T18:00:24.547Z"
   },
   {
    "duration": 13,
    "start_time": "2023-03-13T18:00:25.947Z"
   },
   {
    "duration": 6,
    "start_time": "2023-03-13T18:01:45.730Z"
   },
   {
    "duration": 3,
    "start_time": "2023-03-13T18:01:59.540Z"
   },
   {
    "duration": 3,
    "start_time": "2023-03-13T18:02:02.841Z"
   },
   {
    "duration": 67,
    "start_time": "2023-03-13T18:02:10.997Z"
   },
   {
    "duration": 7,
    "start_time": "2023-03-13T18:02:32.321Z"
   },
   {
    "duration": 123,
    "start_time": "2023-03-13T18:25:16.129Z"
   },
   {
    "duration": 151,
    "start_time": "2023-03-13T18:25:32.835Z"
   },
   {
    "duration": 159,
    "start_time": "2023-03-13T18:30:48.812Z"
   },
   {
    "duration": 157,
    "start_time": "2023-03-13T18:31:00.538Z"
   },
   {
    "duration": 166,
    "start_time": "2023-03-13T18:33:42.354Z"
   },
   {
    "duration": 16,
    "start_time": "2023-03-13T18:34:39.448Z"
   },
   {
    "duration": 158,
    "start_time": "2023-03-13T18:36:24.430Z"
   },
   {
    "duration": 7,
    "start_time": "2023-03-13T18:37:25.514Z"
   },
   {
    "duration": 702,
    "start_time": "2023-03-13T18:44:13.534Z"
   },
   {
    "duration": 265,
    "start_time": "2023-03-13T18:44:33.349Z"
   },
   {
    "duration": 13,
    "start_time": "2023-03-13T19:34:56.857Z"
   },
   {
    "duration": 13,
    "start_time": "2023-03-13T19:40:34.312Z"
   },
   {
    "duration": 111,
    "start_time": "2023-03-13T19:40:41.419Z"
   },
   {
    "duration": 93,
    "start_time": "2023-03-13T19:40:41.533Z"
   },
   {
    "duration": 1808,
    "start_time": "2023-03-13T19:40:41.628Z"
   },
   {
    "duration": 11,
    "start_time": "2023-03-13T19:40:43.438Z"
   },
   {
    "duration": 2750,
    "start_time": "2023-03-13T19:40:43.450Z"
   },
   {
    "duration": 12,
    "start_time": "2023-03-13T19:40:46.201Z"
   },
   {
    "duration": 16,
    "start_time": "2023-03-13T19:40:46.215Z"
   },
   {
    "duration": 5,
    "start_time": "2023-03-13T19:40:46.233Z"
   },
   {
    "duration": 260,
    "start_time": "2023-03-13T19:40:46.239Z"
   },
   {
    "duration": 18,
    "start_time": "2023-03-13T19:40:46.500Z"
   },
   {
    "duration": 160,
    "start_time": "2023-03-13T19:40:46.519Z"
   },
   {
    "duration": 14,
    "start_time": "2023-03-13T19:40:46.680Z"
   },
   {
    "duration": 14,
    "start_time": "2023-03-13T19:40:55.053Z"
   },
   {
    "duration": 112,
    "start_time": "2023-03-13T19:41:20.611Z"
   },
   {
    "duration": 98,
    "start_time": "2023-03-13T19:41:20.725Z"
   },
   {
    "duration": 2002,
    "start_time": "2023-03-13T19:41:20.824Z"
   },
   {
    "duration": 9,
    "start_time": "2023-03-13T19:41:22.828Z"
   },
   {
    "duration": 2733,
    "start_time": "2023-03-13T19:41:22.839Z"
   },
   {
    "duration": 11,
    "start_time": "2023-03-13T19:41:25.574Z"
   },
   {
    "duration": 34,
    "start_time": "2023-03-13T19:41:25.586Z"
   },
   {
    "duration": 6,
    "start_time": "2023-03-13T19:41:25.622Z"
   },
   {
    "duration": 277,
    "start_time": "2023-03-13T19:41:25.629Z"
   },
   {
    "duration": 13,
    "start_time": "2023-03-13T19:41:25.907Z"
   },
   {
    "duration": 175,
    "start_time": "2023-03-13T19:41:25.922Z"
   },
   {
    "duration": 21,
    "start_time": "2023-03-13T19:41:26.099Z"
   },
   {
    "duration": 16,
    "start_time": "2023-03-13T19:41:38.550Z"
   },
   {
    "duration": 113,
    "start_time": "2023-03-13T19:42:16.194Z"
   },
   {
    "duration": 86,
    "start_time": "2023-03-13T19:42:16.309Z"
   },
   {
    "duration": 2000,
    "start_time": "2023-03-13T19:42:16.397Z"
   },
   {
    "duration": 13,
    "start_time": "2023-03-13T19:42:18.399Z"
   },
   {
    "duration": 2668,
    "start_time": "2023-03-13T19:42:18.414Z"
   },
   {
    "duration": 8,
    "start_time": "2023-03-13T19:42:21.084Z"
   },
   {
    "duration": 34,
    "start_time": "2023-03-13T19:42:21.094Z"
   },
   {
    "duration": 6,
    "start_time": "2023-03-13T19:42:21.131Z"
   },
   {
    "duration": 273,
    "start_time": "2023-03-13T19:42:21.139Z"
   },
   {
    "duration": 11,
    "start_time": "2023-03-13T19:42:21.413Z"
   },
   {
    "duration": 186,
    "start_time": "2023-03-13T19:42:21.426Z"
   },
   {
    "duration": 28,
    "start_time": "2023-03-13T19:42:21.614Z"
   },
   {
    "duration": 110,
    "start_time": "2023-03-13T19:43:21.196Z"
   },
   {
    "duration": 78,
    "start_time": "2023-03-13T19:43:21.308Z"
   },
   {
    "duration": 1824,
    "start_time": "2023-03-13T19:43:21.388Z"
   },
   {
    "duration": 9,
    "start_time": "2023-03-13T19:43:23.214Z"
   },
   {
    "duration": 2930,
    "start_time": "2023-03-13T19:43:23.224Z"
   },
   {
    "duration": 9,
    "start_time": "2023-03-13T19:43:26.156Z"
   },
   {
    "duration": 17,
    "start_time": "2023-03-13T19:43:26.166Z"
   },
   {
    "duration": 28,
    "start_time": "2023-03-13T19:43:26.185Z"
   },
   {
    "duration": 246,
    "start_time": "2023-03-13T19:43:26.215Z"
   },
   {
    "duration": 11,
    "start_time": "2023-03-13T19:43:26.463Z"
   },
   {
    "duration": 175,
    "start_time": "2023-03-13T19:43:26.475Z"
   },
   {
    "duration": 26,
    "start_time": "2023-03-13T19:43:26.651Z"
   },
   {
    "duration": 1662,
    "start_time": "2023-03-14T11:05:54.415Z"
   },
   {
    "duration": 93,
    "start_time": "2023-03-14T11:05:56.079Z"
   },
   {
    "duration": 2005,
    "start_time": "2023-03-14T11:05:56.173Z"
   },
   {
    "duration": 8,
    "start_time": "2023-03-14T11:05:58.180Z"
   },
   {
    "duration": 2875,
    "start_time": "2023-03-14T11:05:58.190Z"
   },
   {
    "duration": 12,
    "start_time": "2023-03-14T11:06:01.067Z"
   },
   {
    "duration": 38,
    "start_time": "2023-03-14T11:06:01.080Z"
   },
   {
    "duration": 21,
    "start_time": "2023-03-14T11:06:01.120Z"
   },
   {
    "duration": 332,
    "start_time": "2023-03-14T11:06:01.143Z"
   },
   {
    "duration": 14,
    "start_time": "2023-03-14T11:06:01.477Z"
   },
   {
    "duration": 227,
    "start_time": "2023-03-14T11:06:01.493Z"
   },
   {
    "duration": 122,
    "start_time": "2023-03-14T11:06:38.904Z"
   },
   {
    "duration": 89,
    "start_time": "2023-03-14T11:06:39.028Z"
   },
   {
    "duration": 1970,
    "start_time": "2023-03-14T11:06:39.119Z"
   },
   {
    "duration": 13,
    "start_time": "2023-03-14T11:06:41.091Z"
   },
   {
    "duration": 2730,
    "start_time": "2023-03-14T11:06:41.107Z"
   },
   {
    "duration": 20,
    "start_time": "2023-03-14T11:06:43.841Z"
   },
   {
    "duration": 36,
    "start_time": "2023-03-14T11:06:43.867Z"
   },
   {
    "duration": 5,
    "start_time": "2023-03-14T11:06:43.906Z"
   },
   {
    "duration": 261,
    "start_time": "2023-03-14T11:06:43.913Z"
   },
   {
    "duration": 16,
    "start_time": "2023-03-14T11:06:44.176Z"
   },
   {
    "duration": 199,
    "start_time": "2023-03-14T11:06:44.194Z"
   },
   {
    "duration": 53,
    "start_time": "2023-03-14T11:06:44.395Z"
   },
   {
    "duration": 115,
    "start_time": "2023-03-14T11:09:19.400Z"
   },
   {
    "duration": 96,
    "start_time": "2023-03-14T11:09:19.517Z"
   },
   {
    "duration": 1894,
    "start_time": "2023-03-14T11:09:19.614Z"
   },
   {
    "duration": 8,
    "start_time": "2023-03-14T11:09:21.510Z"
   },
   {
    "duration": 2659,
    "start_time": "2023-03-14T11:09:21.520Z"
   },
   {
    "duration": 9,
    "start_time": "2023-03-14T11:09:24.180Z"
   },
   {
    "duration": 17,
    "start_time": "2023-03-14T11:09:24.190Z"
   },
   {
    "duration": 35,
    "start_time": "2023-03-14T11:09:24.210Z"
   },
   {
    "duration": 382,
    "start_time": "2023-03-14T11:09:24.249Z"
   },
   {
    "duration": 26,
    "start_time": "2023-03-14T11:09:24.633Z"
   },
   {
    "duration": 195,
    "start_time": "2023-03-14T11:09:24.661Z"
   },
   {
    "duration": 33,
    "start_time": "2023-03-14T11:09:24.857Z"
   },
   {
    "duration": 112,
    "start_time": "2023-03-14T11:26:15.404Z"
   },
   {
    "duration": 88,
    "start_time": "2023-03-14T11:26:15.518Z"
   },
   {
    "duration": 1966,
    "start_time": "2023-03-14T11:26:15.607Z"
   },
   {
    "duration": 10,
    "start_time": "2023-03-14T11:26:17.575Z"
   },
   {
    "duration": 2710,
    "start_time": "2023-03-14T11:26:17.587Z"
   },
   {
    "duration": 9,
    "start_time": "2023-03-14T11:26:20.299Z"
   },
   {
    "duration": 43,
    "start_time": "2023-03-14T11:26:20.309Z"
   },
   {
    "duration": 5,
    "start_time": "2023-03-14T11:26:20.354Z"
   },
   {
    "duration": 462,
    "start_time": "2023-03-14T11:26:20.360Z"
   },
   {
    "duration": 35,
    "start_time": "2023-03-14T11:26:20.823Z"
   },
   {
    "duration": 162,
    "start_time": "2023-03-14T11:26:20.865Z"
   },
   {
    "duration": 42,
    "start_time": "2023-03-14T11:26:21.029Z"
   },
   {
    "duration": 143,
    "start_time": "2023-03-14T11:27:28.333Z"
   },
   {
    "duration": 106,
    "start_time": "2023-03-14T11:27:28.482Z"
   },
   {
    "duration": 2023,
    "start_time": "2023-03-14T11:27:28.590Z"
   },
   {
    "duration": 9,
    "start_time": "2023-03-14T11:27:30.616Z"
   },
   {
    "duration": 3099,
    "start_time": "2023-03-14T11:27:30.645Z"
   },
   {
    "duration": 24,
    "start_time": "2023-03-14T11:27:33.754Z"
   },
   {
    "duration": 28,
    "start_time": "2023-03-14T11:27:33.780Z"
   },
   {
    "duration": 5,
    "start_time": "2023-03-14T11:27:33.810Z"
   },
   {
    "duration": 262,
    "start_time": "2023-03-14T11:27:33.817Z"
   },
   {
    "duration": 12,
    "start_time": "2023-03-14T11:27:34.081Z"
   },
   {
    "duration": 310,
    "start_time": "2023-03-14T11:27:34.095Z"
   },
   {
    "duration": 49,
    "start_time": "2023-03-14T11:27:34.407Z"
   },
   {
    "duration": 159,
    "start_time": "2023-03-14T11:28:06.232Z"
   },
   {
    "duration": 105,
    "start_time": "2023-03-14T11:28:06.393Z"
   },
   {
    "duration": 2305,
    "start_time": "2023-03-14T11:28:06.500Z"
   },
   {
    "duration": 9,
    "start_time": "2023-03-14T11:28:08.807Z"
   },
   {
    "duration": 3114,
    "start_time": "2023-03-14T11:28:08.818Z"
   },
   {
    "duration": 14,
    "start_time": "2023-03-14T11:28:11.935Z"
   },
   {
    "duration": 71,
    "start_time": "2023-03-14T11:28:11.952Z"
   },
   {
    "duration": 6,
    "start_time": "2023-03-14T11:28:12.025Z"
   },
   {
    "duration": 316,
    "start_time": "2023-03-14T11:28:12.033Z"
   },
   {
    "duration": 16,
    "start_time": "2023-03-14T11:28:12.351Z"
   },
   {
    "duration": 212,
    "start_time": "2023-03-14T11:28:12.369Z"
   },
   {
    "duration": 111,
    "start_time": "2023-03-14T11:28:12.582Z"
   },
   {
    "duration": 158,
    "start_time": "2023-03-14T11:28:38.917Z"
   },
   {
    "duration": 112,
    "start_time": "2023-03-14T11:28:39.080Z"
   },
   {
    "duration": 2435,
    "start_time": "2023-03-14T11:28:39.194Z"
   },
   {
    "duration": 22,
    "start_time": "2023-03-14T11:28:41.631Z"
   },
   {
    "duration": 3093,
    "start_time": "2023-03-14T11:28:41.654Z"
   },
   {
    "duration": 11,
    "start_time": "2023-03-14T11:28:44.749Z"
   },
   {
    "duration": 44,
    "start_time": "2023-03-14T11:28:44.762Z"
   },
   {
    "duration": 5,
    "start_time": "2023-03-14T11:28:44.808Z"
   },
   {
    "duration": 286,
    "start_time": "2023-03-14T11:28:44.815Z"
   },
   {
    "duration": 10,
    "start_time": "2023-03-14T11:28:45.102Z"
   },
   {
    "duration": 209,
    "start_time": "2023-03-14T11:28:45.113Z"
   },
   {
    "duration": 73,
    "start_time": "2023-03-14T11:28:45.324Z"
   },
   {
    "duration": 213,
    "start_time": "2023-03-14T11:30:38.269Z"
   },
   {
    "duration": 118,
    "start_time": "2023-03-14T11:30:38.484Z"
   },
   {
    "duration": 2369,
    "start_time": "2023-03-14T11:30:38.604Z"
   },
   {
    "duration": 13,
    "start_time": "2023-03-14T11:30:40.975Z"
   },
   {
    "duration": 3531,
    "start_time": "2023-03-14T11:30:40.990Z"
   },
   {
    "duration": 24,
    "start_time": "2023-03-14T11:30:44.524Z"
   },
   {
    "duration": 42,
    "start_time": "2023-03-14T11:30:44.551Z"
   },
   {
    "duration": 19,
    "start_time": "2023-03-14T11:30:44.596Z"
   },
   {
    "duration": 358,
    "start_time": "2023-03-14T11:30:44.619Z"
   },
   {
    "duration": 12,
    "start_time": "2023-03-14T11:30:44.979Z"
   },
   {
    "duration": 206,
    "start_time": "2023-03-14T11:30:44.993Z"
   },
   {
    "duration": 100,
    "start_time": "2023-03-14T11:30:45.201Z"
   },
   {
    "duration": 202,
    "start_time": "2023-03-14T11:32:06.525Z"
   },
   {
    "duration": 110,
    "start_time": "2023-03-14T11:37:04.810Z"
   },
   {
    "duration": 97,
    "start_time": "2023-03-14T11:37:04.922Z"
   },
   {
    "duration": 2185,
    "start_time": "2023-03-14T11:37:05.020Z"
   },
   {
    "duration": 8,
    "start_time": "2023-03-14T11:37:07.207Z"
   },
   {
    "duration": 2677,
    "start_time": "2023-03-14T11:37:07.216Z"
   },
   {
    "duration": 12,
    "start_time": "2023-03-14T11:37:09.895Z"
   },
   {
    "duration": 56,
    "start_time": "2023-03-14T11:37:09.909Z"
   },
   {
    "duration": 6,
    "start_time": "2023-03-14T11:37:09.972Z"
   },
   {
    "duration": 317,
    "start_time": "2023-03-14T11:37:09.980Z"
   },
   {
    "duration": 11,
    "start_time": "2023-03-14T11:37:10.298Z"
   },
   {
    "duration": 185,
    "start_time": "2023-03-14T11:37:10.310Z"
   },
   {
    "duration": 19,
    "start_time": "2023-03-14T11:37:10.497Z"
   },
   {
    "duration": 18,
    "start_time": "2023-03-14T11:37:41.366Z"
   },
   {
    "duration": 111,
    "start_time": "2023-03-14T11:37:47.818Z"
   },
   {
    "duration": 85,
    "start_time": "2023-03-14T11:37:47.931Z"
   },
   {
    "duration": 1835,
    "start_time": "2023-03-14T11:37:48.018Z"
   },
   {
    "duration": 12,
    "start_time": "2023-03-14T11:37:49.855Z"
   },
   {
    "duration": 2678,
    "start_time": "2023-03-14T11:37:49.874Z"
   },
   {
    "duration": 24,
    "start_time": "2023-03-14T11:37:52.555Z"
   },
   {
    "duration": 54,
    "start_time": "2023-03-14T11:37:52.581Z"
   },
   {
    "duration": 46,
    "start_time": "2023-03-14T11:37:52.638Z"
   },
   {
    "duration": 287,
    "start_time": "2023-03-14T11:37:52.686Z"
   },
   {
    "duration": 11,
    "start_time": "2023-03-14T11:37:52.978Z"
   },
   {
    "duration": 170,
    "start_time": "2023-03-14T11:37:52.991Z"
   },
   {
    "duration": 26,
    "start_time": "2023-03-14T11:37:53.162Z"
   },
   {
    "duration": 115,
    "start_time": "2023-03-14T11:38:42.907Z"
   },
   {
    "duration": 82,
    "start_time": "2023-03-14T11:38:43.024Z"
   },
   {
    "duration": 2175,
    "start_time": "2023-03-14T11:38:43.107Z"
   },
   {
    "duration": 10,
    "start_time": "2023-03-14T11:38:45.285Z"
   },
   {
    "duration": 2625,
    "start_time": "2023-03-14T11:38:45.297Z"
   },
   {
    "duration": 24,
    "start_time": "2023-03-14T11:38:47.923Z"
   },
   {
    "duration": 28,
    "start_time": "2023-03-14T11:38:47.949Z"
   },
   {
    "duration": 9,
    "start_time": "2023-03-14T11:38:47.979Z"
   },
   {
    "duration": 256,
    "start_time": "2023-03-14T11:38:47.989Z"
   },
   {
    "duration": 13,
    "start_time": "2023-03-14T11:38:48.254Z"
   },
   {
    "duration": 158,
    "start_time": "2023-03-14T11:38:48.269Z"
   },
   {
    "duration": 33,
    "start_time": "2023-03-14T11:38:48.428Z"
   },
   {
    "duration": 121,
    "start_time": "2023-03-14T11:49:30.813Z"
   },
   {
    "duration": 102,
    "start_time": "2023-03-14T11:49:30.939Z"
   },
   {
    "duration": 2215,
    "start_time": "2023-03-14T11:49:31.046Z"
   },
   {
    "duration": 15,
    "start_time": "2023-03-14T11:49:33.263Z"
   },
   {
    "duration": 3210,
    "start_time": "2023-03-14T11:49:33.280Z"
   },
   {
    "duration": 12,
    "start_time": "2023-03-14T11:49:36.492Z"
   },
   {
    "duration": 42,
    "start_time": "2023-03-14T11:49:36.506Z"
   },
   {
    "duration": 42,
    "start_time": "2023-03-14T11:49:36.551Z"
   },
   {
    "duration": 400,
    "start_time": "2023-03-14T11:49:36.595Z"
   },
   {
    "duration": 14,
    "start_time": "2023-03-14T11:49:36.997Z"
   },
   {
    "duration": 190,
    "start_time": "2023-03-14T11:49:37.013Z"
   },
   {
    "duration": 100,
    "start_time": "2023-03-14T11:49:37.204Z"
   },
   {
    "duration": 161,
    "start_time": "2023-03-14T11:50:31.072Z"
   },
   {
    "duration": 119,
    "start_time": "2023-03-14T11:50:31.236Z"
   },
   {
    "duration": 2316,
    "start_time": "2023-03-14T11:50:31.357Z"
   },
   {
    "duration": 14,
    "start_time": "2023-03-14T11:50:33.675Z"
   },
   {
    "duration": 3065,
    "start_time": "2023-03-14T11:50:33.691Z"
   },
   {
    "duration": 11,
    "start_time": "2023-03-14T11:50:36.758Z"
   },
   {
    "duration": 40,
    "start_time": "2023-03-14T11:50:36.770Z"
   },
   {
    "duration": 6,
    "start_time": "2023-03-14T11:50:36.811Z"
   },
   {
    "duration": 373,
    "start_time": "2023-03-14T11:50:36.820Z"
   },
   {
    "duration": 11,
    "start_time": "2023-03-14T11:50:37.195Z"
   },
   {
    "duration": 656,
    "start_time": "2023-03-14T11:50:37.208Z"
   },
   {
    "duration": 32,
    "start_time": "2023-03-14T11:50:37.871Z"
   },
   {
    "duration": 179,
    "start_time": "2023-03-14T12:32:38.518Z"
   },
   {
    "duration": 146,
    "start_time": "2023-03-14T12:32:38.703Z"
   },
   {
    "duration": 3011,
    "start_time": "2023-03-14T12:32:38.851Z"
   },
   {
    "duration": 23,
    "start_time": "2023-03-14T12:32:41.877Z"
   },
   {
    "duration": 3974,
    "start_time": "2023-03-14T12:32:41.903Z"
   },
   {
    "duration": 23,
    "start_time": "2023-03-14T12:32:45.879Z"
   },
   {
    "duration": 22,
    "start_time": "2023-03-14T12:32:45.904Z"
   },
   {
    "duration": 9,
    "start_time": "2023-03-14T12:32:45.930Z"
   },
   {
    "duration": 330,
    "start_time": "2023-03-14T12:32:45.943Z"
   },
   {
    "duration": 13,
    "start_time": "2023-03-14T12:32:46.275Z"
   },
   {
    "duration": 232,
    "start_time": "2023-03-14T12:32:46.290Z"
   },
   {
    "duration": 47,
    "start_time": "2023-03-14T12:32:46.531Z"
   },
   {
    "duration": 15,
    "start_time": "2023-03-14T12:36:03.835Z"
   },
   {
    "duration": 18,
    "start_time": "2023-03-14T12:36:20.002Z"
   },
   {
    "duration": 149,
    "start_time": "2023-03-14T12:36:25.636Z"
   },
   {
    "duration": 98,
    "start_time": "2023-03-14T12:36:25.787Z"
   },
   {
    "duration": 1921,
    "start_time": "2023-03-14T12:36:25.887Z"
   },
   {
    "duration": 10,
    "start_time": "2023-03-14T12:36:27.809Z"
   },
   {
    "duration": 2784,
    "start_time": "2023-03-14T12:36:27.821Z"
   },
   {
    "duration": 9,
    "start_time": "2023-03-14T12:36:30.606Z"
   },
   {
    "duration": 45,
    "start_time": "2023-03-14T12:36:30.617Z"
   },
   {
    "duration": 109,
    "start_time": "2023-03-14T12:36:30.668Z"
   },
   {
    "duration": 271,
    "start_time": "2023-03-14T12:36:30.778Z"
   },
   {
    "duration": 12,
    "start_time": "2023-03-14T12:36:31.051Z"
   },
   {
    "duration": 213,
    "start_time": "2023-03-14T12:36:31.064Z"
   },
   {
    "duration": 18,
    "start_time": "2023-03-14T12:36:31.279Z"
   },
   {
    "duration": 20,
    "start_time": "2023-03-14T12:36:47.541Z"
   },
   {
    "duration": 34,
    "start_time": "2023-03-14T12:40:11.242Z"
   },
   {
    "duration": 146,
    "start_time": "2023-03-14T12:41:21.806Z"
   },
   {
    "duration": 108,
    "start_time": "2023-03-14T12:41:21.954Z"
   },
   {
    "duration": 2337,
    "start_time": "2023-03-14T12:41:22.064Z"
   },
   {
    "duration": 14,
    "start_time": "2023-03-14T12:41:24.403Z"
   },
   {
    "duration": 3299,
    "start_time": "2023-03-14T12:41:24.419Z"
   },
   {
    "duration": 10,
    "start_time": "2023-03-14T12:41:27.720Z"
   },
   {
    "duration": 81,
    "start_time": "2023-03-14T12:41:27.748Z"
   },
   {
    "duration": 6,
    "start_time": "2023-03-14T12:41:27.830Z"
   },
   {
    "duration": 959,
    "start_time": "2023-03-14T12:41:27.838Z"
   },
   {
    "duration": 14,
    "start_time": "2023-03-14T12:41:28.803Z"
   },
   {
    "duration": 218,
    "start_time": "2023-03-14T12:41:28.819Z"
   },
   {
    "duration": 54,
    "start_time": "2023-03-14T12:41:29.039Z"
   },
   {
    "duration": 201,
    "start_time": "2023-03-14T12:47:16.842Z"
   },
   {
    "duration": 125,
    "start_time": "2023-03-14T12:47:17.199Z"
   },
   {
    "duration": 2575,
    "start_time": "2023-03-14T12:47:17.369Z"
   },
   {
    "duration": 17,
    "start_time": "2023-03-14T12:47:19.951Z"
   },
   {
    "duration": 3669,
    "start_time": "2023-03-14T12:47:19.969Z"
   },
   {
    "duration": 18,
    "start_time": "2023-03-14T12:47:23.650Z"
   },
   {
    "duration": 153,
    "start_time": "2023-03-14T12:47:23.669Z"
   },
   {
    "duration": 98,
    "start_time": "2023-03-14T12:47:23.824Z"
   },
   {
    "duration": 508,
    "start_time": "2023-03-14T12:47:23.925Z"
   },
   {
    "duration": 17,
    "start_time": "2023-03-14T12:47:24.436Z"
   },
   {
    "duration": 267,
    "start_time": "2023-03-14T12:47:24.455Z"
   },
   {
    "duration": 35,
    "start_time": "2023-03-14T12:47:24.725Z"
   },
   {
    "duration": 34,
    "start_time": "2023-03-14T12:47:53.533Z"
   },
   {
    "duration": 215,
    "start_time": "2023-03-14T12:50:52.886Z"
   },
   {
    "duration": 128,
    "start_time": "2023-03-14T12:50:53.104Z"
   },
   {
    "duration": 2640,
    "start_time": "2023-03-14T12:50:53.239Z"
   },
   {
    "duration": 17,
    "start_time": "2023-03-14T12:50:55.886Z"
   },
   {
    "duration": 3445,
    "start_time": "2023-03-14T12:50:55.909Z"
   },
   {
    "duration": 13,
    "start_time": "2023-03-14T12:50:59.356Z"
   },
   {
    "duration": 98,
    "start_time": "2023-03-14T12:50:59.370Z"
   },
   {
    "duration": 63,
    "start_time": "2023-03-14T12:50:59.473Z"
   },
   {
    "duration": 400,
    "start_time": "2023-03-14T12:50:59.539Z"
   },
   {
    "duration": 26,
    "start_time": "2023-03-14T12:50:59.946Z"
   },
   {
    "duration": 312,
    "start_time": "2023-03-14T12:50:59.978Z"
   },
   {
    "duration": 47,
    "start_time": "2023-03-14T12:51:00.298Z"
   },
   {
    "duration": 55,
    "start_time": "2023-03-14T12:52:05.378Z"
   },
   {
    "duration": 299,
    "start_time": "2023-03-14T12:52:56.143Z"
   },
   {
    "duration": 147,
    "start_time": "2023-03-14T12:52:56.445Z"
   },
   {
    "duration": 2820,
    "start_time": "2023-03-14T12:52:56.594Z"
   },
   {
    "duration": 15,
    "start_time": "2023-03-14T12:52:59.426Z"
   },
   {
    "duration": 4225,
    "start_time": "2023-03-14T12:52:59.447Z"
   },
   {
    "duration": 27,
    "start_time": "2023-03-14T12:53:03.686Z"
   },
   {
    "duration": 242,
    "start_time": "2023-03-14T12:53:03.719Z"
   },
   {
    "duration": 141,
    "start_time": "2023-03-14T12:53:03.978Z"
   },
   {
    "duration": 488,
    "start_time": "2023-03-14T12:53:04.131Z"
   },
   {
    "duration": 18,
    "start_time": "2023-03-14T12:53:04.625Z"
   },
   {
    "duration": 397,
    "start_time": "2023-03-14T12:53:04.648Z"
   },
   {
    "duration": 57,
    "start_time": "2023-03-14T12:53:05.052Z"
   },
   {
    "duration": 145,
    "start_time": "2023-03-14T13:38:13.327Z"
   },
   {
    "duration": 84,
    "start_time": "2023-03-14T13:38:13.478Z"
   },
   {
    "duration": 2548,
    "start_time": "2023-03-14T13:38:13.565Z"
   },
   {
    "duration": 8,
    "start_time": "2023-03-14T13:38:16.115Z"
   },
   {
    "duration": 2827,
    "start_time": "2023-03-14T13:38:16.124Z"
   },
   {
    "duration": 21,
    "start_time": "2023-03-14T13:38:18.960Z"
   },
   {
    "duration": 30,
    "start_time": "2023-03-14T13:38:18.982Z"
   },
   {
    "duration": 4,
    "start_time": "2023-03-14T13:38:19.014Z"
   },
   {
    "duration": 280,
    "start_time": "2023-03-14T13:38:19.020Z"
   },
   {
    "duration": 14,
    "start_time": "2023-03-14T13:38:19.301Z"
   },
   {
    "duration": 180,
    "start_time": "2023-03-14T13:38:19.316Z"
   },
   {
    "duration": 68,
    "start_time": "2023-03-14T13:38:19.498Z"
   },
   {
    "duration": 136,
    "start_time": "2023-03-14T13:38:49.368Z"
   },
   {
    "duration": 85,
    "start_time": "2023-03-14T13:38:49.506Z"
   },
   {
    "duration": 1943,
    "start_time": "2023-03-14T13:38:49.594Z"
   },
   {
    "duration": 25,
    "start_time": "2023-03-14T13:38:51.544Z"
   },
   {
    "duration": 2881,
    "start_time": "2023-03-14T13:38:51.571Z"
   },
   {
    "duration": 14,
    "start_time": "2023-03-14T13:38:54.457Z"
   },
   {
    "duration": 33,
    "start_time": "2023-03-14T13:38:54.473Z"
   },
   {
    "duration": 4,
    "start_time": "2023-03-14T13:38:54.508Z"
   },
   {
    "duration": 275,
    "start_time": "2023-03-14T13:38:54.514Z"
   },
   {
    "duration": 11,
    "start_time": "2023-03-14T13:38:54.791Z"
   },
   {
    "duration": 180,
    "start_time": "2023-03-14T13:38:54.804Z"
   },
   {
    "duration": 32,
    "start_time": "2023-03-14T13:38:54.989Z"
   },
   {
    "duration": 171,
    "start_time": "2023-03-14T13:41:24.576Z"
   },
   {
    "duration": 99,
    "start_time": "2023-03-14T13:41:24.749Z"
   },
   {
    "duration": 1949,
    "start_time": "2023-03-14T13:41:24.850Z"
   },
   {
    "duration": 8,
    "start_time": "2023-03-14T13:41:26.801Z"
   },
   {
    "duration": 2851,
    "start_time": "2023-03-14T13:41:26.811Z"
   },
   {
    "duration": 11,
    "start_time": "2023-03-14T13:41:29.663Z"
   },
   {
    "duration": 33,
    "start_time": "2023-03-14T13:41:29.676Z"
   },
   {
    "duration": 5,
    "start_time": "2023-03-14T13:41:29.710Z"
   },
   {
    "duration": 281,
    "start_time": "2023-03-14T13:41:29.718Z"
   },
   {
    "duration": 15,
    "start_time": "2023-03-14T13:41:30.001Z"
   },
   {
    "duration": 258,
    "start_time": "2023-03-14T13:41:30.018Z"
   },
   {
    "duration": 32,
    "start_time": "2023-03-14T13:41:30.278Z"
   },
   {
    "duration": 37,
    "start_time": "2023-03-14T13:52:15.227Z"
   },
   {
    "duration": 17,
    "start_time": "2023-03-14T14:10:24.698Z"
   },
   {
    "duration": 21,
    "start_time": "2023-03-14T15:17:55.134Z"
   },
   {
    "duration": 40,
    "start_time": "2023-03-14T15:18:17.071Z"
   },
   {
    "duration": 19,
    "start_time": "2023-03-14T15:26:06.101Z"
   },
   {
    "duration": 32,
    "start_time": "2023-03-14T15:26:13.670Z"
   },
   {
    "duration": 1603,
    "start_time": "2023-03-16T13:34:58.211Z"
   },
   {
    "duration": 82,
    "start_time": "2023-03-16T13:34:59.816Z"
   },
   {
    "duration": 1844,
    "start_time": "2023-03-16T13:34:59.900Z"
   },
   {
    "duration": 10,
    "start_time": "2023-03-16T13:35:01.747Z"
   },
   {
    "duration": 2833,
    "start_time": "2023-03-16T13:35:01.761Z"
   },
   {
    "duration": 11,
    "start_time": "2023-03-16T13:35:04.595Z"
   },
   {
    "duration": 53,
    "start_time": "2023-03-16T13:35:04.608Z"
   },
   {
    "duration": 5,
    "start_time": "2023-03-16T13:35:04.663Z"
   },
   {
    "duration": 268,
    "start_time": "2023-03-16T13:35:04.670Z"
   },
   {
    "duration": 21,
    "start_time": "2023-03-16T13:35:04.941Z"
   },
   {
    "duration": 175,
    "start_time": "2023-03-16T13:35:04.963Z"
   },
   {
    "duration": 34,
    "start_time": "2023-03-16T13:35:05.139Z"
   },
   {
    "duration": 16,
    "start_time": "2023-03-16T13:35:05.175Z"
   },
   {
    "duration": 61,
    "start_time": "2023-03-16T13:35:05.192Z"
   },
   {
    "duration": 127,
    "start_time": "2023-03-16T13:37:41.181Z"
   },
   {
    "duration": 115,
    "start_time": "2023-03-16T13:37:54.543Z"
   },
   {
    "duration": 83,
    "start_time": "2023-03-16T13:37:54.660Z"
   },
   {
    "duration": 1986,
    "start_time": "2023-03-16T13:37:54.745Z"
   },
   {
    "duration": 25,
    "start_time": "2023-03-16T13:37:56.733Z"
   },
   {
    "duration": 2718,
    "start_time": "2023-03-16T13:37:56.760Z"
   },
   {
    "duration": 8,
    "start_time": "2023-03-16T13:37:59.480Z"
   },
   {
    "duration": 19,
    "start_time": "2023-03-16T13:37:59.489Z"
   },
   {
    "duration": 5,
    "start_time": "2023-03-16T13:37:59.510Z"
   },
   {
    "duration": 270,
    "start_time": "2023-03-16T13:37:59.517Z"
   },
   {
    "duration": 11,
    "start_time": "2023-03-16T13:37:59.789Z"
   },
   {
    "duration": 169,
    "start_time": "2023-03-16T13:37:59.801Z"
   },
   {
    "duration": 30,
    "start_time": "2023-03-16T13:37:59.971Z"
   },
   {
    "duration": 15,
    "start_time": "2023-03-16T13:38:00.003Z"
   },
   {
    "duration": 43,
    "start_time": "2023-03-16T13:38:00.020Z"
   },
   {
    "duration": 91,
    "start_time": "2023-03-16T13:40:43.952Z"
   },
   {
    "duration": 106,
    "start_time": "2023-03-16T13:40:52.176Z"
   },
   {
    "duration": 83,
    "start_time": "2023-03-16T13:40:52.284Z"
   },
   {
    "duration": 1813,
    "start_time": "2023-03-16T13:40:52.369Z"
   },
   {
    "duration": 8,
    "start_time": "2023-03-16T13:40:54.184Z"
   },
   {
    "duration": 2542,
    "start_time": "2023-03-16T13:40:54.193Z"
   },
   {
    "duration": 8,
    "start_time": "2023-03-16T13:40:56.736Z"
   },
   {
    "duration": 25,
    "start_time": "2023-03-16T13:40:56.745Z"
   },
   {
    "duration": 5,
    "start_time": "2023-03-16T13:40:56.771Z"
   },
   {
    "duration": 370,
    "start_time": "2023-03-16T13:40:56.777Z"
   },
   {
    "duration": 11,
    "start_time": "2023-03-16T13:40:57.149Z"
   },
   {
    "duration": 152,
    "start_time": "2023-03-16T13:40:57.162Z"
   },
   {
    "duration": 28,
    "start_time": "2023-03-16T13:40:57.316Z"
   },
   {
    "duration": 15,
    "start_time": "2023-03-16T13:40:57.357Z"
   },
   {
    "duration": 14,
    "start_time": "2023-03-16T13:40:57.374Z"
   },
   {
    "duration": 89,
    "start_time": "2023-03-16T13:40:57.389Z"
   },
   {
    "duration": 27,
    "start_time": "2023-03-16T13:46:36.847Z"
   },
   {
    "duration": 8,
    "start_time": "2023-03-16T13:46:57.159Z"
   },
   {
    "duration": 8,
    "start_time": "2023-03-16T13:47:04.500Z"
   },
   {
    "duration": 8,
    "start_time": "2023-03-16T13:47:13.212Z"
   },
   {
    "duration": 11,
    "start_time": "2023-03-16T13:47:21.542Z"
   },
   {
    "duration": 10,
    "start_time": "2023-03-16T13:47:36.031Z"
   },
   {
    "duration": 9,
    "start_time": "2023-03-16T13:47:50.520Z"
   },
   {
    "duration": 9,
    "start_time": "2023-03-16T13:49:11.944Z"
   },
   {
    "duration": 78,
    "start_time": "2023-03-16T13:50:53.515Z"
   },
   {
    "duration": 27,
    "start_time": "2023-03-16T13:51:01.202Z"
   },
   {
    "duration": 25,
    "start_time": "2023-03-16T13:51:40.970Z"
   },
   {
    "duration": 114,
    "start_time": "2023-03-16T13:54:28.959Z"
   },
   {
    "duration": 49,
    "start_time": "2023-03-16T13:56:44.338Z"
   },
   {
    "duration": 20,
    "start_time": "2023-03-16T13:57:04.636Z"
   },
   {
    "duration": 28,
    "start_time": "2023-03-16T13:59:43.735Z"
   },
   {
    "duration": 73,
    "start_time": "2023-03-16T14:01:26.603Z"
   },
   {
    "duration": 25,
    "start_time": "2023-03-16T14:01:35.809Z"
   },
   {
    "duration": 27,
    "start_time": "2023-03-16T14:03:03.086Z"
   },
   {
    "duration": 624,
    "start_time": "2023-03-16T14:03:57.773Z"
   },
   {
    "duration": 1168,
    "start_time": "2023-03-16T14:04:38.476Z"
   },
   {
    "duration": 53,
    "start_time": "2023-03-16T14:04:51.606Z"
   },
   {
    "duration": 14,
    "start_time": "2023-03-16T14:05:09.316Z"
   },
   {
    "duration": 108,
    "start_time": "2023-03-16T14:11:11.556Z"
   },
   {
    "duration": 82,
    "start_time": "2023-03-16T14:11:11.939Z"
   },
   {
    "duration": 1682,
    "start_time": "2023-03-16T14:11:12.123Z"
   },
   {
    "duration": 9,
    "start_time": "2023-03-16T14:11:13.807Z"
   },
   {
    "duration": 2929,
    "start_time": "2023-03-16T14:11:13.817Z"
   },
   {
    "duration": 15,
    "start_time": "2023-03-16T14:11:16.748Z"
   },
   {
    "duration": 19,
    "start_time": "2023-03-16T14:11:16.765Z"
   },
   {
    "duration": 7,
    "start_time": "2023-03-16T14:11:16.786Z"
   },
   {
    "duration": 274,
    "start_time": "2023-03-16T14:11:16.794Z"
   },
   {
    "duration": 11,
    "start_time": "2023-03-16T14:11:17.069Z"
   },
   {
    "duration": 170,
    "start_time": "2023-03-16T14:11:17.082Z"
   },
   {
    "duration": 27,
    "start_time": "2023-03-16T14:11:17.254Z"
   },
   {
    "duration": 15,
    "start_time": "2023-03-16T14:11:17.283Z"
   },
   {
    "duration": 22,
    "start_time": "2023-03-16T14:11:17.300Z"
   },
   {
    "duration": 1174,
    "start_time": "2023-03-16T14:11:17.323Z"
   },
   {
    "duration": 12,
    "start_time": "2023-03-16T14:11:18.499Z"
   },
   {
    "duration": 179,
    "start_time": "2023-03-16T15:16:16.247Z"
   },
   {
    "duration": 250,
    "start_time": "2023-03-16T15:16:47.759Z"
   },
   {
    "duration": 184,
    "start_time": "2023-03-16T15:16:57.443Z"
   },
   {
    "duration": 198,
    "start_time": "2023-03-16T15:17:14.451Z"
   },
   {
    "duration": 130,
    "start_time": "2023-03-16T18:02:30.624Z"
   },
   {
    "duration": 98,
    "start_time": "2023-03-16T18:02:30.759Z"
   },
   {
    "duration": 2036,
    "start_time": "2023-03-16T18:02:30.860Z"
   },
   {
    "duration": 10,
    "start_time": "2023-03-16T18:02:32.898Z"
   },
   {
    "duration": 3074,
    "start_time": "2023-03-16T18:02:32.910Z"
   },
   {
    "duration": 11,
    "start_time": "2023-03-16T18:02:35.985Z"
   },
   {
    "duration": 55,
    "start_time": "2023-03-16T18:02:35.998Z"
   },
   {
    "duration": 7,
    "start_time": "2023-03-16T18:02:36.055Z"
   },
   {
    "duration": 309,
    "start_time": "2023-03-16T18:02:36.065Z"
   },
   {
    "duration": 17,
    "start_time": "2023-03-16T18:02:36.376Z"
   },
   {
    "duration": 205,
    "start_time": "2023-03-16T18:02:36.395Z"
   },
   {
    "duration": 32,
    "start_time": "2023-03-16T18:02:36.602Z"
   },
   {
    "duration": 33,
    "start_time": "2023-03-16T18:02:36.635Z"
   },
   {
    "duration": 21,
    "start_time": "2023-03-16T18:02:36.670Z"
   },
   {
    "duration": 1268,
    "start_time": "2023-03-16T18:02:36.693Z"
   },
   {
    "duration": 19,
    "start_time": "2023-03-16T18:02:37.963Z"
   },
   {
    "duration": 210,
    "start_time": "2023-03-16T18:02:37.984Z"
   },
   {
    "duration": 123,
    "start_time": "2023-03-16T18:09:06.354Z"
   },
   {
    "duration": 5,
    "start_time": "2023-03-16T18:09:54.564Z"
   },
   {
    "duration": 5,
    "start_time": "2023-03-16T18:10:36.686Z"
   },
   {
    "duration": 5,
    "start_time": "2023-03-16T18:11:11.018Z"
   },
   {
    "duration": 12,
    "start_time": "2023-03-16T18:12:28.993Z"
   },
   {
    "duration": 6,
    "start_time": "2023-03-16T18:13:21.860Z"
   },
   {
    "duration": 107,
    "start_time": "2023-03-16T18:13:30.631Z"
   },
   {
    "duration": 5,
    "start_time": "2023-03-16T18:13:32.711Z"
   },
   {
    "duration": 16,
    "start_time": "2023-03-16T18:13:38.142Z"
   },
   {
    "duration": 15,
    "start_time": "2023-03-16T18:14:00.774Z"
   },
   {
    "duration": 19,
    "start_time": "2023-03-16T18:15:30.402Z"
   },
   {
    "duration": 164,
    "start_time": "2023-03-16T18:19:26.453Z"
   },
   {
    "duration": 101,
    "start_time": "2023-03-16T18:19:26.620Z"
   },
   {
    "duration": 2414,
    "start_time": "2023-03-16T18:19:26.723Z"
   },
   {
    "duration": 22,
    "start_time": "2023-03-16T18:19:29.139Z"
   },
   {
    "duration": 3817,
    "start_time": "2023-03-16T18:19:29.164Z"
   },
   {
    "duration": 11,
    "start_time": "2023-03-16T18:19:32.983Z"
   },
   {
    "duration": 45,
    "start_time": "2023-03-16T18:19:32.996Z"
   },
   {
    "duration": 6,
    "start_time": "2023-03-16T18:19:33.043Z"
   },
   {
    "duration": 355,
    "start_time": "2023-03-16T18:19:33.050Z"
   },
   {
    "duration": 14,
    "start_time": "2023-03-16T18:19:33.407Z"
   },
   {
    "duration": 301,
    "start_time": "2023-03-16T18:19:33.423Z"
   },
   {
    "duration": 55,
    "start_time": "2023-03-16T18:19:33.728Z"
   },
   {
    "duration": 26,
    "start_time": "2023-03-16T18:19:33.786Z"
   },
   {
    "duration": 60,
    "start_time": "2023-03-16T18:19:33.815Z"
   },
   {
    "duration": 1904,
    "start_time": "2023-03-16T18:19:33.878Z"
   },
   {
    "duration": 20,
    "start_time": "2023-03-16T18:19:35.784Z"
   },
   {
    "duration": 278,
    "start_time": "2023-03-16T18:19:35.806Z"
   },
   {
    "duration": 5,
    "start_time": "2023-03-16T18:19:43.103Z"
   },
   {
    "duration": 23,
    "start_time": "2023-03-16T18:19:48.132Z"
   },
   {
    "duration": 194,
    "start_time": "2023-03-16T18:33:20.048Z"
   },
   {
    "duration": 7,
    "start_time": "2023-03-16T18:33:22.635Z"
   },
   {
    "duration": 6,
    "start_time": "2023-03-16T18:33:26.507Z"
   },
   {
    "duration": 96,
    "start_time": "2023-03-16T18:33:33.900Z"
   },
   {
    "duration": 4,
    "start_time": "2023-03-16T18:33:36.472Z"
   },
   {
    "duration": 6,
    "start_time": "2023-03-16T18:33:43.892Z"
   },
   {
    "duration": 143,
    "start_time": "2023-03-16T18:34:15.748Z"
   },
   {
    "duration": 85,
    "start_time": "2023-03-16T18:34:15.893Z"
   },
   {
    "duration": 2224,
    "start_time": "2023-03-16T18:34:15.980Z"
   },
   {
    "duration": 9,
    "start_time": "2023-03-16T18:34:18.205Z"
   },
   {
    "duration": 2855,
    "start_time": "2023-03-16T18:34:18.215Z"
   },
   {
    "duration": 12,
    "start_time": "2023-03-16T18:34:21.078Z"
   },
   {
    "duration": 22,
    "start_time": "2023-03-16T18:34:21.091Z"
   },
   {
    "duration": 5,
    "start_time": "2023-03-16T18:34:21.115Z"
   },
   {
    "duration": 285,
    "start_time": "2023-03-16T18:34:21.121Z"
   },
   {
    "duration": 12,
    "start_time": "2023-03-16T18:34:21.407Z"
   },
   {
    "duration": 212,
    "start_time": "2023-03-16T18:34:21.420Z"
   },
   {
    "duration": 46,
    "start_time": "2023-03-16T18:34:21.633Z"
   },
   {
    "duration": 21,
    "start_time": "2023-03-16T18:34:21.681Z"
   },
   {
    "duration": 22,
    "start_time": "2023-03-16T18:34:21.703Z"
   },
   {
    "duration": 1428,
    "start_time": "2023-03-16T18:34:21.727Z"
   },
   {
    "duration": 26,
    "start_time": "2023-03-16T18:34:23.156Z"
   },
   {
    "duration": 206,
    "start_time": "2023-03-16T18:34:23.184Z"
   },
   {
    "duration": 104,
    "start_time": "2023-03-16T18:34:33.440Z"
   },
   {
    "duration": 108,
    "start_time": "2023-03-16T18:34:48.208Z"
   },
   {
    "duration": 93,
    "start_time": "2023-03-16T18:38:13.250Z"
   },
   {
    "duration": 5,
    "start_time": "2023-03-16T18:38:15.756Z"
   },
   {
    "duration": 113,
    "start_time": "2023-03-16T18:43:34.234Z"
   },
   {
    "duration": 181,
    "start_time": "2023-03-16T18:44:37.434Z"
   },
   {
    "duration": 5,
    "start_time": "2023-03-16T18:44:38.930Z"
   },
   {
    "duration": 94,
    "start_time": "2023-03-16T18:44:45.040Z"
   },
   {
    "duration": 6,
    "start_time": "2023-03-16T18:44:46.039Z"
   },
   {
    "duration": 6,
    "start_time": "2023-03-16T18:44:47.191Z"
   },
   {
    "duration": 4,
    "start_time": "2023-03-16T18:45:49.922Z"
   },
   {
    "duration": 4,
    "start_time": "2023-03-16T18:45:50.383Z"
   },
   {
    "duration": 7,
    "start_time": "2023-03-16T18:45:51.515Z"
   },
   {
    "duration": 142,
    "start_time": "2023-03-16T18:46:08.990Z"
   },
   {
    "duration": 87,
    "start_time": "2023-03-16T18:46:09.134Z"
   },
   {
    "duration": 2007,
    "start_time": "2023-03-16T18:46:09.223Z"
   },
   {
    "duration": 9,
    "start_time": "2023-03-16T18:46:11.232Z"
   },
   {
    "duration": 3211,
    "start_time": "2023-03-16T18:46:11.243Z"
   },
   {
    "duration": 12,
    "start_time": "2023-03-16T18:46:14.457Z"
   },
   {
    "duration": 27,
    "start_time": "2023-03-16T18:46:14.472Z"
   },
   {
    "duration": 6,
    "start_time": "2023-03-16T18:46:14.502Z"
   },
   {
    "duration": 337,
    "start_time": "2023-03-16T18:46:14.510Z"
   },
   {
    "duration": 36,
    "start_time": "2023-03-16T18:46:14.849Z"
   },
   {
    "duration": 241,
    "start_time": "2023-03-16T18:46:14.890Z"
   },
   {
    "duration": 53,
    "start_time": "2023-03-16T18:46:15.133Z"
   },
   {
    "duration": 20,
    "start_time": "2023-03-16T18:46:15.188Z"
   },
   {
    "duration": 20,
    "start_time": "2023-03-16T18:46:15.210Z"
   },
   {
    "duration": 1438,
    "start_time": "2023-03-16T18:46:15.232Z"
   },
   {
    "duration": 18,
    "start_time": "2023-03-16T18:46:16.672Z"
   },
   {
    "duration": 204,
    "start_time": "2023-03-16T18:46:16.692Z"
   },
   {
    "duration": 207,
    "start_time": "2023-03-16T18:46:16.898Z"
   },
   {
    "duration": 4,
    "start_time": "2023-03-16T18:46:17.107Z"
   },
   {
    "duration": 22,
    "start_time": "2023-03-16T18:46:17.114Z"
   },
   {
    "duration": 126,
    "start_time": "2023-03-16T18:52:47.205Z"
   },
   {
    "duration": 17,
    "start_time": "2023-03-16T18:55:16.661Z"
   },
   {
    "duration": 20,
    "start_time": "2023-03-16T18:55:22.683Z"
   },
   {
    "duration": 1624,
    "start_time": "2023-03-18T06:56:14.206Z"
   },
   {
    "duration": 82,
    "start_time": "2023-03-18T06:56:15.832Z"
   },
   {
    "duration": 2090,
    "start_time": "2023-03-18T06:56:15.916Z"
   },
   {
    "duration": 9,
    "start_time": "2023-03-18T06:56:18.009Z"
   },
   {
    "duration": 2715,
    "start_time": "2023-03-18T06:56:18.020Z"
   },
   {
    "duration": 12,
    "start_time": "2023-03-18T06:56:20.736Z"
   },
   {
    "duration": 26,
    "start_time": "2023-03-18T06:56:20.749Z"
   },
   {
    "duration": 5,
    "start_time": "2023-03-18T06:56:20.777Z"
   },
   {
    "duration": 277,
    "start_time": "2023-03-18T06:56:20.784Z"
   },
   {
    "duration": 16,
    "start_time": "2023-03-18T06:56:21.065Z"
   },
   {
    "duration": 174,
    "start_time": "2023-03-18T06:56:21.083Z"
   },
   {
    "duration": 32,
    "start_time": "2023-03-18T06:56:21.259Z"
   },
   {
    "duration": 22,
    "start_time": "2023-03-18T06:56:21.292Z"
   },
   {
    "duration": 63,
    "start_time": "2023-03-18T06:56:21.316Z"
   },
   {
    "duration": 1295,
    "start_time": "2023-03-18T06:56:21.381Z"
   },
   {
    "duration": 14,
    "start_time": "2023-03-18T06:56:22.677Z"
   },
   {
    "duration": 206,
    "start_time": "2023-03-18T06:56:22.692Z"
   },
   {
    "duration": 131,
    "start_time": "2023-03-18T06:56:22.900Z"
   },
   {
    "duration": 0,
    "start_time": "2023-03-18T06:56:23.049Z"
   },
   {
    "duration": 0,
    "start_time": "2023-03-18T06:56:23.050Z"
   },
   {
    "duration": 66,
    "start_time": "2023-03-18T07:06:54.630Z"
   },
   {
    "duration": 55,
    "start_time": "2023-03-18T07:07:27.107Z"
   },
   {
    "duration": 633,
    "start_time": "2023-03-18T07:16:02.626Z"
   },
   {
    "duration": 630,
    "start_time": "2023-03-18T07:18:22.663Z"
   },
   {
    "duration": 577,
    "start_time": "2023-03-18T07:18:38.135Z"
   },
   {
    "duration": 43,
    "start_time": "2023-03-18T07:20:40.168Z"
   },
   {
    "duration": 74,
    "start_time": "2023-03-18T07:21:35.240Z"
   },
   {
    "duration": 5,
    "start_time": "2023-03-18T07:22:15.282Z"
   },
   {
    "duration": 50,
    "start_time": "2023-03-18T07:22:37.658Z"
   },
   {
    "duration": 68,
    "start_time": "2023-03-18T07:24:14.493Z"
   },
   {
    "duration": 24,
    "start_time": "2023-03-18T07:24:34.791Z"
   },
   {
    "duration": 19,
    "start_time": "2023-03-18T07:25:54.636Z"
   },
   {
    "duration": 32,
    "start_time": "2023-03-18T07:26:58.550Z"
   },
   {
    "duration": 35,
    "start_time": "2023-03-18T07:28:36.530Z"
   },
   {
    "duration": 29,
    "start_time": "2023-03-18T07:28:49.204Z"
   },
   {
    "duration": 25,
    "start_time": "2023-03-18T07:31:55.953Z"
   },
   {
    "duration": 26,
    "start_time": "2023-03-18T07:34:43.309Z"
   },
   {
    "duration": 23,
    "start_time": "2023-03-18T07:36:40.622Z"
   },
   {
    "duration": 25,
    "start_time": "2023-03-18T07:40:37.912Z"
   },
   {
    "duration": 162,
    "start_time": "2023-03-18T07:40:45.420Z"
   },
   {
    "duration": 4,
    "start_time": "2023-03-18T07:40:52.044Z"
   },
   {
    "duration": 182,
    "start_time": "2023-03-18T07:41:48.325Z"
   },
   {
    "duration": 5,
    "start_time": "2023-03-18T07:41:50.153Z"
   },
   {
    "duration": 4,
    "start_time": "2023-03-18T07:41:58.777Z"
   },
   {
    "duration": 126,
    "start_time": "2023-03-18T07:42:04.395Z"
   },
   {
    "duration": 92,
    "start_time": "2023-03-18T07:42:04.523Z"
   },
   {
    "duration": 1985,
    "start_time": "2023-03-18T07:42:04.616Z"
   },
   {
    "duration": 10,
    "start_time": "2023-03-18T07:42:06.604Z"
   },
   {
    "duration": 2625,
    "start_time": "2023-03-18T07:42:06.616Z"
   },
   {
    "duration": 13,
    "start_time": "2023-03-18T07:42:09.243Z"
   },
   {
    "duration": 26,
    "start_time": "2023-03-18T07:42:09.258Z"
   },
   {
    "duration": 8,
    "start_time": "2023-03-18T07:42:09.288Z"
   },
   {
    "duration": 311,
    "start_time": "2023-03-18T07:42:09.298Z"
   },
   {
    "duration": 16,
    "start_time": "2023-03-18T07:42:09.611Z"
   },
   {
    "duration": 186,
    "start_time": "2023-03-18T07:42:09.640Z"
   },
   {
    "duration": 188,
    "start_time": "2023-03-18T07:42:09.829Z"
   },
   {
    "duration": 31,
    "start_time": "2023-03-18T07:42:10.019Z"
   },
   {
    "duration": 34,
    "start_time": "2023-03-18T07:42:10.052Z"
   },
   {
    "duration": 1342,
    "start_time": "2023-03-18T07:42:10.088Z"
   },
   {
    "duration": 27,
    "start_time": "2023-03-18T07:42:11.432Z"
   },
   {
    "duration": 211,
    "start_time": "2023-03-18T07:42:11.461Z"
   },
   {
    "duration": 171,
    "start_time": "2023-03-18T07:42:11.674Z"
   },
   {
    "duration": 6,
    "start_time": "2023-03-18T07:42:16.853Z"
   },
   {
    "duration": 8,
    "start_time": "2023-03-18T07:42:27.794Z"
   },
   {
    "duration": 41,
    "start_time": "2023-03-18T07:42:51.371Z"
   },
   {
    "duration": 44,
    "start_time": "2023-03-18T07:43:38.168Z"
   },
   {
    "duration": 17,
    "start_time": "2023-03-18T07:45:20.576Z"
   },
   {
    "duration": 170,
    "start_time": "2023-03-18T07:45:43.232Z"
   },
   {
    "duration": 171,
    "start_time": "2023-03-18T07:45:50.595Z"
   },
   {
    "duration": 41,
    "start_time": "2023-03-18T07:45:52.763Z"
   },
   {
    "duration": 6,
    "start_time": "2023-03-18T07:47:17.158Z"
   },
   {
    "duration": 189,
    "start_time": "2023-03-18T07:47:34.098Z"
   },
   {
    "duration": 15,
    "start_time": "2023-03-18T07:47:49.745Z"
   },
   {
    "duration": 120,
    "start_time": "2023-03-18T07:48:23.646Z"
   },
   {
    "duration": 95,
    "start_time": "2023-03-18T07:48:23.767Z"
   },
   {
    "duration": 1848,
    "start_time": "2023-03-18T07:48:23.865Z"
   },
   {
    "duration": 10,
    "start_time": "2023-03-18T07:48:25.715Z"
   },
   {
    "duration": 2867,
    "start_time": "2023-03-18T07:48:25.727Z"
   },
   {
    "duration": 10,
    "start_time": "2023-03-18T07:48:28.596Z"
   },
   {
    "duration": 34,
    "start_time": "2023-03-18T07:48:28.608Z"
   },
   {
    "duration": 7,
    "start_time": "2023-03-18T07:48:28.645Z"
   },
   {
    "duration": 276,
    "start_time": "2023-03-18T07:48:28.654Z"
   },
   {
    "duration": 19,
    "start_time": "2023-03-18T07:48:28.931Z"
   },
   {
    "duration": 166,
    "start_time": "2023-03-18T07:48:28.952Z"
   },
   {
    "duration": 38,
    "start_time": "2023-03-18T07:48:29.119Z"
   },
   {
    "duration": 15,
    "start_time": "2023-03-18T07:48:29.159Z"
   },
   {
    "duration": 33,
    "start_time": "2023-03-18T07:48:29.176Z"
   },
   {
    "duration": 1284,
    "start_time": "2023-03-18T07:48:29.211Z"
   },
   {
    "duration": 21,
    "start_time": "2023-03-18T07:48:30.496Z"
   },
   {
    "duration": 224,
    "start_time": "2023-03-18T07:48:30.519Z"
   },
   {
    "duration": 204,
    "start_time": "2023-03-18T07:48:30.744Z"
   },
   {
    "duration": 6,
    "start_time": "2023-03-18T07:48:30.949Z"
   },
   {
    "duration": 124,
    "start_time": "2023-03-18T07:51:51.068Z"
   },
   {
    "duration": 81,
    "start_time": "2023-03-18T07:51:51.659Z"
   },
   {
    "duration": 1850,
    "start_time": "2023-03-18T07:51:51.742Z"
   },
   {
    "duration": 12,
    "start_time": "2023-03-18T07:51:53.594Z"
   },
   {
    "duration": 2733,
    "start_time": "2023-03-18T07:51:53.607Z"
   },
   {
    "duration": 15,
    "start_time": "2023-03-18T07:51:56.343Z"
   },
   {
    "duration": 20,
    "start_time": "2023-03-18T07:51:56.360Z"
   },
   {
    "duration": 6,
    "start_time": "2023-03-18T07:51:56.382Z"
   },
   {
    "duration": 316,
    "start_time": "2023-03-18T07:51:56.390Z"
   },
   {
    "duration": 17,
    "start_time": "2023-03-18T07:51:56.708Z"
   },
   {
    "duration": 257,
    "start_time": "2023-03-18T07:51:56.739Z"
   },
   {
    "duration": 53,
    "start_time": "2023-03-18T07:51:56.999Z"
   },
   {
    "duration": 16,
    "start_time": "2023-03-18T07:51:57.054Z"
   },
   {
    "duration": 20,
    "start_time": "2023-03-18T07:51:57.071Z"
   },
   {
    "duration": 1386,
    "start_time": "2023-03-18T07:51:57.093Z"
   },
   {
    "duration": 20,
    "start_time": "2023-03-18T07:51:58.481Z"
   },
   {
    "duration": 307,
    "start_time": "2023-03-18T07:51:58.503Z"
   },
   {
    "duration": 264,
    "start_time": "2023-03-18T07:51:58.812Z"
   },
   {
    "duration": 14,
    "start_time": "2023-03-18T08:01:08.607Z"
   },
   {
    "duration": 13,
    "start_time": "2023-03-18T08:41:56.606Z"
   },
   {
    "duration": 10,
    "start_time": "2023-03-18T08:42:04.208Z"
   },
   {
    "duration": 999,
    "start_time": "2023-03-18T08:42:20.905Z"
   },
   {
    "duration": 52,
    "start_time": "2023-03-18T08:42:29.058Z"
   },
   {
    "duration": 13,
    "start_time": "2023-03-18T08:42:31.905Z"
   },
   {
    "duration": 9,
    "start_time": "2023-03-18T08:46:16.665Z"
   },
   {
    "duration": 20,
    "start_time": "2023-03-18T08:46:33.830Z"
   },
   {
    "duration": 13,
    "start_time": "2023-03-18T08:58:03.425Z"
   },
   {
    "duration": 27,
    "start_time": "2023-03-18T08:58:08.626Z"
   },
   {
    "duration": 15,
    "start_time": "2023-03-18T08:58:17.999Z"
   },
   {
    "duration": 15,
    "start_time": "2023-03-18T09:04:46.496Z"
   },
   {
    "duration": 1739,
    "start_time": "2023-03-18T16:28:26.251Z"
   },
   {
    "duration": 74,
    "start_time": "2023-03-18T16:28:27.993Z"
   },
   {
    "duration": 1691,
    "start_time": "2023-03-18T16:28:28.079Z"
   },
   {
    "duration": 8,
    "start_time": "2023-03-18T16:28:29.771Z"
   },
   {
    "duration": 2654,
    "start_time": "2023-03-18T16:28:29.781Z"
   },
   {
    "duration": 11,
    "start_time": "2023-03-18T16:28:32.436Z"
   },
   {
    "duration": 35,
    "start_time": "2023-03-18T16:28:32.448Z"
   },
   {
    "duration": 6,
    "start_time": "2023-03-18T16:28:32.484Z"
   },
   {
    "duration": 218,
    "start_time": "2023-03-18T16:28:32.492Z"
   },
   {
    "duration": 10,
    "start_time": "2023-03-18T16:28:32.711Z"
   },
   {
    "duration": 157,
    "start_time": "2023-03-18T16:28:32.722Z"
   },
   {
    "duration": 33,
    "start_time": "2023-03-18T16:28:32.881Z"
   },
   {
    "duration": 14,
    "start_time": "2023-03-18T16:28:32.916Z"
   },
   {
    "duration": 16,
    "start_time": "2023-03-18T16:28:32.932Z"
   },
   {
    "duration": 1194,
    "start_time": "2023-03-18T16:28:32.950Z"
   },
   {
    "duration": 11,
    "start_time": "2023-03-18T16:28:34.145Z"
   },
   {
    "duration": 185,
    "start_time": "2023-03-18T16:28:34.159Z"
   },
   {
    "duration": 177,
    "start_time": "2023-03-18T16:28:34.345Z"
   },
   {
    "duration": 13,
    "start_time": "2023-03-18T16:28:34.523Z"
   },
   {
    "duration": 5,
    "start_time": "2023-03-18T16:28:34.537Z"
   },
   {
    "duration": 10,
    "start_time": "2023-03-18T16:28:34.543Z"
   },
   {
    "duration": 40,
    "start_time": "2023-03-18T16:28:34.555Z"
   },
   {
    "duration": 41,
    "start_time": "2023-03-18T16:30:10.106Z"
   },
   {
    "duration": 7,
    "start_time": "2023-03-18T16:31:05.230Z"
   },
   {
    "duration": 21,
    "start_time": "2023-03-18T16:31:17.636Z"
   },
   {
    "duration": 497,
    "start_time": "2023-03-18T16:36:37.907Z"
   },
   {
    "duration": 322,
    "start_time": "2023-03-18T16:36:44.027Z"
   },
   {
    "duration": 8,
    "start_time": "2023-03-18T16:37:01.692Z"
   },
   {
    "duration": 16,
    "start_time": "2023-03-18T16:37:16.997Z"
   },
   {
    "duration": 278,
    "start_time": "2023-03-18T16:38:48.601Z"
   },
   {
    "duration": 314,
    "start_time": "2023-03-18T16:39:38.720Z"
   },
   {
    "duration": 95,
    "start_time": "2023-03-18T16:40:07.711Z"
   },
   {
    "duration": 167,
    "start_time": "2023-03-18T16:40:38.409Z"
   },
   {
    "duration": 75,
    "start_time": "2023-03-18T16:40:57.624Z"
   },
   {
    "duration": 88,
    "start_time": "2023-03-18T16:43:33.711Z"
   },
   {
    "duration": 259,
    "start_time": "2023-03-18T16:45:10.428Z"
   },
   {
    "duration": 230,
    "start_time": "2023-03-18T16:45:49.809Z"
   },
   {
    "duration": 338,
    "start_time": "2023-03-18T16:45:56.820Z"
   },
   {
    "duration": 9,
    "start_time": "2023-03-18T16:48:30.643Z"
   },
   {
    "duration": 13,
    "start_time": "2023-03-18T16:48:38.654Z"
   },
   {
    "duration": 6,
    "start_time": "2023-03-18T16:48:58.873Z"
   },
   {
    "duration": 242,
    "start_time": "2023-03-18T16:49:22.744Z"
   },
   {
    "duration": 7,
    "start_time": "2023-03-18T16:49:46.801Z"
   },
   {
    "duration": 11,
    "start_time": "2023-03-18T16:50:01.588Z"
   },
   {
    "duration": 8,
    "start_time": "2023-03-18T16:50:35.174Z"
   },
   {
    "duration": 6,
    "start_time": "2023-03-18T16:50:54.705Z"
   },
   {
    "duration": 6,
    "start_time": "2023-03-18T16:51:03.369Z"
   },
   {
    "duration": 1905,
    "start_time": "2023-03-19T11:57:19.540Z"
   },
   {
    "duration": 95,
    "start_time": "2023-03-19T11:57:21.448Z"
   },
   {
    "duration": 2187,
    "start_time": "2023-03-19T11:57:21.545Z"
   },
   {
    "duration": 11,
    "start_time": "2023-03-19T11:57:27.330Z"
   },
   {
    "duration": 3097,
    "start_time": "2023-03-19T11:57:35.276Z"
   },
   {
    "duration": 3078,
    "start_time": "2023-03-19T11:58:42.052Z"
   },
   {
    "duration": 11,
    "start_time": "2023-03-19T11:58:45.132Z"
   },
   {
    "duration": 39,
    "start_time": "2023-03-19T11:58:45.144Z"
   },
   {
    "duration": 8,
    "start_time": "2023-03-19T11:58:45.185Z"
   },
   {
    "duration": 309,
    "start_time": "2023-03-19T11:58:45.196Z"
   },
   {
    "duration": 14,
    "start_time": "2023-03-19T11:58:45.507Z"
   },
   {
    "duration": 210,
    "start_time": "2023-03-19T11:58:45.523Z"
   },
   {
    "duration": 35,
    "start_time": "2023-03-19T11:58:46.329Z"
   },
   {
    "duration": 18,
    "start_time": "2023-03-19T11:58:46.953Z"
   },
   {
    "duration": 26,
    "start_time": "2023-03-19T11:58:47.205Z"
   },
   {
    "duration": 1443,
    "start_time": "2023-03-19T11:58:47.666Z"
   },
   {
    "duration": 15,
    "start_time": "2023-03-19T11:58:49.111Z"
   },
   {
    "duration": 230,
    "start_time": "2023-03-19T11:58:49.128Z"
   },
   {
    "duration": 229,
    "start_time": "2023-03-19T11:58:49.360Z"
   },
   {
    "duration": 15,
    "start_time": "2023-03-19T11:58:49.591Z"
   },
   {
    "duration": 6,
    "start_time": "2023-03-19T11:58:49.608Z"
   },
   {
    "duration": 8,
    "start_time": "2023-03-19T11:58:49.671Z"
   },
   {
    "duration": 18,
    "start_time": "2023-03-19T11:58:50.151Z"
   },
   {
    "duration": 30,
    "start_time": "2023-03-19T11:58:51.834Z"
   },
   {
    "duration": 7,
    "start_time": "2023-03-19T11:58:58.953Z"
   },
   {
    "duration": 9,
    "start_time": "2023-03-19T11:58:59.722Z"
   },
   {
    "duration": 9,
    "start_time": "2023-03-19T11:59:00.788Z"
   },
   {
    "duration": 11,
    "start_time": "2023-03-19T11:59:04.419Z"
   },
   {
    "duration": 358,
    "start_time": "2023-03-19T12:02:10.774Z"
   },
   {
    "duration": 8,
    "start_time": "2023-03-19T12:02:20.398Z"
   },
   {
    "duration": 1803,
    "start_time": "2023-03-20T14:52:33.746Z"
   },
   {
    "duration": 84,
    "start_time": "2023-03-20T14:52:35.551Z"
   },
   {
    "duration": 3412,
    "start_time": "2023-03-20T14:52:35.637Z"
   },
   {
    "duration": 9,
    "start_time": "2023-03-20T14:52:39.052Z"
   },
   {
    "duration": 2675,
    "start_time": "2023-03-20T14:52:39.063Z"
   },
   {
    "duration": 10,
    "start_time": "2023-03-20T14:52:41.740Z"
   },
   {
    "duration": 17,
    "start_time": "2023-03-20T14:52:41.752Z"
   },
   {
    "duration": 6,
    "start_time": "2023-03-20T14:52:41.770Z"
   },
   {
    "duration": 344,
    "start_time": "2023-03-20T14:52:41.778Z"
   },
   {
    "duration": 16,
    "start_time": "2023-03-20T14:52:42.125Z"
   },
   {
    "duration": 164,
    "start_time": "2023-03-20T14:52:42.142Z"
   },
   {
    "duration": 37,
    "start_time": "2023-03-20T14:52:42.308Z"
   },
   {
    "duration": 16,
    "start_time": "2023-03-20T14:52:42.346Z"
   },
   {
    "duration": 65,
    "start_time": "2023-03-20T14:52:42.364Z"
   },
   {
    "duration": 1185,
    "start_time": "2023-03-20T14:52:42.430Z"
   },
   {
    "duration": 17,
    "start_time": "2023-03-20T14:52:43.616Z"
   },
   {
    "duration": 273,
    "start_time": "2023-03-20T14:52:43.635Z"
   },
   {
    "duration": 190,
    "start_time": "2023-03-20T14:52:43.910Z"
   },
   {
    "duration": 28,
    "start_time": "2023-03-20T14:52:44.101Z"
   },
   {
    "duration": 6,
    "start_time": "2023-03-20T14:52:44.130Z"
   },
   {
    "duration": 13,
    "start_time": "2023-03-20T14:52:44.137Z"
   },
   {
    "duration": 15,
    "start_time": "2023-03-20T14:52:44.152Z"
   },
   {
    "duration": 22,
    "start_time": "2023-03-20T14:52:44.169Z"
   },
   {
    "duration": 32,
    "start_time": "2023-03-20T14:52:44.192Z"
   },
   {
    "duration": 15,
    "start_time": "2023-03-20T14:52:44.226Z"
   },
   {
    "duration": 7,
    "start_time": "2023-03-20T14:52:44.243Z"
   },
   {
    "duration": 8,
    "start_time": "2023-03-20T14:52:44.251Z"
   },
   {
    "duration": 318,
    "start_time": "2023-03-20T14:52:44.262Z"
   },
   {
    "duration": 7,
    "start_time": "2023-03-20T14:52:44.583Z"
   },
   {
    "duration": 1946,
    "start_time": "2023-03-21T11:28:15.171Z"
   },
   {
    "duration": 84,
    "start_time": "2023-03-21T11:28:17.119Z"
   },
   {
    "duration": 1987,
    "start_time": "2023-03-21T11:28:17.205Z"
   },
   {
    "duration": 9,
    "start_time": "2023-03-21T11:28:19.194Z"
   },
   {
    "duration": 2825,
    "start_time": "2023-03-21T11:28:19.205Z"
   },
   {
    "duration": 31,
    "start_time": "2023-03-21T11:28:22.032Z"
   },
   {
    "duration": 21,
    "start_time": "2023-03-21T11:28:22.065Z"
   },
   {
    "duration": 6,
    "start_time": "2023-03-21T11:28:22.088Z"
   },
   {
    "duration": 290,
    "start_time": "2023-03-21T11:28:22.096Z"
   },
   {
    "duration": 11,
    "start_time": "2023-03-21T11:28:22.389Z"
   },
   {
    "duration": 190,
    "start_time": "2023-03-21T11:28:22.402Z"
   },
   {
    "duration": 31,
    "start_time": "2023-03-21T11:28:22.594Z"
   },
   {
    "duration": 37,
    "start_time": "2023-03-21T11:28:22.627Z"
   },
   {
    "duration": 22,
    "start_time": "2023-03-21T11:28:22.665Z"
   },
   {
    "duration": 1328,
    "start_time": "2023-03-21T11:28:22.689Z"
   },
   {
    "duration": 15,
    "start_time": "2023-03-21T11:28:24.018Z"
   },
   {
    "duration": 228,
    "start_time": "2023-03-21T11:28:24.035Z"
   },
   {
    "duration": 207,
    "start_time": "2023-03-21T11:28:24.265Z"
   },
   {
    "duration": 16,
    "start_time": "2023-03-21T11:28:24.475Z"
   },
   {
    "duration": 22,
    "start_time": "2023-03-21T11:28:24.493Z"
   },
   {
    "duration": 33,
    "start_time": "2023-03-21T11:28:24.517Z"
   },
   {
    "duration": 54,
    "start_time": "2023-03-21T11:28:24.552Z"
   },
   {
    "duration": 39,
    "start_time": "2023-03-21T11:28:24.609Z"
   },
   {
    "duration": 28,
    "start_time": "2023-03-21T11:28:24.649Z"
   },
   {
    "duration": 43,
    "start_time": "2023-03-21T11:28:24.678Z"
   },
   {
    "duration": 21,
    "start_time": "2023-03-21T11:28:24.722Z"
   },
   {
    "duration": 24,
    "start_time": "2023-03-21T11:28:24.745Z"
   },
   {
    "duration": 277,
    "start_time": "2023-03-21T11:28:24.771Z"
   },
   {
    "duration": 8,
    "start_time": "2023-03-21T11:28:25.606Z"
   },
   {
    "duration": 119,
    "start_time": "2023-03-21T11:29:39.398Z"
   },
   {
    "duration": 1037,
    "start_time": "2023-03-21T11:35:47.708Z"
   },
   {
    "duration": 92,
    "start_time": "2023-03-21T11:41:39.775Z"
   },
   {
    "duration": 2506,
    "start_time": "2023-03-21T14:55:37.009Z"
   },
   {
    "duration": 100,
    "start_time": "2023-03-21T14:55:39.518Z"
   },
   {
    "duration": 2510,
    "start_time": "2023-03-21T14:55:39.621Z"
   },
   {
    "duration": 31,
    "start_time": "2023-03-21T14:55:42.134Z"
   },
   {
    "duration": 3281,
    "start_time": "2023-03-21T14:55:42.168Z"
   },
   {
    "duration": 17,
    "start_time": "2023-03-21T14:55:45.451Z"
   },
   {
    "duration": 45,
    "start_time": "2023-03-21T14:55:45.470Z"
   },
   {
    "duration": 9,
    "start_time": "2023-03-21T14:55:45.517Z"
   },
   {
    "duration": 369,
    "start_time": "2023-03-21T14:55:45.528Z"
   },
   {
    "duration": 21,
    "start_time": "2023-03-21T14:55:45.901Z"
   },
   {
    "duration": 303,
    "start_time": "2023-03-21T14:55:45.925Z"
   },
   {
    "duration": 64,
    "start_time": "2023-03-21T14:55:46.231Z"
   },
   {
    "duration": 43,
    "start_time": "2023-03-21T14:55:46.305Z"
   },
   {
    "duration": 67,
    "start_time": "2023-03-21T14:55:46.351Z"
   },
   {
    "duration": 1716,
    "start_time": "2023-03-21T14:55:46.420Z"
   },
   {
    "duration": 35,
    "start_time": "2023-03-21T14:55:48.140Z"
   },
   {
    "duration": 257,
    "start_time": "2023-03-21T14:55:48.178Z"
   },
   {
    "duration": 276,
    "start_time": "2023-03-21T14:55:48.437Z"
   },
   {
    "duration": 32,
    "start_time": "2023-03-21T14:55:48.716Z"
   },
   {
    "duration": 17,
    "start_time": "2023-03-21T14:55:48.750Z"
   },
   {
    "duration": 44,
    "start_time": "2023-03-21T14:55:48.769Z"
   },
   {
    "duration": 28,
    "start_time": "2023-03-21T14:55:48.816Z"
   },
   {
    "duration": 95,
    "start_time": "2023-03-21T14:55:48.849Z"
   },
   {
    "duration": 0,
    "start_time": "2023-03-21T14:55:48.946Z"
   },
   {
    "duration": 0,
    "start_time": "2023-03-21T14:55:48.947Z"
   },
   {
    "duration": 0,
    "start_time": "2023-03-21T14:55:48.948Z"
   },
   {
    "duration": 0,
    "start_time": "2023-03-21T14:55:48.949Z"
   },
   {
    "duration": 0,
    "start_time": "2023-03-21T14:55:48.950Z"
   },
   {
    "duration": 0,
    "start_time": "2023-03-21T14:55:48.951Z"
   },
   {
    "duration": 0,
    "start_time": "2023-03-21T14:55:48.952Z"
   },
   {
    "duration": 0,
    "start_time": "2023-03-21T14:55:48.953Z"
   },
   {
    "duration": 31,
    "start_time": "2023-03-21T14:57:32.339Z"
   },
   {
    "duration": 9,
    "start_time": "2023-03-21T14:57:32.496Z"
   },
   {
    "duration": 12,
    "start_time": "2023-03-21T14:57:32.904Z"
   },
   {
    "duration": 9,
    "start_time": "2023-03-21T14:57:33.513Z"
   },
   {
    "duration": 11,
    "start_time": "2023-03-21T14:57:34.080Z"
   },
   {
    "duration": 315,
    "start_time": "2023-03-21T14:57:34.500Z"
   },
   {
    "duration": 10,
    "start_time": "2023-03-21T14:57:34.981Z"
   },
   {
    "duration": 1338,
    "start_time": "2023-03-21T14:57:35.977Z"
   },
   {
    "duration": 1103,
    "start_time": "2023-03-21T14:57:48.477Z"
   },
   {
    "duration": 4,
    "start_time": "2023-03-21T14:58:51.055Z"
   },
   {
    "duration": 2435,
    "start_time": "2023-03-21T15:38:59.764Z"
   },
   {
    "duration": 2986,
    "start_time": "2023-03-21T15:40:53.328Z"
   },
   {
    "duration": 174,
    "start_time": "2023-03-21T18:20:45.829Z"
   },
   {
    "duration": 111,
    "start_time": "2023-03-21T18:20:46.006Z"
   },
   {
    "duration": 2229,
    "start_time": "2023-03-21T18:20:46.120Z"
   },
   {
    "duration": 12,
    "start_time": "2023-03-21T18:20:48.351Z"
   },
   {
    "duration": 2768,
    "start_time": "2023-03-21T18:20:48.365Z"
   },
   {
    "duration": 13,
    "start_time": "2023-03-21T18:20:51.142Z"
   },
   {
    "duration": 42,
    "start_time": "2023-03-21T18:20:51.157Z"
   },
   {
    "duration": 6,
    "start_time": "2023-03-21T18:20:51.201Z"
   },
   {
    "duration": 297,
    "start_time": "2023-03-21T18:20:51.210Z"
   },
   {
    "duration": 13,
    "start_time": "2023-03-21T18:20:51.509Z"
   },
   {
    "duration": 200,
    "start_time": "2023-03-21T18:20:51.523Z"
   },
   {
    "duration": 49,
    "start_time": "2023-03-21T18:20:51.724Z"
   },
   {
    "duration": 16,
    "start_time": "2023-03-21T18:20:51.775Z"
   },
   {
    "duration": 21,
    "start_time": "2023-03-21T18:20:51.793Z"
   },
   {
    "duration": 1271,
    "start_time": "2023-03-21T18:20:51.841Z"
   },
   {
    "duration": 13,
    "start_time": "2023-03-21T18:20:53.113Z"
   },
   {
    "duration": 224,
    "start_time": "2023-03-21T18:20:53.141Z"
   },
   {
    "duration": 213,
    "start_time": "2023-03-21T18:20:53.367Z"
   },
   {
    "duration": 13,
    "start_time": "2023-03-21T18:20:53.581Z"
   },
   {
    "duration": 5,
    "start_time": "2023-03-21T18:20:53.596Z"
   },
   {
    "duration": 9,
    "start_time": "2023-03-21T18:20:53.603Z"
   },
   {
    "duration": 37,
    "start_time": "2023-03-21T18:20:53.614Z"
   },
   {
    "duration": 28,
    "start_time": "2023-03-21T18:20:53.653Z"
   },
   {
    "duration": 18,
    "start_time": "2023-03-21T18:20:53.685Z"
   },
   {
    "duration": 14,
    "start_time": "2023-03-21T18:20:53.704Z"
   },
   {
    "duration": 8,
    "start_time": "2023-03-21T18:20:53.742Z"
   },
   {
    "duration": 15,
    "start_time": "2023-03-21T18:20:53.752Z"
   },
   {
    "duration": 271,
    "start_time": "2023-03-21T18:20:53.768Z"
   },
   {
    "duration": 11,
    "start_time": "2023-03-21T18:20:54.041Z"
   },
   {
    "duration": 24,
    "start_time": "2023-03-21T18:20:54.053Z"
   },
   {
    "duration": 2634,
    "start_time": "2023-03-21T18:20:54.079Z"
   },
   {
    "duration": 286,
    "start_time": "2023-03-21T18:29:44.161Z"
   },
   {
    "duration": 257,
    "start_time": "2023-03-21T18:30:15.704Z"
   },
   {
    "duration": 703,
    "start_time": "2023-03-21T18:31:38.768Z"
   },
   {
    "duration": 377,
    "start_time": "2023-03-21T18:32:18.344Z"
   },
   {
    "duration": 510,
    "start_time": "2023-03-21T18:32:29.452Z"
   },
   {
    "duration": 2087,
    "start_time": "2023-03-21T19:57:44.789Z"
   },
   {
    "duration": 106,
    "start_time": "2023-03-21T19:57:46.879Z"
   },
   {
    "duration": 2221,
    "start_time": "2023-03-21T19:57:46.987Z"
   },
   {
    "duration": 30,
    "start_time": "2023-03-21T19:57:49.211Z"
   },
   {
    "duration": 3132,
    "start_time": "2023-03-21T19:57:49.243Z"
   },
   {
    "duration": 12,
    "start_time": "2023-03-21T19:57:52.376Z"
   },
   {
    "duration": 20,
    "start_time": "2023-03-21T19:57:52.390Z"
   },
   {
    "duration": 41,
    "start_time": "2023-03-21T19:57:52.412Z"
   },
   {
    "duration": 303,
    "start_time": "2023-03-21T19:57:52.459Z"
   },
   {
    "duration": 16,
    "start_time": "2023-03-21T19:57:52.765Z"
   },
   {
    "duration": 201,
    "start_time": "2023-03-21T19:57:52.783Z"
   },
   {
    "duration": 28,
    "start_time": "2023-03-21T19:57:52.986Z"
   },
   {
    "duration": 40,
    "start_time": "2023-03-21T19:57:53.016Z"
   },
   {
    "duration": 26,
    "start_time": "2023-03-21T19:57:53.058Z"
   },
   {
    "duration": 1404,
    "start_time": "2023-03-21T19:57:53.086Z"
   },
   {
    "duration": 16,
    "start_time": "2023-03-21T19:57:54.493Z"
   },
   {
    "duration": 258,
    "start_time": "2023-03-21T19:57:54.511Z"
   },
   {
    "duration": 226,
    "start_time": "2023-03-21T19:57:54.773Z"
   },
   {
    "duration": 16,
    "start_time": "2023-03-21T19:57:55.000Z"
   },
   {
    "duration": 25,
    "start_time": "2023-03-21T19:57:55.018Z"
   },
   {
    "duration": 39,
    "start_time": "2023-03-21T19:57:55.045Z"
   },
   {
    "duration": 21,
    "start_time": "2023-03-21T19:57:55.086Z"
   },
   {
    "duration": 26,
    "start_time": "2023-03-21T19:57:55.109Z"
   },
   {
    "duration": 10,
    "start_time": "2023-03-21T19:57:55.137Z"
   },
   {
    "duration": 37,
    "start_time": "2023-03-21T19:57:55.148Z"
   },
   {
    "duration": 23,
    "start_time": "2023-03-21T19:57:55.187Z"
   },
   {
    "duration": 12,
    "start_time": "2023-03-21T19:57:55.212Z"
   },
   {
    "duration": 283,
    "start_time": "2023-03-21T19:57:55.229Z"
   },
   {
    "duration": 7,
    "start_time": "2023-03-21T19:57:55.513Z"
   },
   {
    "duration": 33,
    "start_time": "2023-03-21T19:57:55.521Z"
   },
   {
    "duration": 2775,
    "start_time": "2023-03-21T19:57:55.556Z"
   },
   {
    "duration": 566,
    "start_time": "2023-03-21T19:57:58.332Z"
   },
   {
    "duration": 10,
    "start_time": "2023-03-21T20:03:54.600Z"
   },
   {
    "duration": 14,
    "start_time": "2023-03-21T20:43:35.938Z"
   },
   {
    "duration": 115,
    "start_time": "2023-03-21T20:50:41.232Z"
   },
   {
    "duration": 31,
    "start_time": "2023-03-21T20:50:51.787Z"
   },
   {
    "duration": 34,
    "start_time": "2023-03-21T20:51:25.781Z"
   },
   {
    "duration": 1520,
    "start_time": "2023-03-22T07:55:57.960Z"
   },
   {
    "duration": 89,
    "start_time": "2023-03-22T07:55:59.482Z"
   },
   {
    "duration": 2175,
    "start_time": "2023-03-22T07:55:59.573Z"
   },
   {
    "duration": 9,
    "start_time": "2023-03-22T07:56:01.751Z"
   },
   {
    "duration": 2945,
    "start_time": "2023-03-22T07:56:01.763Z"
   },
   {
    "duration": 15,
    "start_time": "2023-03-22T07:56:04.710Z"
   },
   {
    "duration": 22,
    "start_time": "2023-03-22T07:56:04.726Z"
   },
   {
    "duration": 7,
    "start_time": "2023-03-22T07:56:04.750Z"
   },
   {
    "duration": 287,
    "start_time": "2023-03-22T07:56:04.759Z"
   },
   {
    "duration": 13,
    "start_time": "2023-03-22T07:56:05.049Z"
   },
   {
    "duration": 212,
    "start_time": "2023-03-22T07:56:05.064Z"
   },
   {
    "duration": 47,
    "start_time": "2023-03-22T07:56:05.277Z"
   },
   {
    "duration": 16,
    "start_time": "2023-03-22T07:56:05.326Z"
   },
   {
    "duration": 19,
    "start_time": "2023-03-22T07:56:05.344Z"
   },
   {
    "duration": 1293,
    "start_time": "2023-03-22T07:56:05.364Z"
   },
   {
    "duration": 15,
    "start_time": "2023-03-22T07:56:06.659Z"
   },
   {
    "duration": 214,
    "start_time": "2023-03-22T07:56:06.676Z"
   },
   {
    "duration": 211,
    "start_time": "2023-03-22T07:56:06.891Z"
   },
   {
    "duration": 24,
    "start_time": "2023-03-22T07:56:07.104Z"
   },
   {
    "duration": 6,
    "start_time": "2023-03-22T07:56:07.130Z"
   },
   {
    "duration": 11,
    "start_time": "2023-03-22T07:56:07.138Z"
   },
   {
    "duration": 35,
    "start_time": "2023-03-22T07:56:07.150Z"
   },
   {
    "duration": 34,
    "start_time": "2023-03-22T07:56:07.187Z"
   },
   {
    "duration": 17,
    "start_time": "2023-03-22T07:56:07.222Z"
   },
   {
    "duration": 23,
    "start_time": "2023-03-22T07:56:07.241Z"
   },
   {
    "duration": 22,
    "start_time": "2023-03-22T07:56:07.265Z"
   },
   {
    "duration": 7,
    "start_time": "2023-03-22T07:56:07.289Z"
   },
   {
    "duration": 247,
    "start_time": "2023-03-22T07:56:07.299Z"
   },
   {
    "duration": 8,
    "start_time": "2023-03-22T07:56:07.548Z"
   },
   {
    "duration": 26,
    "start_time": "2023-03-22T07:56:07.557Z"
   },
   {
    "duration": 2472,
    "start_time": "2023-03-22T07:56:07.585Z"
   },
   {
    "duration": 635,
    "start_time": "2023-03-22T07:56:10.059Z"
   },
   {
    "duration": 9,
    "start_time": "2023-03-22T07:56:10.696Z"
   },
   {
    "duration": 27,
    "start_time": "2023-03-22T07:56:10.707Z"
   },
   {
    "duration": 59,
    "start_time": "2023-03-22T07:56:10.736Z"
   },
   {
    "duration": 272,
    "start_time": "2023-03-22T08:01:33.134Z"
   },
   {
    "duration": 348,
    "start_time": "2023-03-22T08:01:55.691Z"
   },
   {
    "duration": 247,
    "start_time": "2023-03-22T08:02:13.719Z"
   },
   {
    "duration": 255,
    "start_time": "2023-03-22T08:02:25.587Z"
   },
   {
    "duration": 400,
    "start_time": "2023-03-22T08:02:38.030Z"
   },
   {
    "duration": 272,
    "start_time": "2023-03-22T08:02:44.033Z"
   },
   {
    "duration": 249,
    "start_time": "2023-03-22T08:02:51.944Z"
   },
   {
    "duration": 251,
    "start_time": "2023-03-22T08:02:57.090Z"
   },
   {
    "duration": 252,
    "start_time": "2023-03-22T08:03:01.788Z"
   },
   {
    "duration": 266,
    "start_time": "2023-03-22T08:03:05.723Z"
   },
   {
    "duration": 402,
    "start_time": "2023-03-22T08:03:14.465Z"
   },
   {
    "duration": 285,
    "start_time": "2023-03-22T08:04:51.640Z"
   },
   {
    "duration": 307,
    "start_time": "2023-03-22T08:05:01.103Z"
   },
   {
    "duration": 245,
    "start_time": "2023-03-22T08:06:12.734Z"
   },
   {
    "duration": 182,
    "start_time": "2023-03-22T08:06:21.556Z"
   },
   {
    "duration": 185,
    "start_time": "2023-03-22T08:08:32.057Z"
   },
   {
    "duration": 185,
    "start_time": "2023-03-22T08:10:05.261Z"
   },
   {
    "duration": 191,
    "start_time": "2023-03-22T08:11:24.405Z"
   },
   {
    "duration": 209,
    "start_time": "2023-03-22T08:13:34.973Z"
   },
   {
    "duration": 17,
    "start_time": "2023-03-22T08:37:44.701Z"
   },
   {
    "duration": 178,
    "start_time": "2023-03-22T08:38:05.700Z"
   },
   {
    "duration": 188,
    "start_time": "2023-03-22T08:47:20.494Z"
   },
   {
    "duration": 390,
    "start_time": "2023-03-22T08:47:36.387Z"
   },
   {
    "duration": 323,
    "start_time": "2023-03-22T08:47:55.946Z"
   },
   {
    "duration": 180,
    "start_time": "2023-03-22T08:48:25.249Z"
   },
   {
    "duration": 328,
    "start_time": "2023-03-22T08:48:33.384Z"
   },
   {
    "duration": 181,
    "start_time": "2023-03-22T08:50:16.442Z"
   },
   {
    "duration": 1568,
    "start_time": "2023-03-22T14:51:40.445Z"
   },
   {
    "duration": 87,
    "start_time": "2023-03-22T14:51:42.015Z"
   },
   {
    "duration": 1998,
    "start_time": "2023-03-22T14:51:42.103Z"
   },
   {
    "duration": 10,
    "start_time": "2023-03-22T14:51:44.104Z"
   },
   {
    "duration": 2933,
    "start_time": "2023-03-22T14:51:44.116Z"
   },
   {
    "duration": 12,
    "start_time": "2023-03-22T14:51:47.051Z"
   },
   {
    "duration": 27,
    "start_time": "2023-03-22T14:51:47.065Z"
   },
   {
    "duration": 6,
    "start_time": "2023-03-22T14:51:47.095Z"
   },
   {
    "duration": 332,
    "start_time": "2023-03-22T14:51:47.102Z"
   },
   {
    "duration": 18,
    "start_time": "2023-03-22T14:51:47.444Z"
   },
   {
    "duration": 187,
    "start_time": "2023-03-22T14:51:47.465Z"
   },
   {
    "duration": 36,
    "start_time": "2023-03-22T14:51:47.654Z"
   },
   {
    "duration": 22,
    "start_time": "2023-03-22T14:51:47.692Z"
   },
   {
    "duration": 34,
    "start_time": "2023-03-22T14:51:47.740Z"
   },
   {
    "duration": 1331,
    "start_time": "2023-03-22T14:51:47.775Z"
   },
   {
    "duration": 31,
    "start_time": "2023-03-22T14:51:49.109Z"
   },
   {
    "duration": 205,
    "start_time": "2023-03-22T14:51:49.143Z"
   },
   {
    "duration": 209,
    "start_time": "2023-03-22T14:51:49.350Z"
   },
   {
    "duration": 13,
    "start_time": "2023-03-22T14:51:49.562Z"
   },
   {
    "duration": 5,
    "start_time": "2023-03-22T14:51:49.577Z"
   },
   {
    "duration": 7,
    "start_time": "2023-03-22T14:51:49.584Z"
   },
   {
    "duration": 16,
    "start_time": "2023-03-22T14:51:49.593Z"
   },
   {
    "duration": 54,
    "start_time": "2023-03-22T14:51:49.611Z"
   },
   {
    "duration": 8,
    "start_time": "2023-03-22T14:51:49.666Z"
   },
   {
    "duration": 11,
    "start_time": "2023-03-22T14:51:49.676Z"
   },
   {
    "duration": 7,
    "start_time": "2023-03-22T14:51:49.688Z"
   },
   {
    "duration": 7,
    "start_time": "2023-03-22T14:51:49.696Z"
   },
   {
    "duration": 315,
    "start_time": "2023-03-22T14:51:49.706Z"
   },
   {
    "duration": 8,
    "start_time": "2023-03-22T14:51:50.023Z"
   },
   {
    "duration": 21,
    "start_time": "2023-03-22T14:51:50.032Z"
   },
   {
    "duration": 2643,
    "start_time": "2023-03-22T14:51:50.054Z"
   },
   {
    "duration": 570,
    "start_time": "2023-03-22T14:51:52.698Z"
   },
   {
    "duration": 10,
    "start_time": "2023-03-22T14:51:53.270Z"
   },
   {
    "duration": 23,
    "start_time": "2023-03-22T14:51:53.281Z"
   },
   {
    "duration": 209,
    "start_time": "2023-03-22T14:51:53.306Z"
   },
   {
    "duration": 236,
    "start_time": "2023-03-22T14:51:53.517Z"
   },
   {
    "duration": 212,
    "start_time": "2023-03-22T14:51:53.755Z"
   },
   {
    "duration": 206,
    "start_time": "2023-03-22T14:51:53.969Z"
   },
   {
    "duration": 183,
    "start_time": "2023-03-22T14:51:54.177Z"
   },
   {
    "duration": 185,
    "start_time": "2023-03-22T14:51:54.362Z"
   },
   {
    "duration": 326,
    "start_time": "2023-03-22T14:51:54.548Z"
   },
   {
    "duration": 108,
    "start_time": "2023-03-22T14:56:24.838Z"
   },
   {
    "duration": 10,
    "start_time": "2023-03-22T14:56:29.315Z"
   },
   {
    "duration": 8,
    "start_time": "2023-03-22T14:56:35.177Z"
   },
   {
    "duration": 19,
    "start_time": "2023-03-22T14:58:03.161Z"
   },
   {
    "duration": 15,
    "start_time": "2023-03-22T15:13:37.188Z"
   },
   {
    "duration": 8,
    "start_time": "2023-03-22T15:21:26.013Z"
   },
   {
    "duration": 2957,
    "start_time": "2023-03-22T15:21:49.921Z"
   },
   {
    "duration": 9,
    "start_time": "2023-03-22T15:22:08.632Z"
   },
   {
    "duration": 3037,
    "start_time": "2023-03-22T15:22:15.718Z"
   },
   {
    "duration": 16,
    "start_time": "2023-03-22T15:39:05.468Z"
   },
   {
    "duration": 18,
    "start_time": "2023-03-22T15:39:21.029Z"
   },
   {
    "duration": 18,
    "start_time": "2023-03-22T15:39:46.695Z"
   },
   {
    "duration": 28,
    "start_time": "2023-03-22T15:40:07.451Z"
   },
   {
    "duration": 2681,
    "start_time": "2023-03-22T15:46:10.267Z"
   },
   {
    "duration": 2613,
    "start_time": "2023-03-22T15:46:29.730Z"
   },
   {
    "duration": 24124,
    "start_time": "2023-03-22T15:46:54.588Z"
   },
   {
    "duration": 11,
    "start_time": "2023-03-22T15:47:56.901Z"
   },
   {
    "duration": 42,
    "start_time": "2023-03-22T15:50:16.336Z"
   },
   {
    "duration": 7,
    "start_time": "2023-03-22T15:52:52.636Z"
   },
   {
    "duration": 6,
    "start_time": "2023-03-22T15:53:38.268Z"
   },
   {
    "duration": 7,
    "start_time": "2023-03-22T15:53:58.925Z"
   },
   {
    "duration": 33,
    "start_time": "2023-03-22T15:54:58.169Z"
   },
   {
    "duration": 84,
    "start_time": "2023-03-22T15:56:45.187Z"
   },
   {
    "duration": 40,
    "start_time": "2023-03-22T15:56:59.357Z"
   },
   {
    "duration": 35,
    "start_time": "2023-03-22T15:57:28.897Z"
   },
   {
    "duration": 28,
    "start_time": "2023-03-22T15:57:38.723Z"
   },
   {
    "duration": 1707,
    "start_time": "2023-03-22T17:04:41.152Z"
   },
   {
    "duration": 110,
    "start_time": "2023-03-22T17:04:42.861Z"
   },
   {
    "duration": 2029,
    "start_time": "2023-03-22T17:04:42.973Z"
   },
   {
    "duration": 9,
    "start_time": "2023-03-22T17:04:45.005Z"
   },
   {
    "duration": 3235,
    "start_time": "2023-03-22T17:04:45.016Z"
   },
   {
    "duration": 20,
    "start_time": "2023-03-22T17:04:48.253Z"
   },
   {
    "duration": 27,
    "start_time": "2023-03-22T17:04:48.280Z"
   },
   {
    "duration": 6,
    "start_time": "2023-03-22T17:04:48.311Z"
   },
   {
    "duration": 278,
    "start_time": "2023-03-22T17:04:48.319Z"
   },
   {
    "duration": 14,
    "start_time": "2023-03-22T17:04:48.600Z"
   },
   {
    "duration": 198,
    "start_time": "2023-03-22T17:04:48.615Z"
   },
   {
    "duration": 38,
    "start_time": "2023-03-22T17:04:48.815Z"
   },
   {
    "duration": 38,
    "start_time": "2023-03-22T17:04:48.855Z"
   },
   {
    "duration": 23,
    "start_time": "2023-03-22T17:04:48.894Z"
   },
   {
    "duration": 1317,
    "start_time": "2023-03-22T17:04:48.918Z"
   },
   {
    "duration": 331,
    "start_time": "2023-03-22T17:04:50.236Z"
   },
   {
    "duration": 0,
    "start_time": "2023-03-22T17:04:50.569Z"
   },
   {
    "duration": 0,
    "start_time": "2023-03-22T17:04:50.574Z"
   },
   {
    "duration": 0,
    "start_time": "2023-03-22T17:04:50.583Z"
   },
   {
    "duration": 0,
    "start_time": "2023-03-22T17:04:50.593Z"
   },
   {
    "duration": 0,
    "start_time": "2023-03-22T17:04:50.598Z"
   },
   {
    "duration": 0,
    "start_time": "2023-03-22T17:04:50.599Z"
   },
   {
    "duration": 0,
    "start_time": "2023-03-22T17:04:50.606Z"
   },
   {
    "duration": 0,
    "start_time": "2023-03-22T17:04:50.607Z"
   },
   {
    "duration": 0,
    "start_time": "2023-03-22T17:04:50.608Z"
   },
   {
    "duration": 0,
    "start_time": "2023-03-22T17:04:50.609Z"
   },
   {
    "duration": 0,
    "start_time": "2023-03-22T17:04:50.611Z"
   },
   {
    "duration": 0,
    "start_time": "2023-03-22T17:04:50.612Z"
   },
   {
    "duration": 0,
    "start_time": "2023-03-22T17:04:50.614Z"
   },
   {
    "duration": 0,
    "start_time": "2023-03-22T17:04:50.615Z"
   },
   {
    "duration": 0,
    "start_time": "2023-03-22T17:04:50.616Z"
   },
   {
    "duration": 0,
    "start_time": "2023-03-22T17:04:50.617Z"
   },
   {
    "duration": 0,
    "start_time": "2023-03-22T17:04:50.618Z"
   },
   {
    "duration": 0,
    "start_time": "2023-03-22T17:04:50.619Z"
   },
   {
    "duration": 0,
    "start_time": "2023-03-22T17:04:50.621Z"
   },
   {
    "duration": 0,
    "start_time": "2023-03-22T17:04:50.622Z"
   },
   {
    "duration": 0,
    "start_time": "2023-03-22T17:04:50.623Z"
   },
   {
    "duration": 0,
    "start_time": "2023-03-22T17:04:50.625Z"
   },
   {
    "duration": 0,
    "start_time": "2023-03-22T17:04:50.626Z"
   },
   {
    "duration": 0,
    "start_time": "2023-03-22T17:04:50.628Z"
   },
   {
    "duration": 0,
    "start_time": "2023-03-22T17:04:50.629Z"
   },
   {
    "duration": 0,
    "start_time": "2023-03-22T17:04:50.630Z"
   },
   {
    "duration": 0,
    "start_time": "2023-03-22T17:04:50.631Z"
   },
   {
    "duration": 135,
    "start_time": "2023-03-22T17:05:39.903Z"
   },
   {
    "duration": 93,
    "start_time": "2023-03-22T17:05:40.039Z"
   },
   {
    "duration": 2044,
    "start_time": "2023-03-22T17:05:40.133Z"
   },
   {
    "duration": 14,
    "start_time": "2023-03-22T17:05:42.179Z"
   },
   {
    "duration": 2891,
    "start_time": "2023-03-22T17:05:42.195Z"
   },
   {
    "duration": 12,
    "start_time": "2023-03-22T17:05:45.088Z"
   },
   {
    "duration": 20,
    "start_time": "2023-03-22T17:05:45.103Z"
   },
   {
    "duration": 5,
    "start_time": "2023-03-22T17:05:45.125Z"
   },
   {
    "duration": 287,
    "start_time": "2023-03-22T17:05:45.132Z"
   },
   {
    "duration": 15,
    "start_time": "2023-03-22T17:05:45.421Z"
   },
   {
    "duration": 189,
    "start_time": "2023-03-22T17:05:45.438Z"
   },
   {
    "duration": 55,
    "start_time": "2023-03-22T17:05:45.628Z"
   },
   {
    "duration": 22,
    "start_time": "2023-03-22T17:05:45.693Z"
   },
   {
    "duration": 17,
    "start_time": "2023-03-22T17:05:45.717Z"
   },
   {
    "duration": 1379,
    "start_time": "2023-03-22T17:05:45.737Z"
   },
   {
    "duration": 275,
    "start_time": "2023-03-22T17:05:47.118Z"
   },
   {
    "duration": 0,
    "start_time": "2023-03-22T17:05:47.396Z"
   },
   {
    "duration": 0,
    "start_time": "2023-03-22T17:05:47.397Z"
   },
   {
    "duration": 0,
    "start_time": "2023-03-22T17:05:47.399Z"
   },
   {
    "duration": 0,
    "start_time": "2023-03-22T17:05:47.400Z"
   },
   {
    "duration": 0,
    "start_time": "2023-03-22T17:05:47.401Z"
   },
   {
    "duration": 0,
    "start_time": "2023-03-22T17:05:47.404Z"
   },
   {
    "duration": 0,
    "start_time": "2023-03-22T17:05:47.406Z"
   },
   {
    "duration": 0,
    "start_time": "2023-03-22T17:05:47.408Z"
   },
   {
    "duration": 0,
    "start_time": "2023-03-22T17:05:47.409Z"
   },
   {
    "duration": 0,
    "start_time": "2023-03-22T17:05:47.410Z"
   },
   {
    "duration": 0,
    "start_time": "2023-03-22T17:05:47.411Z"
   },
   {
    "duration": 0,
    "start_time": "2023-03-22T17:05:47.412Z"
   },
   {
    "duration": 0,
    "start_time": "2023-03-22T17:05:47.413Z"
   },
   {
    "duration": 0,
    "start_time": "2023-03-22T17:05:47.414Z"
   },
   {
    "duration": 0,
    "start_time": "2023-03-22T17:05:47.415Z"
   },
   {
    "duration": 0,
    "start_time": "2023-03-22T17:05:47.417Z"
   },
   {
    "duration": 0,
    "start_time": "2023-03-22T17:05:47.418Z"
   },
   {
    "duration": 0,
    "start_time": "2023-03-22T17:05:47.418Z"
   },
   {
    "duration": 0,
    "start_time": "2023-03-22T17:05:47.420Z"
   },
   {
    "duration": 0,
    "start_time": "2023-03-22T17:05:47.421Z"
   },
   {
    "duration": 0,
    "start_time": "2023-03-22T17:05:47.422Z"
   },
   {
    "duration": 0,
    "start_time": "2023-03-22T17:05:47.424Z"
   },
   {
    "duration": 0,
    "start_time": "2023-03-22T17:05:47.426Z"
   },
   {
    "duration": 17,
    "start_time": "2023-03-22T17:05:47.498Z"
   },
   {
    "duration": 19,
    "start_time": "2023-03-22T17:05:50.323Z"
   },
   {
    "duration": 116,
    "start_time": "2023-03-22T17:06:49.901Z"
   },
   {
    "duration": 109,
    "start_time": "2023-03-22T17:06:50.020Z"
   },
   {
    "duration": 1893,
    "start_time": "2023-03-22T17:06:50.131Z"
   },
   {
    "duration": 9,
    "start_time": "2023-03-22T17:06:52.026Z"
   },
   {
    "duration": 2713,
    "start_time": "2023-03-22T17:06:52.037Z"
   },
   {
    "duration": 18,
    "start_time": "2023-03-22T17:06:54.751Z"
   },
   {
    "duration": 21,
    "start_time": "2023-03-22T17:06:54.771Z"
   },
   {
    "duration": 7,
    "start_time": "2023-03-22T17:06:54.795Z"
   },
   {
    "duration": 275,
    "start_time": "2023-03-22T17:06:54.803Z"
   },
   {
    "duration": 16,
    "start_time": "2023-03-22T17:06:55.083Z"
   },
   {
    "duration": 198,
    "start_time": "2023-03-22T17:06:55.101Z"
   },
   {
    "duration": 168,
    "start_time": "2023-03-22T17:06:55.301Z"
   },
   {
    "duration": 19,
    "start_time": "2023-03-22T17:06:55.471Z"
   },
   {
    "duration": 18,
    "start_time": "2023-03-22T17:06:55.491Z"
   },
   {
    "duration": 1215,
    "start_time": "2023-03-22T17:06:55.511Z"
   },
   {
    "duration": 251,
    "start_time": "2023-03-22T17:06:59.811Z"
   },
   {
    "duration": 114,
    "start_time": "2023-03-22T17:09:29.544Z"
   },
   {
    "duration": 87,
    "start_time": "2023-03-22T17:09:30.418Z"
   },
   {
    "duration": 1802,
    "start_time": "2023-03-22T17:09:31.079Z"
   },
   {
    "duration": 10,
    "start_time": "2023-03-22T17:09:35.527Z"
   },
   {
    "duration": 2515,
    "start_time": "2023-03-22T17:09:37.322Z"
   },
   {
    "duration": 10,
    "start_time": "2023-03-22T17:09:41.944Z"
   },
   {
    "duration": 16,
    "start_time": "2023-03-22T17:09:42.803Z"
   },
   {
    "duration": 6,
    "start_time": "2023-03-22T17:09:43.758Z"
   },
   {
    "duration": 215,
    "start_time": "2023-03-22T17:09:44.431Z"
   },
   {
    "duration": 14,
    "start_time": "2023-03-22T17:09:45.758Z"
   },
   {
    "duration": 157,
    "start_time": "2023-03-22T17:09:47.126Z"
   },
   {
    "duration": 198,
    "start_time": "2023-03-22T17:09:48.603Z"
   },
   {
    "duration": 16,
    "start_time": "2023-03-22T17:09:50.234Z"
   },
   {
    "duration": 16,
    "start_time": "2023-03-22T17:09:50.903Z"
   },
   {
    "duration": 1245,
    "start_time": "2023-03-22T17:09:52.285Z"
   },
   {
    "duration": 186,
    "start_time": "2023-03-22T17:10:00.671Z"
   },
   {
    "duration": 35,
    "start_time": "2023-03-22T17:10:59.550Z"
   },
   {
    "duration": 13,
    "start_time": "2023-03-22T17:11:06.156Z"
   },
   {
    "duration": 186,
    "start_time": "2023-03-22T17:11:07.298Z"
   },
   {
    "duration": 198,
    "start_time": "2023-03-22T17:11:09.576Z"
   },
   {
    "duration": 13,
    "start_time": "2023-03-22T17:11:10.732Z"
   },
   {
    "duration": 11,
    "start_time": "2023-03-22T17:11:12.688Z"
   },
   {
    "duration": 10,
    "start_time": "2023-03-22T17:11:13.479Z"
   },
   {
    "duration": 22,
    "start_time": "2023-03-22T17:11:14.977Z"
   },
   {
    "duration": 23,
    "start_time": "2023-03-22T17:11:17.107Z"
   },
   {
    "duration": 6,
    "start_time": "2023-03-22T17:11:17.728Z"
   },
   {
    "duration": 11,
    "start_time": "2023-03-22T17:11:18.983Z"
   },
   {
    "duration": 9,
    "start_time": "2023-03-22T17:11:19.942Z"
   },
   {
    "duration": 8,
    "start_time": "2023-03-22T17:11:20.643Z"
   },
   {
    "duration": 226,
    "start_time": "2023-03-22T17:11:21.403Z"
   },
   {
    "duration": 7,
    "start_time": "2023-03-22T17:11:22.116Z"
   },
   {
    "duration": 17,
    "start_time": "2023-03-22T17:11:23.262Z"
   },
   {
    "duration": 1887,
    "start_time": "2023-03-22T17:11:23.756Z"
   },
   {
    "duration": 658,
    "start_time": "2023-03-22T17:11:25.645Z"
   },
   {
    "duration": 8,
    "start_time": "2023-03-22T17:11:26.958Z"
   },
   {
    "duration": 9,
    "start_time": "2023-03-22T17:11:28.068Z"
   },
   {
    "duration": 202,
    "start_time": "2023-03-22T17:11:29.200Z"
   },
   {
    "duration": 176,
    "start_time": "2023-03-22T17:11:30.138Z"
   },
   {
    "duration": 171,
    "start_time": "2023-03-22T17:11:30.544Z"
   },
   {
    "duration": 165,
    "start_time": "2023-03-22T17:11:31.728Z"
   },
   {
    "duration": 163,
    "start_time": "2023-03-22T17:11:33.298Z"
   },
   {
    "duration": 153,
    "start_time": "2023-03-22T17:11:37.986Z"
   },
   {
    "duration": 179,
    "start_time": "2023-03-22T17:11:39.630Z"
   },
   {
    "duration": 2307,
    "start_time": "2023-03-22T23:01:38.578Z"
   },
   {
    "duration": 88,
    "start_time": "2023-03-22T23:01:40.888Z"
   },
   {
    "duration": 1865,
    "start_time": "2023-03-22T23:01:40.978Z"
   },
   {
    "duration": 13,
    "start_time": "2023-03-22T23:01:42.846Z"
   },
   {
    "duration": 2750,
    "start_time": "2023-03-22T23:01:42.861Z"
   },
   {
    "duration": 39,
    "start_time": "2023-03-22T23:01:45.617Z"
   },
   {
    "duration": 25,
    "start_time": "2023-03-22T23:01:45.658Z"
   },
   {
    "duration": 6,
    "start_time": "2023-03-22T23:01:45.685Z"
   },
   {
    "duration": 334,
    "start_time": "2023-03-22T23:01:45.693Z"
   },
   {
    "duration": 29,
    "start_time": "2023-03-22T23:01:46.030Z"
   },
   {
    "duration": 312,
    "start_time": "2023-03-22T23:01:46.061Z"
   },
   {
    "duration": 52,
    "start_time": "2023-03-22T23:01:46.377Z"
   },
   {
    "duration": 22,
    "start_time": "2023-03-22T23:01:46.431Z"
   },
   {
    "duration": 49,
    "start_time": "2023-03-22T23:01:46.455Z"
   },
   {
    "duration": 1413,
    "start_time": "2023-03-22T23:01:58.024Z"
   },
   {
    "duration": 61,
    "start_time": "2023-03-22T23:04:19.021Z"
   },
   {
    "duration": 34,
    "start_time": "2023-03-22T23:12:13.544Z"
   },
   {
    "duration": 48,
    "start_time": "2023-03-22T23:13:59.116Z"
   },
   {
    "duration": 11,
    "start_time": "2023-03-22T23:14:18.647Z"
   },
   {
    "duration": 132,
    "start_time": "2023-03-22T23:15:03.147Z"
   },
   {
    "duration": 80,
    "start_time": "2023-03-22T23:15:03.281Z"
   },
   {
    "duration": 1802,
    "start_time": "2023-03-22T23:15:03.362Z"
   },
   {
    "duration": 10,
    "start_time": "2023-03-22T23:15:05.166Z"
   },
   {
    "duration": 2490,
    "start_time": "2023-03-22T23:15:05.177Z"
   },
   {
    "duration": 9,
    "start_time": "2023-03-22T23:15:07.668Z"
   },
   {
    "duration": 20,
    "start_time": "2023-03-22T23:15:07.678Z"
   },
   {
    "duration": 23,
    "start_time": "2023-03-22T23:15:07.701Z"
   },
   {
    "duration": 252,
    "start_time": "2023-03-22T23:15:07.725Z"
   },
   {
    "duration": 11,
    "start_time": "2023-03-22T23:15:07.978Z"
   },
   {
    "duration": 165,
    "start_time": "2023-03-22T23:15:07.990Z"
   },
   {
    "duration": 28,
    "start_time": "2023-03-22T23:15:08.156Z"
   },
   {
    "duration": 15,
    "start_time": "2023-03-22T23:15:08.185Z"
   },
   {
    "duration": 51,
    "start_time": "2023-03-22T23:15:08.202Z"
   },
   {
    "duration": 1219,
    "start_time": "2023-03-22T23:15:08.255Z"
   },
   {
    "duration": 38,
    "start_time": "2023-03-22T23:15:09.475Z"
   },
   {
    "duration": 42,
    "start_time": "2023-03-22T23:15:09.532Z"
   },
   {
    "duration": 12,
    "start_time": "2023-03-22T23:15:09.575Z"
   },
   {
    "duration": 177,
    "start_time": "2023-03-22T23:15:09.589Z"
   },
   {
    "duration": 184,
    "start_time": "2023-03-22T23:15:09.769Z"
   },
   {
    "duration": 14,
    "start_time": "2023-03-22T23:15:09.955Z"
   },
   {
    "duration": 6,
    "start_time": "2023-03-22T23:15:09.970Z"
   },
   {
    "duration": 12,
    "start_time": "2023-03-22T23:15:09.977Z"
   },
   {
    "duration": 19,
    "start_time": "2023-03-22T23:15:09.990Z"
   },
   {
    "duration": 41,
    "start_time": "2023-03-22T23:15:10.011Z"
   },
   {
    "duration": 14,
    "start_time": "2023-03-22T23:15:10.054Z"
   },
   {
    "duration": 10,
    "start_time": "2023-03-22T23:15:10.070Z"
   },
   {
    "duration": 7,
    "start_time": "2023-03-22T23:15:10.081Z"
   },
   {
    "duration": 16,
    "start_time": "2023-03-22T23:15:10.089Z"
   },
   {
    "duration": 370,
    "start_time": "2023-03-22T23:15:10.107Z"
   },
   {
    "duration": 6,
    "start_time": "2023-03-22T23:15:10.479Z"
   },
   {
    "duration": 25,
    "start_time": "2023-03-22T23:15:10.486Z"
   },
   {
    "duration": 2177,
    "start_time": "2023-03-22T23:15:10.512Z"
   },
   {
    "duration": 499,
    "start_time": "2023-03-22T23:15:12.691Z"
   },
   {
    "duration": 8,
    "start_time": "2023-03-22T23:15:13.191Z"
   },
   {
    "duration": 9,
    "start_time": "2023-03-22T23:15:13.201Z"
   },
   {
    "duration": 241,
    "start_time": "2023-03-22T23:15:13.212Z"
   },
   {
    "duration": 222,
    "start_time": "2023-03-22T23:15:13.454Z"
   },
   {
    "duration": 192,
    "start_time": "2023-03-22T23:15:13.678Z"
   },
   {
    "duration": 193,
    "start_time": "2023-03-22T23:15:13.872Z"
   },
   {
    "duration": 185,
    "start_time": "2023-03-22T23:15:14.068Z"
   },
   {
    "duration": 193,
    "start_time": "2023-03-22T23:15:14.255Z"
   },
   {
    "duration": 203,
    "start_time": "2023-03-22T23:15:14.452Z"
   },
   {
    "duration": 9,
    "start_time": "2023-03-22T23:15:14.661Z"
   },
   {
    "duration": 154,
    "start_time": "2023-03-22T23:16:57.591Z"
   },
   {
    "duration": 82,
    "start_time": "2023-03-22T23:16:57.749Z"
   },
   {
    "duration": 1819,
    "start_time": "2023-03-22T23:16:57.841Z"
   },
   {
    "duration": 9,
    "start_time": "2023-03-22T23:16:59.661Z"
   },
   {
    "duration": 2479,
    "start_time": "2023-03-22T23:16:59.671Z"
   },
   {
    "duration": 10,
    "start_time": "2023-03-22T23:17:02.151Z"
   },
   {
    "duration": 28,
    "start_time": "2023-03-22T23:17:02.162Z"
   },
   {
    "duration": 6,
    "start_time": "2023-03-22T23:17:02.192Z"
   },
   {
    "duration": 264,
    "start_time": "2023-03-22T23:17:02.199Z"
   },
   {
    "duration": 10,
    "start_time": "2023-03-22T23:17:02.465Z"
   },
   {
    "duration": 177,
    "start_time": "2023-03-22T23:17:02.477Z"
   },
   {
    "duration": 28,
    "start_time": "2023-03-22T23:17:02.655Z"
   },
   {
    "duration": 15,
    "start_time": "2023-03-22T23:17:02.684Z"
   },
   {
    "duration": 17,
    "start_time": "2023-03-22T23:17:02.700Z"
   },
   {
    "duration": 24,
    "start_time": "2023-03-22T23:17:40.162Z"
   },
   {
    "duration": 1281,
    "start_time": "2023-03-22T23:17:41.692Z"
   },
   {
    "duration": 28,
    "start_time": "2023-03-22T23:18:44.561Z"
   },
   {
    "duration": 30,
    "start_time": "2023-03-22T23:20:02.176Z"
   },
   {
    "duration": 19,
    "start_time": "2023-03-22T23:20:19.477Z"
   },
   {
    "duration": 135,
    "start_time": "2023-03-22T23:21:05.114Z"
   },
   {
    "duration": 17,
    "start_time": "2023-03-22T23:21:13.476Z"
   },
   {
    "duration": 210,
    "start_time": "2023-03-22T23:21:13.853Z"
   },
   {
    "duration": 246,
    "start_time": "2023-03-22T23:21:16.113Z"
   },
   {
    "duration": 18,
    "start_time": "2023-03-22T23:21:16.361Z"
   },
   {
    "duration": 10,
    "start_time": "2023-03-22T23:21:16.740Z"
   },
   {
    "duration": 7,
    "start_time": "2023-03-22T23:21:16.959Z"
   },
   {
    "duration": 15,
    "start_time": "2023-03-22T23:21:17.363Z"
   },
   {
    "duration": 42,
    "start_time": "2023-03-22T23:21:19.217Z"
   },
   {
    "duration": 7,
    "start_time": "2023-03-22T23:21:19.449Z"
   },
   {
    "duration": 10,
    "start_time": "2023-03-22T23:21:19.842Z"
   },
   {
    "duration": 33,
    "start_time": "2023-03-22T23:21:20.218Z"
   },
   {
    "duration": 25,
    "start_time": "2023-03-22T23:21:20.619Z"
   },
   {
    "duration": 455,
    "start_time": "2023-03-22T23:21:20.972Z"
   },
   {
    "duration": 16,
    "start_time": "2023-03-22T23:21:23.137Z"
   },
   {
    "duration": 15,
    "start_time": "2023-03-22T23:21:24.054Z"
   },
   {
    "duration": 1941,
    "start_time": "2023-03-22T23:21:24.251Z"
   },
   {
    "duration": 637,
    "start_time": "2023-03-22T23:21:26.194Z"
   },
   {
    "duration": 15,
    "start_time": "2023-03-22T23:21:26.832Z"
   },
   {
    "duration": 31,
    "start_time": "2023-03-22T23:21:26.849Z"
   },
   {
    "duration": 184,
    "start_time": "2023-03-22T23:21:26.881Z"
   },
   {
    "duration": 185,
    "start_time": "2023-03-22T23:21:27.066Z"
   },
   {
    "duration": 199,
    "start_time": "2023-03-22T23:21:27.253Z"
   },
   {
    "duration": 162,
    "start_time": "2023-03-22T23:21:27.455Z"
   },
   {
    "duration": 151,
    "start_time": "2023-03-22T23:21:27.618Z"
   },
   {
    "duration": 163,
    "start_time": "2023-03-22T23:21:29.510Z"
   },
   {
    "duration": 195,
    "start_time": "2023-03-22T23:21:31.861Z"
   },
   {
    "duration": 25,
    "start_time": "2023-03-22T23:32:10.878Z"
   },
   {
    "duration": 37,
    "start_time": "2023-03-22T23:32:19.554Z"
   },
   {
    "duration": 105,
    "start_time": "2023-03-22T23:38:26.392Z"
   },
   {
    "duration": 43,
    "start_time": "2023-03-22T23:41:06.211Z"
   },
   {
    "duration": 99,
    "start_time": "2023-03-22T23:46:16.080Z"
   },
   {
    "duration": 28,
    "start_time": "2023-03-22T23:46:31.311Z"
   },
   {
    "duration": 23,
    "start_time": "2023-03-22T23:46:40.667Z"
   },
   {
    "duration": 38,
    "start_time": "2023-03-22T23:51:45.548Z"
   },
   {
    "duration": 62,
    "start_time": "2023-03-22T23:53:25.984Z"
   },
   {
    "duration": 41,
    "start_time": "2023-03-22T23:53:59.016Z"
   },
   {
    "duration": 43,
    "start_time": "2023-03-22T23:55:09.697Z"
   },
   {
    "duration": 31,
    "start_time": "2023-03-22T23:55:46.442Z"
   },
   {
    "duration": 39,
    "start_time": "2023-03-22T23:56:04.372Z"
   },
   {
    "duration": 26,
    "start_time": "2023-03-22T23:56:16.876Z"
   },
   {
    "duration": 41,
    "start_time": "2023-03-22T23:56:30.738Z"
   },
   {
    "duration": 28,
    "start_time": "2023-03-22T23:58:10.692Z"
   },
   {
    "duration": 1568,
    "start_time": "2023-03-23T06:33:01.232Z"
   },
   {
    "duration": 92,
    "start_time": "2023-03-23T06:33:02.802Z"
   },
   {
    "duration": 1919,
    "start_time": "2023-03-23T06:33:02.895Z"
   },
   {
    "duration": 9,
    "start_time": "2023-03-23T06:33:04.816Z"
   },
   {
    "duration": 2751,
    "start_time": "2023-03-23T06:33:04.827Z"
   },
   {
    "duration": 10,
    "start_time": "2023-03-23T06:33:07.580Z"
   },
   {
    "duration": 18,
    "start_time": "2023-03-23T06:33:07.591Z"
   },
   {
    "duration": 6,
    "start_time": "2023-03-23T06:33:07.611Z"
   },
   {
    "duration": 272,
    "start_time": "2023-03-23T06:33:07.618Z"
   },
   {
    "duration": 12,
    "start_time": "2023-03-23T06:33:07.893Z"
   },
   {
    "duration": 173,
    "start_time": "2023-03-23T06:33:07.906Z"
   },
   {
    "duration": 29,
    "start_time": "2023-03-23T06:33:08.081Z"
   },
   {
    "duration": 16,
    "start_time": "2023-03-23T06:33:08.111Z"
   },
   {
    "duration": 40,
    "start_time": "2023-03-23T06:33:08.128Z"
   },
   {
    "duration": 1257,
    "start_time": "2023-03-23T06:33:08.170Z"
   },
   {
    "duration": 40,
    "start_time": "2023-03-23T06:33:09.429Z"
   },
   {
    "duration": 19,
    "start_time": "2023-03-23T06:33:09.471Z"
   },
   {
    "duration": 17,
    "start_time": "2023-03-23T06:33:09.491Z"
   },
   {
    "duration": 207,
    "start_time": "2023-03-23T06:33:09.510Z"
   },
   {
    "duration": 190,
    "start_time": "2023-03-23T06:33:09.718Z"
   },
   {
    "duration": 13,
    "start_time": "2023-03-23T06:33:09.910Z"
   },
   {
    "duration": 5,
    "start_time": "2023-03-23T06:33:09.925Z"
   },
   {
    "duration": 8,
    "start_time": "2023-03-23T06:33:09.931Z"
   },
   {
    "duration": 35,
    "start_time": "2023-03-23T06:33:09.940Z"
   },
   {
    "duration": 27,
    "start_time": "2023-03-23T06:33:09.977Z"
   },
   {
    "duration": 7,
    "start_time": "2023-03-23T06:33:10.005Z"
   },
   {
    "duration": 24,
    "start_time": "2023-03-23T06:33:10.013Z"
   },
   {
    "duration": 23,
    "start_time": "2023-03-23T06:33:10.041Z"
   },
   {
    "duration": 7,
    "start_time": "2023-03-23T06:33:10.066Z"
   },
   {
    "duration": 255,
    "start_time": "2023-03-23T06:33:10.075Z"
   },
   {
    "duration": 6,
    "start_time": "2023-03-23T06:33:10.332Z"
   },
   {
    "duration": 29,
    "start_time": "2023-03-23T06:33:10.340Z"
   },
   {
    "duration": 2336,
    "start_time": "2023-03-23T06:33:10.371Z"
   },
   {
    "duration": 478,
    "start_time": "2023-03-23T06:33:12.709Z"
   },
   {
    "duration": 8,
    "start_time": "2023-03-23T06:33:13.189Z"
   },
   {
    "duration": 13,
    "start_time": "2023-03-23T06:33:13.199Z"
   },
   {
    "duration": 197,
    "start_time": "2023-03-23T06:33:13.213Z"
   },
   {
    "duration": 196,
    "start_time": "2023-03-23T06:33:13.412Z"
   },
   {
    "duration": 199,
    "start_time": "2023-03-23T06:33:13.610Z"
   },
   {
    "duration": 194,
    "start_time": "2023-03-23T06:33:13.810Z"
   },
   {
    "duration": 204,
    "start_time": "2023-03-23T06:33:14.006Z"
   },
   {
    "duration": 173,
    "start_time": "2023-03-23T06:33:14.212Z"
   },
   {
    "duration": 306,
    "start_time": "2023-03-23T06:33:14.387Z"
   },
   {
    "duration": 33,
    "start_time": "2023-03-23T06:33:14.695Z"
   },
   {
    "duration": 3,
    "start_time": "2023-03-23T06:33:14.729Z"
   },
   {
    "duration": 102,
    "start_time": "2023-03-23T06:51:20.385Z"
   },
   {
    "duration": 9,
    "start_time": "2023-03-23T06:51:35.172Z"
   },
   {
    "duration": 10,
    "start_time": "2023-03-23T06:54:08.257Z"
   },
   {
    "duration": 11,
    "start_time": "2023-03-23T06:54:19.995Z"
   },
   {
    "duration": 10,
    "start_time": "2023-03-23T06:54:53.465Z"
   },
   {
    "duration": 10,
    "start_time": "2023-03-23T06:55:40.159Z"
   },
   {
    "duration": 134,
    "start_time": "2023-03-23T06:56:22.611Z"
   },
   {
    "duration": 86,
    "start_time": "2023-03-23T06:56:22.747Z"
   },
   {
    "duration": 2067,
    "start_time": "2023-03-23T06:56:22.834Z"
   },
   {
    "duration": 10,
    "start_time": "2023-03-23T06:56:24.903Z"
   },
   {
    "duration": 3085,
    "start_time": "2023-03-23T06:56:24.914Z"
   },
   {
    "duration": 9,
    "start_time": "2023-03-23T06:56:28.001Z"
   },
   {
    "duration": 19,
    "start_time": "2023-03-23T06:56:28.011Z"
   },
   {
    "duration": 5,
    "start_time": "2023-03-23T06:56:28.033Z"
   },
   {
    "duration": 294,
    "start_time": "2023-03-23T06:56:28.039Z"
   },
   {
    "duration": 13,
    "start_time": "2023-03-23T06:56:28.335Z"
   },
   {
    "duration": 173,
    "start_time": "2023-03-23T06:56:28.361Z"
   },
   {
    "duration": 44,
    "start_time": "2023-03-23T06:56:28.535Z"
   },
   {
    "duration": 17,
    "start_time": "2023-03-23T06:56:28.581Z"
   },
   {
    "duration": 19,
    "start_time": "2023-03-23T06:56:28.600Z"
   },
   {
    "duration": 1387,
    "start_time": "2023-03-23T06:56:28.621Z"
   },
   {
    "duration": 32,
    "start_time": "2023-03-23T06:56:30.010Z"
   },
   {
    "duration": 32,
    "start_time": "2023-03-23T06:56:30.044Z"
   },
   {
    "duration": 32,
    "start_time": "2023-03-23T06:56:30.078Z"
   },
   {
    "duration": 208,
    "start_time": "2023-03-23T06:56:30.112Z"
   },
   {
    "duration": 211,
    "start_time": "2023-03-23T06:56:30.325Z"
   },
   {
    "duration": 25,
    "start_time": "2023-03-23T06:56:30.538Z"
   },
   {
    "duration": 25,
    "start_time": "2023-03-23T06:56:30.564Z"
   },
   {
    "duration": 31,
    "start_time": "2023-03-23T06:56:30.591Z"
   },
   {
    "duration": 59,
    "start_time": "2023-03-23T06:56:30.624Z"
   },
   {
    "duration": 49,
    "start_time": "2023-03-23T06:56:30.685Z"
   },
   {
    "duration": 24,
    "start_time": "2023-03-23T06:56:30.736Z"
   },
   {
    "duration": 37,
    "start_time": "2023-03-23T06:56:30.762Z"
   },
   {
    "duration": 25,
    "start_time": "2023-03-23T06:56:30.801Z"
   },
   {
    "duration": 40,
    "start_time": "2023-03-23T06:56:30.828Z"
   },
   {
    "duration": 285,
    "start_time": "2023-03-23T06:56:30.870Z"
   },
   {
    "duration": 9,
    "start_time": "2023-03-23T06:56:31.157Z"
   },
   {
    "duration": 36,
    "start_time": "2023-03-23T06:56:31.168Z"
   },
   {
    "duration": 2372,
    "start_time": "2023-03-23T06:56:31.206Z"
   },
   {
    "duration": 544,
    "start_time": "2023-03-23T06:56:33.580Z"
   },
   {
    "duration": 12,
    "start_time": "2023-03-23T06:56:34.126Z"
   },
   {
    "duration": 26,
    "start_time": "2023-03-23T06:56:34.140Z"
   },
   {
    "duration": 208,
    "start_time": "2023-03-23T06:56:34.168Z"
   },
   {
    "duration": 211,
    "start_time": "2023-03-23T06:56:34.379Z"
   },
   {
    "duration": 208,
    "start_time": "2023-03-23T06:56:34.591Z"
   },
   {
    "duration": 195,
    "start_time": "2023-03-23T06:56:34.801Z"
   },
   {
    "duration": 164,
    "start_time": "2023-03-23T06:56:37.847Z"
   },
   {
    "duration": 350,
    "start_time": "2023-03-23T06:56:42.872Z"
   },
   {
    "duration": 210,
    "start_time": "2023-03-23T06:56:43.331Z"
   },
   {
    "duration": 35,
    "start_time": "2023-03-23T06:56:48.021Z"
   },
   {
    "duration": 27,
    "start_time": "2023-03-23T06:57:04.927Z"
   },
   {
    "duration": 18,
    "start_time": "2023-03-23T06:59:35.695Z"
   },
   {
    "duration": 122,
    "start_time": "2023-03-23T07:00:15.016Z"
   },
   {
    "duration": 85,
    "start_time": "2023-03-23T07:00:17.580Z"
   },
   {
    "duration": 1892,
    "start_time": "2023-03-23T07:00:17.811Z"
   },
   {
    "duration": 10,
    "start_time": "2023-03-23T07:00:19.705Z"
   },
   {
    "duration": 3011,
    "start_time": "2023-03-23T07:00:19.717Z"
   },
   {
    "duration": 10,
    "start_time": "2023-03-23T07:00:22.730Z"
   },
   {
    "duration": 37,
    "start_time": "2023-03-23T07:00:22.741Z"
   },
   {
    "duration": 14,
    "start_time": "2023-03-23T07:00:22.780Z"
   },
   {
    "duration": 278,
    "start_time": "2023-03-23T07:00:22.796Z"
   },
   {
    "duration": 13,
    "start_time": "2023-03-23T07:00:23.075Z"
   },
   {
    "duration": 186,
    "start_time": "2023-03-23T07:00:23.090Z"
   },
   {
    "duration": 36,
    "start_time": "2023-03-23T07:00:23.280Z"
   },
   {
    "duration": 45,
    "start_time": "2023-03-23T07:00:23.318Z"
   },
   {
    "duration": 20,
    "start_time": "2023-03-23T07:00:23.365Z"
   },
   {
    "duration": 1454,
    "start_time": "2023-03-23T07:00:23.387Z"
   },
   {
    "duration": 37,
    "start_time": "2023-03-23T07:00:24.843Z"
   },
   {
    "duration": 21,
    "start_time": "2023-03-23T07:00:24.881Z"
   },
   {
    "duration": 21,
    "start_time": "2023-03-23T07:00:24.904Z"
   },
   {
    "duration": 255,
    "start_time": "2023-03-23T07:00:24.926Z"
   },
   {
    "duration": 219,
    "start_time": "2023-03-23T07:00:25.183Z"
   },
   {
    "duration": 16,
    "start_time": "2023-03-23T07:00:25.404Z"
   },
   {
    "duration": 6,
    "start_time": "2023-03-23T07:00:25.422Z"
   },
   {
    "duration": 35,
    "start_time": "2023-03-23T07:00:25.430Z"
   },
   {
    "duration": 31,
    "start_time": "2023-03-23T07:00:25.467Z"
   },
   {
    "duration": 79,
    "start_time": "2023-03-23T07:00:25.500Z"
   },
   {
    "duration": 8,
    "start_time": "2023-03-23T07:00:25.581Z"
   },
   {
    "duration": 12,
    "start_time": "2023-03-23T07:00:25.591Z"
   },
   {
    "duration": 62,
    "start_time": "2023-03-23T07:00:25.605Z"
   },
   {
    "duration": 8,
    "start_time": "2023-03-23T07:00:25.669Z"
   },
   {
    "duration": 392,
    "start_time": "2023-03-23T07:00:25.680Z"
   },
   {
    "duration": 8,
    "start_time": "2023-03-23T07:00:26.074Z"
   },
   {
    "duration": 24,
    "start_time": "2023-03-23T07:00:26.084Z"
   },
   {
    "duration": 2488,
    "start_time": "2023-03-23T07:00:26.110Z"
   },
   {
    "duration": 523,
    "start_time": "2023-03-23T07:00:28.600Z"
   },
   {
    "duration": 9,
    "start_time": "2023-03-23T07:00:29.125Z"
   },
   {
    "duration": 8,
    "start_time": "2023-03-23T07:00:29.136Z"
   },
   {
    "duration": 209,
    "start_time": "2023-03-23T07:00:29.161Z"
   },
   {
    "duration": 213,
    "start_time": "2023-03-23T07:00:29.372Z"
   },
   {
    "duration": 206,
    "start_time": "2023-03-23T07:00:29.586Z"
   },
   {
    "duration": 194,
    "start_time": "2023-03-23T07:00:29.794Z"
   },
   {
    "duration": 193,
    "start_time": "2023-03-23T07:00:29.991Z"
   },
   {
    "duration": 191,
    "start_time": "2023-03-23T07:00:30.186Z"
   },
   {
    "duration": 214,
    "start_time": "2023-03-23T07:00:30.379Z"
   },
   {
    "duration": 36,
    "start_time": "2023-03-23T07:00:30.595Z"
   },
   {
    "duration": 37,
    "start_time": "2023-03-23T07:00:30.633Z"
   },
   {
    "duration": 26,
    "start_time": "2023-03-23T07:02:38.017Z"
   },
   {
    "duration": 30,
    "start_time": "2023-03-23T07:03:14.211Z"
   },
   {
    "duration": 24,
    "start_time": "2023-03-23T07:05:50.825Z"
   },
   {
    "duration": 183,
    "start_time": "2023-03-23T07:06:39.395Z"
   },
   {
    "duration": 958,
    "start_time": "2023-03-23T07:20:00.851Z"
   },
   {
    "duration": 121,
    "start_time": "2023-03-23T07:21:26.229Z"
   },
   {
    "duration": 222,
    "start_time": "2023-03-23T07:21:39.844Z"
   },
   {
    "duration": 227,
    "start_time": "2023-03-23T07:22:05.331Z"
   },
   {
    "duration": 219,
    "start_time": "2023-03-23T07:22:27.470Z"
   },
   {
    "duration": 238,
    "start_time": "2023-03-23T07:28:38.849Z"
   },
   {
    "duration": 29,
    "start_time": "2023-03-23T07:40:37.738Z"
   },
   {
    "duration": 19,
    "start_time": "2023-03-23T07:41:04.931Z"
   },
   {
    "duration": 266,
    "start_time": "2023-03-23T07:41:26.537Z"
   },
   {
    "duration": 445,
    "start_time": "2023-03-23T07:41:40.548Z"
   },
   {
    "duration": 56,
    "start_time": "2023-03-23T20:32:21.697Z"
   },
   {
    "duration": 1710,
    "start_time": "2023-03-23T20:32:31.888Z"
   },
   {
    "duration": 91,
    "start_time": "2023-03-23T20:32:37.730Z"
   },
   {
    "duration": 2123,
    "start_time": "2023-03-23T20:32:38.546Z"
   },
   {
    "duration": 10,
    "start_time": "2023-03-23T20:32:49.496Z"
   },
   {
    "duration": 3004,
    "start_time": "2023-03-23T20:32:50.500Z"
   },
   {
    "duration": 12,
    "start_time": "2023-03-23T20:33:46.698Z"
   },
   {
    "duration": 18,
    "start_time": "2023-03-23T20:33:46.919Z"
   },
   {
    "duration": 7,
    "start_time": "2023-03-23T20:33:47.306Z"
   },
   {
    "duration": 279,
    "start_time": "2023-03-23T20:34:26.165Z"
   },
   {
    "duration": 14,
    "start_time": "2023-03-23T20:34:37.452Z"
   },
   {
    "duration": 166,
    "start_time": "2023-03-23T20:34:38.563Z"
   },
   {
    "duration": 33,
    "start_time": "2023-03-23T20:34:39.220Z"
   },
   {
    "duration": 18,
    "start_time": "2023-03-23T20:34:48.162Z"
   },
   {
    "duration": 19,
    "start_time": "2023-03-23T20:34:48.456Z"
   },
   {
    "duration": 1272,
    "start_time": "2023-03-23T20:34:49.626Z"
   },
   {
    "duration": 35,
    "start_time": "2023-03-23T20:34:53.195Z"
   },
   {
    "duration": 20,
    "start_time": "2023-03-23T20:34:54.601Z"
   },
   {
    "duration": 302,
    "start_time": "2023-03-23T20:35:47.100Z"
   },
   {
    "duration": 204,
    "start_time": "2023-03-23T20:35:56.136Z"
   },
   {
    "duration": 15,
    "start_time": "2023-03-23T20:35:56.429Z"
   },
   {
    "duration": 6,
    "start_time": "2023-03-23T20:36:14.966Z"
   },
   {
    "duration": 8,
    "start_time": "2023-03-23T20:36:15.336Z"
   },
   {
    "duration": 18,
    "start_time": "2023-03-23T20:36:16.565Z"
   },
   {
    "duration": 28,
    "start_time": "2023-03-23T20:36:20.796Z"
   },
   {
    "duration": 8,
    "start_time": "2023-03-23T20:36:21.117Z"
   },
   {
    "duration": 8,
    "start_time": "2023-03-23T20:36:22.111Z"
   },
   {
    "duration": 8,
    "start_time": "2023-03-23T20:36:23.018Z"
   },
   {
    "duration": 8,
    "start_time": "2023-03-23T20:36:23.636Z"
   },
   {
    "duration": 269,
    "start_time": "2023-03-23T20:36:24.412Z"
   },
   {
    "duration": 8,
    "start_time": "2023-03-23T20:36:25.955Z"
   },
   {
    "duration": 16,
    "start_time": "2023-03-23T20:36:28.018Z"
   },
   {
    "duration": 2648,
    "start_time": "2023-03-23T20:36:28.646Z"
   },
   {
    "duration": 548,
    "start_time": "2023-03-23T20:36:45.806Z"
   },
   {
    "duration": 25,
    "start_time": "2023-03-23T20:44:22.205Z"
   },
   {
    "duration": 22,
    "start_time": "2023-03-23T20:45:13.577Z"
   },
   {
    "duration": 9,
    "start_time": "2023-03-23T20:49:59.635Z"
   },
   {
    "duration": 9,
    "start_time": "2023-03-23T20:50:00.038Z"
   },
   {
    "duration": 243,
    "start_time": "2023-03-23T20:50:00.442Z"
   },
   {
    "duration": 203,
    "start_time": "2023-03-23T20:50:01.014Z"
   },
   {
    "duration": 216,
    "start_time": "2023-03-23T20:50:01.296Z"
   },
   {
    "duration": 191,
    "start_time": "2023-03-23T20:50:01.747Z"
   },
   {
    "duration": 191,
    "start_time": "2023-03-23T20:50:02.629Z"
   },
   {
    "duration": 177,
    "start_time": "2023-03-23T20:50:03.545Z"
   },
   {
    "duration": 299,
    "start_time": "2023-03-23T20:50:04.064Z"
   },
   {
    "duration": 35,
    "start_time": "2023-03-23T20:50:05.088Z"
   },
   {
    "duration": 233,
    "start_time": "2023-03-23T20:50:06.592Z"
   }
  ],
  "kernelspec": {
   "display_name": "Python 3",
   "language": "python",
   "name": "python3"
  },
  "language_info": {
   "codemirror_mode": {
    "name": "ipython",
    "version": 3
   },
   "file_extension": ".py",
   "mimetype": "text/x-python",
   "name": "python",
   "nbconvert_exporter": "python",
   "pygments_lexer": "ipython3",
   "version": "3.8.3"
  },
  "toc": {
   "base_numbering": 1,
   "nav_menu": {
    "height": "235px",
    "width": "493px"
   },
   "number_sections": true,
   "sideBar": true,
   "skip_h1_title": true,
   "title_cell": "Table of Contents",
   "title_sidebar": "Contents",
   "toc_cell": false,
   "toc_position": {},
   "toc_section_display": true,
   "toc_window_display": false
  }
 },
 "nbformat": 4,
 "nbformat_minor": 2
}
