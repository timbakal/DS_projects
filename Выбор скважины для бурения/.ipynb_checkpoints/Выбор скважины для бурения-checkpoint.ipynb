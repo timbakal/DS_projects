{
 "cells": [
  {
   "cell_type": "markdown",
   "metadata": {},
   "source": [
    "# Выбор локации для скважины"
   ]
  },
  {
   "cell_type": "markdown",
   "metadata": {},
   "source": [
    "Допустим, вы работаете в добывающей компании «ГлавРосГосНефть». Нужно решить, где бурить новую скважину.\n",
    "\n",
    "Вам предоставлены пробы нефти в трёх регионах: в каждом 10 000 месторождений, где измерили качество нефти и объём её запасов. Постройте модель машинного обучения, которая поможет определить регион, где добыча принесёт наибольшую прибыль. Проанализируйте возможную прибыль и риски техникой *Bootstrap.*\n",
    "\n",
    "Шаги для выбора локации:\n",
    "\n",
    "- В избранном регионе ищут месторождения, для каждого определяют значения признаков;\n",
    "- Строят модель и оценивают объём запасов;\n",
    "- Выбирают месторождения с самым высокими оценками значений. Количество месторождений зависит от бюджета компании и стоимости разработки одной скважины;\n",
    "- Прибыль равна суммарной прибыли отобранных месторождений."
   ]
  },
  {
   "cell_type": "markdown",
   "metadata": {},
   "source": [
    "## Загрузка и подготовка данных"
   ]
  },
  {
   "cell_type": "code",
   "execution_count": 3,
   "metadata": {},
   "outputs": [],
   "source": [
    "import pandas as pd\n",
    "from sklearn.utils import shuffle\n",
    "from sklearn.metrics import f1_score\n",
    "from sklearn.linear_model import LinearRegression\n",
    "from sklearn.tree import DecisionTreeRegressor\n",
    "from sklearn.ensemble import RandomForestRegressor\n",
    "from sklearn.ensemble import RandomForestClassifier\n",
    "from sklearn.model_selection import train_test_split\n",
    "import numpy as np\n",
    "from sklearn.metrics import mean_squared_error\n",
    "from sklearn.linear_model import LogisticRegression\n",
    "from sklearn.metrics import roc_auc_score\n",
    "import matplotlib.pyplot as plt\n",
    "from sklearn.metrics import r2_score"
   ]
  },
  {
   "cell_type": "code",
   "execution_count": 4,
   "metadata": {},
   "outputs": [
    {
     "data": {
      "text/html": [
       "<style>.container { width:100% !important; }</style>"
      ],
      "text/plain": [
       "<IPython.core.display.HTML object>"
      ]
     },
     "metadata": {},
     "output_type": "display_data"
    }
   ],
   "source": [
    "from IPython.core.display import display, HTML\n",
    "display(HTML(\"<style>.container { width:100% !important; }</style>\"))"
   ]
  },
  {
   "cell_type": "markdown",
   "metadata": {},
   "source": [
    "импортируем все необходимые библиотеки"
   ]
  },
  {
   "cell_type": "code",
   "execution_count": 5,
   "metadata": {},
   "outputs": [],
   "source": [
    "df0 = pd.read_csv('/datasets/geo_data_0.csv')\n",
    "df1 = pd.read_csv('/datasets/geo_data_1.csv')\n",
    "df2 = pd.read_csv('/datasets/geo_data_2.csv')"
   ]
  },
  {
   "cell_type": "markdown",
   "metadata": {},
   "source": [
    "Загружаем датасеты"
   ]
  },
  {
   "cell_type": "code",
   "execution_count": 6,
   "metadata": {},
   "outputs": [],
   "source": [
    "data = [df0, df1, df2]"
   ]
  },
  {
   "cell_type": "markdown",
   "metadata": {},
   "source": [
    "Сделаем лист чтобы было удобнее работать сразу со всеми датасетами, так как они все имеют одинаковую структуру."
   ]
  },
  {
   "cell_type": "code",
   "execution_count": 7,
   "metadata": {},
   "outputs": [
    {
     "name": "stdout",
     "output_type": "stream",
     "text": [
      "\n",
      " Head \n",
      "      id        f0        f1        f2     product\n",
      "0  txEyH  0.705745 -0.497823  1.221170  105.280062\n",
      "1  2acmU  1.334711 -0.340164  4.365080   73.037750\n",
      "2  409Wp  1.022732  0.151990  1.419926   85.265647\n",
      "3  iJLyR -0.032172  0.139033  2.978566  168.620776\n",
      "4  Xdl7t  1.988431  0.155413  4.751769  154.036647\n",
      "\n",
      " Describe \n",
      "                  f0             f1             f2        product\n",
      "count  100000.000000  100000.000000  100000.000000  100000.000000\n",
      "mean        0.500419       0.250143       2.502647      92.500000\n",
      "std         0.871832       0.504433       3.248248      44.288691\n",
      "min        -1.408605      -0.848218     -12.088328       0.000000\n",
      "25%        -0.072580      -0.200881       0.287748      56.497507\n",
      "50%         0.502360       0.250252       2.515969      91.849972\n",
      "75%         1.073581       0.700646       4.715088     128.564089\n",
      "max         2.362331       1.343769      16.003790     185.364347\n",
      "\n",
      " Info \n",
      "<class 'pandas.core.frame.DataFrame'>\n",
      "RangeIndex: 100000 entries, 0 to 99999\n",
      "Data columns (total 5 columns):\n",
      " #   Column   Non-Null Count   Dtype  \n",
      "---  ------   --------------   -----  \n",
      " 0   id       100000 non-null  object \n",
      " 1   f0       100000 non-null  float64\n",
      " 2   f1       100000 non-null  float64\n",
      " 3   f2       100000 non-null  float64\n",
      " 4   product  100000 non-null  float64\n",
      "dtypes: float64(4), object(1)\n",
      "memory usage: 3.8+ MB\n",
      "None\n",
      "\n",
      " Head \n",
      "      id         f0         f1        f2     product\n",
      "0  kBEdx -15.001348  -8.276000 -0.005876    3.179103\n",
      "1  62mP7  14.272088  -3.475083  0.999183   26.953261\n",
      "2  vyE1P   6.263187  -5.948386  5.001160  134.766305\n",
      "3  KcrkZ -13.081196 -11.506057  4.999415  137.945408\n",
      "4  AHL4O  12.702195  -8.147433  5.004363  134.766305\n",
      "\n",
      " Describe \n",
      "                  f0             f1             f2        product\n",
      "count  100000.000000  100000.000000  100000.000000  100000.000000\n",
      "mean        1.141296      -4.796579       2.494541      68.825000\n",
      "std         8.965932       5.119872       1.703572      45.944423\n",
      "min       -31.609576     -26.358598      -0.018144       0.000000\n",
      "25%        -6.298551      -8.267985       1.000021      26.953261\n",
      "50%         1.153055      -4.813172       2.011479      57.085625\n",
      "75%         8.621015      -1.332816       3.999904     107.813044\n",
      "max        29.421755      18.734063       5.019721     137.945408\n",
      "\n",
      " Info \n",
      "<class 'pandas.core.frame.DataFrame'>\n",
      "RangeIndex: 100000 entries, 0 to 99999\n",
      "Data columns (total 5 columns):\n",
      " #   Column   Non-Null Count   Dtype  \n",
      "---  ------   --------------   -----  \n",
      " 0   id       100000 non-null  object \n",
      " 1   f0       100000 non-null  float64\n",
      " 2   f1       100000 non-null  float64\n",
      " 3   f2       100000 non-null  float64\n",
      " 4   product  100000 non-null  float64\n",
      "dtypes: float64(4), object(1)\n",
      "memory usage: 3.8+ MB\n",
      "None\n",
      "\n",
      " Head \n",
      "      id        f0        f1        f2     product\n",
      "0  fwXo0 -1.146987  0.963328 -0.828965   27.758673\n",
      "1  WJtFt  0.262778  0.269839 -2.530187   56.069697\n",
      "2  ovLUW  0.194587  0.289035 -5.586433   62.871910\n",
      "3  q6cA6  2.236060 -0.553760  0.930038  114.572842\n",
      "4  WPMUX -0.515993  1.716266  5.899011  149.600746\n",
      "\n",
      " Describe \n",
      "                  f0             f1             f2        product\n",
      "count  100000.000000  100000.000000  100000.000000  100000.000000\n",
      "mean        0.002023      -0.002081       2.495128      95.000000\n",
      "std         1.732045       1.730417       3.473445      44.749921\n",
      "min        -8.760004      -7.084020     -11.970335       0.000000\n",
      "25%        -1.162288      -1.174820       0.130359      59.450441\n",
      "50%         0.009424      -0.009482       2.484236      94.925613\n",
      "75%         1.158535       1.163678       4.858794     130.595027\n",
      "max         7.238262       7.844801      16.739402     190.029838\n",
      "\n",
      " Info \n",
      "<class 'pandas.core.frame.DataFrame'>\n",
      "RangeIndex: 100000 entries, 0 to 99999\n",
      "Data columns (total 5 columns):\n",
      " #   Column   Non-Null Count   Dtype  \n",
      "---  ------   --------------   -----  \n",
      " 0   id       100000 non-null  object \n",
      " 1   f0       100000 non-null  float64\n",
      " 2   f1       100000 non-null  float64\n",
      " 3   f2       100000 non-null  float64\n",
      " 4   product  100000 non-null  float64\n",
      "dtypes: float64(4), object(1)\n",
      "memory usage: 3.8+ MB\n",
      "None\n"
     ]
    }
   ],
   "source": [
    "for i in data:\n",
    "    print('')\n",
    "    print(' Head ')\n",
    "    print(i.head(5))\n",
    "    print('')\n",
    "    print(' Describe ')\n",
    "    print(i.describe())\n",
    "    print('')\n",
    "    print(' Info ')\n",
    "    print(i.info())"
   ]
  },
  {
   "cell_type": "markdown",
   "metadata": {},
   "source": [
    "Структура данных вполне ясна и понятна, нету каких то критических отклонений, также очевидно что столбец айди не несет в себе никакого смысла для нашей модели - просто удалим его"
   ]
  },
  {
   "cell_type": "code",
   "execution_count": 8,
   "metadata": {},
   "outputs": [],
   "source": [
    "df0 = df0.drop(['id'], axis = 1)\n",
    "df1 = df1.drop(['id'], axis = 1)\n",
    "df2 = df2.drop(['id'], axis = 1)"
   ]
  },
  {
   "cell_type": "markdown",
   "metadata": {},
   "source": [
    "Теперь можно разбить данные на выборки и перейти к обучению модели\n"
   ]
  },
  {
   "cell_type": "code",
   "execution_count": 12,
   "metadata": {},
   "outputs": [],
   "source": [
    "target0 = df0['product']\n",
    "features0 = df0.drop(['product'] , axis=1)\n",
    "target1 = df1['product']\n",
    "features1 = df1.drop(['product'] , axis=1)\n",
    "target2 = df2['product']\n",
    "features2 = df2.drop(['product'] , axis=1)"
   ]
  },
  {
   "cell_type": "code",
   "execution_count": 13,
   "metadata": {},
   "outputs": [],
   "source": [
    "features_train0, features_valid0, target_train0, target_valid0 = train_test_split(features0, target0, \n",
    "                                                                               test_size=0.25)\n",
    "features_train1, features_valid1, target_train1, target_valid1 = train_test_split(features1, target1, \n",
    "                                                                               test_size=0.25)\n",
    "features_train2, features_valid2, target_train2, target_valid2 = train_test_split(features2, target2, \n",
    "                                                                               test_size=0.25)"
   ]
  },
  {
   "cell_type": "markdown",
   "metadata": {},
   "source": [
    "Каждый пакет данных успешно разделился на две выборки, теперь попробуем обучить их"
   ]
  },
  {
   "cell_type": "markdown",
   "metadata": {},
   "source": [
    "## Обучение и проверка модели"
   ]
  },
  {
   "cell_type": "code",
   "execution_count": 14,
   "metadata": {},
   "outputs": [],
   "source": [
    "model = LinearRegression()\n",
    "model.fit(features_train0, target_train0)\n",
    "predict_valid0 = model.predict(features_valid0)\n",
    "model.fit(features_train1, target_train1)\n",
    "predict_valid1 = model.predict(features_valid1)\n",
    "model.fit(features_train2, target_train2)\n",
    "predict_valid2 = model.predict(features_valid2)"
   ]
  },
  {
   "cell_type": "markdown",
   "metadata": {},
   "source": [
    "Проверим качество каждой модели"
   ]
  },
  {
   "cell_type": "code",
   "execution_count": 15,
   "metadata": {},
   "outputs": [
    {
     "name": "stdout",
     "output_type": "stream",
     "text": [
      "RMSE =  37.931865516267315\n",
      "RMSE =  0.8905874094568921\n",
      "RMSE =  40.09246227186037\n",
      "R2 =  0.27191476678937987\n",
      "R2 =  0.9996248091570211\n",
      "R2 =  0.20052613135163633\n"
     ]
    }
   ],
   "source": [
    "mse0 = mean_squared_error(target_valid0, predict_valid0)\n",
    "mse1 = mean_squared_error(target_valid1, predict_valid1)\n",
    "mse2 = mean_squared_error(target_valid2, predict_valid2)\n",
    "R2_0 = r2_score(target_valid0, predict_valid0)\n",
    "R2_1 = r2_score(target_valid1, predict_valid1)\n",
    "R2_2 = r2_score(target_valid2, predict_valid2)\n",
    "for i in [mse0, mse1, mse2]:\n",
    "    print('RMSE = ', i**0.5)\n",
    "for i in [R2_0, R2_1, R2_2]:\n",
    "    print('R2 = ', i)"
   ]
  },
  {
   "cell_type": "markdown",
   "metadata": {},
   "source": [
    "Вообще учитывая среднее значения каждой выборки (92, 68, 95), мы получили достаточно странные результаты. В первом и третьем регионе средняя квадратичная ошибка достаточно большая и равна примерно 38, в то время как в случае второго региона модель обучилась почти идеально, ошибка близка к единице."
   ]
  },
  {
   "cell_type": "markdown",
   "metadata": {},
   "source": [
    "R2 вообще ужасно низкий, в первом и третьем регионе объяснено 27 и 20% соответственно, нужно как то улучшать модель, а как ее улучшить - непонятно. В то же время точность обучения модели во втором регионе поражает, объяснено целых 99,9% регрессии! Феноменальный результат! Я бы использовал другие алгоритмы, либо добавил сюда еще какие то объясняющие переменные"
   ]
  },
  {
   "cell_type": "markdown",
   "metadata": {},
   "source": [
    "## Подготовка к расчёту прибыли"
   ]
  },
  {
   "cell_type": "code",
   "execution_count": 16,
   "metadata": {},
   "outputs": [
    {
     "name": "stdout",
     "output_type": "stream",
     "text": [
      "budget_per_hole = 50000000.0\n",
      "break_even_point = 111.11111111111111\n"
     ]
    }
   ],
   "source": [
    "price = 450000\n",
    "lim_proba = 0.025\n",
    "budget = 10000000000\n",
    "holes = 200\n",
    "budget_per_hole = budget/holes\n",
    "print('budget_per_hole =', budget_per_hole)\n",
    "break_even_point = budget_per_hole/price\n",
    "print('break_even_point =', break_even_point)\n"
   ]
  },
  {
   "cell_type": "markdown",
   "metadata": {},
   "source": [
    "Мы получили 2 необходимых нам числа - бюджет на одну скважину, а также то, сколько нам необходимо продукта, чтобы эта скважина окупилась, теперь сравним этот брейк-ивен поинт со средними запасами в регионе"
   ]
  },
  {
   "cell_type": "code",
   "execution_count": 17,
   "metadata": {},
   "outputs": [
    {
     "name": "stdout",
     "output_type": "stream",
     "text": [
      "Среднее количество баррелей нефти (в тысячах) в регионе: 92.49999999999974 Необходимо иметь для безубыточности: 111\n",
      "Среднее количество баррелей нефти (в тысячах) в регионе: 68.82500000002561 Необходимо иметь для безубыточности: 111\n",
      "Среднее количество баррелей нефти (в тысячах) в регионе: 95.00000000000041 Необходимо иметь для безубыточности: 111\n"
     ]
    }
   ],
   "source": [
    "for i in data:\n",
    "    print('Среднее количество баррелей нефти (в тысячах) в регионе:', sum(i['product'])/100000, 'Необходимо иметь для безубыточности:', round(break_even_point)) "
   ]
  },
  {
   "cell_type": "markdown",
   "metadata": {},
   "source": [
    "Вполне ожидаемо: в среднем в регионе в одной точке меньше продукта, чем нам необходимо для того, чтобы скважина приносила прибыль. Модель должна нам в этом помочь. Теперь я возьму 500 наших предсказанных значений и срвню их с реальными"
   ]
  },
  {
   "cell_type": "markdown",
   "metadata": {},
   "source": [
    "## Расчёт прибыли и рисков "
   ]
  },
  {
   "cell_type": "code",
   "execution_count": 20,
   "metadata": {},
   "outputs": [],
   "source": [
    "state = np.random.RandomState(12345)"
   ]
  },
  {
   "cell_type": "code",
   "execution_count": 22,
   "metadata": {},
   "outputs": [],
   "source": [
    "def revenue(predicted, real_values, count):\n",
    "    predicted_sorted = predicted.sort_values(ascending = False).index\n",
    "    best = real_values[predicted_sorted][:count]\n",
    "    return sum(best) * price - budget"
   ]
  },
  {
   "cell_type": "code",
   "execution_count": 23,
   "metadata": {},
   "outputs": [],
   "source": [
    "values = []\n",
    "for i in range(1000):\n",
    "    predict_valid0 = pd.Series(predict_valid0, index=target_valid0.index)\n",
    "    subsample = predict_valid0.sample(random_state = state, replace = True, n = 500)\n",
    "    values.append(revenue(subsample, target_valid0, 200))"
   ]
  },
  {
   "cell_type": "code",
   "execution_count": 24,
   "metadata": {},
   "outputs": [],
   "source": [
    "def lower_mean_perc(values):\n",
    "    values = pd.Series(values)\n",
    "    return print('сonfidence interval', round(values.quantile(q = 0.025)),round(values.quantile(q = 0.975)),'mean =', round(values.mean()),'percentage =', sum(values < 0)/values.shape[0])"
   ]
  },
  {
   "cell_type": "code",
   "execution_count": 25,
   "metadata": {},
   "outputs": [
    {
     "name": "stdout",
     "output_type": "stream",
     "text": [
      "сonfidence interval -136479276 887532243 mean = 390899297 percentage = 0.08\n"
     ]
    }
   ],
   "source": [
    "lower_mean_perc(values)"
   ]
  },
  {
   "cell_type": "markdown",
   "metadata": {},
   "source": [
    "В первом регионе получилось очень маленький процент отрицательный значений, но нижнее значение доверительного интервала все же отрицательное, среднее значение приыли тоже очень высокоеи равно 390000000"
   ]
  },
  {
   "cell_type": "code",
   "execution_count": 26,
   "metadata": {},
   "outputs": [],
   "source": [
    "values = []\n",
    "for i in range(1000):\n",
    "    predict_valid1 = pd.Series(predict_valid1, index=target_valid1.index)\n",
    "    subsample = predict_valid1.sample(random_state = state, replace = True, n = 500)\n",
    "    values.append(revenue(subsample, target_valid1, 200))"
   ]
  },
  {
   "cell_type": "code",
   "execution_count": 27,
   "metadata": {},
   "outputs": [
    {
     "name": "stdout",
     "output_type": "stream",
     "text": [
      "сonfidence interval 51021873 855889269 mean = 452744658 percentage = 0.009\n"
     ]
    }
   ],
   "source": [
    "lower_mean_perc(values)"
   ]
  },
  {
   "cell_type": "markdown",
   "metadata": {},
   "source": [
    "Во втором случае получился похожий процент отрицательных значений, а средняя прибыль выше, как и лучше значения всего доверительного интервала, отрицательных вообще нету"
   ]
  },
  {
   "cell_type": "code",
   "execution_count": 28,
   "metadata": {},
   "outputs": [],
   "source": [
    "values = []\n",
    "for i in range(1000):\n",
    "    predict_valid2 = pd.Series(predict_valid2, index=target_valid2.index)\n",
    "    subsample = predict_valid2.sample(random_state = state, replace = True, n = 500)\n",
    "    values.append(revenue(subsample, target_valid2, 200))"
   ]
  },
  {
   "cell_type": "code",
   "execution_count": 29,
   "metadata": {},
   "outputs": [
    {
     "name": "stdout",
     "output_type": "stream",
     "text": [
      "сonfidence interval -157233519 877104382 mean = 379861102 percentage = 0.084\n"
     ]
    }
   ],
   "source": [
    "lower_mean_perc(values)"
   ]
  },
  {
   "cell_type": "markdown",
   "metadata": {},
   "source": [
    "Третий регион с отрицательным нижним квантилем и и положительным верхним, среднее значение примерно такое же как и у первого региона"
   ]
  },
  {
   "cell_type": "markdown",
   "metadata": {},
   "source": [
    "Второй регион показал себя с наилучшей стороны при имении очень маленького процента отрицательных значений а также без отрицательных значений в доверительном интервале, среднее значение прибыли также самое высокое, поэтому следует выбрать именно 2 регион"
   ]
  }
 ],
 "metadata": {
  "ExecuteTimeLog": [
   {
    "duration": 56,
    "start_time": "2023-05-09T10:51:04.128Z"
   },
   {
    "duration": 6,
    "start_time": "2023-05-09T10:51:10.996Z"
   },
   {
    "duration": 1530,
    "start_time": "2023-05-09T10:51:14.987Z"
   },
   {
    "duration": 1585,
    "start_time": "2023-05-09T10:51:16.519Z"
   },
   {
    "duration": 2,
    "start_time": "2023-05-09T10:51:18.106Z"
   },
   {
    "duration": 17,
    "start_time": "2023-05-09T10:51:18.110Z"
   },
   {
    "duration": 94,
    "start_time": "2023-05-09T10:52:30.744Z"
   },
   {
    "duration": 102,
    "start_time": "2023-05-09T10:53:01.696Z"
   },
   {
    "duration": 104,
    "start_time": "2023-05-09T11:48:55.612Z"
   },
   {
    "duration": 96,
    "start_time": "2023-05-09T11:50:54.147Z"
   },
   {
    "duration": 120,
    "start_time": "2023-05-09T11:51:18.599Z"
   },
   {
    "duration": 11,
    "start_time": "2023-05-09T12:04:30.066Z"
   },
   {
    "duration": 71,
    "start_time": "2023-05-09T12:05:32.312Z"
   },
   {
    "duration": 353,
    "start_time": "2023-05-09T12:10:32.141Z"
   },
   {
    "duration": 117,
    "start_time": "2023-05-09T12:12:39.504Z"
   },
   {
    "duration": 340,
    "start_time": "2023-05-09T12:15:19.504Z"
   },
   {
    "duration": 10,
    "start_time": "2023-05-09T12:18:24.583Z"
   },
   {
    "duration": 47,
    "start_time": "2023-05-09T15:55:07.642Z"
   },
   {
    "duration": 1471,
    "start_time": "2023-05-09T15:55:17.421Z"
   },
   {
    "duration": 1890,
    "start_time": "2023-05-09T15:55:18.894Z"
   },
   {
    "duration": 3,
    "start_time": "2023-05-09T15:55:20.787Z"
   },
   {
    "duration": 147,
    "start_time": "2023-05-09T15:55:20.792Z"
   },
   {
    "duration": 77,
    "start_time": "2023-05-09T15:55:22.096Z"
   },
   {
    "duration": 8,
    "start_time": "2023-05-09T15:58:03.726Z"
   },
   {
    "duration": 2,
    "start_time": "2023-05-09T16:06:23.208Z"
   },
   {
    "duration": 1581,
    "start_time": "2023-05-10T08:46:44.203Z"
   },
   {
    "duration": 894,
    "start_time": "2023-05-10T08:46:46.492Z"
   },
   {
    "duration": 3,
    "start_time": "2023-05-10T08:46:47.388Z"
   },
   {
    "duration": 155,
    "start_time": "2023-05-10T08:46:47.393Z"
   },
   {
    "duration": 3,
    "start_time": "2023-05-10T08:46:49.314Z"
   },
   {
    "duration": 14,
    "start_time": "2023-05-10T08:46:51.074Z"
   },
   {
    "duration": 56,
    "start_time": "2023-05-10T08:46:52.552Z"
   },
   {
    "duration": 9,
    "start_time": "2023-05-10T08:53:42.576Z"
   },
   {
    "duration": 2,
    "start_time": "2023-05-10T08:53:44.875Z"
   },
   {
    "duration": 14,
    "start_time": "2023-05-10T08:53:45.486Z"
   },
   {
    "duration": 50,
    "start_time": "2023-05-10T08:53:45.970Z"
   },
   {
    "duration": 115,
    "start_time": "2023-05-10T09:15:15.051Z"
   },
   {
    "duration": 5,
    "start_time": "2023-05-10T09:15:20.289Z"
   },
   {
    "duration": 35,
    "start_time": "2023-05-10T09:15:24.264Z"
   },
   {
    "duration": 17,
    "start_time": "2023-05-10T09:16:06.603Z"
   },
   {
    "duration": 5,
    "start_time": "2023-05-10T09:16:16.161Z"
   },
   {
    "duration": 389,
    "start_time": "2023-05-10T09:16:16.672Z"
   },
   {
    "duration": 5,
    "start_time": "2023-05-10T09:16:17.350Z"
   },
   {
    "duration": 149,
    "start_time": "2023-05-10T09:16:18.202Z"
   },
   {
    "duration": 8,
    "start_time": "2023-05-10T09:16:20.664Z"
   },
   {
    "duration": 7,
    "start_time": "2023-05-10T09:16:30.204Z"
   },
   {
    "duration": 15,
    "start_time": "2023-05-10T09:16:34.380Z"
   },
   {
    "duration": 7,
    "start_time": "2023-05-10T09:16:45.653Z"
   },
   {
    "duration": 15,
    "start_time": "2023-05-10T09:16:49.671Z"
   },
   {
    "duration": 68,
    "start_time": "2023-05-10T09:16:50.334Z"
   },
   {
    "duration": 13,
    "start_time": "2023-05-10T09:16:52.122Z"
   },
   {
    "duration": 35,
    "start_time": "2023-05-10T09:16:55.514Z"
   },
   {
    "duration": 9,
    "start_time": "2023-05-10T09:19:11.124Z"
   },
   {
    "duration": 18,
    "start_time": "2023-05-10T09:19:25.914Z"
   },
   {
    "duration": 11,
    "start_time": "2023-05-10T09:19:52.517Z"
   },
   {
    "duration": 1343,
    "start_time": "2023-05-10T10:55:27.901Z"
   },
   {
    "duration": 832,
    "start_time": "2023-05-10T10:55:29.246Z"
   },
   {
    "duration": 2,
    "start_time": "2023-05-10T10:55:30.080Z"
   },
   {
    "duration": 152,
    "start_time": "2023-05-10T10:55:30.084Z"
   },
   {
    "duration": 9,
    "start_time": "2023-05-10T10:55:30.237Z"
   },
   {
    "duration": 2,
    "start_time": "2023-05-10T10:55:31.706Z"
   },
   {
    "duration": 14,
    "start_time": "2023-05-10T10:55:32.216Z"
   },
   {
    "duration": 47,
    "start_time": "2023-05-10T10:55:33.736Z"
   },
   {
    "duration": 11,
    "start_time": "2023-05-10T10:55:34.984Z"
   },
   {
    "duration": 10,
    "start_time": "2023-05-10T10:56:06.548Z"
   },
   {
    "duration": 11,
    "start_time": "2023-05-10T10:56:06.921Z"
   },
   {
    "duration": 3,
    "start_time": "2023-05-10T10:56:08.726Z"
   },
   {
    "duration": 9,
    "start_time": "2023-05-10T10:56:09.607Z"
   },
   {
    "duration": 26,
    "start_time": "2023-05-10T10:56:10.104Z"
   },
   {
    "duration": 21,
    "start_time": "2023-05-10T10:58:15.157Z"
   },
   {
    "duration": 49,
    "start_time": "2023-05-10T10:58:17.295Z"
   },
   {
    "duration": 4,
    "start_time": "2023-05-10T10:59:24.635Z"
   },
   {
    "duration": 95,
    "start_time": "2023-05-10T11:00:14.176Z"
   },
   {
    "duration": 6,
    "start_time": "2023-05-10T11:00:25.183Z"
   },
   {
    "duration": 5,
    "start_time": "2023-05-10T11:01:05.835Z"
   },
   {
    "duration": 5,
    "start_time": "2023-05-10T11:02:10.459Z"
   },
   {
    "duration": 4,
    "start_time": "2023-05-10T11:17:19.049Z"
   },
   {
    "duration": 43,
    "start_time": "2023-05-10T11:22:12.714Z"
   },
   {
    "duration": 10,
    "start_time": "2023-05-10T11:22:18.949Z"
   },
   {
    "duration": 41,
    "start_time": "2023-05-10T11:22:46.401Z"
   },
   {
    "duration": 8,
    "start_time": "2023-05-10T11:22:47.398Z"
   },
   {
    "duration": 26,
    "start_time": "2023-05-10T11:22:53.538Z"
   },
   {
    "duration": 10,
    "start_time": "2023-05-10T11:22:54.313Z"
   },
   {
    "duration": 10,
    "start_time": "2023-05-10T11:31:00.779Z"
   },
   {
    "duration": 26,
    "start_time": "2023-05-10T11:31:20.801Z"
   },
   {
    "duration": 21,
    "start_time": "2023-05-10T11:31:38.314Z"
   },
   {
    "duration": 25,
    "start_time": "2023-05-10T11:31:39.691Z"
   },
   {
    "duration": 8,
    "start_time": "2023-05-10T11:31:40.424Z"
   },
   {
    "duration": 20,
    "start_time": "2023-05-10T11:31:43.955Z"
   },
   {
    "duration": 25,
    "start_time": "2023-05-10T11:31:45.070Z"
   },
   {
    "duration": 10,
    "start_time": "2023-05-10T11:31:45.919Z"
   },
   {
    "duration": 21,
    "start_time": "2023-05-11T14:36:39.931Z"
   },
   {
    "duration": 4,
    "start_time": "2023-05-11T14:55:27.051Z"
   },
   {
    "duration": 4,
    "start_time": "2023-05-11T14:55:32.602Z"
   },
   {
    "duration": 3,
    "start_time": "2023-05-11T14:56:15.433Z"
   },
   {
    "duration": 3,
    "start_time": "2023-05-11T14:56:31.711Z"
   },
   {
    "duration": 40,
    "start_time": "2023-05-11T15:50:53.516Z"
   },
   {
    "duration": 1608,
    "start_time": "2023-05-11T15:50:59.912Z"
   },
   {
    "duration": 1114,
    "start_time": "2023-05-11T15:51:01.522Z"
   },
   {
    "duration": 4,
    "start_time": "2023-05-11T15:51:02.638Z"
   },
   {
    "duration": 157,
    "start_time": "2023-05-11T15:51:02.644Z"
   },
   {
    "duration": 12,
    "start_time": "2023-05-11T15:51:02.803Z"
   },
   {
    "duration": 20,
    "start_time": "2023-05-11T15:51:02.817Z"
   },
   {
    "duration": 4,
    "start_time": "2023-05-11T15:51:02.839Z"
   },
   {
    "duration": 11,
    "start_time": "2023-05-11T15:51:02.844Z"
   },
   {
    "duration": 37,
    "start_time": "2023-05-11T15:51:02.861Z"
   },
   {
    "duration": 157,
    "start_time": "2023-05-11T15:51:03.325Z"
   },
   {
    "duration": 8,
    "start_time": "2023-05-11T15:51:03.790Z"
   },
   {
    "duration": 4,
    "start_time": "2023-05-11T15:51:05.846Z"
   },
   {
    "duration": 23,
    "start_time": "2023-05-11T15:51:07.701Z"
   },
   {
    "duration": 20,
    "start_time": "2023-05-11T15:51:49.199Z"
   },
   {
    "duration": 19,
    "start_time": "2023-05-11T15:53:10.538Z"
   },
   {
    "duration": 37,
    "start_time": "2023-05-11T16:34:59.750Z"
   },
   {
    "duration": 15,
    "start_time": "2023-05-11T16:37:53.549Z"
   },
   {
    "duration": 12,
    "start_time": "2023-05-11T16:41:01.488Z"
   },
   {
    "duration": 72,
    "start_time": "2023-05-11T17:01:46.796Z"
   },
   {
    "duration": 13,
    "start_time": "2023-05-11T17:01:52.999Z"
   },
   {
    "duration": 8,
    "start_time": "2023-05-11T17:18:24.798Z"
   },
   {
    "duration": 9,
    "start_time": "2023-05-11T17:18:32.675Z"
   },
   {
    "duration": 14,
    "start_time": "2023-05-11T17:23:14.264Z"
   },
   {
    "duration": 12,
    "start_time": "2023-05-11T17:23:20.457Z"
   },
   {
    "duration": 13,
    "start_time": "2023-05-11T17:23:55.428Z"
   },
   {
    "duration": 10,
    "start_time": "2023-05-11T17:27:06.234Z"
   },
   {
    "duration": 4,
    "start_time": "2023-05-12T08:22:34.923Z"
   },
   {
    "duration": 2,
    "start_time": "2023-05-12T08:22:35.568Z"
   },
   {
    "duration": 1518,
    "start_time": "2023-05-12T08:23:22.797Z"
   },
   {
    "duration": 1453,
    "start_time": "2023-05-12T08:23:24.317Z"
   },
   {
    "duration": 2,
    "start_time": "2023-05-12T08:23:25.771Z"
   },
   {
    "duration": 126,
    "start_time": "2023-05-12T08:23:25.775Z"
   },
   {
    "duration": 9,
    "start_time": "2023-05-12T08:23:25.903Z"
   },
   {
    "duration": 10,
    "start_time": "2023-05-12T08:23:25.914Z"
   },
   {
    "duration": 2,
    "start_time": "2023-05-12T08:23:25.968Z"
   },
   {
    "duration": 9,
    "start_time": "2023-05-12T08:23:26.317Z"
   },
   {
    "duration": 28,
    "start_time": "2023-05-12T08:23:26.772Z"
   },
   {
    "duration": 87,
    "start_time": "2023-05-12T08:23:27.812Z"
   },
   {
    "duration": 7,
    "start_time": "2023-05-12T08:23:28.425Z"
   },
   {
    "duration": 4,
    "start_time": "2023-05-12T08:23:29.907Z"
   },
   {
    "duration": 20,
    "start_time": "2023-05-12T08:23:32.172Z"
   },
   {
    "duration": 105,
    "start_time": "2023-05-12T08:49:48.791Z"
   },
   {
    "duration": 19,
    "start_time": "2023-05-12T08:50:06.997Z"
   },
   {
    "duration": 3,
    "start_time": "2023-05-12T08:51:41.150Z"
   },
   {
    "duration": 12,
    "start_time": "2023-05-12T08:52:08.597Z"
   },
   {
    "duration": 3,
    "start_time": "2023-05-12T08:52:15.458Z"
   },
   {
    "duration": 16,
    "start_time": "2023-05-12T08:52:17.461Z"
   },
   {
    "duration": 4,
    "start_time": "2023-05-12T09:02:31.603Z"
   },
   {
    "duration": 3,
    "start_time": "2023-05-12T09:02:32.327Z"
   },
   {
    "duration": 19,
    "start_time": "2023-05-12T09:04:21.121Z"
   },
   {
    "duration": 17,
    "start_time": "2023-05-12T09:04:37.616Z"
   },
   {
    "duration": 88,
    "start_time": "2023-05-12T09:06:00.699Z"
   },
   {
    "duration": 6,
    "start_time": "2023-05-12T09:09:28.486Z"
   },
   {
    "duration": 9,
    "start_time": "2023-05-12T09:10:13.912Z"
   },
   {
    "duration": 13,
    "start_time": "2023-05-12T09:10:18.095Z"
   },
   {
    "duration": 94,
    "start_time": "2023-05-12T09:12:50.994Z"
   },
   {
    "duration": 4,
    "start_time": "2023-05-12T09:48:01.576Z"
   },
   {
    "duration": 212,
    "start_time": "2023-05-12T09:48:04.782Z"
   },
   {
    "duration": 63,
    "start_time": "2023-05-12T09:55:50.323Z"
   },
   {
    "duration": 14,
    "start_time": "2023-05-12T09:57:02.310Z"
   },
   {
    "duration": 6,
    "start_time": "2023-05-12T10:00:55.732Z"
   },
   {
    "duration": 5,
    "start_time": "2023-05-12T10:01:54.102Z"
   },
   {
    "duration": 14,
    "start_time": "2023-05-12T10:06:00.838Z"
   },
   {
    "duration": 7,
    "start_time": "2023-05-12T10:06:32.390Z"
   },
   {
    "duration": 19,
    "start_time": "2023-05-12T10:06:44.200Z"
   },
   {
    "duration": 1378,
    "start_time": "2023-05-12T16:35:16.327Z"
   },
   {
    "duration": 1420,
    "start_time": "2023-05-12T16:35:17.707Z"
   },
   {
    "duration": 3,
    "start_time": "2023-05-12T16:35:19.128Z"
   },
   {
    "duration": 121,
    "start_time": "2023-05-12T16:35:19.132Z"
   },
   {
    "duration": 8,
    "start_time": "2023-05-12T16:35:19.255Z"
   },
   {
    "duration": 7,
    "start_time": "2023-05-12T16:35:19.264Z"
   },
   {
    "duration": 10,
    "start_time": "2023-05-12T16:35:19.272Z"
   },
   {
    "duration": 8,
    "start_time": "2023-05-12T16:35:19.293Z"
   },
   {
    "duration": 25,
    "start_time": "2023-05-12T16:35:19.534Z"
   },
   {
    "duration": 201,
    "start_time": "2023-05-12T16:35:20.189Z"
   },
   {
    "duration": 7,
    "start_time": "2023-05-12T16:35:20.584Z"
   },
   {
    "duration": 3,
    "start_time": "2023-05-12T16:35:21.425Z"
   },
   {
    "duration": 20,
    "start_time": "2023-05-12T16:35:21.837Z"
   },
   {
    "duration": 3,
    "start_time": "2023-05-12T16:35:26.245Z"
   },
   {
    "duration": 3,
    "start_time": "2023-05-12T16:35:32.486Z"
   },
   {
    "duration": 2,
    "start_time": "2023-05-12T16:35:33.314Z"
   },
   {
    "duration": 3,
    "start_time": "2023-05-12T16:35:33.649Z"
   },
   {
    "duration": 3,
    "start_time": "2023-05-12T16:35:34.045Z"
   },
   {
    "duration": 289,
    "start_time": "2023-05-12T16:35:35.284Z"
   },
   {
    "duration": 3,
    "start_time": "2023-05-12T16:38:18.632Z"
   },
   {
    "duration": 9,
    "start_time": "2023-05-12T16:39:45.327Z"
   },
   {
    "duration": 10,
    "start_time": "2023-05-12T16:43:36.132Z"
   },
   {
    "duration": 8,
    "start_time": "2023-05-12T16:43:59.373Z"
   },
   {
    "duration": 5,
    "start_time": "2023-05-12T16:44:23.969Z"
   },
   {
    "duration": 2,
    "start_time": "2023-05-12T16:45:12.840Z"
   },
   {
    "duration": 20,
    "start_time": "2023-05-12T16:45:56.420Z"
   },
   {
    "duration": 17,
    "start_time": "2023-05-12T16:46:23.638Z"
   },
   {
    "duration": 4,
    "start_time": "2023-05-12T16:46:51.141Z"
   },
   {
    "duration": 7,
    "start_time": "2023-05-12T16:46:56.661Z"
   },
   {
    "duration": 8,
    "start_time": "2023-05-12T16:47:39.867Z"
   },
   {
    "duration": 6,
    "start_time": "2023-05-12T16:47:58.011Z"
   },
   {
    "duration": 3,
    "start_time": "2023-05-12T16:53:38.444Z"
   },
   {
    "duration": 93,
    "start_time": "2023-05-12T16:53:42.800Z"
   },
   {
    "duration": 2,
    "start_time": "2023-05-12T16:53:47.859Z"
   },
   {
    "duration": 107,
    "start_time": "2023-05-12T16:53:49.978Z"
   },
   {
    "duration": 106,
    "start_time": "2023-05-12T16:54:27.783Z"
   },
   {
    "duration": 3,
    "start_time": "2023-05-12T16:54:58.609Z"
   },
   {
    "duration": 45,
    "start_time": "2023-05-12T16:55:00.842Z"
   },
   {
    "duration": 7,
    "start_time": "2023-05-12T16:57:27.481Z"
   },
   {
    "duration": 6,
    "start_time": "2023-05-12T16:58:24.796Z"
   },
   {
    "duration": 3,
    "start_time": "2023-05-12T16:58:52.671Z"
   },
   {
    "duration": 104,
    "start_time": "2023-05-12T16:59:51.788Z"
   },
   {
    "duration": 62,
    "start_time": "2023-05-12T17:01:08.626Z"
   },
   {
    "duration": 134,
    "start_time": "2023-05-12T17:03:10.409Z"
   },
   {
    "duration": 28,
    "start_time": "2023-05-12T17:03:14.858Z"
   },
   {
    "duration": 4,
    "start_time": "2023-05-12T17:05:55.567Z"
   },
   {
    "duration": 4,
    "start_time": "2023-05-12T17:06:17.476Z"
   },
   {
    "duration": 3,
    "start_time": "2023-05-12T17:06:25.747Z"
   },
   {
    "duration": 358,
    "start_time": "2023-05-12T17:06:26.335Z"
   },
   {
    "duration": 8,
    "start_time": "2023-05-12T17:06:26.695Z"
   },
   {
    "duration": 117,
    "start_time": "2023-05-12T17:06:26.704Z"
   },
   {
    "duration": 7,
    "start_time": "2023-05-12T17:06:26.823Z"
   },
   {
    "duration": 6,
    "start_time": "2023-05-12T17:06:26.831Z"
   },
   {
    "duration": 6,
    "start_time": "2023-05-12T17:06:26.838Z"
   },
   {
    "duration": 14,
    "start_time": "2023-05-12T17:06:26.846Z"
   },
   {
    "duration": 21,
    "start_time": "2023-05-12T17:06:27.537Z"
   },
   {
    "duration": 111,
    "start_time": "2023-05-12T17:06:28.075Z"
   },
   {
    "duration": 8,
    "start_time": "2023-05-12T17:06:28.506Z"
   },
   {
    "duration": 3,
    "start_time": "2023-05-12T17:06:29.220Z"
   },
   {
    "duration": 19,
    "start_time": "2023-05-12T17:06:29.573Z"
   },
   {
    "duration": 2,
    "start_time": "2023-05-12T17:06:30.332Z"
   },
   {
    "duration": 5,
    "start_time": "2023-05-12T17:06:30.497Z"
   },
   {
    "duration": 4,
    "start_time": "2023-05-12T17:08:09.297Z"
   },
   {
    "duration": 3,
    "start_time": "2023-05-12T17:08:27.983Z"
   },
   {
    "duration": 5,
    "start_time": "2023-05-12T17:08:31.600Z"
   },
   {
    "duration": 5,
    "start_time": "2023-05-12T17:09:16.474Z"
   },
   {
    "duration": 2,
    "start_time": "2023-05-12T17:09:34.196Z"
   },
   {
    "duration": 3,
    "start_time": "2023-05-12T17:09:45.002Z"
   },
   {
    "duration": 2,
    "start_time": "2023-05-12T17:09:45.403Z"
   },
   {
    "duration": 70815,
    "start_time": "2023-05-12T17:13:17.871Z"
   },
   {
    "duration": 4,
    "start_time": "2023-05-12T17:14:29.773Z"
   },
   {
    "duration": 5,
    "start_time": "2023-05-12T17:14:38.788Z"
   },
   {
    "duration": 6,
    "start_time": "2023-05-12T17:15:00.675Z"
   },
   {
    "duration": 2346,
    "start_time": "2023-05-13T07:26:49.420Z"
   },
   {
    "duration": 3694,
    "start_time": "2023-05-13T07:26:51.782Z"
   },
   {
    "duration": 3,
    "start_time": "2023-05-13T07:26:55.477Z"
   },
   {
    "duration": 280,
    "start_time": "2023-05-13T07:26:55.482Z"
   },
   {
    "duration": 12,
    "start_time": "2023-05-13T07:26:55.767Z"
   },
   {
    "duration": 97,
    "start_time": "2023-05-13T07:26:55.782Z"
   },
   {
    "duration": 97,
    "start_time": "2023-05-13T07:26:55.883Z"
   },
   {
    "duration": 140,
    "start_time": "2023-05-13T07:26:55.982Z"
   },
   {
    "duration": 129,
    "start_time": "2023-05-13T07:26:56.135Z"
   },
   {
    "duration": 286,
    "start_time": "2023-05-13T07:26:56.281Z"
   },
   {
    "duration": 93,
    "start_time": "2023-05-13T07:26:56.584Z"
   },
   {
    "duration": 84,
    "start_time": "2023-05-13T07:26:56.679Z"
   },
   {
    "duration": 57,
    "start_time": "2023-05-13T07:26:56.771Z"
   },
   {
    "duration": 76,
    "start_time": "2023-05-13T07:26:56.830Z"
   },
   {
    "duration": 197,
    "start_time": "2023-05-13T07:26:56.913Z"
   },
   {
    "duration": 66,
    "start_time": "2023-05-13T07:26:57.113Z"
   },
   {
    "duration": 99,
    "start_time": "2023-05-13T07:26:57.181Z"
   },
   {
    "duration": 154,
    "start_time": "2023-05-13T07:26:57.284Z"
   },
   {
    "duration": 263,
    "start_time": "2023-05-13T07:26:57.442Z"
   },
   {
    "duration": 0,
    "start_time": "2023-05-13T07:26:57.709Z"
   },
   {
    "duration": 0,
    "start_time": "2023-05-13T07:26:57.713Z"
   },
   {
    "duration": 77775,
    "start_time": "2023-05-13T07:27:14.147Z"
   },
   {
    "duration": 9,
    "start_time": "2023-05-13T07:29:26.579Z"
   },
   {
    "duration": 9,
    "start_time": "2023-05-13T07:29:36.052Z"
   },
   {
    "duration": 9,
    "start_time": "2023-05-13T07:29:43.547Z"
   },
   {
    "duration": 141,
    "start_time": "2023-05-13T07:35:14.611Z"
   },
   {
    "duration": 7,
    "start_time": "2023-05-13T07:35:20.351Z"
   },
   {
    "duration": 23,
    "start_time": "2023-05-13T07:37:11.967Z"
   },
   {
    "duration": 4,
    "start_time": "2023-05-13T07:37:14.979Z"
   },
   {
    "duration": 7,
    "start_time": "2023-05-13T07:37:15.573Z"
   },
   {
    "duration": 3,
    "start_time": "2023-05-13T07:38:09.751Z"
   },
   {
    "duration": 27,
    "start_time": "2023-05-13T07:38:10.427Z"
   },
   {
    "duration": 4,
    "start_time": "2023-05-13T07:38:31.776Z"
   },
   {
    "duration": 8,
    "start_time": "2023-05-13T07:38:32.347Z"
   },
   {
    "duration": 4,
    "start_time": "2023-05-13T07:39:02.873Z"
   },
   {
    "duration": 5,
    "start_time": "2023-05-13T07:39:03.358Z"
   },
   {
    "duration": 71419,
    "start_time": "2023-05-13T07:40:38.315Z"
   },
   {
    "duration": 68,
    "start_time": "2023-05-13T07:41:49.754Z"
   },
   {
    "duration": 69424,
    "start_time": "2023-05-13T07:41:49.831Z"
   },
   {
    "duration": 7,
    "start_time": "2023-05-13T07:42:59.298Z"
   },
   {
    "duration": 68615,
    "start_time": "2023-05-13T07:43:44.158Z"
   },
   {
    "duration": 19,
    "start_time": "2023-05-13T07:46:01.995Z"
   },
   {
    "duration": 70409,
    "start_time": "2023-05-13T07:46:02.033Z"
   },
   {
    "duration": 20,
    "start_time": "2023-05-13T07:47:12.448Z"
   },
   {
    "duration": 2063,
    "start_time": "2023-05-13T08:21:34.022Z"
   },
   {
    "duration": 353,
    "start_time": "2023-05-13T08:21:36.087Z"
   },
   {
    "duration": 3,
    "start_time": "2023-05-13T08:21:36.441Z"
   },
   {
    "duration": 133,
    "start_time": "2023-05-13T08:21:36.446Z"
   },
   {
    "duration": 8,
    "start_time": "2023-05-13T08:21:36.581Z"
   },
   {
    "duration": 15,
    "start_time": "2023-05-13T08:21:36.591Z"
   },
   {
    "duration": 21,
    "start_time": "2023-05-13T08:21:36.608Z"
   },
   {
    "duration": 41,
    "start_time": "2023-05-13T08:21:36.631Z"
   },
   {
    "duration": 42,
    "start_time": "2023-05-13T08:21:36.673Z"
   },
   {
    "duration": 27,
    "start_time": "2023-05-13T08:21:36.716Z"
   },
   {
    "duration": 79,
    "start_time": "2023-05-13T08:21:36.745Z"
   },
   {
    "duration": 115,
    "start_time": "2023-05-13T08:21:36.826Z"
   },
   {
    "duration": 42,
    "start_time": "2023-05-13T08:21:36.942Z"
   },
   {
    "duration": 13,
    "start_time": "2023-05-13T08:21:36.987Z"
   },
   {
    "duration": 34,
    "start_time": "2023-05-13T08:21:37.001Z"
   },
   {
    "duration": 27,
    "start_time": "2023-05-13T08:21:37.036Z"
   },
   {
    "duration": 28,
    "start_time": "2023-05-13T08:21:37.065Z"
   },
   {
    "duration": 18,
    "start_time": "2023-05-13T08:21:37.095Z"
   },
   {
    "duration": 94317,
    "start_time": "2023-05-13T08:21:37.114Z"
   },
   {
    "duration": 94,
    "start_time": "2023-05-13T08:23:11.434Z"
   },
   {
    "duration": 32,
    "start_time": "2023-05-13T08:23:11.623Z"
   },
   {
    "duration": 96270,
    "start_time": "2023-05-13T08:23:11.657Z"
   },
   {
    "duration": 96,
    "start_time": "2023-05-13T08:24:47.929Z"
   },
   {
    "duration": 87,
    "start_time": "2023-05-13T09:28:26.496Z"
   },
   {
    "duration": 42,
    "start_time": "2023-05-13T09:33:01.146Z"
   },
   {
    "duration": 1679,
    "start_time": "2023-05-13T09:33:13.936Z"
   },
   {
    "duration": 54,
    "start_time": "2023-05-13T09:33:15.619Z"
   },
   {
    "duration": 1934,
    "start_time": "2023-05-13T09:33:15.919Z"
   },
   {
    "duration": 6,
    "start_time": "2023-05-13T09:33:19.213Z"
   },
   {
    "duration": 153,
    "start_time": "2023-05-13T09:33:20.286Z"
   },
   {
    "duration": 40,
    "start_time": "2023-05-13T09:33:27.454Z"
   },
   {
    "duration": 40,
    "start_time": "2023-05-13T09:33:35.537Z"
   },
   {
    "duration": 46,
    "start_time": "2023-05-13T09:33:43.936Z"
   },
   {
    "duration": 466,
    "start_time": "2023-05-13T09:34:10.694Z"
   },
   {
    "duration": 6,
    "start_time": "2023-05-13T09:34:11.163Z"
   },
   {
    "duration": 200,
    "start_time": "2023-05-13T09:34:11.170Z"
   },
   {
    "duration": 10,
    "start_time": "2023-05-13T09:34:15.362Z"
   },
   {
    "duration": 9,
    "start_time": "2023-05-13T09:34:23.195Z"
   },
   {
    "duration": 237,
    "start_time": "2023-05-13T09:34:25.432Z"
   },
   {
    "duration": 2,
    "start_time": "2023-05-13T09:34:59.076Z"
   },
   {
    "duration": 17,
    "start_time": "2023-05-13T09:34:59.494Z"
   },
   {
    "duration": 35,
    "start_time": "2023-05-13T09:34:59.925Z"
   },
   {
    "duration": 257,
    "start_time": "2023-05-13T09:35:01.355Z"
   },
   {
    "duration": 11,
    "start_time": "2023-05-13T09:35:03.137Z"
   },
   {
    "duration": 6,
    "start_time": "2023-05-13T09:36:12.062Z"
   },
   {
    "duration": 26,
    "start_time": "2023-05-13T09:36:35.974Z"
   },
   {
    "duration": 3,
    "start_time": "2023-05-13T09:36:59.889Z"
   },
   {
    "duration": 10,
    "start_time": "2023-05-13T09:36:59.943Z"
   },
   {
    "duration": 19,
    "start_time": "2023-05-13T09:36:59.955Z"
   },
   {
    "duration": 9,
    "start_time": "2023-05-13T09:36:59.976Z"
   },
   {
    "duration": 3,
    "start_time": "2023-05-13T09:37:35.073Z"
   },
   {
    "duration": 5,
    "start_time": "2023-05-13T09:41:30.331Z"
   },
   {
    "duration": 8,
    "start_time": "2023-05-13T09:41:31.370Z"
   },
   {
    "duration": 6,
    "start_time": "2023-05-13T09:41:42.088Z"
   },
   {
    "duration": 75338,
    "start_time": "2023-05-13T09:41:42.680Z"
   },
   {
    "duration": 3,
    "start_time": "2023-05-13T09:43:27.061Z"
   },
   {
    "duration": 34,
    "start_time": "2023-05-13T09:43:27.066Z"
   },
   {
    "duration": 963,
    "start_time": "2023-05-13T12:10:31.623Z"
   },
   {
    "duration": 6,
    "start_time": "2023-05-13T12:12:04.247Z"
   },
   {
    "duration": 4,
    "start_time": "2023-05-13T12:12:04.713Z"
   },
   {
    "duration": 14,
    "start_time": "2023-05-13T12:12:05.708Z"
   },
   {
    "duration": 788,
    "start_time": "2023-05-13T12:12:06.259Z"
   },
   {
    "duration": 7,
    "start_time": "2023-05-13T12:12:07.602Z"
   },
   {
    "duration": 7,
    "start_time": "2023-05-13T12:12:11.359Z"
   },
   {
    "duration": 774,
    "start_time": "2023-05-13T12:12:41.444Z"
   },
   {
    "duration": 7,
    "start_time": "2023-05-13T12:12:42.221Z"
   },
   {
    "duration": 896,
    "start_time": "2023-05-13T12:12:46.375Z"
   },
   {
    "duration": 7,
    "start_time": "2023-05-13T12:12:47.275Z"
   },
   {
    "duration": 1899,
    "start_time": "2023-05-14T07:09:27.985Z"
   },
   {
    "duration": 51,
    "start_time": "2023-05-14T07:09:29.885Z"
   },
   {
    "duration": 455,
    "start_time": "2023-05-14T07:09:29.942Z"
   },
   {
    "duration": 4,
    "start_time": "2023-05-14T07:09:30.399Z"
   },
   {
    "duration": 201,
    "start_time": "2023-05-14T07:09:30.405Z"
   },
   {
    "duration": 21,
    "start_time": "2023-05-14T07:09:30.608Z"
   },
   {
    "duration": 77,
    "start_time": "2023-05-14T07:09:30.631Z"
   },
   {
    "duration": 63,
    "start_time": "2023-05-14T07:09:30.710Z"
   },
   {
    "duration": 65,
    "start_time": "2023-05-14T07:09:30.776Z"
   },
   {
    "duration": 53,
    "start_time": "2023-05-14T07:09:30.844Z"
   },
   {
    "duration": 67,
    "start_time": "2023-05-14T07:09:30.899Z"
   },
   {
    "duration": 265,
    "start_time": "2023-05-14T07:09:30.968Z"
   },
   {
    "duration": 191,
    "start_time": "2023-05-14T07:09:31.235Z"
   },
   {
    "duration": 23,
    "start_time": "2023-05-14T07:09:31.428Z"
   },
   {
    "duration": 97,
    "start_time": "2023-05-14T07:09:31.453Z"
   },
   {
    "duration": 61,
    "start_time": "2023-05-14T07:09:31.552Z"
   },
   {
    "duration": 43,
    "start_time": "2023-05-14T07:09:31.615Z"
   },
   {
    "duration": 20,
    "start_time": "2023-05-14T07:09:31.661Z"
   },
   {
    "duration": 18,
    "start_time": "2023-05-14T07:09:31.684Z"
   },
   {
    "duration": 49,
    "start_time": "2023-05-14T07:09:31.704Z"
   },
   {
    "duration": 906,
    "start_time": "2023-05-14T07:09:31.755Z"
   },
   {
    "duration": 4,
    "start_time": "2023-05-14T07:09:32.663Z"
   },
   {
    "duration": 26,
    "start_time": "2023-05-14T07:09:32.669Z"
   },
   {
    "duration": 867,
    "start_time": "2023-05-14T07:09:32.697Z"
   },
   {
    "duration": 6,
    "start_time": "2023-05-14T07:09:33.566Z"
   },
   {
    "duration": 880,
    "start_time": "2023-05-14T07:09:33.573Z"
   },
   {
    "duration": 7,
    "start_time": "2023-05-14T07:09:34.455Z"
   },
   {
    "duration": 8,
    "start_time": "2023-05-14T07:09:58.883Z"
   },
   {
    "duration": 5,
    "start_time": "2023-05-14T07:10:13.718Z"
   },
   {
    "duration": 6,
    "start_time": "2023-05-14T07:10:30.802Z"
   },
   {
    "duration": 6,
    "start_time": "2023-05-14T07:11:44.562Z"
   },
   {
    "duration": 3355,
    "start_time": "2023-05-14T11:39:53.011Z"
   },
   {
    "duration": 127,
    "start_time": "2023-05-14T11:39:56.379Z"
   },
   {
    "duration": 3540,
    "start_time": "2023-05-14T11:39:56.509Z"
   },
   {
    "duration": 8,
    "start_time": "2023-05-14T11:40:00.052Z"
   },
   {
    "duration": 349,
    "start_time": "2023-05-14T11:40:00.069Z"
   },
   {
    "duration": 17,
    "start_time": "2023-05-14T11:40:00.422Z"
   },
   {
    "duration": 18,
    "start_time": "2023-05-14T11:40:00.447Z"
   },
   {
    "duration": 20,
    "start_time": "2023-05-14T11:40:00.472Z"
   },
   {
    "duration": 19,
    "start_time": "2023-05-14T11:40:00.499Z"
   },
   {
    "duration": 33,
    "start_time": "2023-05-14T11:40:00.525Z"
   },
   {
    "duration": 108,
    "start_time": "2023-05-14T11:40:00.570Z"
   },
   {
    "duration": 353,
    "start_time": "2023-05-14T11:40:00.693Z"
   },
   {
    "duration": 20,
    "start_time": "2023-05-14T11:40:01.263Z"
   },
   {
    "duration": 18,
    "start_time": "2023-05-14T11:40:04.057Z"
   },
   {
    "duration": 73,
    "start_time": "2023-05-14T11:40:05.210Z"
   },
   {
    "duration": 9,
    "start_time": "2023-05-14T11:40:06.461Z"
   },
   {
    "duration": 7,
    "start_time": "2023-05-14T11:40:06.783Z"
   },
   {
    "duration": 13,
    "start_time": "2023-05-14T11:40:07.281Z"
   },
   {
    "duration": 12,
    "start_time": "2023-05-14T11:40:07.450Z"
   },
   {
    "duration": 4,
    "start_time": "2023-05-14T11:40:09.705Z"
   },
   {
    "duration": 306,
    "start_time": "2023-05-14T11:40:10.204Z"
   },
   {
    "duration": 1576,
    "start_time": "2023-05-14T11:41:45.125Z"
   },
   {
    "duration": 1244,
    "start_time": "2023-05-14T11:43:28.156Z"
   },
   {
    "duration": 12,
    "start_time": "2023-05-14T11:43:38.054Z"
   },
   {
    "duration": 51,
    "start_time": "2023-05-14T11:43:38.697Z"
   },
   {
    "duration": 1812,
    "start_time": "2023-05-14T13:20:15.485Z"
   },
   {
    "duration": 42,
    "start_time": "2023-05-14T13:20:17.299Z"
   },
   {
    "duration": 1554,
    "start_time": "2023-05-14T13:20:17.343Z"
   },
   {
    "duration": 3,
    "start_time": "2023-05-14T13:20:18.900Z"
   },
   {
    "duration": 261,
    "start_time": "2023-05-14T13:20:18.904Z"
   },
   {
    "duration": 15,
    "start_time": "2023-05-14T13:20:19.166Z"
   },
   {
    "duration": 229,
    "start_time": "2023-05-14T13:20:19.183Z"
   },
   {
    "duration": 141,
    "start_time": "2023-05-14T13:20:19.413Z"
   },
   {
    "duration": 140,
    "start_time": "2023-05-14T13:20:19.556Z"
   },
   {
    "duration": 81,
    "start_time": "2023-05-14T13:20:19.699Z"
   },
   {
    "duration": 54,
    "start_time": "2023-05-14T13:20:19.782Z"
   },
   {
    "duration": 334,
    "start_time": "2023-05-14T13:20:19.838Z"
   },
   {
    "duration": 98,
    "start_time": "2023-05-14T13:20:20.174Z"
   },
   {
    "duration": 10,
    "start_time": "2023-05-14T13:20:20.275Z"
   },
   {
    "duration": 22,
    "start_time": "2023-05-14T13:20:20.712Z"
   },
   {
    "duration": 3,
    "start_time": "2023-05-14T13:20:21.352Z"
   },
   {
    "duration": 2,
    "start_time": "2023-05-14T13:20:21.543Z"
   },
   {
    "duration": 4,
    "start_time": "2023-05-14T13:20:22.057Z"
   },
   {
    "duration": 4,
    "start_time": "2023-05-14T13:20:22.282Z"
   },
   {
    "duration": 4,
    "start_time": "2023-05-14T13:20:23.809Z"
   },
   {
    "duration": 125,
    "start_time": "2023-05-14T13:20:25.389Z"
   },
   {
    "duration": 5,
    "start_time": "2023-05-14T13:28:39.048Z"
   },
   {
    "duration": 19,
    "start_time": "2023-05-14T13:29:37.953Z"
   },
   {
    "duration": 6,
    "start_time": "2023-05-14T13:30:44.082Z"
   },
   {
    "duration": 5,
    "start_time": "2023-05-14T13:33:17.682Z"
   },
   {
    "duration": 903,
    "start_time": "2023-05-14T13:33:18.575Z"
   },
   {
    "duration": 3,
    "start_time": "2023-05-14T13:33:23.659Z"
   },
   {
    "duration": 8,
    "start_time": "2023-05-14T13:33:25.535Z"
   },
   {
    "duration": 849,
    "start_time": "2023-05-14T13:33:30.075Z"
   },
   {
    "duration": 7,
    "start_time": "2023-05-14T13:33:30.925Z"
   },
   {
    "duration": 986,
    "start_time": "2023-05-14T13:33:33.629Z"
   },
   {
    "duration": 9,
    "start_time": "2023-05-14T13:33:34.618Z"
   },
   {
    "duration": 2841,
    "start_time": "2023-05-15T09:19:23.849Z"
   },
   {
    "duration": 85,
    "start_time": "2023-05-15T09:19:26.692Z"
   },
   {
    "duration": 384,
    "start_time": "2023-05-15T09:19:26.781Z"
   },
   {
    "duration": 2,
    "start_time": "2023-05-15T09:19:27.167Z"
   },
   {
    "duration": 154,
    "start_time": "2023-05-15T09:19:27.170Z"
   },
   {
    "duration": 10,
    "start_time": "2023-05-15T09:19:27.325Z"
   },
   {
    "duration": 5,
    "start_time": "2023-05-15T09:19:27.336Z"
   },
   {
    "duration": 3,
    "start_time": "2023-05-15T09:19:27.343Z"
   },
   {
    "duration": 4,
    "start_time": "2023-05-15T09:19:27.347Z"
   },
   {
    "duration": 31,
    "start_time": "2023-05-15T09:19:27.354Z"
   },
   {
    "duration": 32,
    "start_time": "2023-05-15T09:19:27.387Z"
   },
   {
    "duration": 266,
    "start_time": "2023-05-15T09:19:27.421Z"
   },
   {
    "duration": 89,
    "start_time": "2023-05-15T09:19:27.689Z"
   },
   {
    "duration": 8,
    "start_time": "2023-05-15T09:19:27.780Z"
   },
   {
    "duration": 107,
    "start_time": "2023-05-15T09:19:27.794Z"
   },
   {
    "duration": 2,
    "start_time": "2023-05-15T09:19:27.902Z"
   },
   {
    "duration": 7,
    "start_time": "2023-05-15T09:19:27.906Z"
   },
   {
    "duration": 5,
    "start_time": "2023-05-15T09:19:27.914Z"
   },
   {
    "duration": 4,
    "start_time": "2023-05-15T09:19:27.921Z"
   },
   {
    "duration": 7,
    "start_time": "2023-05-15T09:19:27.926Z"
   },
   {
    "duration": 3,
    "start_time": "2023-05-15T09:19:27.935Z"
   },
   {
    "duration": 905,
    "start_time": "2023-05-15T09:19:27.939Z"
   },
   {
    "duration": 3,
    "start_time": "2023-05-15T09:19:28.846Z"
   },
   {
    "duration": 12,
    "start_time": "2023-05-15T09:19:28.850Z"
   },
   {
    "duration": 771,
    "start_time": "2023-05-15T09:19:28.864Z"
   },
   {
    "duration": 6,
    "start_time": "2023-05-15T09:19:29.638Z"
   },
   {
    "duration": 760,
    "start_time": "2023-05-15T09:19:29.646Z"
   },
   {
    "duration": 6,
    "start_time": "2023-05-15T09:19:30.409Z"
   },
   {
    "duration": 6,
    "start_time": "2023-05-15T10:19:17.807Z"
   },
   {
    "duration": 9,
    "start_time": "2023-05-15T10:19:23.275Z"
   },
   {
    "duration": 118,
    "start_time": "2023-05-15T10:21:04.795Z"
   },
   {
    "duration": 1809,
    "start_time": "2023-05-15T10:21:37.059Z"
   },
   {
    "duration": 29,
    "start_time": "2023-05-15T10:21:38.870Z"
   },
   {
    "duration": 333,
    "start_time": "2023-05-15T10:21:38.901Z"
   },
   {
    "duration": 3,
    "start_time": "2023-05-15T10:21:39.235Z"
   },
   {
    "duration": 137,
    "start_time": "2023-05-15T10:21:39.240Z"
   },
   {
    "duration": 10,
    "start_time": "2023-05-15T10:21:39.379Z"
   },
   {
    "duration": 5,
    "start_time": "2023-05-15T10:21:39.390Z"
   },
   {
    "duration": 6,
    "start_time": "2023-05-15T10:21:39.397Z"
   },
   {
    "duration": 5,
    "start_time": "2023-05-15T10:21:39.404Z"
   },
   {
    "duration": 11,
    "start_time": "2023-05-15T10:21:39.410Z"
   },
   {
    "duration": 58,
    "start_time": "2023-05-15T10:21:39.422Z"
   },
   {
    "duration": 199,
    "start_time": "2023-05-15T10:21:39.482Z"
   },
   {
    "duration": 192,
    "start_time": "2023-05-15T10:21:39.683Z"
   },
   {
    "duration": 4,
    "start_time": "2023-05-15T10:21:39.877Z"
   },
   {
    "duration": 32,
    "start_time": "2023-05-15T10:21:39.883Z"
   },
   {
    "duration": 2,
    "start_time": "2023-05-15T10:21:39.917Z"
   },
   {
    "duration": 9,
    "start_time": "2023-05-15T10:21:39.921Z"
   },
   {
    "duration": 5,
    "start_time": "2023-05-15T10:21:39.931Z"
   },
   {
    "duration": 4,
    "start_time": "2023-05-15T10:21:39.937Z"
   },
   {
    "duration": 5,
    "start_time": "2023-05-15T10:21:39.943Z"
   },
   {
    "duration": 25,
    "start_time": "2023-05-15T10:21:39.950Z"
   },
   {
    "duration": 127,
    "start_time": "2023-05-15T10:21:39.976Z"
   },
   {
    "duration": 0,
    "start_time": "2023-05-15T10:21:40.104Z"
   },
   {
    "duration": 0,
    "start_time": "2023-05-15T10:21:40.105Z"
   },
   {
    "duration": 0,
    "start_time": "2023-05-15T10:21:40.106Z"
   },
   {
    "duration": 0,
    "start_time": "2023-05-15T10:21:40.107Z"
   },
   {
    "duration": 0,
    "start_time": "2023-05-15T10:21:40.108Z"
   },
   {
    "duration": 0,
    "start_time": "2023-05-15T10:21:40.109Z"
   },
   {
    "duration": 5,
    "start_time": "2023-05-15T10:21:57.475Z"
   },
   {
    "duration": 8,
    "start_time": "2023-05-15T10:22:04.061Z"
   },
   {
    "duration": 5,
    "start_time": "2023-05-15T10:22:22.875Z"
   },
   {
    "duration": 746,
    "start_time": "2023-05-15T10:22:23.656Z"
   },
   {
    "duration": 4,
    "start_time": "2023-05-15T10:22:26.308Z"
   },
   {
    "duration": 7,
    "start_time": "2023-05-15T10:22:28.059Z"
   },
   {
    "duration": 576,
    "start_time": "2023-05-15T10:22:36.011Z"
   },
   {
    "duration": 4,
    "start_time": "2023-05-15T10:22:38.759Z"
   },
   {
    "duration": 1672,
    "start_time": "2023-05-15T10:38:24.597Z"
   },
   {
    "duration": 43,
    "start_time": "2023-05-15T10:38:26.272Z"
   },
   {
    "duration": 889,
    "start_time": "2023-05-15T10:38:26.317Z"
   },
   {
    "duration": 3,
    "start_time": "2023-05-15T10:38:27.209Z"
   },
   {
    "duration": 167,
    "start_time": "2023-05-15T10:38:27.214Z"
   },
   {
    "duration": 11,
    "start_time": "2023-05-15T10:38:27.384Z"
   },
   {
    "duration": 12,
    "start_time": "2023-05-15T10:38:27.397Z"
   },
   {
    "duration": 8,
    "start_time": "2023-05-15T10:38:27.411Z"
   },
   {
    "duration": 5,
    "start_time": "2023-05-15T10:38:27.421Z"
   },
   {
    "duration": 12,
    "start_time": "2023-05-15T10:38:27.429Z"
   },
   {
    "duration": 51,
    "start_time": "2023-05-15T10:38:27.443Z"
   },
   {
    "duration": 316,
    "start_time": "2023-05-15T10:38:27.872Z"
   },
   {
    "duration": 9,
    "start_time": "2023-05-15T10:38:28.487Z"
   },
   {
    "duration": 6,
    "start_time": "2023-05-15T10:38:29.872Z"
   },
   {
    "duration": 22,
    "start_time": "2023-05-15T10:38:30.475Z"
   },
   {
    "duration": 3,
    "start_time": "2023-05-15T10:38:31.076Z"
   },
   {
    "duration": 3,
    "start_time": "2023-05-15T10:38:31.296Z"
   },
   {
    "duration": 4,
    "start_time": "2023-05-15T10:38:31.772Z"
   },
   {
    "duration": 2,
    "start_time": "2023-05-15T10:38:31.973Z"
   },
   {
    "duration": 6,
    "start_time": "2023-05-15T10:38:33.403Z"
   },
   {
    "duration": 6,
    "start_time": "2023-05-15T10:39:44.496Z"
   },
   {
    "duration": 4,
    "start_time": "2023-05-15T10:39:45.288Z"
   },
   {
    "duration": 716,
    "start_time": "2023-05-15T10:39:49.092Z"
   },
   {
    "duration": 5,
    "start_time": "2023-05-15T10:39:53.248Z"
   },
   {
    "duration": 8,
    "start_time": "2023-05-15T10:39:54.257Z"
   },
   {
    "duration": 142,
    "start_time": "2023-05-15T10:40:07.111Z"
   },
   {
    "duration": 15,
    "start_time": "2023-05-15T10:40:07.506Z"
   },
   {
    "duration": 665,
    "start_time": "2023-05-15T10:40:56.651Z"
   },
   {
    "duration": 7,
    "start_time": "2023-05-15T10:40:58.510Z"
   },
   {
    "duration": 678,
    "start_time": "2023-05-15T10:41:41.056Z"
   },
   {
    "duration": 7,
    "start_time": "2023-05-15T10:41:42.569Z"
   },
   {
    "duration": 1962,
    "start_time": "2023-05-15T11:37:41.600Z"
   },
   {
    "duration": 32,
    "start_time": "2023-05-15T11:37:43.563Z"
   },
   {
    "duration": 370,
    "start_time": "2023-05-15T11:37:43.597Z"
   },
   {
    "duration": 6,
    "start_time": "2023-05-15T11:37:43.970Z"
   },
   {
    "duration": 198,
    "start_time": "2023-05-15T11:37:43.977Z"
   },
   {
    "duration": 15,
    "start_time": "2023-05-15T11:37:44.177Z"
   },
   {
    "duration": 9,
    "start_time": "2023-05-15T11:37:44.194Z"
   },
   {
    "duration": 13,
    "start_time": "2023-05-15T11:37:44.205Z"
   },
   {
    "duration": 10,
    "start_time": "2023-05-15T11:37:44.220Z"
   },
   {
    "duration": 12,
    "start_time": "2023-05-15T11:37:44.234Z"
   },
   {
    "duration": 45,
    "start_time": "2023-05-15T11:37:44.248Z"
   },
   {
    "duration": 183,
    "start_time": "2023-05-15T11:37:44.295Z"
   },
   {
    "duration": 99,
    "start_time": "2023-05-15T11:37:44.480Z"
   },
   {
    "duration": 4,
    "start_time": "2023-05-15T11:37:44.580Z"
   },
   {
    "duration": 24,
    "start_time": "2023-05-15T11:37:44.587Z"
   },
   {
    "duration": 3,
    "start_time": "2023-05-15T11:37:44.612Z"
   },
   {
    "duration": 64,
    "start_time": "2023-05-15T11:37:44.616Z"
   },
   {
    "duration": 8,
    "start_time": "2023-05-15T11:37:44.681Z"
   },
   {
    "duration": 8,
    "start_time": "2023-05-15T11:37:44.691Z"
   },
   {
    "duration": 8,
    "start_time": "2023-05-15T11:37:44.701Z"
   },
   {
    "duration": 6,
    "start_time": "2023-05-15T11:37:44.710Z"
   },
   {
    "duration": 662,
    "start_time": "2023-05-15T11:37:44.717Z"
   },
   {
    "duration": 4,
    "start_time": "2023-05-15T11:37:45.381Z"
   },
   {
    "duration": 21,
    "start_time": "2023-05-15T11:37:45.386Z"
   },
   {
    "duration": 621,
    "start_time": "2023-05-15T11:37:45.408Z"
   },
   {
    "duration": 7,
    "start_time": "2023-05-15T11:37:46.031Z"
   },
   {
    "duration": 633,
    "start_time": "2023-05-15T11:37:46.040Z"
   },
   {
    "duration": 6,
    "start_time": "2023-05-15T11:37:46.676Z"
   },
   {
    "duration": 6,
    "start_time": "2023-05-15T11:38:31.954Z"
   },
   {
    "duration": 6,
    "start_time": "2023-05-15T11:38:37.072Z"
   },
   {
    "duration": 1941,
    "start_time": "2023-05-15T11:41:13.957Z"
   },
   {
    "duration": 26,
    "start_time": "2023-05-15T11:41:15.900Z"
   },
   {
    "duration": 384,
    "start_time": "2023-05-15T11:41:15.927Z"
   },
   {
    "duration": 3,
    "start_time": "2023-05-15T11:41:16.313Z"
   },
   {
    "duration": 130,
    "start_time": "2023-05-15T11:41:16.318Z"
   },
   {
    "duration": 11,
    "start_time": "2023-05-15T11:41:16.450Z"
   },
   {
    "duration": 18,
    "start_time": "2023-05-15T11:41:16.463Z"
   },
   {
    "duration": 6,
    "start_time": "2023-05-15T11:41:16.482Z"
   },
   {
    "duration": 3,
    "start_time": "2023-05-15T11:41:16.490Z"
   },
   {
    "duration": 19,
    "start_time": "2023-05-15T11:41:16.496Z"
   },
   {
    "duration": 32,
    "start_time": "2023-05-15T11:41:16.516Z"
   },
   {
    "duration": 228,
    "start_time": "2023-05-15T11:41:16.549Z"
   },
   {
    "duration": 15,
    "start_time": "2023-05-15T11:41:16.779Z"
   },
   {
    "duration": 85,
    "start_time": "2023-05-15T11:41:16.796Z"
   },
   {
    "duration": 26,
    "start_time": "2023-05-15T11:41:16.882Z"
   },
   {
    "duration": 6,
    "start_time": "2023-05-15T11:41:16.910Z"
   },
   {
    "duration": 4,
    "start_time": "2023-05-15T11:41:16.918Z"
   },
   {
    "duration": 6,
    "start_time": "2023-05-15T11:41:16.924Z"
   },
   {
    "duration": 3,
    "start_time": "2023-05-15T11:41:16.932Z"
   },
   {
    "duration": 3,
    "start_time": "2023-05-15T11:41:16.937Z"
   },
   {
    "duration": 5,
    "start_time": "2023-05-15T11:41:16.942Z"
   },
   {
    "duration": 695,
    "start_time": "2023-05-15T11:41:16.949Z"
   },
   {
    "duration": 4,
    "start_time": "2023-05-15T11:41:17.645Z"
   },
   {
    "duration": 14,
    "start_time": "2023-05-15T11:41:17.650Z"
   },
   {
    "duration": 635,
    "start_time": "2023-05-15T11:41:17.666Z"
   },
   {
    "duration": 5,
    "start_time": "2023-05-15T11:41:18.304Z"
   },
   {
    "duration": 625,
    "start_time": "2023-05-15T11:41:18.311Z"
   },
   {
    "duration": 6,
    "start_time": "2023-05-15T11:41:18.939Z"
   },
   {
    "duration": 2028,
    "start_time": "2023-05-15T11:43:32.515Z"
   },
   {
    "duration": 32,
    "start_time": "2023-05-15T11:43:34.545Z"
   },
   {
    "duration": 371,
    "start_time": "2023-05-15T11:43:34.578Z"
   },
   {
    "duration": 3,
    "start_time": "2023-05-15T11:43:34.951Z"
   },
   {
    "duration": 135,
    "start_time": "2023-05-15T11:43:34.955Z"
   },
   {
    "duration": 10,
    "start_time": "2023-05-15T11:43:35.092Z"
   },
   {
    "duration": 5,
    "start_time": "2023-05-15T11:43:35.103Z"
   },
   {
    "duration": 7,
    "start_time": "2023-05-15T11:43:35.109Z"
   },
   {
    "duration": 5,
    "start_time": "2023-05-15T11:43:35.117Z"
   },
   {
    "duration": 12,
    "start_time": "2023-05-15T11:43:35.124Z"
   },
   {
    "duration": 46,
    "start_time": "2023-05-15T11:43:35.138Z"
   },
   {
    "duration": 198,
    "start_time": "2023-05-15T11:43:35.185Z"
   },
   {
    "duration": 97,
    "start_time": "2023-05-15T11:43:35.384Z"
   },
   {
    "duration": 98,
    "start_time": "2023-05-15T11:43:35.483Z"
   },
   {
    "duration": 33,
    "start_time": "2023-05-15T11:43:35.582Z"
   },
   {
    "duration": 10,
    "start_time": "2023-05-15T11:43:35.617Z"
   },
   {
    "duration": 4,
    "start_time": "2023-05-15T11:43:35.628Z"
   },
   {
    "duration": 4,
    "start_time": "2023-05-15T11:43:35.634Z"
   },
   {
    "duration": 3,
    "start_time": "2023-05-15T11:43:35.640Z"
   },
   {
    "duration": 7,
    "start_time": "2023-05-15T11:43:35.645Z"
   },
   {
    "duration": 7,
    "start_time": "2023-05-15T11:43:35.653Z"
   },
   {
    "duration": 599,
    "start_time": "2023-05-15T11:43:35.674Z"
   },
   {
    "duration": 4,
    "start_time": "2023-05-15T11:43:36.274Z"
   },
   {
    "duration": 9,
    "start_time": "2023-05-15T11:43:36.279Z"
   },
   {
    "duration": 601,
    "start_time": "2023-05-15T11:43:36.290Z"
   },
   {
    "duration": 6,
    "start_time": "2023-05-15T11:43:36.892Z"
   },
   {
    "duration": 599,
    "start_time": "2023-05-15T11:43:36.900Z"
   },
   {
    "duration": 6,
    "start_time": "2023-05-15T11:43:37.502Z"
   },
   {
    "duration": 8,
    "start_time": "2023-05-15T13:28:12.628Z"
   },
   {
    "duration": 44,
    "start_time": "2023-05-15T13:28:13.489Z"
   },
   {
    "duration": 1782,
    "start_time": "2023-05-15T13:28:21.335Z"
   },
   {
    "duration": 40,
    "start_time": "2023-05-15T13:28:23.119Z"
   },
   {
    "duration": 2519,
    "start_time": "2023-05-15T13:28:23.393Z"
   },
   {
    "duration": 3,
    "start_time": "2023-05-15T13:28:25.914Z"
   },
   {
    "duration": 154,
    "start_time": "2023-05-15T13:28:26.217Z"
   },
   {
    "duration": 13,
    "start_time": "2023-05-15T13:28:29.755Z"
   },
   {
    "duration": 2,
    "start_time": "2023-05-15T13:28:30.609Z"
   },
   {
    "duration": 3,
    "start_time": "2023-05-15T13:28:32.015Z"
   },
   {
    "duration": 2,
    "start_time": "2023-05-15T13:28:33.600Z"
   },
   {
    "duration": 13,
    "start_time": "2023-05-15T13:28:35.104Z"
   },
   {
    "duration": 38,
    "start_time": "2023-05-15T13:28:35.627Z"
   },
   {
    "duration": 142,
    "start_time": "2023-05-15T13:28:38.746Z"
   },
   {
    "duration": 9,
    "start_time": "2023-05-15T13:28:39.953Z"
   },
   {
    "duration": 9,
    "start_time": "2023-05-15T13:28:42.875Z"
   },
   {
    "duration": 26,
    "start_time": "2023-05-15T13:28:43.906Z"
   },
   {
    "duration": 2,
    "start_time": "2023-05-15T13:28:45.089Z"
   },
   {
    "duration": 3,
    "start_time": "2023-05-15T13:28:45.589Z"
   },
   {
    "duration": 6,
    "start_time": "2023-05-15T13:28:46.155Z"
   },
   {
    "duration": 3,
    "start_time": "2023-05-15T13:28:46.596Z"
   },
   {
    "duration": 3,
    "start_time": "2023-05-15T13:28:48.752Z"
   },
   {
    "duration": 824,
    "start_time": "2023-05-15T13:28:49.520Z"
   },
   {
    "duration": 4,
    "start_time": "2023-05-15T13:28:55.103Z"
   },
   {
    "duration": 7,
    "start_time": "2023-05-15T13:28:56.444Z"
   },
   {
    "duration": 712,
    "start_time": "2023-05-15T13:29:03.718Z"
   },
   {
    "duration": 7,
    "start_time": "2023-05-15T13:29:04.855Z"
   },
   {
    "duration": 651,
    "start_time": "2023-05-15T13:29:09.487Z"
   },
   {
    "duration": 6,
    "start_time": "2023-05-15T13:29:10.850Z"
   }
  ],
  "kernelspec": {
   "display_name": "Python 3",
   "language": "python",
   "name": "python3"
  },
  "language_info": {
   "codemirror_mode": {
    "name": "ipython",
    "version": 3
   },
   "file_extension": ".py",
   "mimetype": "text/x-python",
   "name": "python",
   "nbconvert_exporter": "python",
   "pygments_lexer": "ipython3",
   "version": "3.8.3"
  },
  "toc": {
   "base_numbering": 1,
   "nav_menu": {},
   "number_sections": true,
   "sideBar": true,
   "skip_h1_title": true,
   "title_cell": "Table of Contents",
   "title_sidebar": "Contents",
   "toc_cell": false,
   "toc_position": {},
   "toc_section_display": true,
   "toc_window_display": false
  }
 },
 "nbformat": 4,
 "nbformat_minor": 2
}
